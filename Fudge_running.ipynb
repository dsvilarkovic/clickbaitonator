{
  "cells": [
    {
      "cell_type": "code",
      "execution_count": null,
      "metadata": {
        "colab": {
          "base_uri": "https://localhost:8080/"
        },
        "id": "9C3ReqIROvCl",
        "outputId": "c2a4f639-212a-4185-93da-c269e9da1067"
      },
      "outputs": [
        {
          "name": "stdout",
          "output_type": "stream",
          "text": [
            "Mounted at /content/drive\n",
            "Looking in indexes: https://pypi.org/simple, https://us-python.pkg.dev/colab-wheels/public/simple/\n",
            "Collecting sentencepiece\n",
            "  Downloading sentencepiece-0.1.96-cp37-cp37m-manylinux_2_17_x86_64.manylinux2014_x86_64.whl (1.2 MB)\n",
            "\u001b[K     |████████████████████████████████| 1.2 MB 6.5 MB/s \n",
            "\u001b[?25hInstalling collected packages: sentencepiece\n",
            "Successfully installed sentencepiece-0.1.96\n",
            "Looking in indexes: https://pypi.org/simple, https://us-python.pkg.dev/colab-wheels/public/simple/\n",
            "Collecting transformers\n",
            "  Downloading transformers-4.20.1-py3-none-any.whl (4.4 MB)\n",
            "\u001b[K     |████████████████████████████████| 4.4 MB 10.1 MB/s \n",
            "\u001b[?25hRequirement already satisfied: numpy>=1.17 in /usr/local/lib/python3.7/dist-packages (from transformers) (1.21.6)\n",
            "Requirement already satisfied: filelock in /usr/local/lib/python3.7/dist-packages (from transformers) (3.7.1)\n",
            "Requirement already satisfied: requests in /usr/local/lib/python3.7/dist-packages (from transformers) (2.23.0)\n",
            "Collecting tokenizers!=0.11.3,<0.13,>=0.11.1\n",
            "  Downloading tokenizers-0.12.1-cp37-cp37m-manylinux_2_12_x86_64.manylinux2010_x86_64.whl (6.6 MB)\n",
            "\u001b[K     |████████████████████████████████| 6.6 MB 61.3 MB/s \n",
            "\u001b[?25hRequirement already satisfied: tqdm>=4.27 in /usr/local/lib/python3.7/dist-packages (from transformers) (4.64.0)\n",
            "Requirement already satisfied: importlib-metadata in /usr/local/lib/python3.7/dist-packages (from transformers) (4.12.0)\n",
            "Collecting pyyaml>=5.1\n",
            "  Downloading PyYAML-6.0-cp37-cp37m-manylinux_2_5_x86_64.manylinux1_x86_64.manylinux_2_12_x86_64.manylinux2010_x86_64.whl (596 kB)\n",
            "\u001b[K     |████████████████████████████████| 596 kB 79.0 MB/s \n",
            "\u001b[?25hCollecting huggingface-hub<1.0,>=0.1.0\n",
            "  Downloading huggingface_hub-0.8.1-py3-none-any.whl (101 kB)\n",
            "\u001b[K     |████████████████████████████████| 101 kB 14.9 MB/s \n",
            "\u001b[?25hRequirement already satisfied: packaging>=20.0 in /usr/local/lib/python3.7/dist-packages (from transformers) (21.3)\n",
            "Requirement already satisfied: regex!=2019.12.17 in /usr/local/lib/python3.7/dist-packages (from transformers) (2022.6.2)\n",
            "Requirement already satisfied: typing-extensions>=3.7.4.3 in /usr/local/lib/python3.7/dist-packages (from huggingface-hub<1.0,>=0.1.0->transformers) (4.1.1)\n",
            "Requirement already satisfied: pyparsing!=3.0.5,>=2.0.2 in /usr/local/lib/python3.7/dist-packages (from packaging>=20.0->transformers) (3.0.9)\n",
            "Requirement already satisfied: zipp>=0.5 in /usr/local/lib/python3.7/dist-packages (from importlib-metadata->transformers) (3.8.0)\n",
            "Requirement already satisfied: certifi>=2017.4.17 in /usr/local/lib/python3.7/dist-packages (from requests->transformers) (2022.6.15)\n",
            "Requirement already satisfied: chardet<4,>=3.0.2 in /usr/local/lib/python3.7/dist-packages (from requests->transformers) (3.0.4)\n",
            "Requirement already satisfied: idna<3,>=2.5 in /usr/local/lib/python3.7/dist-packages (from requests->transformers) (2.10)\n",
            "Requirement already satisfied: urllib3!=1.25.0,!=1.25.1,<1.26,>=1.21.1 in /usr/local/lib/python3.7/dist-packages (from requests->transformers) (1.24.3)\n",
            "Installing collected packages: pyyaml, tokenizers, huggingface-hub, transformers\n",
            "  Attempting uninstall: pyyaml\n",
            "    Found existing installation: PyYAML 3.13\n",
            "    Uninstalling PyYAML-3.13:\n",
            "      Successfully uninstalled PyYAML-3.13\n",
            "Successfully installed huggingface-hub-0.8.1 pyyaml-6.0 tokenizers-0.12.1 transformers-4.20.1\n",
            "Looking in indexes: https://pypi.org/simple, https://us-python.pkg.dev/colab-wheels/public/simple/\n",
            "Collecting datasets\n",
            "  Downloading datasets-2.3.2-py3-none-any.whl (362 kB)\n",
            "\u001b[K     |████████████████████████████████| 362 kB 7.9 MB/s \n",
            "\u001b[?25hCollecting fsspec[http]>=2021.05.0\n",
            "  Downloading fsspec-2022.5.0-py3-none-any.whl (140 kB)\n",
            "\u001b[K     |████████████████████████████████| 140 kB 78.6 MB/s \n",
            "\u001b[?25hRequirement already satisfied: dill<0.3.6 in /usr/local/lib/python3.7/dist-packages (from datasets) (0.3.5.1)\n",
            "Requirement already satisfied: packaging in /usr/local/lib/python3.7/dist-packages (from datasets) (21.3)\n",
            "Collecting aiohttp\n",
            "  Downloading aiohttp-3.8.1-cp37-cp37m-manylinux_2_5_x86_64.manylinux1_x86_64.manylinux_2_12_x86_64.manylinux2010_x86_64.whl (1.1 MB)\n",
            "\u001b[K     |████████████████████████████████| 1.1 MB 92.4 MB/s \n",
            "\u001b[?25hRequirement already satisfied: huggingface-hub<1.0.0,>=0.1.0 in /usr/local/lib/python3.7/dist-packages (from datasets) (0.8.1)\n",
            "Requirement already satisfied: requests>=2.19.0 in /usr/local/lib/python3.7/dist-packages (from datasets) (2.23.0)\n",
            "Requirement already satisfied: pyarrow>=6.0.0 in /usr/local/lib/python3.7/dist-packages (from datasets) (6.0.1)\n",
            "Requirement already satisfied: multiprocess in /usr/local/lib/python3.7/dist-packages (from datasets) (0.70.13)\n",
            "Requirement already satisfied: pandas in /usr/local/lib/python3.7/dist-packages (from datasets) (1.3.5)\n",
            "Collecting xxhash\n",
            "  Downloading xxhash-3.0.0-cp37-cp37m-manylinux_2_17_x86_64.manylinux2014_x86_64.whl (212 kB)\n",
            "\u001b[K     |████████████████████████████████| 212 kB 92.0 MB/s \n",
            "\u001b[?25hRequirement already satisfied: importlib-metadata in /usr/local/lib/python3.7/dist-packages (from datasets) (4.12.0)\n",
            "Collecting responses<0.19\n",
            "  Downloading responses-0.18.0-py3-none-any.whl (38 kB)\n",
            "Requirement already satisfied: numpy>=1.17 in /usr/local/lib/python3.7/dist-packages (from datasets) (1.21.6)\n",
            "Requirement already satisfied: tqdm>=4.62.1 in /usr/local/lib/python3.7/dist-packages (from datasets) (4.64.0)\n",
            "Requirement already satisfied: typing-extensions>=3.7.4.3 in /usr/local/lib/python3.7/dist-packages (from huggingface-hub<1.0.0,>=0.1.0->datasets) (4.1.1)\n",
            "Requirement already satisfied: pyyaml>=5.1 in /usr/local/lib/python3.7/dist-packages (from huggingface-hub<1.0.0,>=0.1.0->datasets) (6.0)\n",
            "Requirement already satisfied: filelock in /usr/local/lib/python3.7/dist-packages (from huggingface-hub<1.0.0,>=0.1.0->datasets) (3.7.1)\n",
            "Requirement already satisfied: pyparsing!=3.0.5,>=2.0.2 in /usr/local/lib/python3.7/dist-packages (from packaging->datasets) (3.0.9)\n",
            "Requirement already satisfied: idna<3,>=2.5 in /usr/local/lib/python3.7/dist-packages (from requests>=2.19.0->datasets) (2.10)\n",
            "Requirement already satisfied: chardet<4,>=3.0.2 in /usr/local/lib/python3.7/dist-packages (from requests>=2.19.0->datasets) (3.0.4)\n",
            "Requirement already satisfied: urllib3!=1.25.0,!=1.25.1,<1.26,>=1.21.1 in /usr/local/lib/python3.7/dist-packages (from requests>=2.19.0->datasets) (1.24.3)\n",
            "Requirement already satisfied: certifi>=2017.4.17 in /usr/local/lib/python3.7/dist-packages (from requests>=2.19.0->datasets) (2022.6.15)\n",
            "Collecting urllib3!=1.25.0,!=1.25.1,<1.26,>=1.21.1\n",
            "  Downloading urllib3-1.25.11-py2.py3-none-any.whl (127 kB)\n",
            "\u001b[K     |████████████████████████████████| 127 kB 90.5 MB/s \n",
            "\u001b[?25hCollecting frozenlist>=1.1.1\n",
            "  Downloading frozenlist-1.3.0-cp37-cp37m-manylinux_2_5_x86_64.manylinux1_x86_64.manylinux_2_17_x86_64.manylinux2014_x86_64.whl (144 kB)\n",
            "\u001b[K     |████████████████████████████████| 144 kB 62.6 MB/s \n",
            "\u001b[?25hCollecting async-timeout<5.0,>=4.0.0a3\n",
            "  Downloading async_timeout-4.0.2-py3-none-any.whl (5.8 kB)\n",
            "Collecting aiosignal>=1.1.2\n",
            "  Downloading aiosignal-1.2.0-py3-none-any.whl (8.2 kB)\n",
            "Collecting asynctest==0.13.0\n",
            "  Downloading asynctest-0.13.0-py3-none-any.whl (26 kB)\n",
            "Collecting multidict<7.0,>=4.5\n",
            "  Downloading multidict-6.0.2-cp37-cp37m-manylinux_2_17_x86_64.manylinux2014_x86_64.whl (94 kB)\n",
            "\u001b[K     |████████████████████████████████| 94 kB 4.5 MB/s \n",
            "\u001b[?25hCollecting yarl<2.0,>=1.0\n",
            "  Downloading yarl-1.7.2-cp37-cp37m-manylinux_2_5_x86_64.manylinux1_x86_64.manylinux_2_12_x86_64.manylinux2010_x86_64.whl (271 kB)\n",
            "\u001b[K     |████████████████████████████████| 271 kB 83.6 MB/s \n",
            "\u001b[?25hRequirement already satisfied: attrs>=17.3.0 in /usr/local/lib/python3.7/dist-packages (from aiohttp->datasets) (21.4.0)\n",
            "Requirement already satisfied: charset-normalizer<3.0,>=2.0 in /usr/local/lib/python3.7/dist-packages (from aiohttp->datasets) (2.1.0)\n",
            "Requirement already satisfied: zipp>=0.5 in /usr/local/lib/python3.7/dist-packages (from importlib-metadata->datasets) (3.8.0)\n",
            "Requirement already satisfied: pytz>=2017.3 in /usr/local/lib/python3.7/dist-packages (from pandas->datasets) (2022.1)\n",
            "Requirement already satisfied: python-dateutil>=2.7.3 in /usr/local/lib/python3.7/dist-packages (from pandas->datasets) (2.8.2)\n",
            "Requirement already satisfied: six>=1.5 in /usr/local/lib/python3.7/dist-packages (from python-dateutil>=2.7.3->pandas->datasets) (1.15.0)\n",
            "Installing collected packages: multidict, frozenlist, yarl, urllib3, asynctest, async-timeout, aiosignal, fsspec, aiohttp, xxhash, responses, datasets\n",
            "  Attempting uninstall: urllib3\n",
            "    Found existing installation: urllib3 1.24.3\n",
            "    Uninstalling urllib3-1.24.3:\n",
            "      Successfully uninstalled urllib3-1.24.3\n",
            "\u001b[31mERROR: pip's dependency resolver does not currently take into account all the packages that are installed. This behaviour is the source of the following dependency conflicts.\n",
            "datascience 0.10.6 requires folium==0.2.1, but you have folium 0.8.3 which is incompatible.\u001b[0m\n",
            "Successfully installed aiohttp-3.8.1 aiosignal-1.2.0 async-timeout-4.0.2 asynctest-0.13.0 datasets-2.3.2 frozenlist-1.3.0 fsspec-2022.5.0 multidict-6.0.2 responses-0.18.0 urllib3-1.25.11 xxhash-3.0.0 yarl-1.7.2\n"
          ]
        }
      ],
      "source": [
        "dataset_base = \"drive/MyDrive/nlp_lss_data/fudge/\"\n",
        "# dataset_base = \"/toshiba/nlp_lss_data/\"\n",
        "\n",
        "from google.colab import drive\n",
        "drive.mount('/content/drive')\n",
        "\n",
        "!pip install sentencepiece  # this has to be installed before transformer\n",
        "!pip install transformers #[torch]\n",
        "!pip install datasets  # install huggingface datasets\n",
        "# !pip install --upgrade torchtext\n",
        "# !pip install pytorch-lightning==1.3.0\n",
        "# !pip install torchmetrics==0.6.0\n",
        "# !pip install --upgrade torchtext"
      ]
    },
    {
      "cell_type": "code",
      "execution_count": null,
      "metadata": {
        "colab": {
          "base_uri": "https://localhost:8080/"
        },
        "id": "ofrsAUg9uQKg",
        "outputId": "8e682273-19ac-41eb-d87b-bbd4f812245c"
      },
      "outputs": [
        {
          "name": "stdout",
          "output_type": "stream",
          "text": [
            "Cloning into 'naacl-2021-fudge-controlled-generation'...\n",
            "remote: Enumerating objects: 157, done.\u001b[K\n",
            "remote: Counting objects: 100% (157/157), done.\u001b[K\n",
            "remote: Compressing objects: 100% (105/105), done.\u001b[K\n",
            "remote: Total 157 (delta 75), reused 124 (delta 51), pack-reused 0\u001b[K\n",
            "Receiving objects: 100% (157/157), 7.90 MiB | 25.59 MiB/s, done.\n",
            "Resolving deltas: 100% (75/75), done.\n"
          ]
        }
      ],
      "source": [
        "# import os\n",
        "# from getpass import getpass\n",
        "# # user = getpass('GitHub user')\n",
        "# # password = getpass('GitHub password')\n",
        "# # os.environ['GITHUB_AUTH'] = user + ':' + password\n",
        "# # !git clone https://$GITHUB_AUTH@github.com/dsvilarkovic/naacl-2021-fudge-controlled-generation\n",
        "\n",
        "# git_token = ''\n",
        "# username = 'dsvilarkovic' #getpass('GitHub user')\n",
        "# repository = 'naacl-2021-fudge-controlled-generation'\n",
        "# !git clone https://{git_token}@github.com/{username}/{repository}"
      ]
    },
    {
      "cell_type": "code",
      "execution_count": null,
      "metadata": {
        "colab": {
          "base_uri": "https://localhost:8080/"
        },
        "id": "GX-cZ2WEx_d3",
        "outputId": "855f7fd2-7d37-461b-bf28-ec9499ae18f9"
      },
      "outputs": [
        {
          "name": "stdout",
          "output_type": "stream",
          "text": [
            "/content/naacl-2021-fudge-controlled-generation\n"
          ]
        }
      ],
      "source": [
        "# cd naacl-2021-fudge-controlled-generation/\n",
        "cd fudge/"
      ]
    },
    {
      "cell_type": "code",
      "execution_count": null,
      "metadata": {
        "id": "ZaBtdsEnyTjN"
      },
      "outputs": [],
      "source": [
        "git_base = '../drive/MyDrive/nlp_lss_data/fudge/'"
      ]
    },
    {
      "cell_type": "code",
      "execution_count": null,
      "metadata": {
        "colab": {
          "base_uri": "https://localhost:8080/"
        },
        "id": "yKFf4cAFzGk7",
        "outputId": "36eef0ec-5f07-4d7d-8eb8-1455d39f3e64"
      },
      "outputs": [
        {
          "name": "stdout",
          "output_type": "stream",
          "text": [
            "../drive/MyDrive/nlp_lss_data/fudge/ckpt/formality/predictor_gyafc_entertainment_music/model.pth.tar\n",
            "../drive/MyDrive/nlp_lss_data/fudge/ckpt/formality/predictor_gyafc_entertainment_music/dataset_info\n",
            "formality_data/fisher_test_oracle.es\n",
            " best_tfmr      metrics.json\t 'val_avg_bleu=32.1215-step_count=21.ckpt'\n",
            " git_log.json   text_batch.json\n",
            " hparams.pkl    tok_batch.json\n"
          ]
        }
      ],
      "source": [
        "# Add these link as defined in the original Fudge implementation \n",
        "!ls {git_base}ckpt/formality/predictor_gyafc_entertainment_music/model.pth.tar\n",
        "!ls {git_base}ckpt/formality/predictor_gyafc_entertainment_music/dataset_info\n",
        "!ls formality_data/fisher_test_oracle.es\n",
        "!ls {git_base}ckpt/formality/marian_finetune_fisher"
      ]
    },
    {
      "cell_type": "code",
      "execution_count": null,
      "metadata": {
        "colab": {
          "base_uri": "https://localhost:8080/"
        },
        "id": "5DSQJIq6J9gd",
        "outputId": "3fcfe6c2-cdc8-4d39-b471-7a84d8d87fce"
      },
      "outputs": [
        {
          "name": "stdout",
          "output_type": "stream",
          "text": [
            "../drive/MyDrive/nlp_lss_data/fudge/ckpt/formality/marian_finetune_fisher\n",
            " best_tfmr      metrics.json\t 'val_avg_bleu=32.1215-step_count=21.ckpt'\n",
            " git_log.json   text_batch.json\n",
            " hparams.pkl    tok_batch.json\n",
            "'../drive/MyDrive/nlp_lss_data/fudge/ckpt/formality/marian_finetune_fisher/val_avg_bleu=32.1215-step_count=21.ckpt'\n",
            "config.json\t   source.spm\t\t    target.spm\t\t   vocab.json\n",
            "pytorch_model.bin  special_tokens_map.json  tokenizer_config.json\n"
          ]
        }
      ],
      "source": [
        "!echo {git_base}ckpt/formality/marian_finetune_fisher\n",
        "!ls {git_base}ckpt/formality/marian_finetune_fisher\n",
        "!ls {git_base}ckpt/formality/marian_finetune_fisher/val*\n",
        "!ls {git_base}ckpt/formality/marian_finetune_fisher/best_tfmr"
      ]
    },
    {
      "cell_type": "code",
      "execution_count": null,
      "metadata": {
        "colab": {
          "base_uri": "https://localhost:8080/"
        },
        "id": "ros8YBd8OBeg",
        "outputId": "9f0ab130-c04f-42fa-c9f7-e682796db072"
      },
      "outputs": [
        {
          "name": "stdout",
          "output_type": "stream",
          "text": [
            "Phyme==0.0.9\n",
            "pronouncing==0.2.0\n",
            "pytorch-lightning==1.0.6\n",
            "torch==1.7.0\n",
            "tqdm==4.49.0\n",
            "sacrebleu==1.4.14\n",
            "sacremoses==0.0.43\n"
          ]
        }
      ],
      "source": [
        "!cat requirements.txt"
      ]
    },
    {
      "cell_type": "code",
      "execution_count": null,
      "metadata": {
        "colab": {
          "base_uri": "https://localhost:8080/"
        },
        "id": "ZY-HUNHwmqTA",
        "outputId": "3fd85d63-5f3d-4887-91aa-8b389558ab8c"
      },
      "outputs": [],
      "source": [
        "!pip install -r requirements.txt"
      ]
    },
    {
      "cell_type": "code",
      "execution_count": null,
      "metadata": {
        "colab": {
          "base_uri": "https://localhost:8080/"
        },
        "id": "PZZrrISZPSsi",
        "outputId": "3faf9205-7646-4799-efb8-85bfd01c69be"
      },
      "outputs": [
        {
          "name": "stdout",
          "output_type": "stream",
          "text": [
            "Looking in indexes: https://pypi.org/simple, https://us-python.pkg.dev/colab-wheels/public/simple/\n",
            "Requirement already satisfied: Phyme==0.0.9 in /usr/local/lib/python3.7/dist-packages (0.0.9)\n"
          ]
        }
      ],
      "source": [
        "!pip install Phyme==0.0.9"
      ]
    },
    {
      "cell_type": "code",
      "execution_count": null,
      "metadata": {
        "colab": {
          "base_uri": "https://localhost:8080/"
        },
        "id": "xIy_Q5ZlRqF4",
        "outputId": "94100035-91a2-470c-f762-a82a6efdbe3e"
      },
      "outputs": [
        {
          "name": "stdout",
          "output_type": "stream",
          "text": [
            "Looking in indexes: https://pypi.org/simple, https://us-python.pkg.dev/colab-wheels/public/simple/\n",
            "Collecting tqdm==4.62.1\n",
            "  Downloading tqdm-4.62.1-py2.py3-none-any.whl (76 kB)\n",
            "\u001b[K     |████████████████████████████████| 76 kB 3.7 MB/s \n",
            "\u001b[?25hInstalling collected packages: tqdm\n",
            "  Attempting uninstall: tqdm\n",
            "    Found existing installation: tqdm 4.49.0\n",
            "    Uninstalling tqdm-4.49.0:\n",
            "      Successfully uninstalled tqdm-4.49.0\n",
            "\u001b[31mERROR: pip's dependency resolver does not currently take into account all the packages that are installed. This behaviour is the source of the following dependency conflicts.\n",
            "torchtext 0.13.0 requires torch==1.12.0, but you have torch 1.7.0 which is incompatible.\u001b[0m\n",
            "Successfully installed tqdm-4.62.1\n"
          ]
        }
      ],
      "source": [
        "!pip install tqdm==4.62.1"
      ]
    },
    {
      "cell_type": "code",
      "execution_count": null,
      "metadata": {
        "colab": {
          "base_uri": "https://localhost:8080/"
        },
        "id": "O1QUK5_4Rz5Z",
        "outputId": "da0f9b8a-1740-4b12-de74-34efbc89b52c"
      },
      "outputs": [
        {
          "name": "stdout",
          "output_type": "stream",
          "text": [
            "Looking in indexes: https://pypi.org/simple, https://us-python.pkg.dev/colab-wheels/public/simple/\n",
            "Collecting torchtext==0.8.1\n",
            "  Downloading torchtext-0.8.1-cp37-cp37m-manylinux1_x86_64.whl (7.0 MB)\n",
            "\u001b[K     |████████████████████████████████| 7.0 MB 2.9 MB/s \n",
            "\u001b[?25hInstalling collected packages: torchtext\n",
            "  Attempting uninstall: torchtext\n",
            "    Found existing installation: torchtext 0.13.0\n",
            "    Uninstalling torchtext-0.13.0:\n",
            "      Successfully uninstalled torchtext-0.13.0\n",
            "Successfully installed torchtext-0.8.1\n"
          ]
        }
      ],
      "source": [
        "!pip install --no-deps torchtext==0.8.1"
      ]
    },
    {
      "cell_type": "code",
      "execution_count": null,
      "metadata": {
        "colab": {
          "base_uri": "https://localhost:8080/"
        },
        "id": "-hNm3b7XSANs",
        "outputId": "3e7481a4-1cc3-43fd-e552-ec9eb35f7e30"
      },
      "outputs": [
        {
          "name": "stdout",
          "output_type": "stream",
          "text": [
            "Looking in indexes: https://pypi.org/simple, https://us-python.pkg.dev/colab-wheels/public/simple/\n",
            "Collecting torchvision==0.8.2\n",
            "  Downloading torchvision-0.8.2-cp37-cp37m-manylinux1_x86_64.whl (12.8 MB)\n",
            "\u001b[K     |████████████████████████████████| 12.8 MB 8.5 MB/s \n",
            "\u001b[?25hInstalling collected packages: torchvision\n",
            "  Attempting uninstall: torchvision\n",
            "    Found existing installation: torchvision 0.13.0+cu113\n",
            "    Uninstalling torchvision-0.13.0+cu113:\n",
            "      Successfully uninstalled torchvision-0.13.0+cu113\n",
            "Successfully installed torchvision-0.8.2\n"
          ]
        }
      ],
      "source": [
        "!pip install --no-deps torchvision==0.8.2"
      ]
    },
    {
      "cell_type": "code",
      "execution_count": null,
      "metadata": {
        "colab": {
          "base_uri": "https://localhost:8080/"
        },
        "id": "CBmfNRVcMywD",
        "outputId": "c2dc8542-4008-4cef-d010-bd7a1610f23b"
      },
      "outputs": [
        {
          "name": "stdout",
          "output_type": "stream",
          "text": [
            "../drive/MyDrive/nlp_lss_data/fudge/ckpt/formality/marian_finetune_fisher/val_avg_bleu=32.1215-step_count=21.ckpt\n"
          ]
        }
      ],
      "source": [
        "import torch\n",
        "import os\n",
        "model_path = '../drive/MyDrive/nlp_lss_data/fudge/ckpt/formality/marian_finetune_fisher'\n",
        "device = 'cuda'\n",
        "if model_path is not None:\n",
        "    if os.path.isdir(model_path):\n",
        "        for _, _, files in os.walk(model_path):\n",
        "            for fname in files:\n",
        "                if fname.endswith('.ckpt'):\n",
        "                    model_path = os.path.join(model_path, fname)\n",
        "                    break\n",
        "    print(model_path)\n",
        "    ckpt = torch.load(model_path, map_location=torch.device(device))"
      ]
    },
    {
      "cell_type": "code",
      "execution_count": null,
      "metadata": {
        "id": "xKoju9b3z7pe"
      },
      "outputs": [],
      "source": [
        "# !cp our_requirements.txt ../drive/MyDrive/nlp_lss_data/fudge/"
      ]
    },
    {
      "cell_type": "code",
      "execution_count": null,
      "metadata": {
        "colab": {
          "base_uri": "https://localhost:8080/"
        },
        "id": "K6wT8QGYszB9",
        "outputId": "288f41a9-e697-4a7b-9e67-67bcdbd9e8f2"
      },
      "outputs": [
        {
          "name": "stdout",
          "output_type": "stream",
          "text": [
            "Looking in indexes: https://pypi.org/simple, https://us-python.pkg.dev/colab-wheels/public/simple/\n",
            "Collecting mock\n",
            "  Downloading mock-4.0.3-py3-none-any.whl (28 kB)\n",
            "Installing collected packages: mock\n",
            "Successfully installed mock-4.0.3\n"
          ]
        }
      ],
      "source": [
        "!pip install mock"
      ]
    },
    {
      "cell_type": "code",
      "execution_count": null,
      "metadata": {
        "id": "2S-M7jgnes3L"
      },
      "outputs": [],
      "source": []
    },
    {
      "cell_type": "code",
      "execution_count": null,
      "metadata": {
        "colab": {
          "base_uri": "https://localhost:8080/",
          "height": 305,
          "referenced_widgets": [
            "ae63dd2529804dda8a4e4460c784d4d4",
            "57feb62920424dc38a330effeabadbd2",
            "d4d8e063239d48ab9ca643cb16de1c28",
            "8611b5e35096466598dc54b65d892709",
            "c7bf4c6182ae4a27959716851226b30a",
            "7146b447a18e42a39446047f8f7c39d2",
            "33da976f8f90450583a813750e2ba877",
            "e5133634f4d04157a7ccf5af4e90fc08",
            "03a4328241ee4fabbb60f1bb8d05455c",
            "8d90c334b47e461ca6f18ea3c0dd2e36",
            "73dda054674744b386c45ab5fd3aa52c",
            "14b5c3f2ca6d4aecbd3515d97f171fb9",
            "72ba537ec5f24397a313825110540647",
            "45be78eb56ed434e96c5b78057e6acea",
            "5ee16a653d52424aa97b1b4c2ec83b96",
            "31b6f77d4b044d53a4ae9271ef12bb56",
            "861548bb2379485f8fc67eb76cf7cb56",
            "3731c74fea30448a9ded9ccd30639d11",
            "8a39d9eb84864a03b8d966756ad752d3",
            "dd8ec5004aef4b448f3962634f155a95",
            "1e14af77253a43efb613e25a4fb64e80",
            "018ee2c936fa4c4991f461e64bbd5543",
            "e4ec32964aeb4de8abbad06c862b3e7e",
            "6205e68d3e594a788694631b081c2045",
            "944edfc9f019497fba6ca64d6191c9b7",
            "2cca694818554bb7be4c3b8f4255352a",
            "2d5df15e3100479b95fb4242e8ca7546",
            "74d99b97f8744fc9b56a6081344ae537",
            "11a97cc5c95842c995cafde746792801",
            "c0f0a79027e84c86867c0978142e8974",
            "6df06463cedb4128a3925669ddbd8255",
            "18f329ab449f469aafd5bf08dd0fe2ab",
            "38740cefa6b44f90a8270bb6d7863a13",
            "272ef800095842ecaf9a9c3871e3b9c7",
            "2d6c47a5fee04dd380e67d71fb249bef",
            "f1077fa39cba4c5cb418a4fa5604ed9b",
            "02f9e9edfe4e42c585fb80813bcf7fbf",
            "95288b0bb73641939badbc9cff32ae4a",
            "96f4c3fbfd024b189143ff7f2ae05cdd",
            "690d4695d73a4b3ca0732f49fde9e73b",
            "9cc8929def304560ba42a9fb79c51ffe",
            "867a376546ae4279a51503dcbde31e16",
            "8b687394c1ad48948e66c082c9eae110",
            "0ec428eada484f6ab93f7cbecb7feda5",
            "70be7135838f45378d15721df23007d9",
            "a48c1bfbde394457afb781f5235faeb1",
            "2485ae784fb4495ba89bab90009dacb2",
            "51831dad046e4ee89eed89901c6d6b6a",
            "e1f10ddc0b0740fba1bf65fe019abc53",
            "9b0e5750739b44e1abab298d9a45b7d9",
            "19109768aa2545a4bc4d9ce2352bbda3",
            "3cc3081aac044839be81b0ae4d094fa2",
            "8743a65afc474e9fa8010b87ef61d4b7",
            "5695e415fb244aaf8264bc9cb3b61392",
            "26b8e174603f4c2380704c0c146a29ad",
            "f7a1729099654eaa81bdcbcc113584f3",
            "f4953f46d0884c24af2648831174d072",
            "b6d46af0a02545ec813fd2132651fbee",
            "a54ea04ded554dfe943ac009bd3d1bf1",
            "e3dc032309da4788b6f4e37e65c049a2",
            "d8b1ddc024a84a85a54aaed8cec7059f",
            "c2cb0e5fd8de4b669a04434463acf92b",
            "a41ab3e3d8a9408784d4d5c319b4b5e1",
            "3936de7020574cc3871e92ad6c84933c",
            "2bbe2b526c48411b94049860929ec132",
            "7938eef2b13c49e38686934a41ea11a2",
            "addb5a219dcb459fa5efad18918aa0bf",
            "28aa14085a7142a2ad29f0b872e8fe55",
            "c6ca63e888a94576b600a7fe7c2023b9",
            "c0d4e39c755540b1b6e6f96250396051",
            "1b6828142e3340cb899995946ec9cee2",
            "5e01ed5b3c734da2af5f4ba639b94477",
            "9ec1a061585e49d08e922db9d5b2d820",
            "9f056ab64d6e4aac92d100a67562e062",
            "4579b71f548148dfa588158a9de61906",
            "b203b42777bd4bbbb58954f7114b8426",
            "1c7597390d8f436c8f3835b2e8b23452",
            "7ca6954bbf724f9f9c1f2726a24968bf",
            "a65f0f5f775f441fb115998c7452e305",
            "acc0b5c2dd9145109283fb04a74be897",
            "6863abfe7d6c4cf8a3ae78fea6b00cb0",
            "eb89c5c8f1f942feb8b684ea45e3e321",
            "a8c0217d76b64380ace9ed00b172744f",
            "ceaa6a24724a4c5bb1c8e1fad206d6c7",
            "e757fe6bdf4945f69d598a4803a9e50c",
            "66834c7a8ec54a90b5ecaaf89fa96712",
            "86433934865f4117b7412619c6109858",
            "27fbf54dd2dd4753a446af09b8ff6c7e",
            "d0577606fa534787abe1eeeffd622c81",
            "99e200d38f10448793c5d4c3ed2e7439",
            "d0b558de9ad049c88f638285ec4f9881",
            "0eec5f8a280d481cbbe6183f17ef8728",
            "faf20984199a46609a3b0a68e515ecad",
            "6da96a724ec449ed8dacd3bfcfa14c15",
            "86c88b28719e4132b103f81af3ed9a94",
            "d1d854a7deda443b86424cfe469c0e94",
            "2bf7659471b34c8290982c8bb28ca339",
            "997c8b9448b647b69e9fc10e897d8768",
            "11231e50406f4fa9b548d983e55397fd"
          ]
        },
        "id": "TJ7H_PBMMzIB",
        "outputId": "d0481aaf-2e0e-43b7-f7a0-61a85843bed3"
      },
      "outputs": [
        {
          "data": {
            "application/vnd.jupyter.widget-view+json": {
              "model_id": "ae63dd2529804dda8a4e4460c784d4d4",
              "version_major": 2,
              "version_minor": 0
            },
            "text/plain": [
              "Downloading:   0%|          | 0.00/87.0 [00:00<?, ?B/s]"
            ]
          },
          "metadata": {},
          "output_type": "display_data"
        },
        {
          "data": {
            "application/vnd.jupyter.widget-view+json": {
              "model_id": "14b5c3f2ca6d4aecbd3515d97f171fb9",
              "version_major": 2,
              "version_minor": 0
            },
            "text/plain": [
              "Downloading:   0%|          | 0.00/1.36k [00:00<?, ?B/s]"
            ]
          },
          "metadata": {},
          "output_type": "display_data"
        },
        {
          "data": {
            "application/vnd.jupyter.widget-view+json": {
              "model_id": "e4ec32964aeb4de8abbad06c862b3e7e",
              "version_major": 2,
              "version_minor": 0
            },
            "text/plain": [
              "Downloading:   0%|          | 0.00/1.82M [00:00<?, ?B/s]"
            ]
          },
          "metadata": {},
          "output_type": "display_data"
        },
        {
          "data": {
            "application/vnd.jupyter.widget-view+json": {
              "model_id": "272ef800095842ecaf9a9c3871e3b9c7",
              "version_major": 2,
              "version_minor": 0
            },
            "text/plain": [
              "Downloading:   0%|          | 0.00/3.36M [00:00<?, ?B/s]"
            ]
          },
          "metadata": {},
          "output_type": "display_data"
        },
        {
          "data": {
            "application/vnd.jupyter.widget-view+json": {
              "model_id": "70be7135838f45378d15721df23007d9",
              "version_major": 2,
              "version_minor": 0
            },
            "text/plain": [
              "Downloading:   0%|          | 0.00/65.0 [00:00<?, ?B/s]"
            ]
          },
          "metadata": {},
          "output_type": "display_data"
        },
        {
          "data": {
            "application/vnd.jupyter.widget-view+json": {
              "model_id": "f7a1729099654eaa81bdcbcc113584f3",
              "version_major": 2,
              "version_minor": 0
            },
            "text/plain": [
              "Downloading:   0%|          | 0.00/363 [00:00<?, ?B/s]"
            ]
          },
          "metadata": {},
          "output_type": "display_data"
        },
        {
          "data": {
            "application/vnd.jupyter.widget-view+json": {
              "model_id": "addb5a219dcb459fa5efad18918aa0bf",
              "version_major": 2,
              "version_minor": 0
            },
            "text/plain": [
              "Downloading:   0%|          | 0.00/226k [00:00<?, ?B/s]"
            ]
          },
          "metadata": {},
          "output_type": "display_data"
        },
        {
          "data": {
            "application/vnd.jupyter.widget-view+json": {
              "model_id": "7ca6954bbf724f9f9c1f2726a24968bf",
              "version_major": 2,
              "version_minor": 0
            },
            "text/plain": [
              "Downloading:   0%|          | 0.00/455k [00:00<?, ?B/s]"
            ]
          },
          "metadata": {},
          "output_type": "display_data"
        },
        {
          "data": {
            "application/vnd.jupyter.widget-view+json": {
              "model_id": "d0577606fa534787abe1eeeffd622c81",
              "version_major": 2,
              "version_minor": 0
            },
            "text/plain": [
              "Downloading:   0%|          | 0.00/239 [00:00<?, ?B/s]"
            ]
          },
          "metadata": {},
          "output_type": "display_data"
        }
      ],
      "source": [
        "import os\n",
        "import random\n",
        "import time\n",
        "import pickle\n",
        "import math\n",
        "from argparse import ArgumentParser\n",
        "from collections import namedtuple\n",
        "import mock\n",
        "\n",
        "from tqdm import tqdm\n",
        "import numpy as np\n",
        "import torch\n",
        "import torch.nn as nn\n",
        "import torch.nn.functional as F\n",
        "from transformers import AutoModelForSeq2SeqLM\n",
        "\n",
        "from data import Dataset\n",
        "from util import save_checkpoint, ProgressMeter, AverageMeter, num_params\n",
        "from constants import *\n",
        "from predict_clickbait import generate_clickbait, tokenizer, classifier_tokenizer\n"
      ]
    },
    {
      "cell_type": "code",
      "execution_count": null,
      "metadata": {
        "id": "nP6v2VvSScl4"
      },
      "outputs": [],
      "source": [
        "git_base = '../drive/MyDrive/nlp_lss_data/'"
      ]
    },
    {
      "cell_type": "markdown",
      "metadata": {
        "id": "ve77jc9xJh32"
      },
      "source": [
        "## Pegasus-webis since it makes more sense"
      ]
    },
    {
      "cell_type": "code",
      "execution_count": null,
      "metadata": {
        "colab": {
          "base_uri": "https://localhost:8080/"
        },
        "id": "LxDSnSd5JbRm",
        "outputId": "219d5696-3f71-4180-94eb-c17be250c2f8"
      },
      "outputs": [
        {
          "name": "stdout",
          "output_type": "stream",
          "text": [
            "config.json\t   scheduler.pt\t\t    tokenizer.json\n",
            "optimizer.pt\t   special_tokens_map.json  trainer_state.json\n",
            "pytorch_model.bin  spiece.model\t\t    training_args.bin\n",
            "rng_state.pth\t   tokenizer_config.json\n"
          ]
        }
      ],
      "source": [
        "!ls ../drive/MyDrive/nlp_lss_data/non_clickbait_and_clickbait_summarization_steps_pegasus_xsum/checkpoint-150/"
      ]
    },
    {
      "cell_type": "code",
      "execution_count": null,
      "metadata": {
        "colab": {
          "base_uri": "https://localhost:8080/"
        },
        "id": "sN2Q10zJMpmg",
        "outputId": "0778cf85-1b57-4f29-9f92-ef8e894e982f"
      },
      "outputs": [
        {
          "data": {
            "text/plain": [
              "PegasusForConditionalGeneration(\n",
              "  (model): PegasusModel(\n",
              "    (shared): Embedding(96103, 1024, padding_idx=0)\n",
              "    (encoder): PegasusEncoder(\n",
              "      (embed_tokens): Embedding(96103, 1024, padding_idx=0)\n",
              "      (embed_positions): PegasusSinusoidalPositionalEmbedding(512, 1024)\n",
              "      (layers): ModuleList(\n",
              "        (0): PegasusEncoderLayer(\n",
              "          (self_attn): PegasusAttention(\n",
              "            (k_proj): Linear(in_features=1024, out_features=1024, bias=True)\n",
              "            (v_proj): Linear(in_features=1024, out_features=1024, bias=True)\n",
              "            (q_proj): Linear(in_features=1024, out_features=1024, bias=True)\n",
              "            (out_proj): Linear(in_features=1024, out_features=1024, bias=True)\n",
              "          )\n",
              "          (self_attn_layer_norm): LayerNorm((1024,), eps=1e-05, elementwise_affine=True)\n",
              "          (activation_fn): ReLU()\n",
              "          (fc1): Linear(in_features=1024, out_features=4096, bias=True)\n",
              "          (fc2): Linear(in_features=4096, out_features=1024, bias=True)\n",
              "          (final_layer_norm): LayerNorm((1024,), eps=1e-05, elementwise_affine=True)\n",
              "        )\n",
              "        (1): PegasusEncoderLayer(\n",
              "          (self_attn): PegasusAttention(\n",
              "            (k_proj): Linear(in_features=1024, out_features=1024, bias=True)\n",
              "            (v_proj): Linear(in_features=1024, out_features=1024, bias=True)\n",
              "            (q_proj): Linear(in_features=1024, out_features=1024, bias=True)\n",
              "            (out_proj): Linear(in_features=1024, out_features=1024, bias=True)\n",
              "          )\n",
              "          (self_attn_layer_norm): LayerNorm((1024,), eps=1e-05, elementwise_affine=True)\n",
              "          (activation_fn): ReLU()\n",
              "          (fc1): Linear(in_features=1024, out_features=4096, bias=True)\n",
              "          (fc2): Linear(in_features=4096, out_features=1024, bias=True)\n",
              "          (final_layer_norm): LayerNorm((1024,), eps=1e-05, elementwise_affine=True)\n",
              "        )\n",
              "        (2): PegasusEncoderLayer(\n",
              "          (self_attn): PegasusAttention(\n",
              "            (k_proj): Linear(in_features=1024, out_features=1024, bias=True)\n",
              "            (v_proj): Linear(in_features=1024, out_features=1024, bias=True)\n",
              "            (q_proj): Linear(in_features=1024, out_features=1024, bias=True)\n",
              "            (out_proj): Linear(in_features=1024, out_features=1024, bias=True)\n",
              "          )\n",
              "          (self_attn_layer_norm): LayerNorm((1024,), eps=1e-05, elementwise_affine=True)\n",
              "          (activation_fn): ReLU()\n",
              "          (fc1): Linear(in_features=1024, out_features=4096, bias=True)\n",
              "          (fc2): Linear(in_features=4096, out_features=1024, bias=True)\n",
              "          (final_layer_norm): LayerNorm((1024,), eps=1e-05, elementwise_affine=True)\n",
              "        )\n",
              "        (3): PegasusEncoderLayer(\n",
              "          (self_attn): PegasusAttention(\n",
              "            (k_proj): Linear(in_features=1024, out_features=1024, bias=True)\n",
              "            (v_proj): Linear(in_features=1024, out_features=1024, bias=True)\n",
              "            (q_proj): Linear(in_features=1024, out_features=1024, bias=True)\n",
              "            (out_proj): Linear(in_features=1024, out_features=1024, bias=True)\n",
              "          )\n",
              "          (self_attn_layer_norm): LayerNorm((1024,), eps=1e-05, elementwise_affine=True)\n",
              "          (activation_fn): ReLU()\n",
              "          (fc1): Linear(in_features=1024, out_features=4096, bias=True)\n",
              "          (fc2): Linear(in_features=4096, out_features=1024, bias=True)\n",
              "          (final_layer_norm): LayerNorm((1024,), eps=1e-05, elementwise_affine=True)\n",
              "        )\n",
              "        (4): PegasusEncoderLayer(\n",
              "          (self_attn): PegasusAttention(\n",
              "            (k_proj): Linear(in_features=1024, out_features=1024, bias=True)\n",
              "            (v_proj): Linear(in_features=1024, out_features=1024, bias=True)\n",
              "            (q_proj): Linear(in_features=1024, out_features=1024, bias=True)\n",
              "            (out_proj): Linear(in_features=1024, out_features=1024, bias=True)\n",
              "          )\n",
              "          (self_attn_layer_norm): LayerNorm((1024,), eps=1e-05, elementwise_affine=True)\n",
              "          (activation_fn): ReLU()\n",
              "          (fc1): Linear(in_features=1024, out_features=4096, bias=True)\n",
              "          (fc2): Linear(in_features=4096, out_features=1024, bias=True)\n",
              "          (final_layer_norm): LayerNorm((1024,), eps=1e-05, elementwise_affine=True)\n",
              "        )\n",
              "        (5): PegasusEncoderLayer(\n",
              "          (self_attn): PegasusAttention(\n",
              "            (k_proj): Linear(in_features=1024, out_features=1024, bias=True)\n",
              "            (v_proj): Linear(in_features=1024, out_features=1024, bias=True)\n",
              "            (q_proj): Linear(in_features=1024, out_features=1024, bias=True)\n",
              "            (out_proj): Linear(in_features=1024, out_features=1024, bias=True)\n",
              "          )\n",
              "          (self_attn_layer_norm): LayerNorm((1024,), eps=1e-05, elementwise_affine=True)\n",
              "          (activation_fn): ReLU()\n",
              "          (fc1): Linear(in_features=1024, out_features=4096, bias=True)\n",
              "          (fc2): Linear(in_features=4096, out_features=1024, bias=True)\n",
              "          (final_layer_norm): LayerNorm((1024,), eps=1e-05, elementwise_affine=True)\n",
              "        )\n",
              "        (6): PegasusEncoderLayer(\n",
              "          (self_attn): PegasusAttention(\n",
              "            (k_proj): Linear(in_features=1024, out_features=1024, bias=True)\n",
              "            (v_proj): Linear(in_features=1024, out_features=1024, bias=True)\n",
              "            (q_proj): Linear(in_features=1024, out_features=1024, bias=True)\n",
              "            (out_proj): Linear(in_features=1024, out_features=1024, bias=True)\n",
              "          )\n",
              "          (self_attn_layer_norm): LayerNorm((1024,), eps=1e-05, elementwise_affine=True)\n",
              "          (activation_fn): ReLU()\n",
              "          (fc1): Linear(in_features=1024, out_features=4096, bias=True)\n",
              "          (fc2): Linear(in_features=4096, out_features=1024, bias=True)\n",
              "          (final_layer_norm): LayerNorm((1024,), eps=1e-05, elementwise_affine=True)\n",
              "        )\n",
              "        (7): PegasusEncoderLayer(\n",
              "          (self_attn): PegasusAttention(\n",
              "            (k_proj): Linear(in_features=1024, out_features=1024, bias=True)\n",
              "            (v_proj): Linear(in_features=1024, out_features=1024, bias=True)\n",
              "            (q_proj): Linear(in_features=1024, out_features=1024, bias=True)\n",
              "            (out_proj): Linear(in_features=1024, out_features=1024, bias=True)\n",
              "          )\n",
              "          (self_attn_layer_norm): LayerNorm((1024,), eps=1e-05, elementwise_affine=True)\n",
              "          (activation_fn): ReLU()\n",
              "          (fc1): Linear(in_features=1024, out_features=4096, bias=True)\n",
              "          (fc2): Linear(in_features=4096, out_features=1024, bias=True)\n",
              "          (final_layer_norm): LayerNorm((1024,), eps=1e-05, elementwise_affine=True)\n",
              "        )\n",
              "        (8): PegasusEncoderLayer(\n",
              "          (self_attn): PegasusAttention(\n",
              "            (k_proj): Linear(in_features=1024, out_features=1024, bias=True)\n",
              "            (v_proj): Linear(in_features=1024, out_features=1024, bias=True)\n",
              "            (q_proj): Linear(in_features=1024, out_features=1024, bias=True)\n",
              "            (out_proj): Linear(in_features=1024, out_features=1024, bias=True)\n",
              "          )\n",
              "          (self_attn_layer_norm): LayerNorm((1024,), eps=1e-05, elementwise_affine=True)\n",
              "          (activation_fn): ReLU()\n",
              "          (fc1): Linear(in_features=1024, out_features=4096, bias=True)\n",
              "          (fc2): Linear(in_features=4096, out_features=1024, bias=True)\n",
              "          (final_layer_norm): LayerNorm((1024,), eps=1e-05, elementwise_affine=True)\n",
              "        )\n",
              "        (9): PegasusEncoderLayer(\n",
              "          (self_attn): PegasusAttention(\n",
              "            (k_proj): Linear(in_features=1024, out_features=1024, bias=True)\n",
              "            (v_proj): Linear(in_features=1024, out_features=1024, bias=True)\n",
              "            (q_proj): Linear(in_features=1024, out_features=1024, bias=True)\n",
              "            (out_proj): Linear(in_features=1024, out_features=1024, bias=True)\n",
              "          )\n",
              "          (self_attn_layer_norm): LayerNorm((1024,), eps=1e-05, elementwise_affine=True)\n",
              "          (activation_fn): ReLU()\n",
              "          (fc1): Linear(in_features=1024, out_features=4096, bias=True)\n",
              "          (fc2): Linear(in_features=4096, out_features=1024, bias=True)\n",
              "          (final_layer_norm): LayerNorm((1024,), eps=1e-05, elementwise_affine=True)\n",
              "        )\n",
              "        (10): PegasusEncoderLayer(\n",
              "          (self_attn): PegasusAttention(\n",
              "            (k_proj): Linear(in_features=1024, out_features=1024, bias=True)\n",
              "            (v_proj): Linear(in_features=1024, out_features=1024, bias=True)\n",
              "            (q_proj): Linear(in_features=1024, out_features=1024, bias=True)\n",
              "            (out_proj): Linear(in_features=1024, out_features=1024, bias=True)\n",
              "          )\n",
              "          (self_attn_layer_norm): LayerNorm((1024,), eps=1e-05, elementwise_affine=True)\n",
              "          (activation_fn): ReLU()\n",
              "          (fc1): Linear(in_features=1024, out_features=4096, bias=True)\n",
              "          (fc2): Linear(in_features=4096, out_features=1024, bias=True)\n",
              "          (final_layer_norm): LayerNorm((1024,), eps=1e-05, elementwise_affine=True)\n",
              "        )\n",
              "        (11): PegasusEncoderLayer(\n",
              "          (self_attn): PegasusAttention(\n",
              "            (k_proj): Linear(in_features=1024, out_features=1024, bias=True)\n",
              "            (v_proj): Linear(in_features=1024, out_features=1024, bias=True)\n",
              "            (q_proj): Linear(in_features=1024, out_features=1024, bias=True)\n",
              "            (out_proj): Linear(in_features=1024, out_features=1024, bias=True)\n",
              "          )\n",
              "          (self_attn_layer_norm): LayerNorm((1024,), eps=1e-05, elementwise_affine=True)\n",
              "          (activation_fn): ReLU()\n",
              "          (fc1): Linear(in_features=1024, out_features=4096, bias=True)\n",
              "          (fc2): Linear(in_features=4096, out_features=1024, bias=True)\n",
              "          (final_layer_norm): LayerNorm((1024,), eps=1e-05, elementwise_affine=True)\n",
              "        )\n",
              "        (12): PegasusEncoderLayer(\n",
              "          (self_attn): PegasusAttention(\n",
              "            (k_proj): Linear(in_features=1024, out_features=1024, bias=True)\n",
              "            (v_proj): Linear(in_features=1024, out_features=1024, bias=True)\n",
              "            (q_proj): Linear(in_features=1024, out_features=1024, bias=True)\n",
              "            (out_proj): Linear(in_features=1024, out_features=1024, bias=True)\n",
              "          )\n",
              "          (self_attn_layer_norm): LayerNorm((1024,), eps=1e-05, elementwise_affine=True)\n",
              "          (activation_fn): ReLU()\n",
              "          (fc1): Linear(in_features=1024, out_features=4096, bias=True)\n",
              "          (fc2): Linear(in_features=4096, out_features=1024, bias=True)\n",
              "          (final_layer_norm): LayerNorm((1024,), eps=1e-05, elementwise_affine=True)\n",
              "        )\n",
              "        (13): PegasusEncoderLayer(\n",
              "          (self_attn): PegasusAttention(\n",
              "            (k_proj): Linear(in_features=1024, out_features=1024, bias=True)\n",
              "            (v_proj): Linear(in_features=1024, out_features=1024, bias=True)\n",
              "            (q_proj): Linear(in_features=1024, out_features=1024, bias=True)\n",
              "            (out_proj): Linear(in_features=1024, out_features=1024, bias=True)\n",
              "          )\n",
              "          (self_attn_layer_norm): LayerNorm((1024,), eps=1e-05, elementwise_affine=True)\n",
              "          (activation_fn): ReLU()\n",
              "          (fc1): Linear(in_features=1024, out_features=4096, bias=True)\n",
              "          (fc2): Linear(in_features=4096, out_features=1024, bias=True)\n",
              "          (final_layer_norm): LayerNorm((1024,), eps=1e-05, elementwise_affine=True)\n",
              "        )\n",
              "        (14): PegasusEncoderLayer(\n",
              "          (self_attn): PegasusAttention(\n",
              "            (k_proj): Linear(in_features=1024, out_features=1024, bias=True)\n",
              "            (v_proj): Linear(in_features=1024, out_features=1024, bias=True)\n",
              "            (q_proj): Linear(in_features=1024, out_features=1024, bias=True)\n",
              "            (out_proj): Linear(in_features=1024, out_features=1024, bias=True)\n",
              "          )\n",
              "          (self_attn_layer_norm): LayerNorm((1024,), eps=1e-05, elementwise_affine=True)\n",
              "          (activation_fn): ReLU()\n",
              "          (fc1): Linear(in_features=1024, out_features=4096, bias=True)\n",
              "          (fc2): Linear(in_features=4096, out_features=1024, bias=True)\n",
              "          (final_layer_norm): LayerNorm((1024,), eps=1e-05, elementwise_affine=True)\n",
              "        )\n",
              "        (15): PegasusEncoderLayer(\n",
              "          (self_attn): PegasusAttention(\n",
              "            (k_proj): Linear(in_features=1024, out_features=1024, bias=True)\n",
              "            (v_proj): Linear(in_features=1024, out_features=1024, bias=True)\n",
              "            (q_proj): Linear(in_features=1024, out_features=1024, bias=True)\n",
              "            (out_proj): Linear(in_features=1024, out_features=1024, bias=True)\n",
              "          )\n",
              "          (self_attn_layer_norm): LayerNorm((1024,), eps=1e-05, elementwise_affine=True)\n",
              "          (activation_fn): ReLU()\n",
              "          (fc1): Linear(in_features=1024, out_features=4096, bias=True)\n",
              "          (fc2): Linear(in_features=4096, out_features=1024, bias=True)\n",
              "          (final_layer_norm): LayerNorm((1024,), eps=1e-05, elementwise_affine=True)\n",
              "        )\n",
              "      )\n",
              "      (layer_norm): LayerNorm((1024,), eps=1e-05, elementwise_affine=True)\n",
              "    )\n",
              "    (decoder): PegasusDecoder(\n",
              "      (embed_tokens): Embedding(96103, 1024, padding_idx=0)\n",
              "      (embed_positions): PegasusSinusoidalPositionalEmbedding(512, 1024)\n",
              "      (layers): ModuleList(\n",
              "        (0): PegasusDecoderLayer(\n",
              "          (self_attn): PegasusAttention(\n",
              "            (k_proj): Linear(in_features=1024, out_features=1024, bias=True)\n",
              "            (v_proj): Linear(in_features=1024, out_features=1024, bias=True)\n",
              "            (q_proj): Linear(in_features=1024, out_features=1024, bias=True)\n",
              "            (out_proj): Linear(in_features=1024, out_features=1024, bias=True)\n",
              "          )\n",
              "          (activation_fn): ReLU()\n",
              "          (self_attn_layer_norm): LayerNorm((1024,), eps=1e-05, elementwise_affine=True)\n",
              "          (encoder_attn): PegasusAttention(\n",
              "            (k_proj): Linear(in_features=1024, out_features=1024, bias=True)\n",
              "            (v_proj): Linear(in_features=1024, out_features=1024, bias=True)\n",
              "            (q_proj): Linear(in_features=1024, out_features=1024, bias=True)\n",
              "            (out_proj): Linear(in_features=1024, out_features=1024, bias=True)\n",
              "          )\n",
              "          (encoder_attn_layer_norm): LayerNorm((1024,), eps=1e-05, elementwise_affine=True)\n",
              "          (fc1): Linear(in_features=1024, out_features=4096, bias=True)\n",
              "          (fc2): Linear(in_features=4096, out_features=1024, bias=True)\n",
              "          (final_layer_norm): LayerNorm((1024,), eps=1e-05, elementwise_affine=True)\n",
              "        )\n",
              "        (1): PegasusDecoderLayer(\n",
              "          (self_attn): PegasusAttention(\n",
              "            (k_proj): Linear(in_features=1024, out_features=1024, bias=True)\n",
              "            (v_proj): Linear(in_features=1024, out_features=1024, bias=True)\n",
              "            (q_proj): Linear(in_features=1024, out_features=1024, bias=True)\n",
              "            (out_proj): Linear(in_features=1024, out_features=1024, bias=True)\n",
              "          )\n",
              "          (activation_fn): ReLU()\n",
              "          (self_attn_layer_norm): LayerNorm((1024,), eps=1e-05, elementwise_affine=True)\n",
              "          (encoder_attn): PegasusAttention(\n",
              "            (k_proj): Linear(in_features=1024, out_features=1024, bias=True)\n",
              "            (v_proj): Linear(in_features=1024, out_features=1024, bias=True)\n",
              "            (q_proj): Linear(in_features=1024, out_features=1024, bias=True)\n",
              "            (out_proj): Linear(in_features=1024, out_features=1024, bias=True)\n",
              "          )\n",
              "          (encoder_attn_layer_norm): LayerNorm((1024,), eps=1e-05, elementwise_affine=True)\n",
              "          (fc1): Linear(in_features=1024, out_features=4096, bias=True)\n",
              "          (fc2): Linear(in_features=4096, out_features=1024, bias=True)\n",
              "          (final_layer_norm): LayerNorm((1024,), eps=1e-05, elementwise_affine=True)\n",
              "        )\n",
              "        (2): PegasusDecoderLayer(\n",
              "          (self_attn): PegasusAttention(\n",
              "            (k_proj): Linear(in_features=1024, out_features=1024, bias=True)\n",
              "            (v_proj): Linear(in_features=1024, out_features=1024, bias=True)\n",
              "            (q_proj): Linear(in_features=1024, out_features=1024, bias=True)\n",
              "            (out_proj): Linear(in_features=1024, out_features=1024, bias=True)\n",
              "          )\n",
              "          (activation_fn): ReLU()\n",
              "          (self_attn_layer_norm): LayerNorm((1024,), eps=1e-05, elementwise_affine=True)\n",
              "          (encoder_attn): PegasusAttention(\n",
              "            (k_proj): Linear(in_features=1024, out_features=1024, bias=True)\n",
              "            (v_proj): Linear(in_features=1024, out_features=1024, bias=True)\n",
              "            (q_proj): Linear(in_features=1024, out_features=1024, bias=True)\n",
              "            (out_proj): Linear(in_features=1024, out_features=1024, bias=True)\n",
              "          )\n",
              "          (encoder_attn_layer_norm): LayerNorm((1024,), eps=1e-05, elementwise_affine=True)\n",
              "          (fc1): Linear(in_features=1024, out_features=4096, bias=True)\n",
              "          (fc2): Linear(in_features=4096, out_features=1024, bias=True)\n",
              "          (final_layer_norm): LayerNorm((1024,), eps=1e-05, elementwise_affine=True)\n",
              "        )\n",
              "        (3): PegasusDecoderLayer(\n",
              "          (self_attn): PegasusAttention(\n",
              "            (k_proj): Linear(in_features=1024, out_features=1024, bias=True)\n",
              "            (v_proj): Linear(in_features=1024, out_features=1024, bias=True)\n",
              "            (q_proj): Linear(in_features=1024, out_features=1024, bias=True)\n",
              "            (out_proj): Linear(in_features=1024, out_features=1024, bias=True)\n",
              "          )\n",
              "          (activation_fn): ReLU()\n",
              "          (self_attn_layer_norm): LayerNorm((1024,), eps=1e-05, elementwise_affine=True)\n",
              "          (encoder_attn): PegasusAttention(\n",
              "            (k_proj): Linear(in_features=1024, out_features=1024, bias=True)\n",
              "            (v_proj): Linear(in_features=1024, out_features=1024, bias=True)\n",
              "            (q_proj): Linear(in_features=1024, out_features=1024, bias=True)\n",
              "            (out_proj): Linear(in_features=1024, out_features=1024, bias=True)\n",
              "          )\n",
              "          (encoder_attn_layer_norm): LayerNorm((1024,), eps=1e-05, elementwise_affine=True)\n",
              "          (fc1): Linear(in_features=1024, out_features=4096, bias=True)\n",
              "          (fc2): Linear(in_features=4096, out_features=1024, bias=True)\n",
              "          (final_layer_norm): LayerNorm((1024,), eps=1e-05, elementwise_affine=True)\n",
              "        )\n",
              "        (4): PegasusDecoderLayer(\n",
              "          (self_attn): PegasusAttention(\n",
              "            (k_proj): Linear(in_features=1024, out_features=1024, bias=True)\n",
              "            (v_proj): Linear(in_features=1024, out_features=1024, bias=True)\n",
              "            (q_proj): Linear(in_features=1024, out_features=1024, bias=True)\n",
              "            (out_proj): Linear(in_features=1024, out_features=1024, bias=True)\n",
              "          )\n",
              "          (activation_fn): ReLU()\n",
              "          (self_attn_layer_norm): LayerNorm((1024,), eps=1e-05, elementwise_affine=True)\n",
              "          (encoder_attn): PegasusAttention(\n",
              "            (k_proj): Linear(in_features=1024, out_features=1024, bias=True)\n",
              "            (v_proj): Linear(in_features=1024, out_features=1024, bias=True)\n",
              "            (q_proj): Linear(in_features=1024, out_features=1024, bias=True)\n",
              "            (out_proj): Linear(in_features=1024, out_features=1024, bias=True)\n",
              "          )\n",
              "          (encoder_attn_layer_norm): LayerNorm((1024,), eps=1e-05, elementwise_affine=True)\n",
              "          (fc1): Linear(in_features=1024, out_features=4096, bias=True)\n",
              "          (fc2): Linear(in_features=4096, out_features=1024, bias=True)\n",
              "          (final_layer_norm): LayerNorm((1024,), eps=1e-05, elementwise_affine=True)\n",
              "        )\n",
              "        (5): PegasusDecoderLayer(\n",
              "          (self_attn): PegasusAttention(\n",
              "            (k_proj): Linear(in_features=1024, out_features=1024, bias=True)\n",
              "            (v_proj): Linear(in_features=1024, out_features=1024, bias=True)\n",
              "            (q_proj): Linear(in_features=1024, out_features=1024, bias=True)\n",
              "            (out_proj): Linear(in_features=1024, out_features=1024, bias=True)\n",
              "          )\n",
              "          (activation_fn): ReLU()\n",
              "          (self_attn_layer_norm): LayerNorm((1024,), eps=1e-05, elementwise_affine=True)\n",
              "          (encoder_attn): PegasusAttention(\n",
              "            (k_proj): Linear(in_features=1024, out_features=1024, bias=True)\n",
              "            (v_proj): Linear(in_features=1024, out_features=1024, bias=True)\n",
              "            (q_proj): Linear(in_features=1024, out_features=1024, bias=True)\n",
              "            (out_proj): Linear(in_features=1024, out_features=1024, bias=True)\n",
              "          )\n",
              "          (encoder_attn_layer_norm): LayerNorm((1024,), eps=1e-05, elementwise_affine=True)\n",
              "          (fc1): Linear(in_features=1024, out_features=4096, bias=True)\n",
              "          (fc2): Linear(in_features=4096, out_features=1024, bias=True)\n",
              "          (final_layer_norm): LayerNorm((1024,), eps=1e-05, elementwise_affine=True)\n",
              "        )\n",
              "        (6): PegasusDecoderLayer(\n",
              "          (self_attn): PegasusAttention(\n",
              "            (k_proj): Linear(in_features=1024, out_features=1024, bias=True)\n",
              "            (v_proj): Linear(in_features=1024, out_features=1024, bias=True)\n",
              "            (q_proj): Linear(in_features=1024, out_features=1024, bias=True)\n",
              "            (out_proj): Linear(in_features=1024, out_features=1024, bias=True)\n",
              "          )\n",
              "          (activation_fn): ReLU()\n",
              "          (self_attn_layer_norm): LayerNorm((1024,), eps=1e-05, elementwise_affine=True)\n",
              "          (encoder_attn): PegasusAttention(\n",
              "            (k_proj): Linear(in_features=1024, out_features=1024, bias=True)\n",
              "            (v_proj): Linear(in_features=1024, out_features=1024, bias=True)\n",
              "            (q_proj): Linear(in_features=1024, out_features=1024, bias=True)\n",
              "            (out_proj): Linear(in_features=1024, out_features=1024, bias=True)\n",
              "          )\n",
              "          (encoder_attn_layer_norm): LayerNorm((1024,), eps=1e-05, elementwise_affine=True)\n",
              "          (fc1): Linear(in_features=1024, out_features=4096, bias=True)\n",
              "          (fc2): Linear(in_features=4096, out_features=1024, bias=True)\n",
              "          (final_layer_norm): LayerNorm((1024,), eps=1e-05, elementwise_affine=True)\n",
              "        )\n",
              "        (7): PegasusDecoderLayer(\n",
              "          (self_attn): PegasusAttention(\n",
              "            (k_proj): Linear(in_features=1024, out_features=1024, bias=True)\n",
              "            (v_proj): Linear(in_features=1024, out_features=1024, bias=True)\n",
              "            (q_proj): Linear(in_features=1024, out_features=1024, bias=True)\n",
              "            (out_proj): Linear(in_features=1024, out_features=1024, bias=True)\n",
              "          )\n",
              "          (activation_fn): ReLU()\n",
              "          (self_attn_layer_norm): LayerNorm((1024,), eps=1e-05, elementwise_affine=True)\n",
              "          (encoder_attn): PegasusAttention(\n",
              "            (k_proj): Linear(in_features=1024, out_features=1024, bias=True)\n",
              "            (v_proj): Linear(in_features=1024, out_features=1024, bias=True)\n",
              "            (q_proj): Linear(in_features=1024, out_features=1024, bias=True)\n",
              "            (out_proj): Linear(in_features=1024, out_features=1024, bias=True)\n",
              "          )\n",
              "          (encoder_attn_layer_norm): LayerNorm((1024,), eps=1e-05, elementwise_affine=True)\n",
              "          (fc1): Linear(in_features=1024, out_features=4096, bias=True)\n",
              "          (fc2): Linear(in_features=4096, out_features=1024, bias=True)\n",
              "          (final_layer_norm): LayerNorm((1024,), eps=1e-05, elementwise_affine=True)\n",
              "        )\n",
              "        (8): PegasusDecoderLayer(\n",
              "          (self_attn): PegasusAttention(\n",
              "            (k_proj): Linear(in_features=1024, out_features=1024, bias=True)\n",
              "            (v_proj): Linear(in_features=1024, out_features=1024, bias=True)\n",
              "            (q_proj): Linear(in_features=1024, out_features=1024, bias=True)\n",
              "            (out_proj): Linear(in_features=1024, out_features=1024, bias=True)\n",
              "          )\n",
              "          (activation_fn): ReLU()\n",
              "          (self_attn_layer_norm): LayerNorm((1024,), eps=1e-05, elementwise_affine=True)\n",
              "          (encoder_attn): PegasusAttention(\n",
              "            (k_proj): Linear(in_features=1024, out_features=1024, bias=True)\n",
              "            (v_proj): Linear(in_features=1024, out_features=1024, bias=True)\n",
              "            (q_proj): Linear(in_features=1024, out_features=1024, bias=True)\n",
              "            (out_proj): Linear(in_features=1024, out_features=1024, bias=True)\n",
              "          )\n",
              "          (encoder_attn_layer_norm): LayerNorm((1024,), eps=1e-05, elementwise_affine=True)\n",
              "          (fc1): Linear(in_features=1024, out_features=4096, bias=True)\n",
              "          (fc2): Linear(in_features=4096, out_features=1024, bias=True)\n",
              "          (final_layer_norm): LayerNorm((1024,), eps=1e-05, elementwise_affine=True)\n",
              "        )\n",
              "        (9): PegasusDecoderLayer(\n",
              "          (self_attn): PegasusAttention(\n",
              "            (k_proj): Linear(in_features=1024, out_features=1024, bias=True)\n",
              "            (v_proj): Linear(in_features=1024, out_features=1024, bias=True)\n",
              "            (q_proj): Linear(in_features=1024, out_features=1024, bias=True)\n",
              "            (out_proj): Linear(in_features=1024, out_features=1024, bias=True)\n",
              "          )\n",
              "          (activation_fn): ReLU()\n",
              "          (self_attn_layer_norm): LayerNorm((1024,), eps=1e-05, elementwise_affine=True)\n",
              "          (encoder_attn): PegasusAttention(\n",
              "            (k_proj): Linear(in_features=1024, out_features=1024, bias=True)\n",
              "            (v_proj): Linear(in_features=1024, out_features=1024, bias=True)\n",
              "            (q_proj): Linear(in_features=1024, out_features=1024, bias=True)\n",
              "            (out_proj): Linear(in_features=1024, out_features=1024, bias=True)\n",
              "          )\n",
              "          (encoder_attn_layer_norm): LayerNorm((1024,), eps=1e-05, elementwise_affine=True)\n",
              "          (fc1): Linear(in_features=1024, out_features=4096, bias=True)\n",
              "          (fc2): Linear(in_features=4096, out_features=1024, bias=True)\n",
              "          (final_layer_norm): LayerNorm((1024,), eps=1e-05, elementwise_affine=True)\n",
              "        )\n",
              "        (10): PegasusDecoderLayer(\n",
              "          (self_attn): PegasusAttention(\n",
              "            (k_proj): Linear(in_features=1024, out_features=1024, bias=True)\n",
              "            (v_proj): Linear(in_features=1024, out_features=1024, bias=True)\n",
              "            (q_proj): Linear(in_features=1024, out_features=1024, bias=True)\n",
              "            (out_proj): Linear(in_features=1024, out_features=1024, bias=True)\n",
              "          )\n",
              "          (activation_fn): ReLU()\n",
              "          (self_attn_layer_norm): LayerNorm((1024,), eps=1e-05, elementwise_affine=True)\n",
              "          (encoder_attn): PegasusAttention(\n",
              "            (k_proj): Linear(in_features=1024, out_features=1024, bias=True)\n",
              "            (v_proj): Linear(in_features=1024, out_features=1024, bias=True)\n",
              "            (q_proj): Linear(in_features=1024, out_features=1024, bias=True)\n",
              "            (out_proj): Linear(in_features=1024, out_features=1024, bias=True)\n",
              "          )\n",
              "          (encoder_attn_layer_norm): LayerNorm((1024,), eps=1e-05, elementwise_affine=True)\n",
              "          (fc1): Linear(in_features=1024, out_features=4096, bias=True)\n",
              "          (fc2): Linear(in_features=4096, out_features=1024, bias=True)\n",
              "          (final_layer_norm): LayerNorm((1024,), eps=1e-05, elementwise_affine=True)\n",
              "        )\n",
              "        (11): PegasusDecoderLayer(\n",
              "          (self_attn): PegasusAttention(\n",
              "            (k_proj): Linear(in_features=1024, out_features=1024, bias=True)\n",
              "            (v_proj): Linear(in_features=1024, out_features=1024, bias=True)\n",
              "            (q_proj): Linear(in_features=1024, out_features=1024, bias=True)\n",
              "            (out_proj): Linear(in_features=1024, out_features=1024, bias=True)\n",
              "          )\n",
              "          (activation_fn): ReLU()\n",
              "          (self_attn_layer_norm): LayerNorm((1024,), eps=1e-05, elementwise_affine=True)\n",
              "          (encoder_attn): PegasusAttention(\n",
              "            (k_proj): Linear(in_features=1024, out_features=1024, bias=True)\n",
              "            (v_proj): Linear(in_features=1024, out_features=1024, bias=True)\n",
              "            (q_proj): Linear(in_features=1024, out_features=1024, bias=True)\n",
              "            (out_proj): Linear(in_features=1024, out_features=1024, bias=True)\n",
              "          )\n",
              "          (encoder_attn_layer_norm): LayerNorm((1024,), eps=1e-05, elementwise_affine=True)\n",
              "          (fc1): Linear(in_features=1024, out_features=4096, bias=True)\n",
              "          (fc2): Linear(in_features=4096, out_features=1024, bias=True)\n",
              "          (final_layer_norm): LayerNorm((1024,), eps=1e-05, elementwise_affine=True)\n",
              "        )\n",
              "        (12): PegasusDecoderLayer(\n",
              "          (self_attn): PegasusAttention(\n",
              "            (k_proj): Linear(in_features=1024, out_features=1024, bias=True)\n",
              "            (v_proj): Linear(in_features=1024, out_features=1024, bias=True)\n",
              "            (q_proj): Linear(in_features=1024, out_features=1024, bias=True)\n",
              "            (out_proj): Linear(in_features=1024, out_features=1024, bias=True)\n",
              "          )\n",
              "          (activation_fn): ReLU()\n",
              "          (self_attn_layer_norm): LayerNorm((1024,), eps=1e-05, elementwise_affine=True)\n",
              "          (encoder_attn): PegasusAttention(\n",
              "            (k_proj): Linear(in_features=1024, out_features=1024, bias=True)\n",
              "            (v_proj): Linear(in_features=1024, out_features=1024, bias=True)\n",
              "            (q_proj): Linear(in_features=1024, out_features=1024, bias=True)\n",
              "            (out_proj): Linear(in_features=1024, out_features=1024, bias=True)\n",
              "          )\n",
              "          (encoder_attn_layer_norm): LayerNorm((1024,), eps=1e-05, elementwise_affine=True)\n",
              "          (fc1): Linear(in_features=1024, out_features=4096, bias=True)\n",
              "          (fc2): Linear(in_features=4096, out_features=1024, bias=True)\n",
              "          (final_layer_norm): LayerNorm((1024,), eps=1e-05, elementwise_affine=True)\n",
              "        )\n",
              "        (13): PegasusDecoderLayer(\n",
              "          (self_attn): PegasusAttention(\n",
              "            (k_proj): Linear(in_features=1024, out_features=1024, bias=True)\n",
              "            (v_proj): Linear(in_features=1024, out_features=1024, bias=True)\n",
              "            (q_proj): Linear(in_features=1024, out_features=1024, bias=True)\n",
              "            (out_proj): Linear(in_features=1024, out_features=1024, bias=True)\n",
              "          )\n",
              "          (activation_fn): ReLU()\n",
              "          (self_attn_layer_norm): LayerNorm((1024,), eps=1e-05, elementwise_affine=True)\n",
              "          (encoder_attn): PegasusAttention(\n",
              "            (k_proj): Linear(in_features=1024, out_features=1024, bias=True)\n",
              "            (v_proj): Linear(in_features=1024, out_features=1024, bias=True)\n",
              "            (q_proj): Linear(in_features=1024, out_features=1024, bias=True)\n",
              "            (out_proj): Linear(in_features=1024, out_features=1024, bias=True)\n",
              "          )\n",
              "          (encoder_attn_layer_norm): LayerNorm((1024,), eps=1e-05, elementwise_affine=True)\n",
              "          (fc1): Linear(in_features=1024, out_features=4096, bias=True)\n",
              "          (fc2): Linear(in_features=4096, out_features=1024, bias=True)\n",
              "          (final_layer_norm): LayerNorm((1024,), eps=1e-05, elementwise_affine=True)\n",
              "        )\n",
              "        (14): PegasusDecoderLayer(\n",
              "          (self_attn): PegasusAttention(\n",
              "            (k_proj): Linear(in_features=1024, out_features=1024, bias=True)\n",
              "            (v_proj): Linear(in_features=1024, out_features=1024, bias=True)\n",
              "            (q_proj): Linear(in_features=1024, out_features=1024, bias=True)\n",
              "            (out_proj): Linear(in_features=1024, out_features=1024, bias=True)\n",
              "          )\n",
              "          (activation_fn): ReLU()\n",
              "          (self_attn_layer_norm): LayerNorm((1024,), eps=1e-05, elementwise_affine=True)\n",
              "          (encoder_attn): PegasusAttention(\n",
              "            (k_proj): Linear(in_features=1024, out_features=1024, bias=True)\n",
              "            (v_proj): Linear(in_features=1024, out_features=1024, bias=True)\n",
              "            (q_proj): Linear(in_features=1024, out_features=1024, bias=True)\n",
              "            (out_proj): Linear(in_features=1024, out_features=1024, bias=True)\n",
              "          )\n",
              "          (encoder_attn_layer_norm): LayerNorm((1024,), eps=1e-05, elementwise_affine=True)\n",
              "          (fc1): Linear(in_features=1024, out_features=4096, bias=True)\n",
              "          (fc2): Linear(in_features=4096, out_features=1024, bias=True)\n",
              "          (final_layer_norm): LayerNorm((1024,), eps=1e-05, elementwise_affine=True)\n",
              "        )\n",
              "        (15): PegasusDecoderLayer(\n",
              "          (self_attn): PegasusAttention(\n",
              "            (k_proj): Linear(in_features=1024, out_features=1024, bias=True)\n",
              "            (v_proj): Linear(in_features=1024, out_features=1024, bias=True)\n",
              "            (q_proj): Linear(in_features=1024, out_features=1024, bias=True)\n",
              "            (out_proj): Linear(in_features=1024, out_features=1024, bias=True)\n",
              "          )\n",
              "          (activation_fn): ReLU()\n",
              "          (self_attn_layer_norm): LayerNorm((1024,), eps=1e-05, elementwise_affine=True)\n",
              "          (encoder_attn): PegasusAttention(\n",
              "            (k_proj): Linear(in_features=1024, out_features=1024, bias=True)\n",
              "            (v_proj): Linear(in_features=1024, out_features=1024, bias=True)\n",
              "            (q_proj): Linear(in_features=1024, out_features=1024, bias=True)\n",
              "            (out_proj): Linear(in_features=1024, out_features=1024, bias=True)\n",
              "          )\n",
              "          (encoder_attn_layer_norm): LayerNorm((1024,), eps=1e-05, elementwise_affine=True)\n",
              "          (fc1): Linear(in_features=1024, out_features=4096, bias=True)\n",
              "          (fc2): Linear(in_features=4096, out_features=1024, bias=True)\n",
              "          (final_layer_norm): LayerNorm((1024,), eps=1e-05, elementwise_affine=True)\n",
              "        )\n",
              "      )\n",
              "      (layer_norm): LayerNorm((1024,), eps=1e-05, elementwise_affine=True)\n",
              "    )\n",
              "  )\n",
              "  (lm_head): Linear(in_features=1024, out_features=96103, bias=False)\n",
              ")"
            ]
          },
          "execution_count": 26,
          "metadata": {},
          "output_type": "execute_result"
        }
      ],
      "source": [
        "with open(git_base + \"fudge/ckpt/topic/future_word_predictor/dataset_info\", 'rb') as rf:\n",
        "    dataset_info = pickle.load(rf)\n",
        "\n",
        "article_content = \"\"\"Australian actor Guy Pearce will return for the iconic soap Neighbours finale on August 1 to reprise his role as Mike Young.\n",
        "                Guy, 54, played the troubled Mike from 1986 to 1989, and is now set to make a comeback on the show after 33 years, Metro.co.uk reports.\n",
        "                The star's character arcs explored the implications of domestic abuse, student-teacher relationships and dealing with loss of loved ones.\n",
        "                Speaking to Metro.co.uk, Guy said: 'It is very exciting and surreal at the same time being back on set again, however it feels like coming home.\n",
        "                'It's where it all started for me professionally. I've been asked to come back on occasions over the years and wondered if it was the right thing \n",
        "                to do, but once I knew the show was finishing, I knew I had to do it.'He added that there is 'nothing like being here all together again'\n",
        "                , even though he's had a chance to catch-up with other cast members.\"\"\"\n",
        "\n",
        "# model_path = 'ckpt/clickbait_summarizer/checkpoint-1464'\n",
        "device = 'cuda' if torch.cuda.is_available() else 'cpu'\n",
        "pad_id = tokenizer.encode(PAD_TOKEN)[0]\n",
        "\n",
        "\n",
        "# pretrained_model = 'google/pegasus-xsum'\n",
        "pretrained_model = \"../drive/MyDrive/nlp_lss_data/non_clickbait_and_clickbait_summarization_steps_pegasus_xsum/checkpoint-150/\"\n",
        "generation_model = AutoModelForSeq2SeqLM.from_pretrained(pretrained_model, return_dict=True).to(device)\n",
        "\n",
        "\n",
        "generation_model.eval()"
      ]
    },
    {
      "cell_type": "code",
      "execution_count": null,
      "metadata": {
        "colab": {
          "base_uri": "https://localhost:8080/",
          "height": 1000,
          "referenced_widgets": [
            "b87a064d9cc94fe495fb8c55eeaa9939",
            "770be83a610641ed944c20b60011e673",
            "bedc646c1109470da970dd7956581ef1",
            "ea2c32736bae4fc18f8c4731b734b121",
            "e31c9dfb49294b5a82ffc72387a0318e",
            "58d0f58fe7d0400a827a2b1473df1c40",
            "41edff13d6384a9897173ae69295727b",
            "49a030b7b09441cf82f071506d40eb03",
            "66cd28c3884d4c02832f2761ade3a736",
            "7f32fcd1605a453185f7efb30ea47235",
            "831866709c784ccf9b9bbd535dfe68d0",
            "bd6602b54cae4dc885765d74d4525c00",
            "ffb9368d7cbe48e7983bd12adae03c79",
            "110511ef3d134cb993ded03500d0b331",
            "b02612d2e8f148d0b004896d3b1f3fe0",
            "81d0484d369148bbb68dc5bd216e17c8",
            "a44254dac24c4342a0ea597c1997acd9",
            "ba70134a22a24cb098893db5da2ca7ea",
            "ec81b39687cf49a8acba2526b54a0ef6",
            "afc07140d07c4c74b9d52449aa8c6fb1",
            "99fe730c0bee4cd58619170a2d5ebb40",
            "49a7134f67b1407c9aaa57b36301faee"
          ]
        },
        "id": "aj8oHQbbVNR8",
        "outputId": "6fd06ef2-d483-459f-d3ae-0824483b2366"
      },
      "outputs": [
        {
          "data": {
            "application/vnd.jupyter.widget-view+json": {
              "model_id": "b87a064d9cc94fe495fb8c55eeaa9939",
              "version_major": 2,
              "version_minor": 0
            },
            "text/plain": [
              "Downloading:   0%|          | 0.00/571 [00:00<?, ?B/s]"
            ]
          },
          "metadata": {},
          "output_type": "display_data"
        },
        {
          "data": {
            "application/vnd.jupyter.widget-view+json": {
              "model_id": "bd6602b54cae4dc885765d74d4525c00",
              "version_major": 2,
              "version_minor": 0
            },
            "text/plain": [
              "Downloading:   0%|          | 0.00/418M [00:00<?, ?B/s]"
            ]
          },
          "metadata": {},
          "output_type": "display_data"
        },
        {
          "name": "stdout",
          "output_type": "stream",
          "text": [
            "Load pretrained weights from sentence-transformers/all-mpnet-base-v2\n"
          ]
        },
        {
          "data": {
            "text/plain": [
              "Model(\n",
              "  (classifier): BertClickbaitClassifier(\n",
              "    (bert): MPNetModel(\n",
              "      (embeddings): MPNetEmbeddings(\n",
              "        (word_embeddings): Embedding(30527, 768, padding_idx=1)\n",
              "        (position_embeddings): Embedding(514, 768, padding_idx=1)\n",
              "        (LayerNorm): LayerNorm((768,), eps=1e-05, elementwise_affine=True)\n",
              "        (dropout): Dropout(p=0.1, inplace=False)\n",
              "      )\n",
              "      (encoder): MPNetEncoder(\n",
              "        (layer): ModuleList(\n",
              "          (0): MPNetLayer(\n",
              "            (attention): MPNetAttention(\n",
              "              (attn): MPNetSelfAttention(\n",
              "                (q): Linear(in_features=768, out_features=768, bias=True)\n",
              "                (k): Linear(in_features=768, out_features=768, bias=True)\n",
              "                (v): Linear(in_features=768, out_features=768, bias=True)\n",
              "                (o): Linear(in_features=768, out_features=768, bias=True)\n",
              "                (dropout): Dropout(p=0.1, inplace=False)\n",
              "              )\n",
              "              (LayerNorm): LayerNorm((768,), eps=1e-05, elementwise_affine=True)\n",
              "              (dropout): Dropout(p=0.1, inplace=False)\n",
              "            )\n",
              "            (intermediate): MPNetIntermediate(\n",
              "              (dense): Linear(in_features=768, out_features=3072, bias=True)\n",
              "              (intermediate_act_fn): GELUActivation()\n",
              "            )\n",
              "            (output): MPNetOutput(\n",
              "              (dense): Linear(in_features=3072, out_features=768, bias=True)\n",
              "              (LayerNorm): LayerNorm((768,), eps=1e-05, elementwise_affine=True)\n",
              "              (dropout): Dropout(p=0.1, inplace=False)\n",
              "            )\n",
              "          )\n",
              "          (1): MPNetLayer(\n",
              "            (attention): MPNetAttention(\n",
              "              (attn): MPNetSelfAttention(\n",
              "                (q): Linear(in_features=768, out_features=768, bias=True)\n",
              "                (k): Linear(in_features=768, out_features=768, bias=True)\n",
              "                (v): Linear(in_features=768, out_features=768, bias=True)\n",
              "                (o): Linear(in_features=768, out_features=768, bias=True)\n",
              "                (dropout): Dropout(p=0.1, inplace=False)\n",
              "              )\n",
              "              (LayerNorm): LayerNorm((768,), eps=1e-05, elementwise_affine=True)\n",
              "              (dropout): Dropout(p=0.1, inplace=False)\n",
              "            )\n",
              "            (intermediate): MPNetIntermediate(\n",
              "              (dense): Linear(in_features=768, out_features=3072, bias=True)\n",
              "              (intermediate_act_fn): GELUActivation()\n",
              "            )\n",
              "            (output): MPNetOutput(\n",
              "              (dense): Linear(in_features=3072, out_features=768, bias=True)\n",
              "              (LayerNorm): LayerNorm((768,), eps=1e-05, elementwise_affine=True)\n",
              "              (dropout): Dropout(p=0.1, inplace=False)\n",
              "            )\n",
              "          )\n",
              "          (2): MPNetLayer(\n",
              "            (attention): MPNetAttention(\n",
              "              (attn): MPNetSelfAttention(\n",
              "                (q): Linear(in_features=768, out_features=768, bias=True)\n",
              "                (k): Linear(in_features=768, out_features=768, bias=True)\n",
              "                (v): Linear(in_features=768, out_features=768, bias=True)\n",
              "                (o): Linear(in_features=768, out_features=768, bias=True)\n",
              "                (dropout): Dropout(p=0.1, inplace=False)\n",
              "              )\n",
              "              (LayerNorm): LayerNorm((768,), eps=1e-05, elementwise_affine=True)\n",
              "              (dropout): Dropout(p=0.1, inplace=False)\n",
              "            )\n",
              "            (intermediate): MPNetIntermediate(\n",
              "              (dense): Linear(in_features=768, out_features=3072, bias=True)\n",
              "              (intermediate_act_fn): GELUActivation()\n",
              "            )\n",
              "            (output): MPNetOutput(\n",
              "              (dense): Linear(in_features=3072, out_features=768, bias=True)\n",
              "              (LayerNorm): LayerNorm((768,), eps=1e-05, elementwise_affine=True)\n",
              "              (dropout): Dropout(p=0.1, inplace=False)\n",
              "            )\n",
              "          )\n",
              "          (3): MPNetLayer(\n",
              "            (attention): MPNetAttention(\n",
              "              (attn): MPNetSelfAttention(\n",
              "                (q): Linear(in_features=768, out_features=768, bias=True)\n",
              "                (k): Linear(in_features=768, out_features=768, bias=True)\n",
              "                (v): Linear(in_features=768, out_features=768, bias=True)\n",
              "                (o): Linear(in_features=768, out_features=768, bias=True)\n",
              "                (dropout): Dropout(p=0.1, inplace=False)\n",
              "              )\n",
              "              (LayerNorm): LayerNorm((768,), eps=1e-05, elementwise_affine=True)\n",
              "              (dropout): Dropout(p=0.1, inplace=False)\n",
              "            )\n",
              "            (intermediate): MPNetIntermediate(\n",
              "              (dense): Linear(in_features=768, out_features=3072, bias=True)\n",
              "              (intermediate_act_fn): GELUActivation()\n",
              "            )\n",
              "            (output): MPNetOutput(\n",
              "              (dense): Linear(in_features=3072, out_features=768, bias=True)\n",
              "              (LayerNorm): LayerNorm((768,), eps=1e-05, elementwise_affine=True)\n",
              "              (dropout): Dropout(p=0.1, inplace=False)\n",
              "            )\n",
              "          )\n",
              "          (4): MPNetLayer(\n",
              "            (attention): MPNetAttention(\n",
              "              (attn): MPNetSelfAttention(\n",
              "                (q): Linear(in_features=768, out_features=768, bias=True)\n",
              "                (k): Linear(in_features=768, out_features=768, bias=True)\n",
              "                (v): Linear(in_features=768, out_features=768, bias=True)\n",
              "                (o): Linear(in_features=768, out_features=768, bias=True)\n",
              "                (dropout): Dropout(p=0.1, inplace=False)\n",
              "              )\n",
              "              (LayerNorm): LayerNorm((768,), eps=1e-05, elementwise_affine=True)\n",
              "              (dropout): Dropout(p=0.1, inplace=False)\n",
              "            )\n",
              "            (intermediate): MPNetIntermediate(\n",
              "              (dense): Linear(in_features=768, out_features=3072, bias=True)\n",
              "              (intermediate_act_fn): GELUActivation()\n",
              "            )\n",
              "            (output): MPNetOutput(\n",
              "              (dense): Linear(in_features=3072, out_features=768, bias=True)\n",
              "              (LayerNorm): LayerNorm((768,), eps=1e-05, elementwise_affine=True)\n",
              "              (dropout): Dropout(p=0.1, inplace=False)\n",
              "            )\n",
              "          )\n",
              "          (5): MPNetLayer(\n",
              "            (attention): MPNetAttention(\n",
              "              (attn): MPNetSelfAttention(\n",
              "                (q): Linear(in_features=768, out_features=768, bias=True)\n",
              "                (k): Linear(in_features=768, out_features=768, bias=True)\n",
              "                (v): Linear(in_features=768, out_features=768, bias=True)\n",
              "                (o): Linear(in_features=768, out_features=768, bias=True)\n",
              "                (dropout): Dropout(p=0.1, inplace=False)\n",
              "              )\n",
              "              (LayerNorm): LayerNorm((768,), eps=1e-05, elementwise_affine=True)\n",
              "              (dropout): Dropout(p=0.1, inplace=False)\n",
              "            )\n",
              "            (intermediate): MPNetIntermediate(\n",
              "              (dense): Linear(in_features=768, out_features=3072, bias=True)\n",
              "              (intermediate_act_fn): GELUActivation()\n",
              "            )\n",
              "            (output): MPNetOutput(\n",
              "              (dense): Linear(in_features=3072, out_features=768, bias=True)\n",
              "              (LayerNorm): LayerNorm((768,), eps=1e-05, elementwise_affine=True)\n",
              "              (dropout): Dropout(p=0.1, inplace=False)\n",
              "            )\n",
              "          )\n",
              "          (6): MPNetLayer(\n",
              "            (attention): MPNetAttention(\n",
              "              (attn): MPNetSelfAttention(\n",
              "                (q): Linear(in_features=768, out_features=768, bias=True)\n",
              "                (k): Linear(in_features=768, out_features=768, bias=True)\n",
              "                (v): Linear(in_features=768, out_features=768, bias=True)\n",
              "                (o): Linear(in_features=768, out_features=768, bias=True)\n",
              "                (dropout): Dropout(p=0.1, inplace=False)\n",
              "              )\n",
              "              (LayerNorm): LayerNorm((768,), eps=1e-05, elementwise_affine=True)\n",
              "              (dropout): Dropout(p=0.1, inplace=False)\n",
              "            )\n",
              "            (intermediate): MPNetIntermediate(\n",
              "              (dense): Linear(in_features=768, out_features=3072, bias=True)\n",
              "              (intermediate_act_fn): GELUActivation()\n",
              "            )\n",
              "            (output): MPNetOutput(\n",
              "              (dense): Linear(in_features=3072, out_features=768, bias=True)\n",
              "              (LayerNorm): LayerNorm((768,), eps=1e-05, elementwise_affine=True)\n",
              "              (dropout): Dropout(p=0.1, inplace=False)\n",
              "            )\n",
              "          )\n",
              "          (7): MPNetLayer(\n",
              "            (attention): MPNetAttention(\n",
              "              (attn): MPNetSelfAttention(\n",
              "                (q): Linear(in_features=768, out_features=768, bias=True)\n",
              "                (k): Linear(in_features=768, out_features=768, bias=True)\n",
              "                (v): Linear(in_features=768, out_features=768, bias=True)\n",
              "                (o): Linear(in_features=768, out_features=768, bias=True)\n",
              "                (dropout): Dropout(p=0.1, inplace=False)\n",
              "              )\n",
              "              (LayerNorm): LayerNorm((768,), eps=1e-05, elementwise_affine=True)\n",
              "              (dropout): Dropout(p=0.1, inplace=False)\n",
              "            )\n",
              "            (intermediate): MPNetIntermediate(\n",
              "              (dense): Linear(in_features=768, out_features=3072, bias=True)\n",
              "              (intermediate_act_fn): GELUActivation()\n",
              "            )\n",
              "            (output): MPNetOutput(\n",
              "              (dense): Linear(in_features=3072, out_features=768, bias=True)\n",
              "              (LayerNorm): LayerNorm((768,), eps=1e-05, elementwise_affine=True)\n",
              "              (dropout): Dropout(p=0.1, inplace=False)\n",
              "            )\n",
              "          )\n",
              "          (8): MPNetLayer(\n",
              "            (attention): MPNetAttention(\n",
              "              (attn): MPNetSelfAttention(\n",
              "                (q): Linear(in_features=768, out_features=768, bias=True)\n",
              "                (k): Linear(in_features=768, out_features=768, bias=True)\n",
              "                (v): Linear(in_features=768, out_features=768, bias=True)\n",
              "                (o): Linear(in_features=768, out_features=768, bias=True)\n",
              "                (dropout): Dropout(p=0.1, inplace=False)\n",
              "              )\n",
              "              (LayerNorm): LayerNorm((768,), eps=1e-05, elementwise_affine=True)\n",
              "              (dropout): Dropout(p=0.1, inplace=False)\n",
              "            )\n",
              "            (intermediate): MPNetIntermediate(\n",
              "              (dense): Linear(in_features=768, out_features=3072, bias=True)\n",
              "              (intermediate_act_fn): GELUActivation()\n",
              "            )\n",
              "            (output): MPNetOutput(\n",
              "              (dense): Linear(in_features=3072, out_features=768, bias=True)\n",
              "              (LayerNorm): LayerNorm((768,), eps=1e-05, elementwise_affine=True)\n",
              "              (dropout): Dropout(p=0.1, inplace=False)\n",
              "            )\n",
              "          )\n",
              "          (9): MPNetLayer(\n",
              "            (attention): MPNetAttention(\n",
              "              (attn): MPNetSelfAttention(\n",
              "                (q): Linear(in_features=768, out_features=768, bias=True)\n",
              "                (k): Linear(in_features=768, out_features=768, bias=True)\n",
              "                (v): Linear(in_features=768, out_features=768, bias=True)\n",
              "                (o): Linear(in_features=768, out_features=768, bias=True)\n",
              "                (dropout): Dropout(p=0.1, inplace=False)\n",
              "              )\n",
              "              (LayerNorm): LayerNorm((768,), eps=1e-05, elementwise_affine=True)\n",
              "              (dropout): Dropout(p=0.1, inplace=False)\n",
              "            )\n",
              "            (intermediate): MPNetIntermediate(\n",
              "              (dense): Linear(in_features=768, out_features=3072, bias=True)\n",
              "              (intermediate_act_fn): GELUActivation()\n",
              "            )\n",
              "            (output): MPNetOutput(\n",
              "              (dense): Linear(in_features=3072, out_features=768, bias=True)\n",
              "              (LayerNorm): LayerNorm((768,), eps=1e-05, elementwise_affine=True)\n",
              "              (dropout): Dropout(p=0.1, inplace=False)\n",
              "            )\n",
              "          )\n",
              "          (10): MPNetLayer(\n",
              "            (attention): MPNetAttention(\n",
              "              (attn): MPNetSelfAttention(\n",
              "                (q): Linear(in_features=768, out_features=768, bias=True)\n",
              "                (k): Linear(in_features=768, out_features=768, bias=True)\n",
              "                (v): Linear(in_features=768, out_features=768, bias=True)\n",
              "                (o): Linear(in_features=768, out_features=768, bias=True)\n",
              "                (dropout): Dropout(p=0.1, inplace=False)\n",
              "              )\n",
              "              (LayerNorm): LayerNorm((768,), eps=1e-05, elementwise_affine=True)\n",
              "              (dropout): Dropout(p=0.1, inplace=False)\n",
              "            )\n",
              "            (intermediate): MPNetIntermediate(\n",
              "              (dense): Linear(in_features=768, out_features=3072, bias=True)\n",
              "              (intermediate_act_fn): GELUActivation()\n",
              "            )\n",
              "            (output): MPNetOutput(\n",
              "              (dense): Linear(in_features=3072, out_features=768, bias=True)\n",
              "              (LayerNorm): LayerNorm((768,), eps=1e-05, elementwise_affine=True)\n",
              "              (dropout): Dropout(p=0.1, inplace=False)\n",
              "            )\n",
              "          )\n",
              "          (11): MPNetLayer(\n",
              "            (attention): MPNetAttention(\n",
              "              (attn): MPNetSelfAttention(\n",
              "                (q): Linear(in_features=768, out_features=768, bias=True)\n",
              "                (k): Linear(in_features=768, out_features=768, bias=True)\n",
              "                (v): Linear(in_features=768, out_features=768, bias=True)\n",
              "                (o): Linear(in_features=768, out_features=768, bias=True)\n",
              "                (dropout): Dropout(p=0.1, inplace=False)\n",
              "              )\n",
              "              (LayerNorm): LayerNorm((768,), eps=1e-05, elementwise_affine=True)\n",
              "              (dropout): Dropout(p=0.1, inplace=False)\n",
              "            )\n",
              "            (intermediate): MPNetIntermediate(\n",
              "              (dense): Linear(in_features=768, out_features=3072, bias=True)\n",
              "              (intermediate_act_fn): GELUActivation()\n",
              "            )\n",
              "            (output): MPNetOutput(\n",
              "              (dense): Linear(in_features=3072, out_features=768, bias=True)\n",
              "              (LayerNorm): LayerNorm((768,), eps=1e-05, elementwise_affine=True)\n",
              "              (dropout): Dropout(p=0.1, inplace=False)\n",
              "            )\n",
              "          )\n",
              "        )\n",
              "        (relative_attention_bias): Embedding(32, 12)\n",
              "      )\n",
              "      (pooler): MPNetPooler(\n",
              "        (dense): Linear(in_features=768, out_features=768, bias=True)\n",
              "        (activation): Tanh()\n",
              "      )\n",
              "    )\n",
              "    (linear_1): Linear(in_features=768, out_features=256, bias=True)\n",
              "    (dropout_1): Dropout(p=0.2, inplace=False)\n",
              "    (relu_1): ReLU()\n",
              "    (dropout_2): Dropout(p=0.2, inplace=False)\n",
              "    (linear_2): Linear(in_features=256, out_features=32, bias=True)\n",
              "    (relu_2): ReLU()\n",
              "    (dropout_3): Dropout(p=0.2, inplace=False)\n",
              "    (classifier): Linear(in_features=32, out_features=1, bias=True)\n",
              "    (sigmoid): Sigmoid()\n",
              "  )\n",
              ")"
            ]
          },
          "execution_count": 27,
          "metadata": {},
          "output_type": "execute_result"
        }
      ],
      "source": [
        "from model import Model\n",
        "import imp\n",
        "\n",
        "\n",
        "# imp.reload(model)\n",
        "\n",
        "model_args = mock.Mock()\n",
        "model_args.task = 'clickbait'\n",
        "model_args.device = device\n",
        "model_args.checkpoint = '../drive/MyDrive/nlp_lss_data/mpnet_clickbait_classification_maxlen25/checkpoint-1464/'\n",
        "\n",
        "conditioning_model = Model(model_args, pad_id, len(dataset_info.index2word)) # no need to get the glove embeddings when reloading since they're saved in model ckpt anyway\n",
        "conditioning_model = conditioning_model.to(device)\n",
        "conditioning_model.eval()"
      ]
    },
    {
      "cell_type": "code",
      "execution_count": null,
      "metadata": {
        "id": "O_78XirJmyiz"
      },
      "outputs": [],
      "source": [
        "from transformers import AutoTokenizer\n",
        "conditioning_model.classifier\n",
        "\n",
        "model_args.checkpoint\n",
        "\n",
        "classifier_tokenizer = AutoTokenizer.from_pretrained(model_args.checkpoint, load_best_model_at_end=True)\n"
      ]
    },
    {
      "cell_type": "code",
      "execution_count": null,
      "metadata": {
        "colab": {
          "base_uri": "https://localhost:8080/"
        },
        "id": "9jSqoT6u6IEI",
        "outputId": "a1cb4389-8729-4402-e830-0a029cb926bb"
      },
      "outputs": [
        {
          "name": "stdout",
          "output_type": "stream",
          "text": [
            "clickbait_classifier.py    formality_data\t predict_topic.py\n",
            "constants.py\t\t   LICENSE\t\t __pycache__\n",
            "data.py\t\t\t   main.py\t\t README.md\n",
            "eval_formality_metrics.py  model.py\t\t requirements.txt\n",
            "eval_poetry_metrics.py\t   poetry_data\t\t slides.pptx\n",
            "eval_topic_metrics.py\t   poetry_util.py\t topic_data\n",
            "evaluate_clickbait.py\t   poster.pdf\t\t transcript.txt\n",
            "evaluate_formality.py\t   predict_clickbait.py  util.py\n",
            "evaluate_poetry.py\t   predict_formality.py\n",
            "evaluate_topic.py\t   predict_poetry.py\n"
          ]
        }
      ],
      "source": [
        "!ls"
      ]
    },
    {
      "cell_type": "markdown",
      "metadata": {
        "id": "sxU6oTRzZ6kq"
      },
      "source": [
        "## Loading data"
      ]
    },
    {
      "cell_type": "code",
      "execution_count": null,
      "metadata": {
        "id": "84SKmQp1Z59n"
      },
      "outputs": [],
      "source": [
        "from datasets import load_dataset,DatasetDict,Dataset\n",
        "# from datasets import \n",
        "from transformers import AutoTokenizer\n",
        "import numpy as np\n",
        "from sklearn.model_selection import train_test_split\n",
        "import pandas as pd\n",
        "from sklearn.utils.class_weight import compute_class_weight\n",
        "import torch\n",
        "import pandas as pd \n",
        "webis_train = \"https://ml-coding-test.s3.eu-west-1.amazonaws.com/webis_train.csv\"\n",
        "webis_test = \"https://ml-coding-test.s3.eu-west-1.amazonaws.com/webis_test.csv\"\n",
        "df_train = pd.read_csv(webis_train)\n",
        "df_test = pd.read_csv(webis_test)\n",
        "\n",
        "# Filter only importante variables\n",
        "# df_train = df_train[['postText', 'truthClass']]\n",
        "# df_test = df_test[['postText', 'truthClass']]\n",
        "\n",
        "\n",
        "df_train['truthClass'] = pd.factorize(df_train['truthClass'])[0]\n",
        "df_test['truthClass'] = pd.factorize(df_test['truthClass'])[0]\n",
        "\n",
        "df_train, df_valid = train_test_split(df_train, test_size = 0.2, random_state = 42, \n",
        "                                  stratify = df_train['truthClass'])\n"
      ]
    },
    {
      "cell_type": "markdown",
      "metadata": {
        "id": "Kru0OZ0MfnQd"
      },
      "source": [
        "Length cutoff is 25,as it was sampled in clickbait dataset"
      ]
    },
    {
      "cell_type": "code",
      "execution_count": null,
      "metadata": {
        "colab": {
          "base_uri": "https://localhost:8080/",
          "height": 150,
          "referenced_widgets": [
            "9d8fb1959532409d9f19bf0378055df8",
            "dad146115d6b47b4bb8ea953a1cff0b4",
            "9c48c34d56cc4ffbbfa6e557d127f0f0",
            "f4b4e47320374d41997164286ffe142a",
            "dff721d13e584f2387b6542f370ed55d",
            "e0069a16abb04b90a34f11b9cad3bbff",
            "8108dcc43627436d8cacf1667ebaa12d",
            "fba633dc037c45c2a2743ab7cba9a51b",
            "0e1d6946643549639079912df037a994",
            "19ac1c8f78ac43d8b196b16d36d345d6",
            "9562485461444bc6954b6a036daf78e5",
            "5c73af0a1d574efdbede332311261910",
            "cdee34f1c87e4b56979ef42569233a38",
            "5cf6159cc4904829a2fdd5ef068755a6",
            "6e63ff1c04904f489c9498b5f08d759e",
            "862cf40541e94fd386c4a6619fb12fa5",
            "e79e2ffa0c324f4db7f7f0758cb69345",
            "da9023bb85c846ce9e7852dc8ded7c00",
            "1ea6895272874ec98c769999e3b8f899",
            "8e64636d3d6c4a458b5192eb1eb4f014",
            "35a39a41da7d4889986d8be7faccd101",
            "5a90e0d19f4b442a87db67cdd237ba94",
            "ebd8c30248844be38b2f8dfb88c31d07",
            "475f1f312c4240de8f6008b6eb557781",
            "8bfbe8e0210848acb9f6a2bd0752278f",
            "37d64ea1ea5044f9b32acfe8792bd491",
            "10d025b5c3ed4f7fa9310f2a67372bf8",
            "c8181b75d5344227ba225f2ba368587e",
            "ed352446f59347f18578afbce2a3445b",
            "4720fe7610a74e9697ae3103abb39f75",
            "38889761fadb4b6e8bb949647f82e720",
            "ff2258270b964223b20994ed400fd666",
            "fffe17ee47464cbca82cf231c302ab95"
          ]
        },
        "id": "k7LbzVa3fx3J",
        "outputId": "8ed5c358-40c8-4399-b28a-ecc379dae6fe"
      },
      "outputs": [
        {
          "name": "stderr",
          "output_type": "stream",
          "text": [
            "Parameter 'function'=<function preprocess_summarization at 0x7f43d6b05680> of the transform datasets.arrow_dataset.Dataset._map_single couldn't be hashed properly, a random hash was used instead. Make sure your transforms and parameters are serializable with pickle or dill for the dataset fingerprinting and caching to work. If you reuse this transform, the caching mechanism will consider it to be different from the previous calls and recompute everything. This warning is only showed once. Subsequent hashing failures won't be showed.\n"
          ]
        },
        {
          "data": {
            "application/vnd.jupyter.widget-view+json": {
              "model_id": "9d8fb1959532409d9f19bf0378055df8",
              "version_major": 2,
              "version_minor": 0
            },
            "text/plain": [
              "  0%|          | 0/16 [00:00<?, ?ba/s]"
            ]
          },
          "metadata": {},
          "output_type": "display_data"
        },
        {
          "data": {
            "application/vnd.jupyter.widget-view+json": {
              "model_id": "5c73af0a1d574efdbede332311261910",
              "version_major": 2,
              "version_minor": 0
            },
            "text/plain": [
              "  0%|          | 0/4 [00:00<?, ?ba/s]"
            ]
          },
          "metadata": {},
          "output_type": "display_data"
        },
        {
          "data": {
            "application/vnd.jupyter.widget-view+json": {
              "model_id": "ebd8c30248844be38b2f8dfb88c31d07",
              "version_major": 2,
              "version_minor": 0
            },
            "text/plain": [
              "  0%|          | 0/19 [00:00<?, ?ba/s]"
            ]
          },
          "metadata": {},
          "output_type": "display_data"
        }
      ],
      "source": [
        "from datasets import DatasetDict, Dataset\n",
        "\n",
        "webis_total = DatasetDict()\n",
        "\n",
        "webis_total['train'] = Dataset.from_pandas(df_train)\n",
        "webis_total['validation'] = Dataset.from_pandas(df_valid)\n",
        "webis_total['test'] = Dataset.from_pandas(df_test)\n",
        "\n",
        "# weight = torch.FloatTensor(compute_class_weight(class_weight=\"balanced\", classes=[0, 1], y=df_train[\"truthClass\"])).to(torch.device('cuda'))\n",
        "\n",
        "  \n",
        "max_input_length = 512\n",
        "max_target_length = 25\n",
        "\n",
        "def preprocess_summarization(x):\n",
        "\n",
        "    caption = [\"\".join(item) for item in x['targetParagraphs']]\n",
        "    # caption = list(x['targetCaptions'])\n",
        "\n",
        "    model_inputs = tokenizer(caption, max_length = max_input_length, truncation = True)\n",
        "\n",
        "    with tokenizer.as_target_tokenizer():\n",
        "        labels = tokenizer(x['targetTitle'], max_length = max_target_length, truncation = True)\n",
        "\n",
        "    model_inputs['labels'] = labels['input_ids']\n",
        "    model_inputs['caption_text'] = caption\n",
        "    return model_inputs\n",
        "\n",
        "webis_total = webis_total.map(preprocess_summarization, batched=True)"
      ]
    },
    {
      "cell_type": "code",
      "execution_count": null,
      "metadata": {
        "colab": {
          "base_uri": "https://localhost:8080/"
        },
        "id": "AuLg9N2_QCfS",
        "outputId": "e59d485c-d261-4538-dd9b-bc3a09cc7d05"
      },
      "outputs": [
        {
          "name": "stderr",
          "output_type": "stream",
          "text": [
            "Truncation was not explicitly activated but `max_length` is provided a specific value, please use `truncation=True` to explicitly truncate examples to max length. Defaulting to 'longest_first' truncation strategy. If you encode pairs of sequences (GLUE-style) with the tokenizer you can select this strategy more precisely by providing a specific strategy to `truncation`.\n",
            "/content/naacl-2021-fudge-controlled-generation/model.py:170: UserWarning: To copy construct from a tensor, it is recommended to use sourceTensor.clone().detach() or sourceTensor.clone().detach().requires_grad_(True), rather than torch.tensor(sourceTensor).\n",
            "  input_ids = torch.tensor(inputs)\n"
          ]
        }
      ],
      "source": [
        "%load_ext autoreload\n",
        "%autoreload 2\n",
        "from predict_clickbait import generate_clickbait\n",
        "\n",
        "condition_lambda = 2.0\n",
        "length_cutoff = 50\n",
        "precondition_topk = 200\n",
        "\n",
        "article_content = df_train.iloc[0]['targetParagraphs']\n",
        "results = generate_clickbait(model=generation_model, \n",
        "                        tokenizer=tokenizer, \n",
        "                        conditioning_model=conditioning_model, \n",
        "                        input_text=[None], \n",
        "                        dataset_info=dataset_info, \n",
        "                        precondition_topk=precondition_topk,\n",
        "                        length_cutoff=length_cutoff,\n",
        "                        condition_lambda=condition_lambda,\n",
        "                        article_content=article_content,\n",
        "                        device=device)"
      ]
    },
    {
      "cell_type": "code",
      "execution_count": null,
      "metadata": {
        "colab": {
          "base_uri": "https://localhost:8080/"
        },
        "id": "hJQUC_dPe_Fe",
        "outputId": "73499924-8a2a-4640-8c11-8f566055ebb7"
      },
      "outputs": [
        {
          "name": "stdout",
          "output_type": "stream",
          "text": [
            " Donald Trump ends campaign against Nato and reveals a moderate soft-line on China..\n"
          ]
        }
      ],
      "source": [
        "print(results[0].replace('</s>', '').replace('<pad>', ''))"
      ]
    },
    {
      "cell_type": "code",
      "execution_count": null,
      "metadata": {
        "colab": {
          "base_uri": "https://localhost:8080/"
        },
        "id": "UjznZDHx8mIB",
        "outputId": "398fd2cb-4f09-4ffe-e038-fa70b17e29d2"
      },
      "outputs": [
        {
          "name": "stdout",
          "output_type": "stream",
          "text": [
            "Trump says H&R Block will be unhappy with his tax plan\n"
          ]
        }
      ],
      "source": [
        "print(df_train.iloc[1]['targetTitle'])"
      ]
    },
    {
      "cell_type": "code",
      "execution_count": null,
      "metadata": {
        "id": "GgQzSaGAhvqL"
      },
      "outputs": [],
      "source": [
        "# df_train['targetParagraphs'].iloc[0]\n",
        "# [\"\".join(item) for item in df_train['targetParagraphs'].iloc[0]]"
      ]
    },
    {
      "cell_type": "code",
      "execution_count": null,
      "metadata": {
        "id": "xWDKlG8eilVe"
      },
      "outputs": [],
      "source": [
        "condition_lambda = 2.0\n",
        "length_cutoff = 50\n",
        "precondition_topk = 200"
      ]
    },
    {
      "cell_type": "code",
      "execution_count": null,
      "metadata": {
        "colab": {
          "base_uri": "https://localhost:8080/",
          "height": 158
        },
        "id": "8c1T3z3h7wsf",
        "outputId": "8d5991a3-a914-4774-ba51-4342c0a3299f"
      },
      "outputs": [
        {
          "data": {
            "application/vnd.google.colaboratory.intrinsic+json": {
              "type": "string"
            },
            "text/plain": [
              "'[\\'President Donald Trump is again singling out tax preparer H&R block as the one company that would be unhappy with his tax reform plans.\\', \\'He made the comment even though H&R Block is on record endorsing the concept of both tax reform and tax simplification.\\', \"But at a meeting with retail CEO\\'s at the White House Wednesday morning, Trump said that his administration\\'s plans for tax simplification will be bad for H&R Block.\", \\'\"We\\\\\\'re going to simplify very greatly the tax code. It\\\\\\'s too complicated. H&R Block probably won\\\\\\'t be too happy. That\\\\\\'s one business that might not be happy with what we\\\\\\'re doing,\" Trump said. \"Other than H&R Block, I think people are going to love it.\"\\', \\'Trump says that his administration is getting close to presenting its outline for reforming the tax code for both individuals and businesses.\\', \\'\"We\\\\\\'re doing a massive tax plan. It\\\\\\'s going really well,\" he said.\\', \"Shares of H&R Block (HRB), which had been slightly higher before his comments, fell as much as 2% immediately following his remarks, but they soon moved off those losses. Shares of the company fell nearly 4% the day after Trump was elected and are down an additional 2% since then, including Wednesday\\'s slide.\", \\'Related: Democrats vow to keep pushing GOP to get Trump tax returns\\', \"This isn\\'t the first time Trump has dissed H&R Block. During the campaign he spoke about wanting to put the company out of business by greatly simplifying taxes.\", \\'However, H&R Block is on record saying it the tax code should be simplified.\\', \\'Related: Why tax reform is a lot harder than it looks\\', \\'\"The president is right. We should reform the tax code,\" said H&R Block CEO Bill Cobb in a recent interview with CNN. \"There are ways we can streamline the tax code.\"\\', \\'He cautioned, \"There are so many nuances to the tax code...I think there are ways you have to step your way towards more simplification,\" he said. \"But I think we can make it simpler, both for us as tax preparers and for you as an individual.\"\\']'"
            ]
          },
          "execution_count": 37,
          "metadata": {},
          "output_type": "execute_result"
        }
      ],
      "source": [
        "df_train.iloc[1]['targetParagraphs']"
      ]
    },
    {
      "cell_type": "code",
      "execution_count": null,
      "metadata": {
        "colab": {
          "base_uri": "https://localhost:8080/"
        },
        "id": "VflGjD7rYoMM",
        "outputId": "e67e444d-2380-4935-acc2-b181cd5120d8"
      },
      "outputs": [
        {
          "name": "stdout",
          "output_type": "stream",
          "text": [
            "Trump reverses course in 24 hours from Nato to China to Fed\n"
          ]
        }
      ],
      "source": [
        "print(df_train.iloc[0]['targetTitle'])\n"
      ]
    },
    {
      "cell_type": "code",
      "execution_count": null,
      "metadata": {
        "colab": {
          "base_uri": "https://localhost:8080/"
        },
        "id": "6cdvjHSDrZfy",
        "outputId": "93ecef5b-df4a-49cd-c0e9-87c5b26bd136"
      },
      "outputs": [
        {
          "data": {
            "text/plain": [
              "[3, 4, 5]"
            ]
          },
          "execution_count": 39,
          "metadata": {},
          "output_type": "execute_result"
        }
      ],
      "source": [
        "a = [1,2,3,4,5,6]\n",
        "b = ['a', 'b', 'c', 'd', 'e','f','g']\n",
        "subset = slice(2,5)\n",
        "a[subset]"
      ]
    },
    {
      "cell_type": "code",
      "execution_count": null,
      "metadata": {
        "colab": {
          "base_uri": "https://localhost:8080/"
        },
        "id": "pgA4TnR_gCGW",
        "outputId": "7ae519f1-a0c3-4acc-fc73-d5a137ee1c04"
      },
      "outputs": [
        {
          "name": "stdout",
          "output_type": "stream",
          "text": [
            "The autoreload extension is already loaded. To reload it, use:\n",
            "  %reload_ext autoreload\n"
          ]
        }
      ],
      "source": [
        "%load_ext autoreload\n",
        "%autoreload 2\n",
        "from predict_clickbait import generate_clickbait\n",
        "\n",
        "condition_lambda = 20.0\n",
        "length_cutoff = 50\n",
        "precondition_topk = 200\n",
        "\n",
        "def rate_title(input_text, model, tokenizer, device='cuda'):\n",
        "  # input_text = {\n",
        "  #                 \"postText\": input_text['postText'],\n",
        "  #                 \"truthClass\" : input_text['truthClass']\n",
        "  #              }\n",
        "  tokenized_input = preprocess_function_title_only_classification(input_text,tokenizer=tokenizer)\n",
        "  # print(tokenized_input.items())\n",
        "  dict_tokenized_input = {k : torch.tensor([v]).to(device) for k,v in tokenized_input.items() if k != 'labels'}\n",
        "  predicted_class = float(model(**dict_tokenized_input).logits)\n",
        "  actual_class = input_text['truthClass']\n",
        "\n",
        "  # print(predicted_class, actual_class)\n",
        "  return {'predicted_class' : predicted_class}\n",
        "\n",
        "def preprocess_function_title_only_classification(examples,tokenizer=None):\n",
        "    model_inputs = tokenizer(examples['postText'], padding=\"longest\", truncation=True, max_length=25)\n",
        "      \n",
        "    model_inputs['labels'] = examples['truthClass']\n",
        "\n",
        "    return model_inputs\n",
        "\n",
        "\n",
        "def create_clickbait_samples(df_set, \n",
        "                            generation_model, \n",
        "                            tokenizer, \n",
        "                            conditioning_model, \n",
        "                            dataset_info, \n",
        "                            precondition_topk, \n",
        "                            condition_lambda, \n",
        "                            length_cutoff, \n",
        "                            device,\n",
        "                            save_file=None,\n",
        "                            subset = slice(0,100),\n",
        "                            verbose = True):\n",
        "    \"\"\"\n",
        "    Generate clickbait samples from a dataset.\n",
        "    \"\"\"\n",
        "    try:\n",
        "      df_clickbait_set = pd.read_csv(save_file)\n",
        "    except FileNotFoundError: \n",
        "      df_clickbait_set = pd.DataFrame({}, columns=['original_title', 'clickbait_title', 'article_content', 'truthMean'])\n",
        "\n",
        "    k = 0\n",
        "    # for row in tqdm(df_set.iloc[0:subset].iterrows()):\n",
        "    for row in tqdm(df_set.iloc[subset].iterrows()):\n",
        "\n",
        "        if(k % 1000 == 0):\n",
        "          df_clickbait_set.to_csv(save_file, index=False)\n",
        "        k = k + 1\n",
        "        if(verbose):\n",
        "          print('__' * 20)\n",
        "        article_content = row[1]['targetParagraphs']\n",
        "        # print(row[0]['targetTitle'])\n",
        "        results = generate_clickbait(model=generation_model, \n",
        "                                tokenizer=tokenizer, \n",
        "                                conditioning_model=conditioning_model, \n",
        "                                input_text=[None], \n",
        "                                dataset_info=dataset_info, \n",
        "                                precondition_topk=precondition_topk,\n",
        "                                length_cutoff=length_cutoff,\n",
        "                                condition_lambda=condition_lambda,\n",
        "                                article_content=article_content,\n",
        "                                device=device)\n",
        "\n",
        "        original_title = row[1]['targetTitle']\n",
        "        truthMean = row[1]['truthMean']\n",
        "        clickbait_title = results[0].replace('</s>', '').replace('<pad>', '')\n",
        "\n",
        "        clickbait_score_generated = rate_title(\n",
        "                input_text = {\n",
        "                  'postText' : clickbait_title, \n",
        "                  'truthClass' : (truthMean > 0.5) * 1,\n",
        "                }, \n",
        "                model= conditioning_model.classifier, \n",
        "                tokenizer=classifier_tokenizer)\n",
        "        result_row = {\n",
        "            'original_title' : original_title,\n",
        "            'clickbait_title' : clickbait_title,\n",
        "            'article_content' : article_content,\n",
        "            'truthMean' : truthMean,\n",
        "            'clickbait_score' : clickbait_score_generated['predicted_class'],\n",
        "        }\n",
        "        if(verbose):\n",
        "          print('\\n')\n",
        "          print(f'Original title: {original_title}')\n",
        "          print('\\n')        \n",
        "          print(f'Clickbait title:  {clickbait_title}')\n",
        "        df_clickbait_set = df_clickbait_set.append(result_row, ignore_index=True)\n",
        "\n",
        "    df_clickbait_set.to_csv(save_file, index=False)\n",
        "    return df_clickbait_set\n",
        "\n",
        "\n"
      ]
    },
    {
      "cell_type": "code",
      "execution_count": null,
      "metadata": {
        "id": "fbGcIolDnaQv"
      },
      "outputs": [],
      "source": []
    },
    {
      "cell_type": "code",
      "execution_count": null,
      "metadata": {
        "colab": {
          "base_uri": "https://localhost:8080/",
          "height": 454
        },
        "id": "8DUcndKNuuqh",
        "outputId": "4bda1ed9-64e9-4f84-cb2a-654fb1ee29bd"
      },
      "outputs": [],
      "source": [
        "device='cuda'\n",
        "create_clickbait_samples(df_train, \n",
        "                            generation_model=generation_model.to(device), \n",
        "                            tokenizer=tokenizer, \n",
        "                            conditioning_model=conditioning_model.to(device), \n",
        "                            dataset_info=dataset_info, \n",
        "                            precondition_topk=precondition_topk, \n",
        "                            condition_lambda=condition_lambda, \n",
        "                            length_cutoff=length_cutoff, \n",
        "                            device=device,\n",
        "                            # save_file='../drive/MyDrive/nlp_lss_data/df_clickbait_train')\n",
        "                            save_file='../drive/MyDrive/nlp_lss_data/df_clickbait_train_pegasus_webis_finetuned.csv')"
      ]
    },
    {
      "cell_type": "code",
      "execution_count": null,
      "metadata": {
        "id": "zXaO1JADm_rK"
      },
      "outputs": [],
      "source": [
        "create_clickbait_samples(df_valid, \n",
        "                            generation_model=generation_model, \n",
        "                            tokenizer=tokenizer, \n",
        "                            conditioning_model=conditioning_model, \n",
        "                            dataset_info=dataset_info, \n",
        "                            precondition_topk=precondition_topk, \n",
        "                            condition_lambda=condition_lambda, \n",
        "                            length_cutoff=length_cutoff, \n",
        "                            device=device,\n",
        "                            # save_file='../drive/MyDrive/nlp_lss_data/df_clickbait_valid')\n",
        "                            save_file='../drive/MyDrive/nlp_lss_data/df_clickbait_valid_pegasus_webis_finetuned.csv')"
      ]
    },
    {
      "cell_type": "code",
      "execution_count": null,
      "metadata": {
        "colab": {
          "base_uri": "https://localhost:8080/",
          "height": 1000
        },
        "id": "N0INo1JSnCUO",
        "outputId": "c68e0295-f97a-4ef7-e3c2-96e49ebba299"
      },
      "outputs": [
        {
          "name": "stderr",
          "output_type": "stream",
          "text": [
            "\r0it [00:00, ?it/s]Truncation was not explicitly activated but `max_length` is provided a specific value, please use `truncation=True` to explicitly truncate examples to max length. Defaulting to 'longest_first' truncation strategy. If you encode pairs of sequences (GLUE-style) with the tokenizer you can select this strategy more precisely by providing a specific strategy to `truncation`.\n",
            "/content/naacl-2021-fudge-controlled-generation/model.py:170: UserWarning: To copy construct from a tensor, it is recommended to use sourceTensor.clone().detach() or sourceTensor.clone().detach().requires_grad_(True), rather than torch.tensor(sourceTensor).\n",
            "  input_ids = torch.tensor(inputs)\n"
          ]
        },
        {
          "name": "stdout",
          "output_type": "stream",
          "text": [
            "________________________________________\n"
          ]
        },
        {
          "name": "stderr",
          "output_type": "stream",
          "text": [
            "\r1it [00:16, 16.34s/it]"
          ]
        },
        {
          "name": "stdout",
          "output_type": "stream",
          "text": [
            "\n",
            "\n",
            "Original title: Johnny Manziel Says Top Pick in Draft Myles Garrett Will 'Do Wonders' for Browns\n",
            "\n",
            "\n",
            "Clickbait title:   Former Texas A and Sons \"super  bront guy\" ex, and ex arguable top professional, is happy to have a former friend with the top pick in the drafted class of the Miami Dolphins footballer, Dolphins player, and former Alabama\n",
            "________________________________________\n"
          ]
        },
        {
          "name": "stderr",
          "output_type": "stream",
          "text": [
            "\r2it [00:34, 17.54s/it]"
          ]
        },
        {
          "name": "stdout",
          "output_type": "stream",
          "text": [
            "\n",
            "\n",
            "Original title: Fabio: California Is a 'Mess' Because of Liberal Policies  Insider\n",
            "\n",
            "\n",
            "Clickbait title:   Fabio, the stars' famous love interest, shared his views on the \"dysfunctional state\" of America on television for the very first time on Tuesday night. this story\n",
            "________________________________________\n"
          ]
        },
        {
          "name": "stderr",
          "output_type": "stream",
          "text": [
            "\r3it [00:58, 20.22s/it]"
          ]
        },
        {
          "name": "stdout",
          "output_type": "stream",
          "text": [
            "\n",
            "\n",
            "Original title: Jimmy Butler wants to return, hopes Bulls keep Rajon Rondo\n",
            "\n",
            "\n",
            "Clickbait title:  SandwichSandwich -..\n",
            "________________________________________\n"
          ]
        },
        {
          "name": "stderr",
          "output_type": "stream",
          "text": [
            "\r4it [01:19, 20.53s/it]"
          ]
        },
        {
          "name": "stdout",
          "output_type": "stream",
          "text": [
            "\n",
            "\n",
            "Original title: Mitchell Trubisky booed at United Center during Bulls-Celtics game\n",
            "\n",
            "\n",
            "Clickbait title:   Watch the first 48 slides of all the 2017 NFL Draft action on our comprehensive Mock Draft page.\n",
            "________________________________________\n"
          ]
        },
        {
          "name": "stderr",
          "output_type": "stream",
          "text": [
            "\r5it [01:39, 20.42s/it]"
          ]
        },
        {
          "name": "stdout",
          "output_type": "stream",
          "text": [
            "\n",
            "\n",
            "Original title: It's Not Enough to Give Employees Flexible Work Schedules\n",
            "\n",
            "\n",
            "Clickbait title:   While many companies nowguarantee full-calorie hot snacks and health insurance, or have plans to offer on-the-spot-savings such as paid time off, many don't.\n",
            "________________________________________\n"
          ]
        },
        {
          "name": "stderr",
          "output_type": "stream",
          "text": [
            "\r6it [01:59, 20.29s/it]"
          ]
        },
        {
          "name": "stdout",
          "output_type": "stream",
          "text": [
            "\n",
            "\n",
            "Original title: Out Of 15 Lakh Registered Companies In India, 9 Lakh Don't File Returns! Money Laundering Suspected\n",
            "\n",
            "\n",
            "Clickbait title:   The Income-Tax authorities have crackerved as much as <unk> incomprehensible and  absurd statements from as many as nine outsourced tax officials, the Income-tax (I trite) department has revealed to the media, here.\n",
            "________________________________________\n"
          ]
        },
        {
          "name": "stderr",
          "output_type": "stream",
          "text": [
            "\r7it [02:19, 20.11s/it]"
          ]
        },
        {
          "name": "stdout",
          "output_type": "stream",
          "text": [
            "\n",
            "\n",
            "Original title: Tense moment plane lands without wheel\n",
            "\n",
            "\n",
            "Clickbait title:   A Florida businesswoman has described the moment she encountered a giant sucking sound, the consequences of which she describes as \"overwhelming\".\n",
            "________________________________________\n"
          ]
        },
        {
          "name": "stderr",
          "output_type": "stream",
          "text": [
            "\r8it [02:40, 20.36s/it]"
          ]
        },
        {
          "name": "stdout",
          "output_type": "stream",
          "text": [
            "\n",
            "\n",
            "Original title: Stars Who Got Their Start on Soap Operas\n",
            "\n",
            "\n",
            "Clickbait title:   Look back at some the best celebrity looks below. clavesaves a\n",
            "________________________________________\n"
          ]
        },
        {
          "name": "stderr",
          "output_type": "stream",
          "text": [
            "\r9it [02:59, 19.96s/it]"
          ]
        },
        {
          "name": "stdout",
          "output_type": "stream",
          "text": [
            "\n",
            "\n",
            "Original title: Trump: My first 100 days are 'just about the most successful' in US history \n",
            "\n",
            "\n",
            "Clickbait title:   President Donald Trump says the quickest-ever \"tidy-up to my incredibly hard-Rocket Man expense\", then adds: That being said, I would ask somebody, as Donald Trump did, what was 'that?\n",
            "________________________________________\n"
          ]
        },
        {
          "name": "stderr",
          "output_type": "stream",
          "text": [
            "\r10it [03:18, 19.93s/it]"
          ]
        },
        {
          "name": "stdout",
          "output_type": "stream",
          "text": [
            "\n",
            "\n",
            "Original title: U.S. wants more U.N. sanctions over North Korea’s nuclear arms, warns time is short\n",
            "\n",
            "\n",
            "Clickbait title:   The AssociatedPRObst:.. polices that exist\n",
            "________________________________________\n"
          ]
        },
        {
          "name": "stderr",
          "output_type": "stream",
          "text": [
            "\r11it [03:38, 19.92s/it]"
          ]
        },
        {
          "name": "stdout",
          "output_type": "stream",
          "text": [
            "\n",
            "\n",
            "Original title: Science Wants You To Dig Your Nose And Eat Those Boogers Because It's Healthy!\n",
            "\n",
            "\n",
            "Clickbait title:   Opinion - 'Odgy nose, snot'. more snot\n",
            "________________________________________\n"
          ]
        },
        {
          "name": "stderr",
          "output_type": "stream",
          "text": [
            "\r12it [03:58, 19.82s/it]"
          ]
        },
        {
          "name": "stdout",
          "output_type": "stream",
          "text": [
            "\n",
            "\n",
            "Original title: A Star Goldman Trader Goes Cold\n",
            "\n",
            "\n",
            "Clickbait title:   An assistant co- manager at one of Wall Street's best-known investment banks made a blockbuster bet on a collapsing company but it ended up boosting costs and causing similar losses to his own team.\n",
            "________________________________________\n"
          ]
        },
        {
          "name": "stderr",
          "output_type": "stream",
          "text": [
            "\r13it [04:18, 19.97s/it]"
          ]
        },
        {
          "name": "stdout",
          "output_type": "stream",
          "text": [
            "\n",
            "\n",
            "Original title: DMX Enters Rehab: Report\n",
            "\n",
            "\n",
            "Clickbait title:   DMX, considered one - and possibly the still only '100 percent Guet' hip-shaking MC - probably is not too happy about this news.\n",
            "________________________________________\n"
          ]
        },
        {
          "name": "stderr",
          "output_type": "stream",
          "text": [
            "\r14it [04:38, 19.82s/it]"
          ]
        },
        {
          "name": "stdout",
          "output_type": "stream",
          "text": [
            "\n",
            "\n",
            "Original title: Money is pouring into the world's hottest investment product at nearly a record-setting pace\n",
            "\n",
            "\n",
            "Clickbait title:   A surge in trust and faith to help bring thepromise for US-US conked out this minute, with both sides almost certain to come under pressure from the goings-on out in the open.\n",
            "________________________________________\n"
          ]
        },
        {
          "name": "stderr",
          "output_type": "stream",
          "text": [
            "\r15it [04:58, 20.07s/it]"
          ]
        },
        {
          "name": "stdout",
          "output_type": "stream",
          "text": [
            "\n",
            "\n",
            "Original title: ‘Wonder Woman,’ ‘Spider-Man’ and How Trailers Push the Familiar \n",
            "\n",
            "\n",
            "Clickbait title:   All photographs courtesy of Paramount Pictures... betterment a. modest, but steady step-grandchildren now\n",
            "________________________________________\n"
          ]
        },
        {
          "name": "stderr",
          "output_type": "stream",
          "text": [
            "\r16it [05:18, 19.92s/it]"
          ]
        },
        {
          "name": "stdout",
          "output_type": "stream",
          "text": [
            "\n",
            "\n",
            "Original title: Ariana Grande & Cashmere Cat Have Teamed Up for a Third Time: Listen to 'Quit'\n",
            "\n",
            "\n",
            "Clickbait title:   Ariana Grandins' long-predictions of a good, cheesy relationship continue  porn-perfectly, this time with a bang.\n",
            "________________________________________\n"
          ]
        },
        {
          "name": "stderr",
          "output_type": "stream",
          "text": [
            "\r17it [05:38, 19.83s/it]"
          ]
        },
        {
          "name": "stdout",
          "output_type": "stream",
          "text": [
            "\n",
            "\n",
            "Original title: Macron’s rise shows that extremism – whether left or right – is not inevitable\n",
            "\n",
            "\n",
            "Clickbait title:   Paul Whatley, editor and editor-in-chief a glances enviously) away, this time aimed at a former Top Table editor, at some perplexing difference between the politics of the respective countries.\n",
            "________________________________________\n"
          ]
        },
        {
          "name": "stderr",
          "output_type": "stream",
          "text": [
            "\r18it [05:57, 19.81s/it]"
          ]
        },
        {
          "name": "stdout",
          "output_type": "stream",
          "text": [
            "\n",
            "\n",
            "Original title: NFL Draft 2017: Projected Salary For Mitchell Trubisky And Other First-Round Picks\n",
            "\n",
            "\n",
            "Clickbait title:   The NFL is notorious for giving the first-round picks a big financial package that they will largely stick to, depending on where they fall on the deal totem pole.5),\"\n",
            "________________________________________\n"
          ]
        },
        {
          "name": "stderr",
          "output_type": "stream",
          "text": [
            "\r19it [06:17, 19.83s/it]"
          ]
        },
        {
          "name": "stdout",
          "output_type": "stream",
          "text": [
            "\n",
            "\n",
            "Original title: Pope Urges Egypt Imams to Teach And Preach Tolerance, Peace\n",
            "\n",
            "\n",
            "Clickbait title:   Pope Francis says all elements should be tackled in a fight against \"epidemics\" of extremism and hatred\n",
            "________________________________________\n"
          ]
        },
        {
          "name": "stderr",
          "output_type": "stream",
          "text": [
            "\r20it [06:37, 19.75s/it]"
          ]
        },
        {
          "name": "stdout",
          "output_type": "stream",
          "text": [
            "\n",
            "\n",
            "Original title: Job-Stealing Robots? Meet Your Maker\n",
            "\n",
            "\n",
            "Clickbait title:   Thousands of factory-based, high-earning, well paid workers, desperate.\"'',ed.ed.\n",
            "________________________________________\n"
          ]
        },
        {
          "name": "stderr",
          "output_type": "stream",
          "text": [
            "\r21it [06:58, 20.29s/it]"
          ]
        },
        {
          "name": "stdout",
          "output_type": "stream",
          "text": [
            "\n",
            "\n",
            "Original title: Barclays Net Profit Tumbles on Africa Write-Down \n",
            "\n",
            "\n",
            "Clickbait title:   Barclays shares are once known known either proudly, affectionately or unathletically.\n",
            "________________________________________\n"
          ]
        },
        {
          "name": "stderr",
          "output_type": "stream",
          "text": [
            "\r22it [07:19, 20.32s/it]"
          ]
        },
        {
          "name": "stdout",
          "output_type": "stream",
          "text": [
            "\n",
            "\n",
            "Original title: Chinese Smartphone Makers Are Catching Up With Apple\n",
            "\n",
            "\n",
            "Clickbait title:   The world's biggest smartphone makers - ranging from biggies such as Apple and Samsung...\n",
            "________________________________________\n"
          ]
        },
        {
          "name": "stderr",
          "output_type": "stream",
          "text": [
            "\r23it [07:40, 20.73s/it]"
          ]
        },
        {
          "name": "stdout",
          "output_type": "stream",
          "text": [
            "\n",
            "\n",
            "Original title: Trump's tax plan could cost an estimated $5.5 trillion\n",
            "\n",
            "\n",
            "Clickbait title:   The Daily Beast's Patrick S<unk>nsavie tweets that the plan for some sort of a lower corporateCopyright Entrepreneur Of The Year winning Occasionally...\n",
            "________________________________________\n"
          ]
        },
        {
          "name": "stderr",
          "output_type": "stream",
          "text": [
            "\r24it [07:59, 20.21s/it]"
          ]
        },
        {
          "name": "stdout",
          "output_type": "stream",
          "text": [
            "\n",
            "\n",
            "Original title: On Same Day Massive Layoffs Begin, ESPNW Celebrates Black Power Icon and Fugitive Cop Killer\n",
            "\n",
            "\n",
            "Clickbait title:   ESPN Women, the women’“-supportion hub owned \"objective, professional women who watch the world's top sports websites, news, culture, and lifestyle shows,\" went undercover for more than five weeks and revealed all in just one look\n",
            "________________________________________\n"
          ]
        },
        {
          "name": "stderr",
          "output_type": "stream",
          "text": [
            "\r25it [08:21, 20.53s/it]"
          ]
        },
        {
          "name": "stdout",
          "output_type": "stream",
          "text": [
            "\n",
            "\n",
            "Original title: Trump Says 'Major, Major' Conflict With North Korea Possible, But Seeks Diplomacy\n",
            "\n",
            "\n",
            "Clickbait title:   President: Donald \"Twiggy-mayParadise and certainly the <unk>ber-genius<unk> Donald Bed Donald Bed...\n",
            "________________________________________\n"
          ]
        },
        {
          "name": "stderr",
          "output_type": "stream",
          "text": [
            "\r26it [08:42, 20.74s/it]"
          ]
        },
        {
          "name": "stdout",
          "output_type": "stream",
          "text": [
            "\n",
            "\n",
            "Original title: 4 Ways Entrepreneurs Can Use Technology To Stay Fit On The Road\n",
            "\n",
            "\n",
            "Clickbait title:   Wearables, health assessments, and motivational messages have all helped several businessmen, women, and freelancers to maintain a healthy weight when they are away from home.\n",
            "________________________________________\n"
          ]
        },
        {
          "name": "stderr",
          "output_type": "stream",
          "text": [
            "\r27it [09:02, 20.61s/it]"
          ]
        },
        {
          "name": "stdout",
          "output_type": "stream",
          "text": [
            "\n",
            "\n",
            "Original title: 'I know he is alive': wife of Taiwan activist seized by China pleads for release\n",
            "\n",
            "\n",
            "Clickbait title:   The BBC'TMs Mark Fessy and the Guardian's Jon Sopel outline the case of a Taiwanese human rights activist who arrives in Beijing from Taiwan, disappears and is held for 35 days without charge - without trial.\n",
            "________________________________________\n"
          ]
        },
        {
          "name": "stderr",
          "output_type": "stream",
          "text": [
            "\r28it [09:22, 20.28s/it]"
          ]
        },
        {
          "name": "stdout",
          "output_type": "stream",
          "text": [
            "\n",
            "\n",
            "Original title: Special Immigrant Visa Worth Billions Faces D-Day\n",
            "\n",
            "\n",
            "Clickbait title:   The BBC' on-the-spot reporting has pointed out the absurdity set to unfold this 24 to 28 Days, as the most recently-applicable U.Other version of this story will apparently be de-listed as unworkable.\n",
            "________________________________________\n"
          ]
        },
        {
          "name": "stderr",
          "output_type": "stream",
          "text": [
            "\r29it [09:42, 20.22s/it]"
          ]
        },
        {
          "name": "stdout",
          "output_type": "stream",
          "text": [
            "\n",
            "\n",
            "Original title: Ranking 2017 draft's top 100 players\n",
            "\n",
            "\n",
            "Clickbait title:   The sports editor of USA Today, Ed We ISM, takes your turn explaining in detail his top 100 for the May swoonster.\n",
            "________________________________________\n"
          ]
        },
        {
          "name": "stderr",
          "output_type": "stream",
          "text": [
            "\r30it [10:04, 20.87s/it]"
          ]
        },
        {
          "name": "stdout",
          "output_type": "stream",
          "text": [
            "\n",
            "\n",
            "Original title: Udaipur Boy Kalpit Veerval Tops IIT Entrance Rankings, Scores 100% In JEE Mains\n",
            "\n",
            "\n",
            "Clickbait title:   Catch up on all the interesting stories from across the web.\n",
            "________________________________________\n"
          ]
        },
        {
          "name": "stderr",
          "output_type": "stream",
          "text": [
            "\r31it [10:26, 21.17s/it]"
          ]
        },
        {
          "name": "stdout",
          "output_type": "stream",
          "text": [
            "\n",
            "\n",
            "Original title: Airline Industry Experts Approve of United’s Policy Changes\n",
            "\n",
            "\n",
            "Clickbait title:   Key takeaways from the story, published on:]\n",
            "________________________________________\n"
          ]
        },
        {
          "name": "stderr",
          "output_type": "stream",
          "text": [
            "\r32it [10:47, 21.10s/it]"
          ]
        },
        {
          "name": "stdout",
          "output_type": "stream",
          "text": [
            "\n",
            "\n",
            "Original title: Obama's $400G Wall Street speech leaves liberal base stunned \n",
            "\n",
            "\n",
            "Clickbait title:   Among the Twitter users reacting to former US intelligence turned-vegan-turned-political-extremist Caitlin Driscoll's post about Former Secretary of State Clinton's $400,000 Wall Street speech last week:\n",
            "________________________________________\n"
          ]
        },
        {
          "name": "stderr",
          "output_type": "stream",
          "text": [
            "\r33it [11:10, 21.73s/it]"
          ]
        },
        {
          "name": "stdout",
          "output_type": "stream",
          "text": [
            "\n",
            "\n",
            "Original title: Jealous wife chops off her husband's PENIS with a pair of scissors after growing 'tired of his womanising'\n",
            "\n",
            "\n",
            "Clickbait title:   Philippine newspaper Inquirer reveals the incredible tale. and more/edo and more and more more and more and more datememe\n",
            "________________________________________\n"
          ]
        },
        {
          "name": "stderr",
          "output_type": "stream",
          "text": [
            "\r34it [11:31, 21.58s/it]"
          ]
        },
        {
          "name": "stdout",
          "output_type": "stream",
          "text": [
            "\n",
            "\n",
            "Original title: Circling Back to Voters, 100 Days Into Trump Era \n",
            "\n",
            "\n",
            "Clickbait title:   The AssociatedAdvantage has tracked down each one’s case, beginning with those who voted for President Hillary Clinton and who voted for Greg Trump.\n",
            "________________________________________\n"
          ]
        },
        {
          "name": "stderr",
          "output_type": "stream",
          "text": [
            "\r35it [11:52, 21.15s/it]"
          ]
        },
        {
          "name": "stdout",
          "output_type": "stream",
          "text": [
            "\n",
            "\n",
            "Original title: Trump eyes bid to split up 9th Circuit court amid sanctuary city, travel ban disputes \n",
            "\n",
            "\n",
            "Clickbait title:   There's a lot going on today here.s\n",
            "________________________________________\n"
          ]
        },
        {
          "name": "stderr",
          "output_type": "stream",
          "text": [
            "\r36it [12:11, 20.53s/it]"
          ]
        },
        {
          "name": "stdout",
          "output_type": "stream",
          "text": [
            "\n",
            "\n",
            "Original title: The Drumbeats Don’t Add Up to Imminent War With North Korea \n",
            "\n",
            "\n",
            "Clickbait title:   Over the past several days, as threatening comments between US and other North speakers and political statements from both sides have become increasingly bellicose, the opinions you've come to associate with these topics have ranged from dismissive to anxious.\n",
            "________________________________________\n"
          ]
        },
        {
          "name": "stderr",
          "output_type": "stream",
          "text": [
            "\r37it [12:31, 20.52s/it]"
          ]
        },
        {
          "name": "stdout",
          "output_type": "stream",
          "text": [
            "\n",
            "\n",
            "Original title: RNC Chair: GOP Base Will ‘Walk Away’ in Midterms If Border Wall Is Not Built\n",
            "\n",
            "\n",
            "Clickbait title:   The head of the biggest Republican NAA claimed on radio this goes for the party even in the context of this lame- hoax election, with one important twist. close\n",
            "________________________________________\n"
          ]
        },
        {
          "name": "stderr",
          "output_type": "stream",
          "text": [
            "\r38it [12:52, 20.58s/it]"
          ]
        },
        {
          "name": "stdout",
          "output_type": "stream",
          "text": [
            "\n",
            "\n",
            "Original title: United Takes Added Steps to Win Back Customers and Avoid More Ugly Events \n",
            "\n",
            "\n",
            "Clickbait title:   The Times' Kate Agers Superfund and Pat Purdy explain which US-and-Australian airlines are going full throttle on improving their passenger treatment efforts and how they look to stop another Dao-like incident.\n",
            "________________________________________\n"
          ]
        },
        {
          "name": "stderr",
          "output_type": "stream",
          "text": [
            "\r39it [13:11, 20.14s/it]"
          ]
        },
        {
          "name": "stdout",
          "output_type": "stream",
          "text": [
            "\n",
            "\n",
            "Original title: Top officials emphasize diplomatic, economic pressure on North Korea in briefing\n",
            "\n",
            "\n",
            "Clickbait title:   The BBC't Ashkan Dar <unk>mann takes these quotes, as gathered by BBC News from senior administration figures.\n",
            "________________________________________\n"
          ]
        },
        {
          "name": "stderr",
          "output_type": "stream",
          "text": [
            "\r40it [13:33, 20.78s/it]"
          ]
        },
        {
          "name": "stdout",
          "output_type": "stream",
          "text": [
            "\n",
            "\n",
            "Original title: UK helps Australian gay couples marry\n",
            "\n",
            "\n",
            "Clickbait title:   The BBC',\"<unk>.'\" judiciously \n",
            "________________________________________\n"
          ]
        },
        {
          "name": "stderr",
          "output_type": "stream",
          "text": [
            "\r41it [13:52, 20.29s/it]"
          ]
        },
        {
          "name": "stdout",
          "output_type": "stream",
          "text": [
            "\n",
            "\n",
            "Original title: Department Of Education Moves To Make Student Loan Process Easier While IRS Tool Is Down\n",
            "\n",
            "\n",
            "Clickbait title:   There's good news and bad news for students looking to gain a leg-up on their private- or large-flaked higher-sEducating, but you won't find the following facts about financial aid in the press.\n",
            "________________________________________\n"
          ]
        },
        {
          "name": "stderr",
          "output_type": "stream",
          "text": [
            "\r42it [14:16, 21.18s/it]"
          ]
        },
        {
          "name": "stdout",
          "output_type": "stream",
          "text": [
            "\n",
            "\n",
            "Original title: Undercover video of human organ traders\n",
            "\n",
            "\n",
            "Clickbait title:   Thousands of human organs are being being excreted and3/or hidden, either accidentally or under assumed circumstances, to help[...]]\n",
            "________________________________________\n"
          ]
        },
        {
          "name": "stderr",
          "output_type": "stream",
          "text": [
            "\r43it [14:36, 20.83s/it]"
          ]
        },
        {
          "name": "stdout",
          "output_type": "stream",
          "text": [
            "\n",
            "\n",
            "Original title: Turkey suspends more than 9,000 police officers over 'Gulen links'\n",
            "\n",
            "\n",
            "Clickbait title:   Read the full report in Details.attu,\n",
            "________________________________________\n"
          ]
        },
        {
          "name": "stderr",
          "output_type": "stream",
          "text": [
            "\r44it [14:57, 20.89s/it]"
          ]
        },
        {
          "name": "stdout",
          "output_type": "stream",
          "text": [
            "\n",
            "\n",
            "Original title: Turkish terrorism watch list includes over 400 suspected Australian jihadists\n",
            "\n",
            "\n",
            "Clickbait title:   Turkish officials have revealed to Australian media the strength...\n",
            "________________________________________\n"
          ]
        },
        {
          "name": "stderr",
          "output_type": "stream",
          "text": [
            "\r45it [15:17, 20.77s/it]"
          ]
        },
        {
          "name": "stdout",
          "output_type": "stream",
          "text": [
            "\n",
            "\n",
            "Original title: HSU accuses Guardian Property Services of exploiting its aged care facility cleaners\n",
            "\n",
            "\n",
            "Clickbait title:   A business has ordered aged-roopie cleaners to stay out of work until they are fullyrested, in a case described by the owner as'modern-day,' as the A$1.5 metre-high high-end item is emblazoned across\n",
            "________________________________________\n"
          ]
        },
        {
          "name": "stderr",
          "output_type": "stream",
          "text": [
            "\r46it [15:37, 20.40s/it]"
          ]
        },
        {
          "name": "stdout",
          "output_type": "stream",
          "text": [
            "\n",
            "\n",
            "Original title: 32-year-old Browns lineman Joe Thomas on already experiencing memory loss: 'Every profession' has 'some lasting effects ... the damage has already been done'\n",
            "\n",
            "\n",
            "Clickbait title:   Miami Dolphins' RayontaeThomas, just the 10  fastest manDFA, jokes he<unk> had nightmares about graduating from college, but he wasn<unk>'t going to ruin Team<unk> America's chance at an NFL title in the process.\n",
            "________________________________________\n"
          ]
        },
        {
          "name": "stderr",
          "output_type": "stream",
          "text": [
            "\r47it [15:57, 20.34s/it]"
          ]
        },
        {
          "name": "stdout",
          "output_type": "stream",
          "text": [
            "\n",
            "\n",
            "Original title: NBC NewsVerifizierter Account\n",
            "\n",
            "\n",
            "Clickbait title:   Anschlieg gegen<unk>berkommen sicherlich \"F<unk>r sich bedeutere Formerin <unk>ffentlicht', so Google, darunter o bald Suffrage porn?\n",
            "________________________________________\n"
          ]
        },
        {
          "name": "stderr",
          "output_type": "stream",
          "text": [
            "\r48it [16:19, 20.75s/it]"
          ]
        },
        {
          "name": "stdout",
          "output_type": "stream",
          "text": [
            "\n",
            "\n",
            "Original title: Congresswomen meet to discuss missing women of color \n",
            "\n",
            "\n",
            "Clickbait title:   Missing and murdered black woman and femme: An--expand\n",
            "________________________________________\n"
          ]
        },
        {
          "name": "stderr",
          "output_type": "stream",
          "text": [
            "\r49it [16:39, 20.76s/it]"
          ]
        },
        {
          "name": "stdout",
          "output_type": "stream",
          "text": [
            "\n",
            "\n",
            "Original title: The best-selling vehicle in every US state\n",
            "\n",
            "\n",
            "Clickbait title:   Fortune.com's Darren Kidd examines why states such as CT, LA, AK and AK seemingly have no trouble luring car buyers. and\n",
            "________________________________________\n"
          ]
        },
        {
          "name": "stderr",
          "output_type": "stream",
          "text": [
            "\r50it [17:00, 20.79s/it]"
          ]
        },
        {
          "name": "stdout",
          "output_type": "stream",
          "text": [
            "\n",
            "\n",
            "Original title: Artistic Prom Dress That Student Painted on Her Own Will Make You ‘Scream’ [Video]\n",
            "\n",
            "\n",
            "Clickbait title:   While you might think paying for a vintage prom dress would be prohibitively expensive, one 17-year-old has done it just the way most of us would.\n",
            "________________________________________\n"
          ]
        },
        {
          "name": "stderr",
          "output_type": "stream",
          "text": [
            "\r51it [17:21, 20.75s/it]"
          ]
        },
        {
          "name": "stdout",
          "output_type": "stream",
          "text": [
            "\n",
            "\n",
            "Original title: Fox On-Air Host Joins Racial-Bias Suit \n",
            "\n",
            "\n",
            "Clickbait title:   Fox News has never before employed a black CEO, presumably:ll.yler\n",
            "________________________________________\n"
          ]
        },
        {
          "name": "stderr",
          "output_type": "stream",
          "text": [
            "\r52it [17:42, 20.87s/it]"
          ]
        },
        {
          "name": "stdout",
          "output_type": "stream",
          "text": [
            "\n",
            "\n",
            "Original title: Latest Uber controversy sheds light on how companies use your emails\n",
            "\n",
            "\n",
            "Clickbait title:   Uber may have provoked a firestorm by appearing to collect customer information from emails, but there is one industry in which the use of personal data has become widespread.\n",
            "________________________________________\n"
          ]
        },
        {
          "name": "stderr",
          "output_type": "stream",
          "text": [
            "\r53it [18:01, 20.16s/it]"
          ]
        },
        {
          "name": "stdout",
          "output_type": "stream",
          "text": [
            "\n",
            "\n",
            "Original title: Groups File Ethics Complaints Over State Department’s Mar-a-Lago Blog Post\n",
            "\n",
            "\n",
            "Clickbait title:   The State Departing has said that a promotional email detailing a fact about the family home of the firstborn of the newborn family - the breastfed son of the baby girl who just died - - that appeared on its website was 'not directed by anyone\n",
            "________________________________________\n"
          ]
        },
        {
          "name": "stderr",
          "output_type": "stream",
          "text": [
            "\r54it [18:20, 19.78s/it]"
          ]
        },
        {
          "name": "stdout",
          "output_type": "stream",
          "text": [
            "\n",
            "\n",
            "Original title: Sara Evans Launches Born to Fly Records: No More 'Following the Rules of Anyone Else'\n",
            "\n",
            "\n",
            "Clickbait title:  Sara Evans has announced news hers which surprised one in particular - the news has it she's Establishing her own Records. on scaffolding\n",
            "________________________________________\n"
          ]
        },
        {
          "name": "stderr",
          "output_type": "stream",
          "text": [
            "\r55it [18:39, 19.68s/it]"
          ]
        },
        {
          "name": "stdout",
          "output_type": "stream",
          "text": [
            "\n",
            "\n",
            "Original title: Man Broadcasts Murder of Infant Daughter on Facebook, Then Kills Himself\n",
            "\n",
            "\n",
            "Clickbait title:   Facebook has said there is and anti-gravity message in some of they video tiles, but claimed there's always \"something more to it\" when it comes to posts about death.\n",
            "________________________________________\n"
          ]
        },
        {
          "name": "stderr",
          "output_type": "stream",
          "text": [
            "\r56it [18:58, 19.52s/it]"
          ]
        },
        {
          "name": "stdout",
          "output_type": "stream",
          "text": [
            "\n",
            "\n",
            "Original title: Mizoram CM Lal Thanhawla Says That Not Just Commoners, Even Politicians Across India Are Racist\n",
            "\n",
            "\n",
            "Clickbait title:   A senior leader of the governingCongress in the central state of-designedMature, however, has strongly defended Dr  Significantly, we have not used the word of the so-called senior leader.\n",
            "________________________________________\n"
          ]
        },
        {
          "name": "stderr",
          "output_type": "stream",
          "text": [
            "\r57it [19:18, 19.61s/it]"
          ]
        },
        {
          "name": "stdout",
          "output_type": "stream",
          "text": [
            "\n",
            "\n",
            "Original title: How coral of Great Barrier Reef could be saved by big, bright clouds\n",
            "\n",
            "\n",
            "Clickbait title:   Experts say coral in the Great\n",
            "________________________________________\n"
          ]
        },
        {
          "name": "stderr",
          "output_type": "stream",
          "text": [
            "\r58it [19:38, 19.60s/it]"
          ]
        },
        {
          "name": "stdout",
          "output_type": "stream",
          "text": [
            "\n",
            "\n",
            "Original title: Trump's Tariffs Bring Peso and Loonie Bears Back to Life\n",
            "\n",
            "\n",
            "Clickbait title:   Canada's andxico'sminates\n",
            "________________________________________\n"
          ]
        },
        {
          "name": "stderr",
          "output_type": "stream",
          "text": [
            "\r59it [19:57, 19.61s/it]"
          ]
        },
        {
          "name": "stdout",
          "output_type": "stream",
          "text": [
            "\n",
            "\n",
            "Original title: Are you buying the Yankees' hot start?\n",
            "\n",
            "\n",
            "Clickbait title:   We kick up our heels in anticipation of the highly anticipated 'best team on Earth, perhaps ever...' cover story which will be published after the All-Madness break thisMLB freeagent class..\n",
            "________________________________________\n"
          ]
        },
        {
          "name": "stderr",
          "output_type": "stream",
          "text": [
            "\r60it [20:18, 20.03s/it]"
          ]
        },
        {
          "name": "stdout",
          "output_type": "stream",
          "text": [
            "\n",
            "\n",
            "Original title: The 6 Biggest Credit Mistakes Millennials Are Making\n",
            "\n",
            "\n",
            "Clickbait title:   Here are six credit mistakes millennials need to be wary of... andfinances\n",
            "________________________________________\n"
          ]
        },
        {
          "name": "stderr",
          "output_type": "stream",
          "text": [
            "\r61it [20:39, 20.41s/it]"
          ]
        },
        {
          "name": "stdout",
          "output_type": "stream",
          "text": [
            "\n",
            "\n",
            "Original title: Partner of gay policeman murdered in latest Paris terror attack pays tribute as the victim is honoured at ceremony attended by Le Pen and Macron - still bitterly divided on how to deal with jihadist extremists\n",
            "\n",
            "\n",
            "Clickbait title:   TV APTN has a\n",
            "________________________________________\n"
          ]
        },
        {
          "name": "stderr",
          "output_type": "stream",
          "text": [
            "\r62it [20:59, 20.19s/it]"
          ]
        },
        {
          "name": "stdout",
          "output_type": "stream",
          "text": [
            "\n",
            "\n",
            "Original title: Dale Earnhardt Jr. retiring from NASCAR after 2017 season\n",
            "\n",
            "\n",
            "Clickbait title:   DaleJunior.com\n",
            "________________________________________\n"
          ]
        },
        {
          "name": "stderr",
          "output_type": "stream",
          "text": [
            "\r63it [21:20, 20.25s/it]"
          ]
        },
        {
          "name": "stdout",
          "output_type": "stream",
          "text": [
            "\n",
            "\n",
            "Original title: EXCLUSIVE – Clinton Sex Accusers Slam ‘Hypocritical’ Media over Bill O’Reilly Coverage\n",
            "\n",
            "\n",
            "Clickbait title:   Three women who accused the now-ouss removed US former Governor of Arkansas Bill Clinton of sexual assaults have hammered the news media and Dems for failing to punish him.\n",
            "________________________________________\n"
          ]
        },
        {
          "name": "stderr",
          "output_type": "stream",
          "text": [
            "\r64it [21:38, 19.83s/it]"
          ]
        },
        {
          "name": "stdout",
          "output_type": "stream",
          "text": [
            "\n",
            "\n",
            "Original title: 8 Habits That Make Millennials Stressed, Anxious And Unproductive\n",
            "\n",
            "\n",
            "Clickbait title:   anxiety, whether \"in your late 20s, 30s or 40s and how you fare in work and life could bedeviling your generation.\"\n",
            "________________________________________\n"
          ]
        },
        {
          "name": "stderr",
          "output_type": "stream",
          "text": [
            "\r65it [22:00, 20.36s/it]"
          ]
        },
        {
          "name": "stdout",
          "output_type": "stream",
          "text": [
            "\n",
            "\n",
            "Original title: Muslim Teen Can Finally Box In Her Hijab\n",
            "\n",
            "\n",
            "Clickbait title:   A Minnesotaadolescent is about to don an accessory she’s had to choose over the years: a stylish, hijab-worn boxing robe, to boot.\n",
            "________________________________________\n"
          ]
        },
        {
          "name": "stderr",
          "output_type": "stream",
          "text": [
            "\r66it [22:21, 20.53s/it]"
          ]
        },
        {
          "name": "stdout",
          "output_type": "stream",
          "text": [
            "\n",
            "\n",
            "Original title: Check out Antarctica's growing ice shelf crack from space\n",
            "\n",
            "\n",
            "Clickbait title:   Europe's space agency shares this distressing picture about what could soon become the biggest ice monster ever recorded.\n",
            "________________________________________\n"
          ]
        },
        {
          "name": "stderr",
          "output_type": "stream",
          "text": [
            "\r67it [22:41, 20.26s/it]"
          ]
        },
        {
          "name": "stdout",
          "output_type": "stream",
          "text": [
            "\n",
            "\n",
            "Original title: Literally Just 17 Dick Jokes That’ll Make You Laugh\n",
            "\n",
            "\n",
            "Clickbait title:   In honour of the US new hire, we asked people who have been in charge of cleaning up online, while in their previous employer and whom you know will be in touch.\n",
            "________________________________________\n"
          ]
        },
        {
          "name": "stderr",
          "output_type": "stream",
          "text": [
            "\r68it [23:01, 20.23s/it]"
          ]
        },
        {
          "name": "stdout",
          "output_type": "stream",
          "text": [
            "\n",
            "\n",
            "Original title: China bans religious names for Muslim babies in Xinjiang\n",
            "\n",
            "\n",
            "Clickbait title:   A special section of iVillage is live from 1 to 5 January with the top news stories from around the world.\n",
            "________________________________________\n"
          ]
        },
        {
          "name": "stderr",
          "output_type": "stream",
          "text": [
            "\r69it [23:21, 20.30s/it]"
          ]
        },
        {
          "name": "stdout",
          "output_type": "stream",
          "text": [
            "\n",
            "\n",
            "Original title: Shea Moisture Nixes Ad After Huge Backlash\n",
            "\n",
            "\n",
            "Clickbait title:   A new advert from a hair products company set to air on TV has been pulling from the Super-hyped watch of some 20 percentEthiopialian women because it features a pregnant white uterus and black woman whose hair tends to split, one of the symptoms\n",
            "________________________________________\n"
          ]
        },
        {
          "name": "stderr",
          "output_type": "stream",
          "text": [
            "\r70it [23:42, 20.45s/it]"
          ]
        },
        {
          "name": "stdout",
          "output_type": "stream",
          "text": [
            "\n",
            "\n",
            "Original title: 23 Extremely Thirsty Tweets About Chris Pratt That Get More Graphic The More You Scroll\n",
            "\n",
            "\n",
            "Clickbait title:   Join our Facebook and bepart of your favourite stories, videos, news clippings and more.\n",
            "________________________________________\n"
          ]
        },
        {
          "name": "stderr",
          "output_type": "stream",
          "text": [
            "\r71it [24:03, 20.52s/it]"
          ]
        },
        {
          "name": "stdout",
          "output_type": "stream",
          "text": [
            "\n",
            "\n",
            "Original title: Democrats open to more border security money to avoid funding standoff\n",
            "\n",
            "\n",
            "Clickbait title:   Democrats have stronglypush - but do not commit - against paying for the <unk>£15.3<unk>tronged<unk>US/Mexico border wall, senior Democratic lawmakers have indicated as they tried to avert a possible government shutdown this Friday.\n",
            "________________________________________\n"
          ]
        },
        {
          "name": "stderr",
          "output_type": "stream",
          "text": [
            "\r72it [24:22, 20.16s/it]"
          ]
        },
        {
          "name": "stdout",
          "output_type": "stream",
          "text": [
            "\n",
            "\n",
            "Original title: A painting stolen by Nazis is up for auction — despite a Jewish family’s demand for its return\n",
            "\n",
            "\n",
            "Clickbait title:   A Habsburg-classuousuous-denominator is trying to turn a prospective buyer away from placing a lucrative offer for a world-leading crime novel on the market for $3,000 an hour or $500 for one hour, in an ad campaign set up\n",
            "________________________________________\n"
          ]
        },
        {
          "name": "stderr",
          "output_type": "stream",
          "text": [
            "\r73it [24:42, 19.98s/it]"
          ]
        },
        {
          "name": "stdout",
          "output_type": "stream",
          "text": [
            "\n",
            "\n",
            "Original title: Taliban attacks U.S. base as Mattis flies into Afghanistan\n",
            "\n",
            "\n",
            "Clickbait title:   The BBC'- All photographs by Yaacov R<unk>ib\n",
            "________________________________________\n"
          ]
        },
        {
          "name": "stderr",
          "output_type": "stream",
          "text": [
            "\r74it [25:02, 20.17s/it]"
          ]
        },
        {
          "name": "stdout",
          "output_type": "stream",
          "text": [
            "\n",
            "\n",
            "Original title: Too Much Sugar Linked To Reduced Memory, Brain Volume\n",
            "\n",
            "\n",
            "Clickbait title:   Two more studies link added sugar in the kind we may still find innocuously included in sugary cocktails, drinks known affectionately as \"healthy drinks\", but which are not beneficial for health..\n",
            "________________________________________\n"
          ]
        },
        {
          "name": "stderr",
          "output_type": "stream",
          "text": [
            "\r75it [25:22, 20.20s/it]"
          ]
        },
        {
          "name": "stdout",
          "output_type": "stream",
          "text": [
            "\n",
            "\n",
            "Original title: New details on teacher's arrest, teen student's rescue at remote cabin\n",
            "\n",
            "\n",
            "Clickbait title:   Police say Tennessee science grad and teen girl Tad Crosty, were heading to a remote spot in a remote part of America before they were arrested, would decline\n",
            "________________________________________\n"
          ]
        },
        {
          "name": "stderr",
          "output_type": "stream",
          "text": [
            "\r76it [25:43, 20.39s/it]"
          ]
        },
        {
          "name": "stdout",
          "output_type": "stream",
          "text": [
            "\n",
            "\n",
            "Original title: Oman to Follow Abu Dhabi With Sovereign Fund Merger Plans\n",
            "\n",
            "\n",
            "Clickbait title:   The WallStarsEditorial team looks Universe - a new column - which I wrote last May, is probably one of the best-read columns you'll read this year.\n",
            "________________________________________\n"
          ]
        },
        {
          "name": "stderr",
          "output_type": "stream",
          "text": [
            "\r77it [26:04, 20.46s/it]"
          ]
        },
        {
          "name": "stdout",
          "output_type": "stream",
          "text": [
            "\n",
            "\n",
            "Original title: Prince William gets squirted by marathon runner, has the time of his life\n",
            "\n",
            "\n",
            "Clickbait title:   The Daily Telegraph, the world' (and occasional) weirdest newspaper, has recently had a rather interesting article up its sleeve.\n",
            "________________________________________\n"
          ]
        },
        {
          "name": "stderr",
          "output_type": "stream",
          "text": [
            "\r78it [26:26, 20.91s/it]"
          ]
        },
        {
          "name": "stdout",
          "output_type": "stream",
          "text": [
            "\n",
            "\n",
            "Original title: LafargeHolcim CEO's Resignation on Syria Creates Power Vacuum\n",
            "\n",
            "\n",
            "Clickbait title:   Lafarge Holcs biggest boss defect reaches EPFL!\n",
            "________________________________________\n"
          ]
        },
        {
          "name": "stderr",
          "output_type": "stream",
          "text": [
            "\r79it [26:47, 21.08s/it]"
          ]
        },
        {
          "name": "stdout",
          "output_type": "stream",
          "text": [
            "\n",
            "\n",
            "Original title: Seven-year-olds have the most expensive birthday parties with parents shelling out £188\n",
            "\n",
            "\n",
            "Clickbait title:   Parents splurge a average $210, with nearly a factor of one involving their seven-year-son.\n",
            "________________________________________\n"
          ]
        },
        {
          "name": "stderr",
          "output_type": "stream",
          "text": [
            "\r80it [27:07, 20.54s/it]"
          ]
        },
        {
          "name": "stdout",
          "output_type": "stream",
          "text": [
            "\n",
            "\n",
            "Original title: Surgeon General removed from post by Trump administration, replaced by deputy \n",
            "\n",
            "\n",
            "Clickbait title:   The US Surgeon Medical General was \"asked, the spokesperson said\",, which prompted doctors and doctors, physician sources suggest, contacted to be told \"he could not do his job\".\n",
            "________________________________________\n"
          ]
        },
        {
          "name": "stderr",
          "output_type": "stream",
          "text": [
            "\r81it [27:30, 21.28s/it]"
          ]
        },
        {
          "name": "stdout",
          "output_type": "stream",
          "text": [
            "\n",
            "\n",
            "Original title: Hunt on for missing 5-year-old California boy, father arrested \n",
            "\n",
            "\n",
            "Clickbait title:   A missing California 5-, uh... young man's apparently \"selective\" recollections of what might have happened to him led eventually to these exciting blog posts - below are the main points made by police so far.\n",
            "________________________________________\n"
          ]
        },
        {
          "name": "stderr",
          "output_type": "stream",
          "text": [
            "\r82it [27:50, 20.98s/it]"
          ]
        },
        {
          "name": "stdout",
          "output_type": "stream",
          "text": [
            "\n",
            "\n",
            "Original title: Y'all, The New \"Zelda\" Game Is So Freakin' Fun\n",
            "\n",
            "\n",
            "Clickbait title:   News, opinions and rants about gaming and video games, posted by users on the biggest gaming forum... Twitter: @ IDGAF @whatsupyoga and other contributions by\n",
            "________________________________________\n"
          ]
        },
        {
          "name": "stderr",
          "output_type": "stream",
          "text": [
            "\r83it [28:10, 20.72s/it]"
          ]
        },
        {
          "name": "stdout",
          "output_type": "stream",
          "text": [
            "\n",
            "\n",
            "Original title: S.E. Hinton’s \"The Outsiders,\" a teen classic, turns 50\n",
            "\n",
            "\n",
            "Clickbait title:   50 years ago, Robert “Butch”.\n",
            "________________________________________\n"
          ]
        },
        {
          "name": "stderr",
          "output_type": "stream",
          "text": [
            "\r84it [28:30, 20.43s/it]"
          ]
        },
        {
          "name": "stdout",
          "output_type": "stream",
          "text": [
            "\n",
            "\n",
            "Original title: DJ Khaled Confirms Nicki Minaj Is on 'Grateful'\n",
            "\n",
            "\n",
            "Clickbait title:   Check out the pictures and behind the scenes details on why DJs have finally revealed all the details on DJ Khaled's new album, set for release this summer - here'sa look at all the most talked-about posts from the world of music\n",
            "________________________________________\n"
          ]
        },
        {
          "name": "stderr",
          "output_type": "stream",
          "text": [
            "\r85it [28:52, 20.93s/it]"
          ]
        },
        {
          "name": "stdout",
          "output_type": "stream",
          "text": [
            "\n",
            "\n",
            "Original title: Pelosi: The Border Wall Is a ‘Sign of Weakness’ By Trump\n",
            "\n",
            "\n",
            "Clickbait title:   House Minority LeaderNancy Pelosi, is slamming President Donald Trump for trying to build a border wall.\n",
            "________________________________________\n"
          ]
        },
        {
          "name": "stderr",
          "output_type": "stream",
          "text": [
            "\r86it [29:13, 20.90s/it]"
          ]
        },
        {
          "name": "stdout",
          "output_type": "stream",
          "text": [
            "\n",
            "\n",
            "Original title: What the French elections mean for Brexit\n",
            "\n",
            "\n",
            "Clickbait title:   The campaign for the top job in the<unk> can you tell me my name\n",
            "________________________________________\n"
          ]
        },
        {
          "name": "stderr",
          "output_type": "stream",
          "text": [
            "\r87it [29:32, 20.52s/it]"
          ]
        },
        {
          "name": "stdout",
          "output_type": "stream",
          "text": [
            "\n",
            "\n",
            "Original title: Von Miller Rocks Fur Vest, Cowboy Hat and Bandana at Coachella Music Festival\n",
            "\n",
            "\n",
            "Clickbait title:   Denver Broncos star's defender and long  burn, uh...anime WR was there, and shared some thoughts on the new fashions trend - including his favourite way to mess with floral shirt and shorts.\n",
            "________________________________________\n"
          ]
        },
        {
          "name": "stderr",
          "output_type": "stream",
          "text": [
            "\r88it [29:55, 21.33s/it]"
          ]
        },
        {
          "name": "stdout",
          "output_type": "stream",
          "text": [
            "\n",
            "\n",
            "Original title: Julian Assange: US set to 'seek arrest of Wikileaks founder'\n",
            "\n",
            "\n",
            "Clickbait title:   Below arekey details from reports about US plans to arrest the head on the website Wikileaks - Julian Assange...\n",
            "________________________________________\n"
          ]
        },
        {
          "name": "stderr",
          "output_type": "stream",
          "text": [
            "\r89it [30:16, 21.09s/it]"
          ]
        },
        {
          "name": "stdout",
          "output_type": "stream",
          "text": [
            "\n",
            "\n",
            "Original title: 'They Almost Won Something': Gutfeld Jabs Dems for Celebrating GA Election Loss  Insider\n",
            "\n",
            "\n",
            "Clickbait title:   Fox devoted most of its broadcasts this weekend to something quite unusual - a rant about 'fake news,<unk>' or how far out-of-whack left-wing political pundits have become.\n",
            "________________________________________\n"
          ]
        },
        {
          "name": "stderr",
          "output_type": "stream",
          "text": [
            "\r90it [30:35, 20.58s/it]"
          ]
        },
        {
          "name": "stdout",
          "output_type": "stream",
          "text": [
            "\n",
            "\n",
            "Original title: Here Are the Highlights From the March for Science\n",
            "\n",
            "\n",
            "Clickbait title:   Thousands held \"the main global pro-science protest\" on Saturday, a day that was also filled with Hollywood glitz to coincide with Donald Trump's 100th day in the White House.\n",
            "________________________________________\n"
          ]
        },
        {
          "name": "stderr",
          "output_type": "stream",
          "text": [
            "\r91it [30:56, 20.59s/it]"
          ]
        },
        {
          "name": "stdout",
          "output_type": "stream",
          "text": [
            "\n",
            "\n",
            "Original title: 9 incredible ways we're using drones for social good\n",
            "\n",
            "\n",
            "Clickbait title:   Find out more about the uses of \" Drones?\"learning\n",
            "________________________________________\n"
          ]
        },
        {
          "name": "stderr",
          "output_type": "stream",
          "text": [
            "\r92it [31:16, 20.36s/it]"
          ]
        },
        {
          "name": "stdout",
          "output_type": "stream",
          "text": [
            "\n",
            "\n",
            "Original title: How The Shale Boom Turned The World Upside Down\n",
            "\n",
            "\n",
            "Clickbait title:   Governor Jack Dal control', plus '.' '.'.,'' that''. to a future once\n",
            "________________________________________\n"
          ]
        },
        {
          "name": "stderr",
          "output_type": "stream",
          "text": [
            "\r93it [31:37, 20.46s/it]"
          ]
        },
        {
          "name": "stdout",
          "output_type": "stream",
          "text": [
            "\n",
            "\n",
            "Original title: UN Gaza staffer out after allegations of Hamas ties \n",
            "\n",
            "\n",
            "Clickbait title:   A UN agency has \" parted\". 888-282-0476\n",
            "________________________________________\n"
          ]
        },
        {
          "name": "stderr",
          "output_type": "stream",
          "text": [
            "\r94it [31:56, 20.29s/it]"
          ]
        },
        {
          "name": "stdout",
          "output_type": "stream",
          "text": [
            "\n",
            "\n",
            "Original title: Funeral services held for Ohio victim of Facebook killer \n",
            "\n",
            "\n",
            "Clickbait title:   The big story inOhio thispast week was Steve IS-Weighs, an obviously off-camera mugg shot a nice man and posted a video of it on Facebook.\n",
            "________________________________________\n"
          ]
        },
        {
          "name": "stderr",
          "output_type": "stream",
          "text": [
            "\r95it [32:17, 20.39s/it]"
          ]
        },
        {
          "name": "stdout",
          "output_type": "stream",
          "text": [
            "\n",
            "\n",
            "Original title: North Korea warns Australia of possible nuclear strike if it 'blindly toes US line'\n",
            "\n",
            "\n",
            "Clickbait title:   A guide to stories and quotes from around the internet this week.\n",
            "________________________________________\n"
          ]
        },
        {
          "name": "stderr",
          "output_type": "stream",
          "text": [
            "\r96it [32:37, 20.28s/it]"
          ]
        },
        {
          "name": "stdout",
          "output_type": "stream",
          "text": [
            "\n",
            "\n",
            "Original title: Nearing 100 days, Trump’s approval at record lows but his base is holding\n",
            "\n",
            "\n",
            "Clickbait title:   The Washington-Answers.de news website posts our pieces, which cover the latestPolls and much more.....\n",
            "________________________________________\n"
          ]
        },
        {
          "name": "stderr",
          "output_type": "stream",
          "text": [
            "\r97it [32:58, 20.35s/it]"
          ]
        },
        {
          "name": "stdout",
          "output_type": "stream",
          "text": [
            "\n",
            "\n",
            "Original title: Shawn Mendes Drops Feisty New Single 'There's Nothing Holdin' Me Back'\n",
            "\n",
            "\n",
            "Clickbait title:   Check out \"There<unk>!\"\n",
            "________________________________________\n"
          ]
        },
        {
          "name": "stderr",
          "output_type": "stream",
          "text": [
            "\r98it [33:19, 20.59s/it]"
          ]
        },
        {
          "name": "stdout",
          "output_type": "stream",
          "text": [
            "\n",
            "\n",
            "Original title: The First House Antoni Gaudí Ever Designed Is Now An Incredible Museum\n",
            "\n",
            "\n",
            "Clickbait title:   From the BBCs--...--\n",
            "________________________________________\n"
          ]
        },
        {
          "name": "stderr",
          "output_type": "stream",
          "text": [
            "\r99it [33:29, 17.52s/it]"
          ]
        },
        {
          "name": "stdout",
          "output_type": "stream",
          "text": [
            "\n",
            "\n",
            "Original title: Vacation’s Over: Obama Returns to Public Life Next Week \n",
            "\n",
            "\n",
            "Clickbait title:   Politico has reported,'former Associated Press top ”  ­­­­­­­­­­­­­­­­­­­­­­­­­­­­­­­­­­­­\n",
            "________________________________________\n"
          ]
        },
        {
          "name": "stderr",
          "output_type": "stream",
          "text": [
            "\r100it [33:50, 18.39s/it]"
          ]
        },
        {
          "name": "stdout",
          "output_type": "stream",
          "text": [
            "\n",
            "\n",
            "Original title: Hackers Tricking Japan's Mobile Gamers With Offers of Fake Fantasy Cash\n",
            "\n",
            "\n",
            "Clickbait title:   In the world of online gaming, phishing emails and malicious software, the message can often appear alike.\n",
            "________________________________________\n"
          ]
        },
        {
          "name": "stderr",
          "output_type": "stream",
          "text": [
            "\r101it [34:10, 19.01s/it]"
          ]
        },
        {
          "name": "stdout",
          "output_type": "stream",
          "text": [
            "\n",
            "\n",
            "Original title: Harry, Niall or Zayn: Which 1D Star's Debut Solo Song Fared the Best?\n",
            "\n",
            "\n",
            "Clickbait title:   On each of the past nine weeks that we've featured a post-Last One R...\", whatever it has anything to say about. has every right to be there.\"\n",
            "________________________________________\n"
          ]
        },
        {
          "name": "stderr",
          "output_type": "stream",
          "text": [
            "\r102it [34:35, 20.95s/it]"
          ]
        },
        {
          "name": "stdout",
          "output_type": "stream",
          "text": [
            "\n",
            "\n",
            "Original title: Scores of firefighters tackle warehouse blaze in east London\n",
            "\n",
            "\n",
            "Clickbait title:   Fire crews in the... spread across a single-floor warehouse containing... about... 100,000 waste and equipment.\n",
            "________________________________________\n"
          ]
        },
        {
          "name": "stderr",
          "output_type": "stream",
          "text": [
            "\r103it [34:55, 20.62s/it]"
          ]
        },
        {
          "name": "stdout",
          "output_type": "stream",
          "text": [
            "\n",
            "\n",
            "Original title: Financial Spring Cleaning: Which Employee Benefit Forms To Keep And Which To Toss\n",
            "\n",
            "\n",
            "Clickbait title:   How do you Tidy up and store sensitive documents?Proper shredders are recommended for a variety of applications, including but\n",
            "________________________________________\n"
          ]
        },
        {
          "name": "stderr",
          "output_type": "stream",
          "text": [
            "\r104it [35:17, 20.82s/it]"
          ]
        },
        {
          "name": "stdout",
          "output_type": "stream",
          "text": [
            "\n",
            "\n",
            "Original title: Trump's America Karen Pence: The Second Lady of the United States on her passion for art therapy\n",
            "\n",
            "\n",
            "Clickbait title:   The United States' Second BeatPink wife, the Very Poop-Couple-Retiree, FirstLady of the Satanic Electronic Lords, probably played a part in it all...\n",
            "________________________________________\n"
          ]
        },
        {
          "name": "stderr",
          "output_type": "stream",
          "text": [
            "\r105it [35:36, 20.48s/it]"
          ]
        },
        {
          "name": "stdout",
          "output_type": "stream",
          "text": [
            "\n",
            "\n",
            "Original title: A young prince is reimagining Saudi Arabia. Can he make his vision come true?\n",
            "\n",
            "\n",
            "Clickbait title:   The Washington Correspondent's Office, Is it?\n",
            "________________________________________\n"
          ]
        },
        {
          "name": "stderr",
          "output_type": "stream",
          "text": [
            "\r106it [35:57, 20.60s/it]"
          ]
        },
        {
          "name": "stdout",
          "output_type": "stream",
          "text": [
            "\n",
            "\n",
            "Original title: A vending machine at the UC Davis campus dispenses Plan B pills\n",
            "\n",
            "\n",
            "Clickbait title:   A University of America campusorium is selling sex-plangar-without caffeine - or Plan B, your alternative to the pills.\n",
            "________________________________________\n"
          ]
        },
        {
          "name": "stderr",
          "output_type": "stream",
          "text": [
            "\r107it [36:17, 20.45s/it]"
          ]
        },
        {
          "name": "stdout",
          "output_type": "stream",
          "text": [
            "\n",
            "\n",
            "Original title: Harry, Niall or Zayn: Which 1D Star's Debut Solo Song Fared the Best?\n",
            "\n",
            "\n",
            "Clickbait title:   Since One Direction ended in mid-suspended, the other four members each made a few hop-ons to the radio with a different type of cutting. conclusion.\n",
            "________________________________________\n"
          ]
        },
        {
          "name": "stderr",
          "output_type": "stream",
          "text": [
            "\r108it [36:36, 19.91s/it]"
          ]
        },
        {
          "name": "stdout",
          "output_type": "stream",
          "text": [
            "\n",
            "\n",
            "Original title: Bloodbath In Afghanistan As Taliban Kill At Least 140 Afghan Soldiers At Military Base\n",
            "\n",
            "\n",
            "Clickbait title:   More than 50 soldiers have been deliberately \"engendering\" in their meals and making mistakes by taking their eyes off their intended target, the highest civilian single-serving role such a situation has ever played in a single attack in the long-running\n",
            "________________________________________\n"
          ]
        },
        {
          "name": "stderr",
          "output_type": "stream",
          "text": [
            "\r109it [36:56, 19.84s/it]"
          ]
        },
        {
          "name": "stdout",
          "output_type": "stream",
          "text": [
            "\n",
            "\n",
            "Original title: Prosthetic arm designed by undergrads lets girl play violin \n",
            "\n",
            "\n",
            "Clickbait title:   This feature was uploaded by the George Journal significant\n",
            "________________________________________\n"
          ]
        },
        {
          "name": "stderr",
          "output_type": "stream",
          "text": [
            "\r110it [37:17, 20.19s/it]"
          ]
        },
        {
          "name": "stdout",
          "output_type": "stream",
          "text": [
            "\n",
            "\n",
            "Original title: Mars rover embarks on new mission\n",
            "\n",
            "\n",
            "Clickbait title:   For the latest newsround- the-world, subscribe to our RSS feed,'\n",
            "________________________________________\n"
          ]
        },
        {
          "name": "stderr",
          "output_type": "stream",
          "text": [
            "\r111it [37:39, 20.97s/it]"
          ]
        },
        {
          "name": "stdout",
          "output_type": "stream",
          "text": [
            "\n",
            "\n",
            "Original title: What to watch for in the first round of the French presidential election\n",
            "\n",
            "\n",
            "Clickbait title:   France votes on 24 idiopathicly toelect a stranger to the nation?”\n",
            "________________________________________\n"
          ]
        },
        {
          "name": "stderr",
          "output_type": "stream",
          "text": [
            "\r112it [37:59, 20.50s/it]"
          ]
        },
        {
          "name": "stdout",
          "output_type": "stream",
          "text": [
            "\n",
            "\n",
            "Original title: Truck drags car along highway after California highway collision\n",
            "\n",
            "\n",
            "Clickbait title:   Dramatic video of a drivers' car being dragged down a road with a semi-trailer full of fruit has been shared on YouTube and, as the Times website reports,'seen over 5 million times'.6).?\n",
            "________________________________________\n"
          ]
        },
        {
          "name": "stderr",
          "output_type": "stream",
          "text": [
            "\r113it [38:18, 20.14s/it]"
          ]
        },
        {
          "name": "stdout",
          "output_type": "stream",
          "text": [
            "\n",
            "\n",
            "Original title: Why everyone's laughing at this $400 juicer\n",
            "\n",
            "\n",
            "Clickbait title:   Reuters' Darren Price has this article about the ire a small Santa Claus-like start-up Juicero received over the days. <unk>\n",
            "________________________________________\n"
          ]
        },
        {
          "name": "stderr",
          "output_type": "stream",
          "text": [
            "\r114it [38:37, 19.82s/it]"
          ]
        },
        {
          "name": "stdout",
          "output_type": "stream",
          "text": [
            "\n",
            "\n",
            "Original title: Justice Dept threatens sanctuary cities in immigration fight \n",
            "\n",
            "\n",
            "Clickbait title:   The links below contribute to a greater sense of shared interest in what the latest administration message of growing threats to so-called sanctuarycity \"sanctuary cities\" mean for us all.\n",
            "________________________________________\n"
          ]
        },
        {
          "name": "stderr",
          "output_type": "stream",
          "text": [
            "\r115it [38:58, 20.13s/it]"
          ]
        },
        {
          "name": "stdout",
          "output_type": "stream",
          "text": [
            "\n",
            "\n",
            "Original title: Do You Think You Can Find The Rock Under A Rock?\n",
            "\n",
            "\n",
            "Clickbait title:   A gallery of user-driven memes from the past 24 hours: () on more\n",
            "________________________________________\n"
          ]
        },
        {
          "name": "stderr",
          "output_type": "stream",
          "text": [
            "\r116it [39:19, 20.50s/it]"
          ]
        },
        {
          "name": "stdout",
          "output_type": "stream",
          "text": [
            "\n",
            "\n",
            "Original title: Sears Names Second CFO in Seven Months as Retailer Struggles With Turnaround \n",
            "\n",
            "\n",
            "Clickbait title:   Wall StreetReportersReview takes your round-up of the most pressing stories to come out of the retail world this week.\n",
            "________________________________________\n"
          ]
        },
        {
          "name": "stderr",
          "output_type": "stream",
          "text": [
            "\r117it [39:40, 20.67s/it]"
          ]
        },
        {
          "name": "stdout",
          "output_type": "stream",
          "text": [
            "\n",
            "\n",
            "Original title: Chris Brown Gets Real About Drugs, Rihanna, And More In New Documentary\n",
            "\n",
            "\n",
            "Clickbait title:   Some of the most easter egg-filled comments from our vast Twitter audience on news of Chris Chris's 50th birthday on Tuesday...........\n",
            "________________________________________\n"
          ]
        },
        {
          "name": "stderr",
          "output_type": "stream",
          "text": [
            "\r118it [40:01, 20.64s/it]"
          ]
        },
        {
          "name": "stdout",
          "output_type": "stream",
          "text": [
            "\n",
            "\n",
            "Original title: Marcus Mariota May Be Ready to Do What No Pick Can: Make the Titans Super\n",
            "\n",
            "\n",
            "Clickbait title:   Marcus Mariota, Jeremy Maclin, Brian Biletnikoff, Jake Waters.\n",
            "________________________________________\n"
          ]
        },
        {
          "name": "stderr",
          "output_type": "stream",
          "text": [
            "\r119it [40:22, 20.74s/it]"
          ]
        },
        {
          "name": "stdout",
          "output_type": "stream",
          "text": [
            "\n",
            "\n",
            "Original title: New York Orthodox Jewish families refuse to identify circumcisers who gave babies herpes\n",
            "\n",
            "\n",
            "Clickbait title:   An investigation into who would lead to the birth of children with a serious herpes-like infection is believed to have collapsed after... Yeshiva.\n",
            "________________________________________\n"
          ]
        },
        {
          "name": "stderr",
          "output_type": "stream",
          "text": [
            "\r120it [40:42, 20.39s/it]"
          ]
        },
        {
          "name": "stdout",
          "output_type": "stream",
          "text": [
            "\n",
            "\n",
            "Original title: Google Earth's new feature shows lost civilisations from space\n",
            "\n",
            "\n",
            "Clickbait title:   \"The world is littered with these landscapes - empty, abandoned abandoned spaces where ancient civilizations once lived. profwfprfaprstProf\"\n",
            "________________________________________\n"
          ]
        },
        {
          "name": "stderr",
          "output_type": "stream",
          "text": [
            "\r121it [41:02, 20.35s/it]"
          ]
        },
        {
          "name": "stdout",
          "output_type": "stream",
          "text": [
            "\n",
            "\n",
            "Original title: How Trudeau Is (Kind of) Legalizing Pot in Canada\n",
            "\n",
            "\n",
            "Clickbait title:   Don't panic, illegal smokers.\n",
            "________________________________________\n"
          ]
        },
        {
          "name": "stderr",
          "output_type": "stream",
          "text": [
            "\r122it [41:20, 19.78s/it]"
          ]
        },
        {
          "name": "stdout",
          "output_type": "stream",
          "text": [
            "\n",
            "\n",
            "Original title: Billboard Dance Chart Upstarts: Kato & Sigala, Scotty Boy & Lizzie Curious and Arca\n",
            "\n",
            "\n",
            "Clickbait title:   Dance music DJ K/VA, in character from the TV Land US Dad sitcoms Moonlight Brown Bear Trouble and Dreyfoos King, does something unusual this week and plays a huge part in many dance radio playlists: he spends all week at\n",
            "________________________________________\n"
          ]
        },
        {
          "name": "stderr",
          "output_type": "stream",
          "text": [
            "\r123it [41:43, 20.64s/it]"
          ]
        },
        {
          "name": "stdout",
          "output_type": "stream",
          "text": [
            "\n",
            "\n",
            "Original title: Every ’90s Girl Is Going To Scream, “OMG WHAT!?” Over This Iconic Shoe Re-Release\n",
            "\n",
            "\n",
            "Clickbait title:   A round-up of the day's most- read Rich snippets from BuzzFeed news, video and bloggers. like this\n",
            "________________________________________\n"
          ]
        },
        {
          "name": "stderr",
          "output_type": "stream",
          "text": [
            "\r124it [42:03, 20.50s/it]"
          ]
        },
        {
          "name": "stdout",
          "output_type": "stream",
          "text": [
            "\n",
            "\n",
            "Original title: Report: Shooting In Paris Kills At Least One Police Officer On Champs Elysee\n",
            "\n",
            "\n",
            "Clickbait title:   A guide to the key stories and information to track over the course of the weekend's much-watched and tightly-fought, nerve-shredding, long-drawn, familial, multi-partyFrenchpresidential election.\n",
            "________________________________________\n"
          ]
        },
        {
          "name": "stderr",
          "output_type": "stream",
          "text": [
            "\r125it [42:23, 20.45s/it]"
          ]
        },
        {
          "name": "stdout",
          "output_type": "stream",
          "text": [
            "\n",
            "\n",
            "Original title: Interactive map: Where weed is legal in the U.S. [Video]\n",
            "\n",
            "\n",
            "Clickbait title:   TheUS National Institute for the Abuse and Destruction of Marriage says more than half of the United States still classifies marijuana as an illegal drug.\n",
            "________________________________________\n"
          ]
        },
        {
          "name": "stderr",
          "output_type": "stream",
          "text": [
            "\r126it [42:43, 20.22s/it]"
          ]
        },
        {
          "name": "stdout",
          "output_type": "stream",
          "text": [
            "\n",
            "\n",
            "Original title: These 10 Home Cutting-Edge Solutions Can Save You Thousands Of Dollars Every Year\n",
            "\n",
            "\n",
            "Clickbait title:   Blink Home Security has a list (a little help from a stranger) of everyday home conveniences you can do to save money on your household bills.\n",
            "________________________________________\n"
          ]
        },
        {
          "name": "stderr",
          "output_type": "stream",
          "text": [
            "\r127it [43:03, 20.12s/it]"
          ]
        },
        {
          "name": "stdout",
          "output_type": "stream",
          "text": [
            "\n",
            "\n",
            "Original title: Verizon, for First Time, Loses Core Wireless Customers \n",
            "\n",
            "\n",
            "Clickbait title:   In case you didn’t get the memo, telecom giant Verizon reported it lost another net customer in the first three months of this year - a fact widely reported by the media in reports filed after the market closed on New Year’s Eve,\n",
            "________________________________________\n"
          ]
        },
        {
          "name": "stderr",
          "output_type": "stream",
          "text": [
            "\r128it [43:25, 20.58s/it]"
          ]
        },
        {
          "name": "stdout",
          "output_type": "stream",
          "text": [
            "\n",
            "\n",
            "Original title: Destinations The fascinating hidden history of London's lost rivers\n",
            "\n",
            "\n",
            "Clickbait title:   The mayor of (to) an eye-catching array of stunning frockalikes, dramatic frock shoes - all designed by the dashing and cutting-edge Mr fastidioushimself (yes) - and faultless headgear in the most resplendent of outfits - and then\n",
            "________________________________________\n"
          ]
        },
        {
          "name": "stderr",
          "output_type": "stream",
          "text": [
            "\r129it [43:44, 20.15s/it]"
          ]
        },
        {
          "name": "stdout",
          "output_type": "stream",
          "text": [
            "\n",
            "\n",
            "Original title: Conor McGregor Could Make a Sh*t Ton of Money in Floyd Mayweather Fight\n",
            "\n",
            "\n",
            "Clickbait title:   When a sport' for the very top uses some rather bizarre media relations stuff when it comes to things like this, you know there'sien gonna get people to start pulling back from doing idiotic things..\n",
            "________________________________________\n"
          ]
        },
        {
          "name": "stderr",
          "output_type": "stream",
          "text": [
            "\r130it [44:03, 19.98s/it]"
          ]
        },
        {
          "name": "stdout",
          "output_type": "stream",
          "text": [
            "\n",
            "\n",
            "Original title: This fraternity wanted to hold a ‘Bad(minton) and Boujee’ event. Now it’s been canceled.\n",
            "\n",
            "\n",
            "Clickbait title:   A fraternity in the world’s capital is forced to cancel an all over the place philanthropic event, over which it may have been entitled; and an official deems its nefarious name part of a bad joke.\n",
            "________________________________________\n"
          ]
        },
        {
          "name": "stderr",
          "output_type": "stream",
          "text": [
            "\r131it [44:24, 20.33s/it]"
          ]
        },
        {
          "name": "stdout",
          "output_type": "stream",
          "text": [
            "\n",
            "\n",
            "Original title: This baby killer whale is the last one born at SeaWorld\n",
            "\n",
            "\n",
            "Clickbait title:   It's an emotional event for many, but for one killer, it won't be a good headache.\n",
            "________________________________________\n"
          ]
        },
        {
          "name": "stderr",
          "output_type": "stream",
          "text": [
            "\r132it [44:44, 20.14s/it]"
          ]
        },
        {
          "name": "stdout",
          "output_type": "stream",
          "text": [
            "\n",
            "\n",
            "Original title: Maher: I Don’t See a Lot of Dems ‘Who Have Learned the Lesson’ of 2016\n",
            "\n",
            "\n",
            "Clickbait title:   Bill Maher told a live audience in an interview with ATTN Broadcasting and HBO's The State of the US Interview that he didn't see a lot of Democrats “who have learned the lesson\" from the 2016 election and lambasted those who\n",
            "________________________________________\n"
          ]
        },
        {
          "name": "stderr",
          "output_type": "stream",
          "text": [
            "\r133it [45:07, 20.90s/it]"
          ]
        },
        {
          "name": "stdout",
          "output_type": "stream",
          "text": [
            "\n",
            "\n",
            "Original title: 21 Really Cute Tattoos That Are Perfect For Couples\n",
            "\n",
            "\n",
            "Clickbait title:   One of BuzzFeed's senior journalists, Will BartholomewInfluenced, explains why the idea for Out Loud so perfectly matches with the rest of the BuzzFeed homepage's main point.\n",
            "________________________________________\n"
          ]
        },
        {
          "name": "stderr",
          "output_type": "stream",
          "text": [
            "\r134it [45:27, 20.56s/it]"
          ]
        },
        {
          "name": "stdout",
          "output_type": "stream",
          "text": [
            "\n",
            "\n",
            "Original title: US Navy makes distributing nude photos without consent a punishable offense \n",
            "\n",
            "\n",
            "Clickbait title:   The Pentagon has said the most high-remuntered and most highly mobile in America may have committed serious acts of sexual inappropriateness.\n",
            "________________________________________\n"
          ]
        },
        {
          "name": "stderr",
          "output_type": "stream",
          "text": [
            "\r135it [45:48, 20.66s/it]"
          ]
        },
        {
          "name": "stdout",
          "output_type": "stream",
          "text": [
            "\n",
            "\n",
            "Original title: 33 First Times Every Woman Has Experienced\n",
            "\n",
            "\n",
            "Clickbait title:   Here are some of the most common questions women ask in social media about their firstexistent crushes.\n",
            "________________________________________\n"
          ]
        },
        {
          "name": "stderr",
          "output_type": "stream",
          "text": [
            "\r136it [46:11, 21.36s/it]"
          ]
        },
        {
          "name": "stdout",
          "output_type": "stream",
          "text": [
            "\n",
            "\n",
            "Original title: House Oversight Chairman Jason Chaffetz won't seek re-election \n",
            "\n",
            "\n",
            "Clickbait title:   The chairman of a key body overseeing how US Congress handles classified information is stepping down.?... glo\n",
            "________________________________________\n"
          ]
        },
        {
          "name": "stderr",
          "output_type": "stream",
          "text": [
            "\r137it [46:32, 21.39s/it]"
          ]
        },
        {
          "name": "stdout",
          "output_type": "stream",
          "text": [
            "\n",
            "\n",
            "Original title: Russian thinktank gameplanned undermining of US election, sources say\n",
            "\n",
            "\n",
            "Clickbait title:   US media outlines key facts and source of credence believed to lie with report from former top US foreign and intelligence official.\n",
            "________________________________________\n"
          ]
        },
        {
          "name": "stderr",
          "output_type": "stream",
          "text": [
            "\r138it [46:54, 21.54s/it]"
          ]
        },
        {
          "name": "stdout",
          "output_type": "stream",
          "text": [
            "\n",
            "\n",
            "Original title: More Than 25 Billionaires Poured Millions Into Trump's Inaugural Committee\n",
            "\n",
            "\n",
            "Clickbait title:   According to a report released this week by the Department of the FoodMSA and funded by the federal campaign finance commission......\n",
            "________________________________________\n"
          ]
        },
        {
          "name": "stderr",
          "output_type": "stream",
          "text": [
            "\r139it [47:15, 21.31s/it]"
          ]
        },
        {
          "name": "stdout",
          "output_type": "stream",
          "text": [
            "\n",
            "\n",
            "Original title: NBC NewsVerifizierter Account\n",
            "\n",
            "\n",
            "Clickbait title:   All photos by Alessandro M Berrutioso / Getty Imagesphotography by Riccardo De Luca, AFP Fotos.\n",
            "________________________________________\n"
          ]
        },
        {
          "name": "stderr",
          "output_type": "stream",
          "text": [
            "\r140it [47:33, 20.46s/it]"
          ]
        },
        {
          "name": "stdout",
          "output_type": "stream",
          "text": [
            "\n",
            "\n",
            "Original title: Getting Over Hillary\n",
            "\n",
            "\n",
            "Clickbait title:   In our series from the 2015 World Policy Research Summit, author and government relations professor at the Washington DC Council David Pombo explains explains why the winner of the race in the race for the highest position in the land in the face of adversity had an\n",
            "________________________________________\n"
          ]
        },
        {
          "name": "stderr",
          "output_type": "stream",
          "text": [
            "\r141it [47:53, 20.37s/it]"
          ]
        },
        {
          "name": "stdout",
          "output_type": "stream",
          "text": [
            "\n",
            "\n",
            "Original title: Meet Cannabrand: The first ever marijuana marketing brand\n",
            "\n",
            "\n",
            "Clickbait title:   With states appearing to be ready-to-treat thedronil: thedronil or finely pre<unk>um, the word is just getting more overused.\n",
            "________________________________________\n"
          ]
        },
        {
          "name": "stderr",
          "output_type": "stream",
          "text": [
            "\r142it [48:12, 19.96s/it]"
          ]
        },
        {
          "name": "stdout",
          "output_type": "stream",
          "text": [
            "\n",
            "\n",
            "Original title: Mallorca diver survives 60 hours in air bubble\n",
            "\n",
            "\n",
            "Clickbait title:   A Spanish specialist who was cut off from the outside and stuck alone in a multi-coloured bubble for nearly a week in a Spanish deep-s fortier - despite having only a second's worth of storedoxygen in his body.\n",
            "________________________________________\n"
          ]
        },
        {
          "name": "stderr",
          "output_type": "stream",
          "text": [
            "\r143it [48:33, 20.16s/it]"
          ]
        },
        {
          "name": "stdout",
          "output_type": "stream",
          "text": [
            "\n",
            "\n",
            "Original title: Newtown schools ask Trump to reject conspiracy theorists \n",
            "\n",
            "\n",
            "Clickbait title:   You may enjoy our feature on the school board's correspondence to then-US-Directory.com owner.\n",
            "________________________________________\n"
          ]
        },
        {
          "name": "stderr",
          "output_type": "stream",
          "text": [
            "\r144it [48:54, 20.35s/it]"
          ]
        },
        {
          "name": "stdout",
          "output_type": "stream",
          "text": [
            "\n",
            "\n",
            "Original title: Democrat Narrowly Misses Outright Win in Georgia House Race \n",
            "\n",
            "\n",
            "Clickbait title:   Political intrigue is nothing new, but this is the first time it has given real force to a political query.\n",
            "________________________________________\n"
          ]
        },
        {
          "name": "stderr",
          "output_type": "stream",
          "text": [
            "\r145it [49:14, 20.33s/it]"
          ]
        },
        {
          "name": "stdout",
          "output_type": "stream",
          "text": [
            "\n",
            "\n",
            "Original title: People Wasted 500 Million Hours Watching Adam Sandler Movies On Netflix\n",
            "\n",
            "\n",
            "Clickbait title:   Consider this a curious coincidence<unk> best\n",
            "________________________________________\n"
          ]
        },
        {
          "name": "stderr",
          "output_type": "stream",
          "text": [
            "\r146it [49:35, 20.57s/it]"
          ]
        },
        {
          "name": "stdout",
          "output_type": "stream",
          "text": [
            "\n",
            "\n",
            "Original title: Suspect Shoots Three Dead In Fresno, Yells ‘Allahu Akbar’ When Tackled by Police\n",
            "\n",
            "\n",
            "Clickbait title:   Three people were shot dead on New Discard Day in what appears to be an act of random thug nonsense, but our sources tell us why...\n",
            "________________________________________\n"
          ]
        },
        {
          "name": "stderr",
          "output_type": "stream",
          "text": [
            "\r147it [49:55, 20.46s/it]"
          ]
        },
        {
          "name": "stdout",
          "output_type": "stream",
          "text": [
            "\n",
            "\n",
            "Original title: Deadly attack near Egypt's old monastery\n",
            "\n",
            "\n",
            "Clickbait title:   Gunmen have assaulted a checkpoint, leading to the...,\n",
            "________________________________________\n"
          ]
        },
        {
          "name": "stderr",
          "output_type": "stream",
          "text": [
            "\r148it [50:17, 20.80s/it]"
          ]
        },
        {
          "name": "stdout",
          "output_type": "stream",
          "text": [
            "\n",
            "\n",
            "Original title: Mother and daughter die after getting stuck in a sauna\n",
            "\n",
            "\n",
            "Clickbait title:   A mother and daughter spending too much time in their sauna take a fatal turn in the opposite direction. to with... found officals.\n",
            "________________________________________\n"
          ]
        },
        {
          "name": "stderr",
          "output_type": "stream",
          "text": [
            "\r149it [50:38, 20.88s/it]"
          ]
        },
        {
          "name": "stdout",
          "output_type": "stream",
          "text": [
            "\n",
            "\n",
            "Original title: Meet the Former Pro Surfer Who Has Helped 7 Million People Get Clean Water\n",
            "\n",
            "\n",
            "Clickbait title:   The final issue of Time is out this thingy... the very last and much more\n",
            "________________________________________\n"
          ]
        },
        {
          "name": "stderr",
          "output_type": "stream",
          "text": [
            "\r150it [50:59, 20.90s/it]"
          ]
        },
        {
          "name": "stdout",
          "output_type": "stream",
          "text": [
            "\n",
            "\n",
            "Original title: Esports to join Asian Games as medal sport in 2022\n",
            "\n",
            "\n",
            "Clickbait title:   Esports will a) be included and (b Severityy)? and much more\n",
            "________________________________________\n"
          ]
        },
        {
          "name": "stderr",
          "output_type": "stream",
          "text": [
            "\r151it [51:18, 20.37s/it]"
          ]
        },
        {
          "name": "stdout",
          "output_type": "stream",
          "text": [
            "\n",
            "\n",
            "Original title: CBSN - Live Streaming Video News Channel\n",
            "\n",
            "\n",
            "Clickbait title:   Richard Ayodiyo, the assistant at the Social Kinetics social simulation and decision-making centre and an experienced game designer and user interface (UI) expert said, since there is such a theory the point to look at is that the only\n",
            "________________________________________\n"
          ]
        },
        {
          "name": "stderr",
          "output_type": "stream",
          "text": [
            "\r152it [51:39, 20.55s/it]"
          ]
        },
        {
          "name": "stdout",
          "output_type": "stream",
          "text": [
            "\n",
            "\n",
            "Original title: Watch: President Trump Speaks in Wisconsin on Executive Order to Curb Foreign Workers \n",
            "\n",
            "\n",
            "Clickbait title:   President Trump has, surprise - but has put aside any doubts, tweeted that he once said he's gonna crush what's happened to America's manufacturing. will\n",
            "________________________________________\n"
          ]
        },
        {
          "name": "stderr",
          "output_type": "stream",
          "text": [
            "\r153it [51:59, 20.42s/it]"
          ]
        },
        {
          "name": "stdout",
          "output_type": "stream",
          "text": [
            "\n",
            "\n",
            "Original title: Labour is in deep trouble, but it’s our only defence against a Tory landslide\n",
            "\n",
            "\n",
            "Clickbait title:   Guest letters from leading British media, reproduced here with permission.\n",
            "________________________________________\n"
          ]
        },
        {
          "name": "stderr",
          "output_type": "stream",
          "text": [
            "\r154it [52:21, 20.93s/it]"
          ]
        },
        {
          "name": "stdout",
          "output_type": "stream",
          "text": [
            "\n",
            "\n",
            "Original title: How to Get Lady Gaga's Mesmerizing Eyes From Coachella\n",
            "\n",
            "\n",
            "Clickbait title:   Coachella'st...well, maybe not so much for you but for us?!wallgroup @trent halstedfor me at all Thewallgroup..67531675316753167531\n",
            "________________________________________\n"
          ]
        },
        {
          "name": "stderr",
          "output_type": "stream",
          "text": [
            "\r155it [52:41, 20.57s/it]"
          ]
        },
        {
          "name": "stdout",
          "output_type": "stream",
          "text": [
            "\n",
            "\n",
            "Original title: NBC NewsVerifizierter Account\n",
            "\n",
            "\n",
            "Clickbait title:   Doch erzeugen sich am Dienstag, 'Please, give details surrounding the killing... until such time as we explain what happened.''' Mehr er' liebe nahe, 'Ein m<unk>gige\n",
            "________________________________________\n"
          ]
        },
        {
          "name": "stderr",
          "output_type": "stream",
          "text": [
            "\r156it [53:01, 20.32s/it]"
          ]
        },
        {
          "name": "stdout",
          "output_type": "stream",
          "text": [
            "\n",
            "\n",
            "Original title: Here's what the 'Game of Thrones' stars look like in real life\n",
            "\n",
            "\n",
            "Clickbait title:   Here's a look back about the biggest, most famous red carpets Games of your Universe have rocked. a\n",
            "________________________________________\n"
          ]
        },
        {
          "name": "stderr",
          "output_type": "stream",
          "text": [
            "\r157it [53:21, 20.18s/it]"
          ]
        },
        {
          "name": "stdout",
          "output_type": "stream",
          "text": [
            "\n",
            "\n",
            "Original title: Melania Trump had to remind Donald of the National Anthem and the internet can't handle it The list\n",
            "\n",
            "\n",
            "Clickbait title:   President Donaldand the lady will not go quietly, just wait for the last second: (...)\n",
            "________________________________________\n"
          ]
        },
        {
          "name": "stderr",
          "output_type": "stream",
          "text": [
            "\r158it [53:40, 20.01s/it]"
          ]
        },
        {
          "name": "stdout",
          "output_type": "stream",
          "text": [
            "\n",
            "\n",
            "Original title: New Leaks Suggest The iPhone 8 May Have An Invisible Front Camera Underneath The Display\n",
            "\n",
            "\n",
            "Clickbait title:   With the much-rumoured next-generation'selfie-enhanced' smartphone spotted on the market, some exciting news has just hit the spotlight.,\n",
            "________________________________________\n"
          ]
        },
        {
          "name": "stderr",
          "output_type": "stream",
          "text": [
            "\r159it [53:58, 19.47s/it]"
          ]
        },
        {
          "name": "stdout",
          "output_type": "stream",
          "text": [
            "\n",
            "\n",
            "Original title: Inside the mind of the accused Facebook Killer \n",
            "\n",
            "\n",
            "Clickbait title:   The following is a timeline of key quotes from forensic psychiatrist and former chief forensic officer of the US Justice Department's criminal division, the office of Chief Psychiatrist Eddi Reader, following an incident last on which an ex-police officer\n",
            "________________________________________\n"
          ]
        },
        {
          "name": "stderr",
          "output_type": "stream",
          "text": [
            "\r160it [54:21, 20.28s/it]"
          ]
        },
        {
          "name": "stdout",
          "output_type": "stream",
          "text": [
            "\n",
            "\n",
            "Original title: French police arrest two over 'attack plot' days before presidential vote\n",
            "\n",
            "\n",
            "Clickbait title:   BBC France correspondents lookahead to this weekend's French election and the continuing terrorism threat in France.\n",
            "________________________________________\n"
          ]
        },
        {
          "name": "stderr",
          "output_type": "stream",
          "text": [
            "\r161it [54:42, 20.46s/it]"
          ]
        },
        {
          "name": "stdout",
          "output_type": "stream",
          "text": [
            "\n",
            "\n",
            "Original title: Uber's revenue revs up, but losses mount to $2.8 billion\n",
            "\n",
            "\n",
            "Clickbait title:   Uber has made the first of several financial splashes, in what may be the most significant disclosures from an early publicly traded company.\n",
            "________________________________________\n"
          ]
        },
        {
          "name": "stderr",
          "output_type": "stream",
          "text": [
            "\r162it [55:00, 19.91s/it]"
          ]
        },
        {
          "name": "stdout",
          "output_type": "stream",
          "text": [
            "\n",
            "\n",
            "Original title: New Asteroid Study Suggests Hollywood Is Wrong About Ocean Impacts\n",
            "\n",
            "\n",
            "Clickbait title:   The effects of an anti-social space rock in a space movie may instead be reduced to a mirage, a new graduate-level work has revealed, and may clarify confusion over whether a space object can create tsunamis from its impact - an issue\n",
            "________________________________________\n"
          ]
        },
        {
          "name": "stderr",
          "output_type": "stream",
          "text": [
            "\r163it [55:22, 20.41s/it]"
          ]
        },
        {
          "name": "stdout",
          "output_type": "stream",
          "text": [
            "\n",
            "\n",
            "Original title: Lil Wayne’s Daughter Slays in Prom Dress Inspired by Kylie Jenner [Video]\n",
            "\n",
            "\n",
            "Clickbait title:   Lil Wayne'sPrincess, or as most of us refer to it, Sheesh, is only exaggerating!-\n",
            "________________________________________\n"
          ]
        },
        {
          "name": "stderr",
          "output_type": "stream",
          "text": [
            "\r164it [55:43, 20.61s/it]"
          ]
        },
        {
          "name": "stdout",
          "output_type": "stream",
          "text": [
            "\n",
            "\n",
            "Original title: Women cheat on men who don't do house chores, French survey finds\n",
            "\n",
            "\n",
            "Clickbait title:   Did you know: no matter though the gender, however much of a man's time in life could possibly afford a decent plate of fried broccoli...\n",
            "________________________________________\n"
          ]
        },
        {
          "name": "stderr",
          "output_type": "stream",
          "text": [
            "\r165it [56:04, 20.77s/it]"
          ]
        },
        {
          "name": "stdout",
          "output_type": "stream",
          "text": [
            "\n",
            "\n",
            "Original title: Prince Search Warrants Reveal More Than 100 Pills Found at Paisley Park\n",
            "\n",
            "\n",
            "Clickbait title:   Prince's former bodyguard and a doctor are under arrest in the late-onset drug case that bears a strikingly similar name to an adult antidepressant linked to actor and model Soliciter.\n",
            "________________________________________\n"
          ]
        },
        {
          "name": "stderr",
          "output_type": "stream",
          "text": [
            "\r166it [56:23, 20.37s/it]"
          ]
        },
        {
          "name": "stdout",
          "output_type": "stream",
          "text": [
            "\n",
            "\n",
            "Original title: WA shark attack beach to remain closed after teen surfer dies from injuries\n",
            "\n",
            "\n",
            "Clickbait title:   A 17-year-old girl was Swimmers advised to avoidance of the advice, warnings not used and advice not used, advice not used?\n",
            "________________________________________\n"
          ]
        },
        {
          "name": "stderr",
          "output_type": "stream",
          "text": [
            "\r167it [56:42, 19.81s/it]"
          ]
        },
        {
          "name": "stdout",
          "output_type": "stream",
          "text": [
            "\n",
            "\n",
            "Original title: Crackdowns on Social Media Accounts Backfire by Driving up Demand\n",
            "\n",
            "\n",
            "Clickbait title:   Facebook was able to shut down 'insecure accounts' as theResistance-isms were pont  ing, but it was unlikely to be a silver lining for the spammer's wallet.\n",
            "________________________________________\n"
          ]
        },
        {
          "name": "stderr",
          "output_type": "stream",
          "text": [
            "\r168it [57:02, 19.99s/it]"
          ]
        },
        {
          "name": "stdout",
          "output_type": "stream",
          "text": [
            "\n",
            "\n",
            "Original title: Prince Harry Opens Up About Mental Health After Mom’s Death\n",
            "\n",
            "\n",
            "Clickbait title:   Prince Harry has said, in an exclusive conversation with a therante.\n",
            "________________________________________\n"
          ]
        },
        {
          "name": "stderr",
          "output_type": "stream",
          "text": [
            "\r169it [57:23, 20.23s/it]"
          ]
        },
        {
          "name": "stdout",
          "output_type": "stream",
          "text": [
            "\n",
            "\n",
            "Original title: Indian Hackers Leak 1.7 Million Snapchat Users' Data As Payback For Alleged \"Poor Country\" Comment, Claims Report\n",
            "\n",
            "\n",
            "Clickbait title:   In Case You Missed It: A daily guide to interesting websites, blog sites, and links.\n",
            "________________________________________\n"
          ]
        },
        {
          "name": "stderr",
          "output_type": "stream",
          "text": [
            "\r170it [57:45, 20.60s/it]"
          ]
        },
        {
          "name": "stdout",
          "output_type": "stream",
          "text": [
            "\n",
            "\n",
            "Original title: Selena Gomez & The Weeknd Get Cozy at Coachella 2017\n",
            "\n",
            "\n",
            "Clickbait title:   The Weeknd and Insomniac are apparently so secretly in love,...';.;...\n",
            "________________________________________\n"
          ]
        },
        {
          "name": "stderr",
          "output_type": "stream",
          "text": [
            "\r171it [58:06, 20.72s/it]"
          ]
        },
        {
          "name": "stdout",
          "output_type": "stream",
          "text": [
            "\n",
            "\n",
            "Original title: Study: Islamic Kindergartens Lead to ‘Parallel Societies’ and Extremism in Austria\n",
            "\n",
            "\n",
            "Clickbait title:   All photographs are provided!” this\n",
            "________________________________________\n"
          ]
        },
        {
          "name": "stderr",
          "output_type": "stream",
          "text": [
            "\r172it [58:26, 20.78s/it]"
          ]
        },
        {
          "name": "stdout",
          "output_type": "stream",
          "text": [
            "\n",
            "\n",
            "Original title: Syria: At least 80 children among those slaughtered in suicide attack on refugee convoy outside Aleppo\n",
            "\n",
            "\n",
            "Clickbait title:   A daily guide to the top stories, media reports and quotes from the week's biggest news stories.\n",
            "________________________________________\n"
          ]
        },
        {
          "name": "stderr",
          "output_type": "stream",
          "text": [
            "\r173it [58:46, 20.52s/it]"
          ]
        },
        {
          "name": "stdout",
          "output_type": "stream",
          "text": [
            "\n",
            "\n",
            "Original title: Five myths about the cross\n",
            "\n",
            "\n",
            "Clickbait title:   The Christian kiss and the biblical claim to have hung He, alone... are two of the main images that appear generally to link this deeply Christian story - or the religious event in which He was killed and then resurrected - to the traditional religious event that\n",
            "________________________________________\n"
          ]
        },
        {
          "name": "stderr",
          "output_type": "stream",
          "text": [
            "\r174it [59:07, 20.48s/it]"
          ]
        },
        {
          "name": "stdout",
          "output_type": "stream",
          "text": [
            "\n",
            "\n",
            "Original title: A very holy war! Rival Greek churches celebrate Easter by firing ROCKETS at each other in a 150-year-old tradition\n",
            "\n",
            "\n",
            "Clickbait title:   All pictures by Matt Cardy / Getty Images. most impressive church\n",
            "________________________________________\n"
          ]
        },
        {
          "name": "stderr",
          "output_type": "stream",
          "text": [
            "\r175it [59:27, 20.54s/it]"
          ]
        },
        {
          "name": "stdout",
          "output_type": "stream",
          "text": [
            "\n",
            "\n",
            "Original title: Holy Week Marked With Solemn Processions and Colorful Displays\n",
            "\n",
            "\n",
            "Clickbait title:   In our series for the \"Age of Mobiles\". that shared by\n",
            "________________________________________\n"
          ]
        },
        {
          "name": "stderr",
          "output_type": "stream",
          "text": [
            "\r176it [59:50, 21.06s/it]"
          ]
        },
        {
          "name": "stdout",
          "output_type": "stream",
          "text": [
            "\n",
            "\n",
            "Original title: GOP and Democratic lawmakers point to China as key to resolving North Korea tensions\n",
            "\n",
            "\n",
            "Clickbait title:   Senior members of the newresistance in the Ways & Means, Ways & MeansNATENATE, led<unk> counterintuitive efforts to temper the new-found assertiveness.\n",
            "________________________________________\n"
          ]
        },
        {
          "name": "stderr",
          "output_type": "stream",
          "text": [
            "\r177it [1:00:09, 20.61s/it]"
          ]
        },
        {
          "name": "stdout",
          "output_type": "stream",
          "text": [
            "\n",
            "\n",
            "Original title: When Being Your Boss's Go-To Person Turns Into A Nightmare (And How To Escape)\n",
            "\n",
            "\n",
            "Clickbait title:   Job interviews are very taxing and unusual, but if you are lucky enough to be the go-to person at work, here are the four things you should know so you don't become the worst suited for the job:\n",
            "________________________________________\n"
          ]
        },
        {
          "name": "stderr",
          "output_type": "stream",
          "text": [
            "\r178it [1:00:28, 19.90s/it]"
          ]
        },
        {
          "name": "stdout",
          "output_type": "stream",
          "text": [
            "\n",
            "\n",
            "Original title: Accidental Tom Hardy lookalike was 'gutted' after not meeting himself\n",
            "\n",
            "\n",
            "Clickbait title:   A Tom HARDUR friend says that many years ago, when he wasn't making The Hardy Raid or playing Bane in the Dark Continent or even having his picture taken in the Mission Impossible series (all while holding a very specific knife to his face\n",
            "________________________________________\n"
          ]
        },
        {
          "name": "stderr",
          "output_type": "stream",
          "text": [
            "\r179it [1:00:49, 20.24s/it]"
          ]
        },
        {
          "name": "stdout",
          "output_type": "stream",
          "text": [
            "\n",
            "\n",
            "Original title: Home for recess, lawmakers face fiery town hall crowds on Trump, abortion and more\n",
            "\n",
            "\n",
            "Clickbait title:   With Congress on the doorstep, it seems so hypothetical, but GOP lawmakers are facing angry constituents thisvacation.\n",
            "________________________________________\n"
          ]
        },
        {
          "name": "stderr",
          "output_type": "stream",
          "text": [
            "\r180it [1:01:08, 19.88s/it]"
          ]
        },
        {
          "name": "stdout",
          "output_type": "stream",
          "text": [
            "\n",
            "\n",
            "Original title: Disney shows off Star Wars Land, and just shut up and take our money\n",
            "\n",
            "\n",
            "Clickbait title:   Star Wars is big in the 'her-meant!', but that doesn't matter.. tonte...\n",
            "________________________________________\n"
          ]
        },
        {
          "name": "stderr",
          "output_type": "stream",
          "text": [
            "\r181it [1:01:27, 19.64s/it]"
          ]
        },
        {
          "name": "stdout",
          "output_type": "stream",
          "text": [
            "\n",
            "\n",
            "Original title: What North Korea is trying to accomplish with its provocations\n",
            "\n",
            "\n",
            "Clickbait title:   A former Central Administrator of the Department of the Central WorldCountries, (currently known by the title of Special Sympathetic Advisor to the Chairman of the Joints of the Army of the United Nations Defamation and Intelligence Department at the Department of the Unknown\n",
            "________________________________________\n"
          ]
        },
        {
          "name": "stderr",
          "output_type": "stream",
          "text": [
            "\r182it [1:01:49, 20.40s/it]"
          ]
        },
        {
          "name": "stdout",
          "output_type": "stream",
          "text": [
            "\n",
            "\n",
            "Original title: Fast & Furious 8 speeding through box office records\n",
            "\n",
            "\n",
            "Clickbait title:   Vin Diesel’ bespecturious new instalment in the far flung world of ‘Equilibrated Pictures,<unk>956.44c) may be setto set some pretty pretty monster openingSunday box-yards.\n",
            "________________________________________\n"
          ]
        },
        {
          "name": "stderr",
          "output_type": "stream",
          "text": [
            "\r183it [1:02:10, 20.65s/it]"
          ]
        },
        {
          "name": "stdout",
          "output_type": "stream",
          "text": [
            "\n",
            "\n",
            "Original title: The headline that nearly sparked WWIII: Chinese official news agency mistakenly says North Korea LAUNCHES missile during parade rather than displays it\n",
            "\n",
            "\n",
            "Clickbait title:   Details follows.\n",
            "________________________________________\n"
          ]
        },
        {
          "name": "stderr",
          "output_type": "stream",
          "text": [
            "\r184it [1:02:28, 19.77s/it]"
          ]
        },
        {
          "name": "stdout",
          "output_type": "stream",
          "text": [
            "\n",
            "\n",
            "Original title: New law will restrict women's access to health care, experts fear\n",
            "\n",
            "\n",
            "Clickbait title:   The Trump-Lies Again: A <unk>£10 Smack Objective?. \n",
            "________________________________________\n"
          ]
        },
        {
          "name": "stderr",
          "output_type": "stream",
          "text": [
            "\r185it [1:02:48, 20.03s/it]"
          ]
        },
        {
          "name": "stdout",
          "output_type": "stream",
          "text": [
            "\n",
            "\n",
            "Original title: Check Out Full Credits for Harry Styles' 'Sign of the Times' Single\n",
            "\n",
            "\n",
            "Clickbait title:   Pop star and former girlishly handsome One D Haircut, is preparing to drop his first - but not yet heard - single.;:\n",
            "________________________________________\n"
          ]
        },
        {
          "name": "stderr",
          "output_type": "stream",
          "text": [
            "\r186it [1:03:09, 20.06s/it]"
          ]
        },
        {
          "name": "stdout",
          "output_type": "stream",
          "text": [
            "\n",
            "\n",
            "Original title: NSW police announce first bomb amnesty – but just don't bring them in\n",
            "\n",
            "\n",
            "Clickbait title:   A guide to the latest press stories, features, quotes\n",
            "________________________________________\n"
          ]
        },
        {
          "name": "stderr",
          "output_type": "stream",
          "text": [
            "\r187it [1:03:29, 20.09s/it]"
          ]
        },
        {
          "name": "stdout",
          "output_type": "stream",
          "text": [
            "\n",
            "\n",
            "Original title: Trump and Kelly ‘Dismantle’ Obama’s ‘Progress’ for Illegal Immigrants\n",
            "\n",
            "\n",
            "Clickbait title:   The Media Line looksalike - the Media Line can't get enough of this odd headline from the New York Times.\n",
            "________________________________________\n"
          ]
        },
        {
          "name": "stderr",
          "output_type": "stream",
          "text": [
            "\r188it [1:03:49, 20.28s/it]"
          ]
        },
        {
          "name": "stdout",
          "output_type": "stream",
          "text": [
            "\n",
            "\n",
            "Original title: Nintendo is discontinuing the NES Classic\n",
            "\n",
            "\n",
            "Clickbait title:   We're breaking down theasiatechcoverage as a whole into a few paragraphs, starting with:67531\n",
            "________________________________________\n"
          ]
        },
        {
          "name": "stderr",
          "output_type": "stream",
          "text": [
            "\r189it [1:04:11, 20.72s/it]"
          ]
        },
        {
          "name": "stdout",
          "output_type": "stream",
          "text": [
            "\n",
            "\n",
            "Original title: REVEALED: Kim’s plan to kidnap Western tourists from South Korea to hold as hostages if the US attacks the Hermit Kingdom... as an American carrier strike group closes in on the North Korean coastline\n",
            "\n",
            "\n",
            "Clickbait title:   North Korea is ready,excuse the expression, ready<unk>, although very skilled<unk> ), what would Kim Kardashian have achieved??\n",
            "________________________________________\n"
          ]
        },
        {
          "name": "stderr",
          "output_type": "stream",
          "text": [
            "\r190it [1:04:31, 20.47s/it]"
          ]
        },
        {
          "name": "stdout",
          "output_type": "stream",
          "text": [
            "\n",
            "\n",
            "Original title: Celtics' Isaiah Thomas: 'They're counting us out already'\n",
            "\n",
            "\n",
            "Clickbait title:   On the a day the most surprising conclusion to the regular golf outing, USA's women's saw its most knowledgeable spectator in decades - the man behind the microphone their rarest look at\n",
            "________________________________________\n"
          ]
        },
        {
          "name": "stderr",
          "output_type": "stream",
          "text": [
            "\r191it [1:04:51, 20.34s/it]"
          ]
        },
        {
          "name": "stdout",
          "output_type": "stream",
          "text": [
            "\n",
            "\n",
            "Original title: WATCH! This week's episode of Henry Blodget's new markets and economics show\n",
            "\n",
            "\n",
            "Clickbait title:   On tonight's Businessinsider TV, we recap what happened at US commercialised vehicle maker, <unk> uncharacteristically for a business TV show, including chief operating officer and long-standing executive, Hewson, that lost the mind of\n",
            "________________________________________\n"
          ]
        },
        {
          "name": "stderr",
          "output_type": "stream",
          "text": [
            "\r192it [1:05:12, 20.62s/it]"
          ]
        },
        {
          "name": "stdout",
          "output_type": "stream",
          "text": [
            "\n",
            "\n",
            "Original title: Tennessee makes college free for 'older adults'\n",
            "\n",
            "\n",
            "Clickbait title:   CNN's Christi Wier reports from the state, more illuminating than most stories..,\n",
            "________________________________________\n"
          ]
        },
        {
          "name": "stderr",
          "output_type": "stream",
          "text": [
            "\r193it [1:05:34, 20.80s/it]"
          ]
        },
        {
          "name": "stdout",
          "output_type": "stream",
          "text": [
            "\n",
            "\n",
            "Original title: The President's Quarterback—and other books to read this week..com\n",
            "\n",
            "\n",
            "Clickbait title:   Books and resources from across the BBC News site this week, gleaned from a selection of the station's own quotations and news stories. and\n",
            "________________________________________\n"
          ]
        },
        {
          "name": "stderr",
          "output_type": "stream",
          "text": [
            "\r194it [1:05:54, 20.77s/it]"
          ]
        },
        {
          "name": "stdout",
          "output_type": "stream",
          "text": [
            "\n",
            "\n",
            "Original title: Some Terrible Things Happened During One Of The Holiest Weeks Of The Year\n",
            "\n",
            "\n",
            "Clickbait title:   An edition of the Worldview section ( http://newsroom.worldmund.me). and as they used their minds to reach and predict Europe's future.. that many will\n",
            "________________________________________\n"
          ]
        },
        {
          "name": "stderr",
          "output_type": "stream",
          "text": [
            "\r195it [1:06:15, 20.86s/it]"
          ]
        },
        {
          "name": "stdout",
          "output_type": "stream",
          "text": [
            "\n",
            "\n",
            "Original title: Alleged Grooming Gang Charged with Multiple Rape, Child Abduction, Trafficking, and Drug Offences\n",
            "\n",
            "\n",
            "Clickbait title:   BBC News outlines the most fundamental premises that explain this case:\n",
            "________________________________________\n"
          ]
        },
        {
          "name": "stderr",
          "output_type": "stream",
          "text": [
            "\r196it [1:06:35, 20.55s/it]"
          ]
        },
        {
          "name": "stdout",
          "output_type": "stream",
          "text": [
            "\n",
            "\n",
            "Original title: New York zoo livestreams birth of calf to April the pregnant giraffe\n",
            "\n",
            "\n",
            "Clickbait title:   The world's most famous pregnant female is about to give birth to a baby.\n",
            "________________________________________\n"
          ]
        },
        {
          "name": "stderr",
          "output_type": "stream",
          "text": [
            "\r197it [1:06:56, 20.75s/it]"
          ]
        },
        {
          "name": "stdout",
          "output_type": "stream",
          "text": [
            "\n",
            "\n",
            "Original title: TWO MINUTE MONEY: Traditional IRAs vs Roth IRAs\n",
            "\n",
            "\n",
            "Clickbait title:   ATraditionalIRA is for net-productive, age  fifty...no!,, the remainder of the loan.\", that, with the, and, or through, the period if the loan\n",
            "________________________________________\n"
          ]
        },
        {
          "name": "stderr",
          "output_type": "stream",
          "text": [
            "\r198it [1:07:17, 20.70s/it]"
          ]
        },
        {
          "name": "stdout",
          "output_type": "stream",
          "text": [
            "\n",
            "\n",
            "Original title: Interior Secretary: No harassment allowed at National Parks \n",
            "\n",
            "\n",
            "Clickbait title:   A selection of blog and multimedia features from the international news Gauril patne.\n",
            "________________________________________\n"
          ]
        },
        {
          "name": "stderr",
          "output_type": "stream",
          "text": [
            "\r199it [1:07:36, 20.21s/it]"
          ]
        },
        {
          "name": "stdout",
          "output_type": "stream",
          "text": [
            "\n",
            "\n",
            "Original title: Dave Chappelle Salutes Charlie Murphy at John Mayer Concert: Watch\n",
            "\n",
            "\n",
            "Clickbait title:   For years, Dave've put out some of the strangest outrageous prank videos of the century, and now he's banded together with his fellow comedian, Charlie 'Pitchy' 'Yuge' 'Little Hotty'' McGree,\n",
            "________________________________________\n"
          ]
        },
        {
          "name": "stderr",
          "output_type": "stream",
          "text": [
            "\r200it [1:07:56, 20.01s/it]"
          ]
        },
        {
          "name": "stdout",
          "output_type": "stream",
          "text": [
            "\n",
            "\n",
            "Original title: The iPhone of cars? Apple enters self-driving car race \n",
            "\n",
            "\n",
            "Clickbait title:   The AP'sAntoine A. Lo The car world may give a very odd-looking name out of nowhere to our report last week.\n",
            "________________________________________\n"
          ]
        },
        {
          "name": "stderr",
          "output_type": "stream",
          "text": [
            "\r201it [1:08:15, 19.96s/it]"
          ]
        },
        {
          "name": "stdout",
          "output_type": "stream",
          "text": [
            "\n",
            "\n",
            "Original title: Rage turns 30: Australian musicians pick their perfect playlists Featured Stories Additional stories\n",
            "\n",
            "\n",
            "Clickbait title:   Rage AGAINST the Silence, Sufjan Malmsd<unk>, Dirty Pretty Things, Sufjan Furstground etc... everyone's favourite! he gave us all such great interviews, but nothing quite like this\n",
            "________________________________________\n"
          ]
        },
        {
          "name": "stderr",
          "output_type": "stream",
          "text": [
            "\r202it [1:08:35, 19.90s/it]"
          ]
        },
        {
          "name": "stdout",
          "output_type": "stream",
          "text": [
            "\n",
            "\n",
            "Original title: Alec Baldwin Jumps To Kendall Jenner's Defense In Pepsi Ad Fiasco\n",
            "\n",
            "\n",
            "Clickbait title:   If you were hoping toQuiet down the debate that erupted when a recent celebrity ad went wrong, then surely you were slightly disappointed by Alec Baldwin this particular damp-blanketing.\n",
            "________________________________________\n"
          ]
        },
        {
          "name": "stderr",
          "output_type": "stream",
          "text": [
            "\r203it [1:08:56, 20.22s/it]"
          ]
        },
        {
          "name": "stdout",
          "output_type": "stream",
          "text": [
            "\n",
            "\n",
            "Original title: Sushant Singh Rajput's Drastic Transformation, Tulsi-Parvati's Epic Selfie And More From Ent\n",
            "\n",
            "\n",
            "Clickbait title:   With many celebrities uploading unique and iconic selfies, here is a list of the most viral Bollywood links in the last 24 hours. and more\n",
            "________________________________________\n"
          ]
        },
        {
          "name": "stderr",
          "output_type": "stream",
          "text": [
            "\r204it [1:09:19, 20.86s/it]"
          ]
        },
        {
          "name": "stdout",
          "output_type": "stream",
          "text": [
            "\n",
            "\n",
            "Original title: Jimmy Butler Says He's Looking Forward to Guarding Isaiah Thomas in NBA Playoffs\n",
            "\n",
            "\n",
            "Clickbait title:   Jimmy Butler says it'.....\"\n",
            "________________________________________\n"
          ]
        },
        {
          "name": "stderr",
          "output_type": "stream",
          "text": [
            "\r205it [1:09:40, 20.94s/it]"
          ]
        },
        {
          "name": "stdout",
          "output_type": "stream",
          "text": [
            "\n",
            "\n",
            "Original title: Conor McGregor Ends Up in a Tree House During Wild Party in Liverpool\n",
            "\n",
            "\n",
            "Clickbait title:   Reviewer reaction to the below story:. plyhapodyody)\n",
            "________________________________________\n"
          ]
        },
        {
          "name": "stderr",
          "output_type": "stream",
          "text": [
            "\r206it [1:10:00, 20.63s/it]"
          ]
        },
        {
          "name": "stdout",
          "output_type": "stream",
          "text": [
            "\n",
            "\n",
            "Original title: World Trade Center Bomber Is Writing Book Blasting ISIS - NBC News\n",
            "\n",
            "\n",
            "Clickbait title:   According to US military lawyer lawyer, who practices contract law in New York, plenty\n",
            "________________________________________\n"
          ]
        },
        {
          "name": "stderr",
          "output_type": "stream",
          "text": [
            "\r207it [1:10:22, 21.10s/it]"
          ]
        },
        {
          "name": "stdout",
          "output_type": "stream",
          "text": [
            "\n",
            "\n",
            "Original title: Watch Romeo Santos Perform 'Heroe Favorito' on 'Jimmy Kimmel Live'\n",
            "\n",
            "\n",
            "Clickbait title:   The 2017 LatinRecordingCompanyNews.com Awards are proud to present our very own list, which dives deep even furtherInto the world of rock 'n' roll this year.\n",
            "________________________________________\n"
          ]
        },
        {
          "name": "stderr",
          "output_type": "stream",
          "text": [
            "\r208it [1:10:52, 23.90s/it]"
          ]
        },
        {
          "name": "stdout",
          "output_type": "stream",
          "text": [
            "\n",
            "\n",
            "Original title: Aaron Hernandez Found Not Guilty in Double Murder Case\n",
            "\n",
            "\n",
            "Clickbait title:   On Friday, former New... Aaron... a................... until..................,...\n",
            "________________________________________\n"
          ]
        },
        {
          "name": "stderr",
          "output_type": "stream",
          "text": [
            "\r209it [1:11:14, 23.18s/it]"
          ]
        },
        {
          "name": "stdout",
          "output_type": "stream",
          "text": [
            "\n",
            "\n",
            "Original title: Zika Found in Common Backyard Asian Tiger Mosquito\n",
            "\n",
            "\n",
            "Clickbait title:   Monkeys, dogs, and even a few Asian and tropical A-Stegs... may try to spread the dreaded....\"\n",
            "________________________________________\n"
          ]
        },
        {
          "name": "stderr",
          "output_type": "stream",
          "text": [
            "\r210it [1:11:33, 22.10s/it]"
          ]
        },
        {
          "name": "stdout",
          "output_type": "stream",
          "text": [
            "\n",
            "\n",
            "Original title: Kendrick Lamar, Chris Stapleton, PWR BTTM & More Are Spotify Editors' Picks for April 14\n",
            "\n",
            "\n",
            "Clickbait title:   Digital Spy's tech team drops some insider wisdom on what's affecting the music scene this new-z. pedestrians. trams.\n",
            "________________________________________\n"
          ]
        },
        {
          "name": "stderr",
          "output_type": "stream",
          "text": [
            "\r211it [1:11:53, 21.50s/it]"
          ]
        },
        {
          "name": "stdout",
          "output_type": "stream",
          "text": [
            "\n",
            "\n",
            "Original title: Arkansas governor backs unprecedented execution spree\n",
            "\n",
            "\n",
            "Clickbait title:   Here's a full report from News Letter with more details on one of the most controversial and controversial recent planned lethal gun moments.\n",
            "________________________________________\n"
          ]
        },
        {
          "name": "stderr",
          "output_type": "stream",
          "text": [
            "\r212it [1:12:14, 21.20s/it]"
          ]
        },
        {
          "name": "stdout",
          "output_type": "stream",
          "text": [
            "\n",
            "\n",
            "Original title: Cyclist Does Superman Planking Pose on Bike, Surges Past Other Riders\n",
            "\n",
            "\n",
            "Clickbait title:   The New Country has more..\" troubling (\n",
            "________________________________________\n"
          ]
        },
        {
          "name": "stderr",
          "output_type": "stream",
          "text": [
            "\r213it [1:12:35, 21.26s/it]"
          ]
        },
        {
          "name": "stdout",
          "output_type": "stream",
          "text": [
            "\n",
            "\n",
            "Original title: Mayor of Liverpool demands Everton ban The Sun following Ross Barkley comments\n",
            "\n",
            "\n",
            "Clickbait title:   The Sun has come into the mix in the latest instalment in a battle between the world’s two foremost newspapers.......\n",
            "________________________________________\n"
          ]
        },
        {
          "name": "stderr",
          "output_type": "stream",
          "text": [
            "\r214it [1:12:54, 20.45s/it]"
          ]
        },
        {
          "name": "stdout",
          "output_type": "stream",
          "text": [
            "\n",
            "\n",
            "Original title: Bellagio catches fire, causing closure of Las Vegas Strip \n",
            "\n",
            "\n",
            "Clickbait title:   A fire on the top level of the 33-level, <unk>?p>10-level roof surrounding the world'<unk> ­TM highest drinking-spoon-size vessel in the world, which looks out over the whole thing<unk> \n",
            "________________________________________\n"
          ]
        },
        {
          "name": "stderr",
          "output_type": "stream",
          "text": [
            "\r215it [1:13:14, 20.29s/it]"
          ]
        },
        {
          "name": "stdout",
          "output_type": "stream",
          "text": [
            "\n",
            "\n",
            "Original title: Beyond the Headlines: Five Things to Watch in China’s GDP Report\n",
            "\n",
            "\n",
            "Clickbait title:   Chinese economic results for the first three episodes of this 12 - 60 day year will be dominated by one story - growth. creation\n",
            "________________________________________\n"
          ]
        },
        {
          "name": "stderr",
          "output_type": "stream",
          "text": [
            "\r216it [1:13:36, 20.75s/it]"
          ]
        },
        {
          "name": "stdout",
          "output_type": "stream",
          "text": [
            "\n",
            "\n",
            "Original title: MLB Commish Wants to ‘Transition Away’ from Controversial Chief Wahoo Logo\n",
            "\n",
            "\n",
            "Clickbait title:   by Dylan Swindle onApr 7, 2017 12:45am Following the latest news from Major League Baseball, here's what you didn't know.\n",
            "________________________________________\n"
          ]
        },
        {
          "name": "stderr",
          "output_type": "stream",
          "text": [
            "\r217it [1:13:57, 21.04s/it]"
          ]
        },
        {
          "name": "stdout",
          "output_type": "stream",
          "text": [
            "\n",
            "\n",
            "Original title: Trump Makes His First Big Changes To Obamacare\n",
            "\n",
            "\n",
            "Clickbait title:   BBC journalist Edefficacyt in the Middle: 'Re-igning claims s eau as an essential part ofObamacare'\n",
            "________________________________________\n"
          ]
        },
        {
          "name": "stderr",
          "output_type": "stream",
          "text": [
            "\r218it [1:14:27, 23.60s/it]"
          ]
        },
        {
          "name": "stdout",
          "output_type": "stream",
          "text": [
            "\n",
            "\n",
            "Original title: Amazon Opens Up Echo's Far-Field Voice Recognition Tech To Outsiders\n",
            "\n",
            "\n",
            "Clickbait title:   A selection of stories from financial newspapers and 888-609- 888-609- 888-609-7).\n",
            "________________________________________\n"
          ]
        },
        {
          "name": "stderr",
          "output_type": "stream",
          "text": [
            "\r219it [1:14:48, 22.83s/it]"
          ]
        },
        {
          "name": "stdout",
          "output_type": "stream",
          "text": [
            "\n",
            "\n",
            "Original title: Damian Lillard thinks Blazers can take down Warriors\n",
            "\n",
            "\n",
            "Clickbait title:   After seeming to predict a GoldenStateWarriors surprise in this season's Superheated battle between his rival and his team?\n",
            "________________________________________\n"
          ]
        },
        {
          "name": "stderr",
          "output_type": "stream",
          "text": [
            "\r220it [1:15:09, 22.33s/it]"
          ]
        },
        {
          "name": "stdout",
          "output_type": "stream",
          "text": [
            "\n",
            "\n",
            "Original title: 25 of the coolest cars that have been in 'The Fast and the Furious' movies\n",
            "\n",
            "\n",
            "Clickbait title:   \"Fast and the Fast\" is perhaps best-suited for a hot-and-shiny, muscle-bound vehicle.\n",
            "________________________________________\n"
          ]
        },
        {
          "name": "stderr",
          "output_type": "stream",
          "text": [
            "\r221it [1:15:28, 21.31s/it]"
          ]
        },
        {
          "name": "stdout",
          "output_type": "stream",
          "text": [
            "\n",
            "\n",
            "Original title: White House Press Briefing\n",
            "\n",
            "\n",
            "Clickbait title:   All live and condensed web coverage of the Associated''''''''\n",
            "________________________________________\n"
          ]
        },
        {
          "name": "stderr",
          "output_type": "stream",
          "text": [
            "\r222it [1:15:49, 21.19s/it]"
          ]
        },
        {
          "name": "stdout",
          "output_type": "stream",
          "text": [
            "\n",
            "\n",
            "Original title: 27 Stylish Bathing Suits You Can Get On Amazon\n",
            "\n",
            "\n",
            "Clickbait title:   Here is a round-up of the best bathing suitsreviewed by female users on BuzzFeed News.\n",
            "________________________________________\n"
          ]
        },
        {
          "name": "stderr",
          "output_type": "stream",
          "text": [
            "\r223it [1:16:09, 20.72s/it]"
          ]
        },
        {
          "name": "stdout",
          "output_type": "stream",
          "text": [
            "\n",
            "\n",
            "Original title: 800 Australians die per year from prescription drug overdoses, experts say\n",
            "\n",
            "\n",
            "Clickbait title:   There are warnings in the latest edition of the Australian Doctor, as part of the Healthier Your World initiative, a series on druguse and health that feature stories about public health.\n",
            "________________________________________\n"
          ]
        },
        {
          "name": "stderr",
          "output_type": "stream",
          "text": [
            "\r224it [1:16:29, 20.69s/it]"
          ]
        },
        {
          "name": "stdout",
          "output_type": "stream",
          "text": [
            "\n",
            "\n",
            "Original title: Yuan Leaps Against Dollar After Trump Backs Down on Currency\n",
            "\n",
            "\n",
            "Clickbait title:   China's finance ministry inserted 6.\n",
            "________________________________________\n"
          ]
        },
        {
          "name": "stderr",
          "output_type": "stream",
          "text": [
            "\r225it [1:16:49, 20.33s/it]"
          ]
        },
        {
          "name": "stdout",
          "output_type": "stream",
          "text": [
            "\n",
            "\n",
            "Original title: The death of diesel: has the one-time wonder fuel become the new asbestos?\n",
            "\n",
            "\n",
            "Clickbait title:   The world's biggest car firm, Theophiles (who are also one of the world's biggest and richest car dealers?), have just made an advert that casts a spotlight on the health and environmental impact of the diesel fuel technology available to\n",
            "________________________________________\n"
          ]
        },
        {
          "name": "stderr",
          "output_type": "stream",
          "text": [
            "\r226it [1:17:08, 19.95s/it]"
          ]
        },
        {
          "name": "stdout",
          "output_type": "stream",
          "text": [
            "\n",
            "\n",
            "Original title: Sen. Perdue on Syria: 'We've got to stop ISIS, and that's job one' \n",
            "\n",
            "\n",
            "Clickbait title:   A key member of the next-most powerful body in the body of the divided-time US who was among those who voted this Election Ballotpedia election, says achieving an accurate picture of what the \"real meaning\" is of the political agreement between\n",
            "________________________________________\n"
          ]
        },
        {
          "name": "stderr",
          "output_type": "stream",
          "text": [
            "\r227it [1:17:29, 20.35s/it]"
          ]
        },
        {
          "name": "stdout",
          "output_type": "stream",
          "text": [
            "\n",
            "\n",
            "Original title: Donald Trump wants everything about America to be strong. He just announced one big exception.\n",
            "\n",
            "\n",
            "Clickbait title:   President Trump made this remark to theJournal during interviews about job creations. tomography\n",
            "________________________________________\n"
          ]
        },
        {
          "name": "stderr",
          "output_type": "stream",
          "text": [
            "\r228it [1:17:49, 20.15s/it]"
          ]
        },
        {
          "name": "stdout",
          "output_type": "stream",
          "text": [
            "\n",
            "\n",
            "Original title: Easter egg calculator: How guilty should you feel about your binge?\n",
            "\n",
            "\n",
            "Clickbait title:   In case you missed it, here's a round-up of some of the best Easter cheer stories to get your bones back - or, at the very least, your mind clear..'\"\n",
            "________________________________________\n"
          ]
        },
        {
          "name": "stderr",
          "output_type": "stream",
          "text": [
            "\r229it [1:18:09, 20.33s/it]"
          ]
        },
        {
          "name": "stdout",
          "output_type": "stream",
          "text": [
            "\n",
            "\n",
            "Original title: World's tallest men have genes that can be traced back to prehistoric mammoth hunters\n",
            "\n",
            "\n",
            "Clickbait title:   Scientists hope new insight into why men in parts of Europe, such<unk>”? have developed a new thicker build, could explain why they are the tallest men in the world.\n",
            "________________________________________\n"
          ]
        },
        {
          "name": "stderr",
          "output_type": "stream",
          "text": [
            "\r230it [1:18:28, 19.84s/it]"
          ]
        },
        {
          "name": "stdout",
          "output_type": "stream",
          "text": [
            "\n",
            "\n",
            "Original title: Mike Freeman's 10-Point Stance: Scout's Predictions for Every First Round Pick\n",
            "\n",
            "\n",
            "Clickbait title:   One of the best ways to prepare for the draft - and so successful a process that almost makes you want to come down and knock on your interviewee's door when you do - when you've been around the sport long enough and known about\n",
            "________________________________________\n"
          ]
        },
        {
          "name": "stderr",
          "output_type": "stream",
          "text": [
            "\r231it [1:18:49, 20.27s/it]"
          ]
        },
        {
          "name": "stdout",
          "output_type": "stream",
          "text": [
            "\n",
            "\n",
            "Original title: Lagarde Warns U.S. Against Targeting Single Nation on Currencies\n",
            "\n",
            "\n",
            "Clickbait title:   The head of the International Moneypenny said the entire trading world \"doesn'trE frail\".... jostle crunch\n",
            "________________________________________\n"
          ]
        },
        {
          "name": "stderr",
          "output_type": "stream",
          "text": [
            "\r232it [1:19:09, 20.09s/it]"
          ]
        },
        {
          "name": "stdout",
          "output_type": "stream",
          "text": [
            "\n",
            "\n",
            "Original title: US comedian Charlie Murphy dies of leukaemia aged 57\n",
            "\n",
            "\n",
            "Clickbait title:   US comedian Charlie 'ME and ME Power Mo Pena' Murphy has died.\n",
            "________________________________________\n"
          ]
        },
        {
          "name": "stderr",
          "output_type": "stream",
          "text": [
            "\r233it [1:19:29, 20.18s/it]"
          ]
        },
        {
          "name": "stdout",
          "output_type": "stream",
          "text": [
            "\n",
            "\n",
            "Original title: Russia will veto Western-backed draft UN resolution calling on Assad to allow probe into Syrian gas attack as British scientists confirm sarin WAS used\n",
            "\n",
            "\n",
            "Clickbait title:   There have been a series of major DEVELOPMENT\n",
            "________________________________________\n"
          ]
        },
        {
          "name": "stderr",
          "output_type": "stream",
          "text": [
            "\r234it [1:19:50, 20.38s/it]"
          ]
        },
        {
          "name": "stdout",
          "output_type": "stream",
          "text": [
            "\n",
            "\n",
            "Original title: Jimmy Kimmel as Spicer’s conscience: ‘Did I just defend Hitler? Hitler! Yeah, I think I did.’\n",
            "\n",
            "\n",
            "Clickbait title:   Kimmel said he erroneously tried to get into #FactStationSpicer's brain.\n",
            "________________________________________\n"
          ]
        },
        {
          "name": "stderr",
          "output_type": "stream",
          "text": [
            "\r235it [1:20:12, 20.85s/it]"
          ]
        },
        {
          "name": "stdout",
          "output_type": "stream",
          "text": [
            "\n",
            "\n",
            "Original title: LaBeouf, Rönkkö & Turner Spend a Month in Isolated Cabins for #ALONETOGETHER Performance\n",
            "\n",
            "\n",
            "Clickbait title:   Shia LaBeouf is surrounded, we assume, according to this mysterious text...eddy....\n",
            "________________________________________\n"
          ]
        },
        {
          "name": "stderr",
          "output_type": "stream",
          "text": [
            "\r236it [1:20:32, 20.40s/it]"
          ]
        },
        {
          "name": "stdout",
          "output_type": "stream",
          "text": [
            "\n",
            "\n",
            "Original title: Inside the logo: Wolves' new look represents franchise ready to win\n",
            "\n",
            "\n",
            "Clickbait title:   For the past year, the owner tussed with locals about the most commonly-heard question from the public about theTimberbroists' name and visual brand...\"\n",
            "________________________________________\n"
          ]
        },
        {
          "name": "stderr",
          "output_type": "stream",
          "text": [
            "\r237it [1:20:51, 20.16s/it]"
          ]
        },
        {
          "name": "stdout",
          "output_type": "stream",
          "text": [
            "\n",
            "\n",
            "Original title: Model shares photo of her cellulite on Instagram to show 'how bloody natural it is'\n",
            "\n",
            "\n",
            "Clickbait title:   It's difficult to believe photos can take the internet by storm, but it looks like Charli Howard has done it.\n",
            "________________________________________\n"
          ]
        },
        {
          "name": "stderr",
          "output_type": "stream",
          "text": [
            "\r238it [1:21:11, 20.17s/it]"
          ]
        },
        {
          "name": "stdout",
          "output_type": "stream",
          "text": [
            "\n",
            "\n",
            "Original title: NASA to announce new discoveries about ocean worlds\n",
            "\n",
            "\n",
            "Clickbait title:   Cassini has surveyed and may have caught sight of an entirely novel type's ocean on Saturn's moon Titan, and researchers believe there might be similar water worlds on other planets.\n",
            "________________________________________\n"
          ]
        },
        {
          "name": "stderr",
          "output_type": "stream",
          "text": [
            "\r239it [1:21:31, 20.15s/it]"
          ]
        },
        {
          "name": "stdout",
          "output_type": "stream",
          "text": [
            "\n",
            "\n",
            "Original title: Lil Wayne on Roc Nation: 'I'm a Member of That Team Now'\n",
            "\n",
            "\n",
            "Clickbait title:   Lil Wayne has reportedly never, you know? biographical info\n",
            "________________________________________\n"
          ]
        },
        {
          "name": "stderr",
          "output_type": "stream",
          "text": [
            "\r240it [1:21:55, 21.02s/it]"
          ]
        },
        {
          "name": "stdout",
          "output_type": "stream",
          "text": [
            "\n",
            "\n",
            "Original title: #bedforawayfans: Kind-hearted football fans open their doors to visiting Monaco supporters as Champions League clash is postponed after Borussia Dortmund bus bomb attack\n",
            "\n",
            "\n",
            "Clickbait title:   The BBC'zquezzquezzquezoscar6753167531675316753167531675316753167531\n",
            "________________________________________\n"
          ]
        },
        {
          "name": "stderr",
          "output_type": "stream",
          "text": [
            "\r241it [1:22:16, 21.11s/it]"
          ]
        },
        {
          "name": "stdout",
          "output_type": "stream",
          "text": [
            "\n",
            "\n",
            "Original title: The dangers of 'poppers': Using the sex drug just ONCE can cause irreversible damage to your eyes\n",
            "\n",
            "\n",
            "Clickbait title:   Gaybork is a month-,trenches-...).\n",
            "________________________________________\n"
          ]
        },
        {
          "name": "stderr",
          "output_type": "stream",
          "text": [
            "\r242it [1:22:36, 20.86s/it]"
          ]
        },
        {
          "name": "stdout",
          "output_type": "stream",
          "text": [
            "\n",
            "\n",
            "Original title: NBC NewsVerifizierter Account\n",
            "\n",
            "\n",
            "Clickbait title:   Facebook - 'We share good will, but true decency farbwunge' that the while she's been there, she tweeted.\n",
            "________________________________________\n"
          ]
        },
        {
          "name": "stderr",
          "output_type": "stream",
          "text": [
            "\r243it [1:22:58, 21.22s/it]"
          ]
        },
        {
          "name": "stdout",
          "output_type": "stream",
          "text": [
            "\n",
            "\n",
            "Original title: North Korea State Media Warns of Nuclear Strike if Provoked\n",
            "\n",
            "\n",
            "Clickbait title:   US President Donald Donald' Wrench, aPolitico contributing foreign Reasonably priced gift for your sweetheart, shares his top five places to Snooze your tummy time with the family. scaffolding\n",
            "________________________________________\n"
          ]
        },
        {
          "name": "stderr",
          "output_type": "stream",
          "text": [
            "\r244it [1:23:17, 20.49s/it]"
          ]
        },
        {
          "name": "stdout",
          "output_type": "stream",
          "text": [
            "\n",
            "\n",
            "Original title: Elon Musk Has an Awkward Problem at Tesla: Employee Parking\n",
            "\n",
            "\n",
            "Clickbait title:   The BBC picks the brains and sources some ridiculous claims to determine a man who says he has had some of the most nightmare experiences of his life, is a billionaire and is as famous for his car-building as his engineering thought leadership.\n",
            "________________________________________\n"
          ]
        },
        {
          "name": "stderr",
          "output_type": "stream",
          "text": [
            "\r245it [1:23:35, 19.90s/it]"
          ]
        },
        {
          "name": "stdout",
          "output_type": "stream",
          "text": [
            "\n",
            "\n",
            "Original title: Retirement Checkup\n",
            "\n",
            "\n",
            "Clickbait title:   Jim Cramer, editor-in-chief and co-founder ofrating agency Dave Rayner, explains one way early investors from the so-called net burgandy age (aged over 45) and their heirs are likely to weather a financial storm\n",
            "________________________________________\n"
          ]
        },
        {
          "name": "stderr",
          "output_type": "stream",
          "text": [
            "\r246it [1:23:56, 20.17s/it]"
          ]
        },
        {
          "name": "stdout",
          "output_type": "stream",
          "text": [
            "\n",
            "\n",
            "Original title: Here’s Why It’s Legal for Airlines to Kick You Off Your Flight\n",
            "\n",
            "\n",
            "Clickbait title:   To helpAviation and those following the story, here's a look at why airlines overbooking situations and the videos surfaced.\n",
            "________________________________________\n"
          ]
        },
        {
          "name": "stderr",
          "output_type": "stream",
          "text": [
            "\r247it [1:24:15, 19.60s/it]"
          ]
        },
        {
          "name": "stdout",
          "output_type": "stream",
          "text": [
            "\n",
            "\n",
            "Original title: America's airlines are shameless. But United has just set a new low\n",
            "\n",
            "\n",
            "Clickbait title:   The Times newspaper's customer service critic, An experienced, regularly-flyer, explains why as an award-shortened commercial - one of the lowest in the world - United's violent, forced customer removal from their recent US-bound service\n",
            "________________________________________\n"
          ]
        },
        {
          "name": "stderr",
          "output_type": "stream",
          "text": [
            "\r248it [1:24:34, 19.52s/it]"
          ]
        },
        {
          "name": "stdout",
          "output_type": "stream",
          "text": [
            "\n",
            "\n",
            "Original title: Jimmy Kimmel Gives United Airlines the Commercial They Deserve, Brass Knuckles Included\n",
            "\n",
            "\n",
            "Clickbait title:   In case you missed it, here's a brief break for you to sit through Jimmy's latest report on the latest United-made news story to make the headlines this week.:\n",
            "________________________________________\n"
          ]
        },
        {
          "name": "stderr",
          "output_type": "stream",
          "text": [
            "\r249it [1:24:55, 19.94s/it]"
          ]
        },
        {
          "name": "stdout",
          "output_type": "stream",
          "text": [
            "\n",
            "\n",
            "Original title: Trump Tops Obama, Bush and Clinton in Golfing and Private Getaways So Far \n",
            "\n",
            "\n",
            "Clickbait title:   Key quotes from public appearances, tweets and other sources about President Donald Trump's hobbies, lifestyle and what people actually observe on those ventures.\n",
            "________________________________________\n"
          ]
        },
        {
          "name": "stderr",
          "output_type": "stream",
          "text": [
            "\r250it [1:25:15, 20.07s/it]"
          ]
        },
        {
          "name": "stdout",
          "output_type": "stream",
          "text": [
            "\n",
            "\n",
            "Original title: How the sun helped spark life on Earth\n",
            "\n",
            "\n",
            "Clickbait title:   The early world on which life was modeled could have used the solar energy provided by our dearest star to create more complex materials, possibly aiding a future crop of biofuels.\n",
            "________________________________________\n"
          ]
        },
        {
          "name": "stderr",
          "output_type": "stream",
          "text": [
            "\r251it [1:25:34, 19.76s/it]"
          ]
        },
        {
          "name": "stdout",
          "output_type": "stream",
          "text": [
            "\n",
            "\n",
            "Original title: Soon, Government Will Decide How Much You Should Eat At Restaurants\n",
            "\n",
            "\n",
            "Clickbait title:   India has banned theServing ofMeat,Ginuity ofFish,Dry Weight,Non-WorthyStuff andBones,Mortal Weight,Bodyweight,Hair, Nails,Hairache,Carpels <unk>,Excessively\n",
            "________________________________________\n"
          ]
        },
        {
          "name": "stderr",
          "output_type": "stream",
          "text": [
            "\r252it [1:25:55, 19.96s/it]"
          ]
        },
        {
          "name": "stdout",
          "output_type": "stream",
          "text": [
            "\n",
            "\n",
            "Original title: Seniors could be in for a rude surprise if Paul Ryan gets his way on taxes\n",
            "\n",
            "\n",
            "Clickbait title:   The Wall Post's Matt); The Associated's Tom spread this story on the front porch of her house in rural Maryland, looking out across the garden:.\n",
            "________________________________________\n"
          ]
        },
        {
          "name": "stderr",
          "output_type": "stream",
          "text": [
            "\r253it [1:26:15, 19.95s/it]"
          ]
        },
        {
          "name": "stdout",
          "output_type": "stream",
          "text": [
            "\n",
            "\n",
            "Original title: Complaint Against Navjot Singh Sidhu For Cracking Tasteless Jokes On The Kapil Sharma Show\n",
            "\n",
            "\n",
            "Clickbait title:   This is a round-up of key news and details about the latest drama involving the celebrated television comedian and politician who are both from the neighbouring state of neighbouring South-\n",
            "________________________________________\n"
          ]
        },
        {
          "name": "stderr",
          "output_type": "stream",
          "text": [
            "\r254it [1:26:32, 19.33s/it]"
          ]
        },
        {
          "name": "stdout",
          "output_type": "stream",
          "text": [
            "\n",
            "\n",
            "Original title: NBC’s Andrea Mitchell: Trump Administration Misleads, Obfuscates — ‘People Just Flat Out Lie’\n",
            "\n",
            "\n",
            "Clickbait title:   MSNBC's state editor for Middle-Expert, and prominent <unk>£1 an accoridouner-turned-reputee-explainer, and author, spoke to an influential host from MSNBC's foreign affairs station who said\n",
            "________________________________________\n"
          ]
        },
        {
          "name": "stderr",
          "output_type": "stream",
          "text": [
            "\r255it [1:26:53, 19.75s/it]"
          ]
        },
        {
          "name": "stdout",
          "output_type": "stream",
          "text": [
            "\n",
            "\n",
            "Original title: EBay Backs Flipkart With $500 Million to Battle Amazon in India\n",
            "\n",
            "\n",
            "Clickbait title:   Online marketplace Giant, EBay to Co Stead-Drown Paid Investment For Up To A 25% Consideration, Which I More Rarely If ever I Encounter In A Lawsuit.\n",
            "________________________________________\n"
          ]
        },
        {
          "name": "stderr",
          "output_type": "stream",
          "text": [
            "\r256it [1:27:13, 19.91s/it]"
          ]
        },
        {
          "name": "stdout",
          "output_type": "stream",
          "text": [
            "\n",
            "\n",
            "Original title: Burger King's secret fried chicken 'color guide' has been discovered\n",
            "\n",
            "\n",
            "Clickbait title:   Burger Kingemployee in the middle of a rest-stop salad bar in the Big Lots lots of New York City is at the centre of a food safety controversy for possibly using plastic on the counter for customer supervision and advice about what Color Guidelines are ideal\n",
            "________________________________________\n"
          ]
        },
        {
          "name": "stderr",
          "output_type": "stream",
          "text": [
            "\r257it [1:27:34, 20.16s/it]"
          ]
        },
        {
          "name": "stdout",
          "output_type": "stream",
          "text": [
            "\n",
            "\n",
            "Original title: Power rankings: One week in, Cubs still on top\n",
            "\n",
            "\n",
            "Clickbait title:   The opening of the new professional era came quickly this Grapefruit work-aholics' Finest Week as the top 10 heading into the new campaign all showed strong similarities....\n",
            "________________________________________\n"
          ]
        },
        {
          "name": "stderr",
          "output_type": "stream",
          "text": [
            "\r258it [1:27:55, 20.30s/it]"
          ]
        },
        {
          "name": "stdout",
          "output_type": "stream",
          "text": [
            "\n",
            "\n",
            "Original title: Gorsuch sworn in as Supreme Court justice ahead of key cases \n",
            "\n",
            "\n",
            "Clickbait title:   Read the full story in full here. is and!\n",
            "________________________________________\n"
          ]
        },
        {
          "name": "stderr",
          "output_type": "stream",
          "text": [
            "\r259it [1:28:18, 21.18s/it]"
          ]
        },
        {
          "name": "stdout",
          "output_type": "stream",
          "text": [
            "\n",
            "\n",
            "Original title: Tillerson, on Eve of Russia Trip, Takes Hard Line on Syria \n",
            "\n",
            "\n",
            "Clickbait title:   As Washington and New.......,,...,., sorry, maybe, I think - very soon!,\n",
            "________________________________________\n"
          ]
        },
        {
          "name": "stderr",
          "output_type": "stream",
          "text": [
            "\r260it [1:28:37, 20.53s/it]"
          ]
        },
        {
          "name": "stdout",
          "output_type": "stream",
          "text": [
            "\n",
            "\n",
            "Original title: The next phase of the on-demand economy: Haircuts by delivery\n",
            "\n",
            "\n",
            "Clickbait title:   The Washington Optic,. to\n",
            "________________________________________\n"
          ]
        },
        {
          "name": "stderr",
          "output_type": "stream",
          "text": [
            "\r261it [1:28:57, 20.48s/it]"
          ]
        },
        {
          "name": "stdout",
          "output_type": "stream",
          "text": [
            "\n",
            "\n",
            "Original title: USS Gerald R. Ford begins sea trials to test high-tech systems\n",
            "\n",
            "\n",
            "Clickbait title:   News headlines from The Detail Subscribe to The Detail below\n",
            "________________________________________\n"
          ]
        },
        {
          "name": "stderr",
          "output_type": "stream",
          "text": [
            "\r262it [1:29:16, 19.93s/it]"
          ]
        },
        {
          "name": "stdout",
          "output_type": "stream",
          "text": [
            "\n",
            "\n",
            "Original title: Grief, Anger at Funerals for Victims of Egypt Church Bombings\n",
            "\n",
            "\n",
            "Clickbait title:   At least 56 people have been infected and more than awed who have witnessed a small, remote-setishish place in the background of the video where the supposed 'lonelier' members vow to the USA, 'all evil will end here\n",
            "________________________________________\n"
          ]
        },
        {
          "name": "stderr",
          "output_type": "stream",
          "text": [
            "\r263it [1:29:36, 19.94s/it]"
          ]
        },
        {
          "name": "stdout",
          "output_type": "stream",
          "text": [
            "\n",
            "\n",
            "Original title: Mama June Shannon opens up on her drastic weight loss - Yahoo\n",
            "\n",
            "\n",
            "Clickbait title:   On Wednesday, we covered allegations the former heads-up dating site, Plenty ofFish, engaged in inappropriate online activity.\n",
            "________________________________________\n"
          ]
        },
        {
          "name": "stderr",
          "output_type": "stream",
          "text": [
            "\r264it [1:29:56, 19.85s/it]"
          ]
        },
        {
          "name": "stdout",
          "output_type": "stream",
          "text": [
            "\n",
            "\n",
            "Original title: California governor declares historic drought over for now \n",
            "\n",
            "\n",
            "Clickbait title:   After four years of record-drytime, the recorded amounts - so badly received this past the by has been nearly unbelievable, according to science and the world's largest democracy\n",
            "________________________________________\n"
          ]
        },
        {
          "name": "stderr",
          "output_type": "stream",
          "text": [
            "\r265it [1:30:15, 19.57s/it]"
          ]
        },
        {
          "name": "stdout",
          "output_type": "stream",
          "text": [
            "\n",
            "\n",
            "Original title: Church bombings kill dozens in Egypt on Palm Sunday\n",
            "\n",
            "\n",
            "Clickbait title:   Prime Minister Nick G Torri is in Cairo, looking on as Egyptian Airlines crews stage aCAS emergency landing at Tanta airport following a deadly suicide bomb attack on two Coptic churches in the northern Egyptian city of Tanta.\n",
            "________________________________________\n"
          ]
        },
        {
          "name": "stderr",
          "output_type": "stream",
          "text": [
            "\r266it [1:30:35, 19.68s/it]"
          ]
        },
        {
          "name": "stdout",
          "output_type": "stream",
          "text": [
            "\n",
            "\n",
            "Original title: Britney Spears' Las Vegas Show Is Coming To An End, Manager Says\n",
            "\n",
            "\n",
            "Clickbait title:   Britney Spears is close) to saying she nearly made her predictions.\n",
            "________________________________________\n"
          ]
        },
        {
          "name": "stderr",
          "output_type": "stream",
          "text": [
            "\r267it [1:30:54, 19.56s/it]"
          ]
        },
        {
          "name": "stdout",
          "output_type": "stream",
          "text": [
            "\n",
            "\n",
            "Original title: Joining high court, the real Neil Gorsuch set to stand up \n",
            "\n",
            "\n",
            "Clickbait title:   The New Wire subcompact\n",
            "________________________________________\n"
          ]
        },
        {
          "name": "stderr",
          "output_type": "stream",
          "text": [
            "\r268it [1:31:13, 19.47s/it]"
          ]
        },
        {
          "name": "stdout",
          "output_type": "stream",
          "text": [
            "\n",
            "\n",
            "Original title: India Is Home To Over 3 Lakh Refugees From More Than 30 Countries Including US And UK\n",
            "\n",
            "\n",
            "Clickbait title:   A prominent dna diasist notes, 'India is infamous anywhere these scenarios occur and perhaps it stems from its proximity to some of the most turbulent countries of the world. many on its\n",
            "________________________________________\n"
          ]
        },
        {
          "name": "stderr",
          "output_type": "stream",
          "text": [
            "\r269it [1:31:31, 19.14s/it]"
          ]
        },
        {
          "name": "stdout",
          "output_type": "stream",
          "text": [
            "\n",
            "\n",
            "Original title: Pope Francis Prays for Victims of Egypt Church Attack\n",
            "\n",
            "\n",
            "Clickbait title:   Pope Francis' Silver-Salt t<unk>fod, '<unk>eaed, <unk>echst<unk>rk d<unk>k<unk> t<unk>tfal<unk>l,' resonates with the Holy Week's theme, as all 50 countries\n",
            "________________________________________\n"
          ]
        },
        {
          "name": "stderr",
          "output_type": "stream",
          "text": [
            "\r270it [1:31:51, 19.24s/it]"
          ]
        },
        {
          "name": "stdout",
          "output_type": "stream",
          "text": [
            "\n",
            "\n",
            "Original title: Happy Feet: Gumboot dancing used to educate children\n",
            "\n",
            "\n",
            "Clickbait title:   Gumboot dancing may not seem to have many benefits but in one area of South Africa a project is trying to do just that. children'\n",
            "________________________________________\n"
          ]
        },
        {
          "name": "stderr",
          "output_type": "stream",
          "text": [
            "\r271it [1:32:12, 19.70s/it]"
          ]
        },
        {
          "name": "stdout",
          "output_type": "stream",
          "text": [
            "\n",
            "\n",
            "Original title: The golden age of superhero films ignores the golden aged at its peril\n",
            "\n",
            "\n",
            "Clickbait title:   Some of the key reports from around the press during the first week postpartum turmoil for motherlode baby news outlets, as reported by media.\n",
            "________________________________________\n"
          ]
        },
        {
          "name": "stderr",
          "output_type": "stream",
          "text": [
            "\r272it [1:32:33, 20.04s/it]"
          ]
        },
        {
          "name": "stdout",
          "output_type": "stream",
          "text": [
            "\n",
            "\n",
            "Original title: Syria missile strike: Bashar al-Assad allies say US attack on Syria crosses 'red lines'\n",
            "\n",
            "\n",
            "Clickbait title:   Players in the war, political developments, comments from worldleaders and other relevant information. santa\n",
            "________________________________________\n"
          ]
        },
        {
          "name": "stderr",
          "output_type": "stream",
          "text": [
            "\r273it [1:32:54, 20.56s/it]"
          ]
        },
        {
          "name": "stdout",
          "output_type": "stream",
          "text": [
            "\n",
            "\n",
            "Original title: Mondelez Lays Groundwork to Replace Its Chief Executive Irene Rosenfeld\n",
            "\n",
            "\n",
            "Clickbait title:   Fortune gives a preview of what matters to business on 13 items: her\n",
            "________________________________________\n"
          ]
        },
        {
          "name": "stderr",
          "output_type": "stream",
          "text": [
            "\r274it [1:33:14, 20.33s/it]"
          ]
        },
        {
          "name": "stdout",
          "output_type": "stream",
          "text": [
            "\n",
            "\n",
            "Original title: Palm Sunday: Pope Francis celebrates Mass at the Vatican\n",
            "\n",
            "\n",
            "Clickbait title:   Pope Francis was dressed, reportedly, in civilian clothes enough 'R”une, or cloth, to prevent a priest from being hit by traffic' while celebrating Palm Sunday Mass.\n",
            "________________________________________\n"
          ]
        },
        {
          "name": "stderr",
          "output_type": "stream",
          "text": [
            "\r275it [1:33:33, 19.97s/it]"
          ]
        },
        {
          "name": "stdout",
          "output_type": "stream",
          "text": [
            "\n",
            "\n",
            "Original title: A top hedge fund manager who said he generated $7 billion in revenue is prepping his own fund launch\n",
            "\n",
            "\n",
            "Clickbait title:   Millennium Management's key short-term specialist, Soon Soon Hae, who set up his own multi $609$800-a-week moneymanager called Aka yon yon yon, having previously managed a $35-blor lot\n",
            "________________________________________\n"
          ]
        },
        {
          "name": "stderr",
          "output_type": "stream",
          "text": [
            "\r276it [1:33:53, 20.02s/it]"
          ]
        },
        {
          "name": "stdout",
          "output_type": "stream",
          "text": [
            "\n",
            "\n",
            "Original title: Drop the Target: Theresa May must drop the tens of thousands net migration cap – sign our petition now\n",
            "\n",
            "\n",
            "Clickbait title:   We've got a blog with some of their response to our call.\n",
            "________________________________________\n"
          ]
        },
        {
          "name": "stderr",
          "output_type": "stream",
          "text": [
            "\r277it [1:34:15, 20.38s/it]"
          ]
        },
        {
          "name": "stdout",
          "output_type": "stream",
          "text": [
            "\n",
            "\n",
            "Original title: Gregg Popovich: 'Nobody's going to rest' as Spurs close out season\n",
            "\n",
            "\n",
            "Clickbait title:   The post-mortems are in order! verdant\n",
            "________________________________________\n"
          ]
        },
        {
          "name": "stderr",
          "output_type": "stream",
          "text": [
            "\r278it [1:34:33, 19.87s/it]"
          ]
        },
        {
          "name": "stdout",
          "output_type": "stream",
          "text": [
            "\n",
            "\n",
            "Original title: Soulja Boy's Plea Deal Allegedly Includes a Toy Gun Clause\n",
            "\n",
            "\n",
            "Clickbait title:   Soulja Boy Reportedly All Tightened--but Never Brought A Firearm Along, Or Rather Rather; Kept A Tiny Sizzlin' Long Enough to Not Get A Permit.\n",
            "________________________________________\n"
          ]
        },
        {
          "name": "stderr",
          "output_type": "stream",
          "text": [
            "\r279it [1:34:52, 19.59s/it]"
          ]
        },
        {
          "name": "stdout",
          "output_type": "stream",
          "text": [
            "\n",
            "\n",
            "Original title: Neil Gorsuch’s Ascent Highlights Washington’s Close-Knit Legal World \n",
            "\n",
            "\n",
            "Clickbait title:   A former Supreme and A&S law expert who emerged from a public fight only to find himself on the other end of the legal argument over a high-court nominee's reputation thinks he knows where the next high-calorie legal hot topic will\n",
            "________________________________________\n"
          ]
        },
        {
          "name": "stderr",
          "output_type": "stream",
          "text": [
            "\r280it [1:35:13, 19.84s/it]"
          ]
        },
        {
          "name": "stdout",
          "output_type": "stream",
          "text": [
            "\n",
            "\n",
            "Original title: Trump’s Shadow Is Looming Over This Special Election\n",
            "\n",
            "\n",
            "Clickbait title:   In one of the first ways Democrats have targeted the voter angst around the political future of the US under the man they saw every day as their adversarial rival in the last climate heater kitchen cabinet at the White House.\n",
            "________________________________________\n"
          ]
        },
        {
          "name": "stderr",
          "output_type": "stream",
          "text": [
            "\r281it [1:35:33, 20.09s/it]"
          ]
        },
        {
          "name": "stdout",
          "output_type": "stream",
          "text": [
            "\n",
            "\n",
            "Original title: 'Boss Baby' Author Says Comparing Trump To Infant Character Makes Total Sense\n",
            "\n",
            "\n",
            "Clickbait title:   Author Marla Frazee, author of The Boss Baby, has admitted the film was inspired by her beloved cartoon, which was voiced by Alec Baldwin in the film.\n",
            "________________________________________\n"
          ]
        },
        {
          "name": "stderr",
          "output_type": "stream",
          "text": [
            "\r282it [1:35:54, 20.22s/it]"
          ]
        },
        {
          "name": "stdout",
          "output_type": "stream",
          "text": [
            "\n",
            "\n",
            "Original title: Delhi Just Hosted India's First Ever Dog Beer Festival And Everything About It Was Amazing!\n",
            "\n",
            "\n",
            "Clickbait title:   A cafe fordogs has, you may<unk>k why, decided to go the extra mile and invite you all over for a craft cocktail and... a beer in one go. (but a toast\n",
            "________________________________________\n"
          ]
        },
        {
          "name": "stderr",
          "output_type": "stream",
          "text": [
            "\r283it [1:36:14, 20.15s/it]"
          ]
        },
        {
          "name": "stdout",
          "output_type": "stream",
          "text": [
            "\n",
            "\n",
            "Original title: U.S. women's hockey tops Canada for world championship as Hilary Knight scores in OT\n",
            "\n",
            "\n",
            "Clickbait title:   The United States has a piece\n",
            "________________________________________\n"
          ]
        },
        {
          "name": "stderr",
          "output_type": "stream",
          "text": [
            "\r284it [1:36:34, 20.07s/it]"
          ]
        },
        {
          "name": "stdout",
          "output_type": "stream",
          "text": [
            "\n",
            "\n",
            "Original title: India's Kanika Tekriwal, 28, Is Revving Up The Private Jet And Helicopter Market\n",
            "\n",
            "\n",
            "Clickbait title:   As India' \"super startup's\"; the budding regional airline JetSetGo launches in Hong Kong, the people behind the start-up speak about the challenges and opportunities under way for the business.\n",
            "________________________________________\n"
          ]
        },
        {
          "name": "stderr",
          "output_type": "stream",
          "text": [
            "\r285it [1:36:54, 20.28s/it]"
          ]
        },
        {
          "name": "stdout",
          "output_type": "stream",
          "text": [
            "\n",
            "\n",
            "Original title: 13 Egg-cellent Easter Nail Art Ideas\n",
            "\n",
            "\n",
            "Clickbait title:   From rainbow-hued and daring to adorable and simply beautiful, here's a round- up of the most talkedabout nail trend of the season, from Easter to prom..\n",
            "________________________________________\n"
          ]
        },
        {
          "name": "stderr",
          "output_type": "stream",
          "text": [
            "\r286it [1:37:11, 19.21s/it]"
          ]
        },
        {
          "name": "stdout",
          "output_type": "stream",
          "text": [
            "\n",
            "\n",
            "Original title: Arielle Gamble's Year in a Shit Country Town\n",
            "\n",
            "\n",
            "Clickbait title:   Illustration by Julie clawed and written by her late father, 'Gloom Appointed Attendant.' merry arithmetic to tsar and the geezer\n",
            "________________________________________\n"
          ]
        },
        {
          "name": "stderr",
          "output_type": "stream",
          "text": [
            "\r287it [1:37:32, 19.56s/it]"
          ]
        },
        {
          "name": "stdout",
          "output_type": "stream",
          "text": [
            "\n",
            "\n",
            "Original title: Bernie Sanders launches his own podcast\n",
            "\n",
            "\n",
            "Clickbait title:   The WashingtonInSite has the news.. p..\n",
            "________________________________________\n"
          ]
        },
        {
          "name": "stderr",
          "output_type": "stream",
          "text": [
            "\r288it [1:37:49, 19.06s/it]"
          ]
        },
        {
          "name": "stdout",
          "output_type": "stream",
          "text": [
            "\n",
            "\n",
            "Original title: 'Assad is trying to kill everyone that survived the chemical attack,' says resident of Syrian town being bombed once again\n",
            "\n",
            "\n",
            "Clickbait title:   View full story \"Cleaning squad helps desperate'revenge-wreath' man\"epe and avon and avon and a\n",
            "________________________________________\n"
          ]
        },
        {
          "name": "stderr",
          "output_type": "stream",
          "text": [
            "\r289it [1:38:12, 19.98s/it]"
          ]
        },
        {
          "name": "stdout",
          "output_type": "stream",
          "text": [
            "\n",
            "\n",
            "Original title: Red Sox, Make-A-Wish Foundation Build Fenway Park Replica in Child's Backyard\n",
            "\n",
            "\n",
            "Clickbait title:   \"FDraft 2015: We<unk>TMre Just Doing... (No, Not Crazy).\"\n",
            "________________________________________\n"
          ]
        },
        {
          "name": "stderr",
          "output_type": "stream",
          "text": [
            "\r290it [1:38:30, 19.56s/it]"
          ]
        },
        {
          "name": "stdout",
          "output_type": "stream",
          "text": [
            "\n",
            "\n",
            "Original title: Israel treating thousands of Syrians injured in war\n",
            "\n",
            "\n",
            "Clickbait title:   Israeli state-run news outlet Channel 10 is this article reporting on an operation to rescue some 200 people lying seriously or potentially seriously hurt on both sides of the highly veno-manly bufferfence which controls the rest of the Golan Heights.\n",
            "________________________________________\n"
          ]
        },
        {
          "name": "stderr",
          "output_type": "stream",
          "text": [
            "\r291it [1:38:50, 19.59s/it]"
          ]
        },
        {
          "name": "stdout",
          "output_type": "stream",
          "text": [
            "\n",
            "\n",
            "Original title: This Couple Surprised Their Bridal Party With Rescue Kittens At Their Wedding\n",
            "\n",
            "\n",
            "Clickbait title:   Meet the couple from Colorado's who arranged for their wedding party to get some animal love - all while waiting outside in the freezing rain.\n",
            "________________________________________\n"
          ]
        },
        {
          "name": "stderr",
          "output_type": "stream",
          "text": [
            "\r292it [1:39:09, 19.44s/it]"
          ]
        },
        {
          "name": "stdout",
          "output_type": "stream",
          "text": [
            "\n",
            "\n",
            "Original title: Delightfully geeky beanies are the perfect headwear for scientists of the resistance\n",
            "\n",
            "\n",
            "Clickbait title:   Some of science's most awesome inventions will apparently have an equally eye-catching name to go with them: colby-heads.\n",
            "________________________________________\n"
          ]
        },
        {
          "name": "stderr",
          "output_type": "stream",
          "text": [
            "\r293it [1:39:32, 20.45s/it]"
          ]
        },
        {
          "name": "stdout",
          "output_type": "stream",
          "text": [
            "\n",
            "\n",
            "Original title: Key Developments and Players in the Syrian Conflict\n",
            "\n",
            "\n",
            "Clickbait title:   BBC politics correspondent CrispaDescription - The five key questions facing reporters in this punchy feature on the world's longest burning war debate.\n",
            "________________________________________\n"
          ]
        },
        {
          "name": "stderr",
          "output_type": "stream",
          "text": [
            "\r294it [1:39:53, 20.75s/it]"
          ]
        },
        {
          "name": "stdout",
          "output_type": "stream",
          "text": [
            "\n",
            "\n",
            "Original title: Woman accused of choking girl for blocking Disney fireworks view\n",
            "\n",
            "\n",
            "Clickbait title:   A woman at a US amusement ground has beenBooking with a misderespectful count of sexual conduct with a youthful subject.,\n",
            "________________________________________\n"
          ]
        },
        {
          "name": "stderr",
          "output_type": "stream",
          "text": [
            "\r295it [1:40:16, 21.24s/it]"
          ]
        },
        {
          "name": "stdout",
          "output_type": "stream",
          "text": [
            "\n",
            "\n",
            "Original title: The moment Stockholm police catch the third beer truck 'terrorist' after a dramatic high-speed car chase: 'ISIS-supporting' Uzbeki father-of-four, 39, is arrested before another suspect is led away in handcuffs\n",
            "\n",
            "\n",
            "Clickbait title:   A selection of talking points from the storm of reports about a lorryramming a packed department store in the heart of the capital city of the Republic ofSWE skydiving into the stratosphere of terror.\n",
            "________________________________________\n"
          ]
        },
        {
          "name": "stderr",
          "output_type": "stream",
          "text": [
            "\r296it [1:40:34, 20.53s/it]"
          ]
        },
        {
          "name": "stdout",
          "output_type": "stream",
          "text": [
            "\n",
            "\n",
            "Original title: MTV gets rid of gender-specific categories for awards \n",
            "\n",
            "\n",
            "Clickbait title:   MTV has scrapped gender-trepidated prizes such as these, the most sexy male and female actors.\n",
            "________________________________________\n"
          ]
        },
        {
          "name": "stderr",
          "output_type": "stream",
          "text": [
            "\r297it [1:40:55, 20.49s/it]"
          ]
        },
        {
          "name": "stdout",
          "output_type": "stream",
          "text": [
            "\n",
            "\n",
            "Original title: Hair Loss, Warts, and Scars: Scientists ID the Facial Features Villains Have in Common [Video]\n",
            "\n",
            "\n",
            "Clickbait title:   People's skin is surprisingly complex, but some celebrities have skin conditions that people with similar body types don't, according to a simple theory from dermatologists.\n",
            "________________________________________\n"
          ]
        },
        {
          "name": "stderr",
          "output_type": "stream",
          "text": [
            "\r298it [1:41:16, 20.79s/it]"
          ]
        },
        {
          "name": "stdout",
          "output_type": "stream",
          "text": [
            "\n",
            "\n",
            "Original title: 88-year-old man honors wife's legacy by making blankets for children in need\n",
            "\n",
            "\n",
            "Clickbait title:   Click here to read the full story.6753167531..67531.\n",
            "________________________________________\n"
          ]
        },
        {
          "name": "stderr",
          "output_type": "stream",
          "text": [
            "\r299it [1:41:36, 20.36s/it]"
          ]
        },
        {
          "name": "stdout",
          "output_type": "stream",
          "text": [
            "\n",
            "\n",
            "Original title: 29 Products To Help You Have The Organized Home Of Your Dreams\n",
            "\n",
            "\n",
            "Clickbait title:   Check out the products featured on this week's 'Promising' round-up:.\n",
            "________________________________________\n"
          ]
        },
        {
          "name": "stderr",
          "output_type": "stream",
          "text": [
            "300it [1:41:57, 20.39s/it]"
          ]
        },
        {
          "name": "stdout",
          "output_type": "stream",
          "text": [
            "\n",
            "\n",
            "Original title: Watch these trans kids learn the value of self-love from their parents\n",
            "\n",
            "\n",
            "Clickbait title:   This video is an amazing tutorial on how to write an affirmations for your every whim, and is courtesy of The Scene.\n"
          ]
        },
        {
          "name": "stderr",
          "output_type": "stream",
          "text": [
            "\n"
          ]
        },
        {
          "data": {
            "text/html": [
              "\n",
              "  <div id=\"df-e9f62923-0037-4010-a3bd-08b8d24985e5\">\n",
              "    <div class=\"colab-df-container\">\n",
              "      <div>\n",
              "<style scoped>\n",
              "    .dataframe tbody tr th:only-of-type {\n",
              "        vertical-align: middle;\n",
              "    }\n",
              "\n",
              "    .dataframe tbody tr th {\n",
              "        vertical-align: top;\n",
              "    }\n",
              "\n",
              "    .dataframe thead th {\n",
              "        text-align: right;\n",
              "    }\n",
              "</style>\n",
              "<table border=\"1\" class=\"dataframe\">\n",
              "  <thead>\n",
              "    <tr style=\"text-align: right;\">\n",
              "      <th></th>\n",
              "      <th>original_title</th>\n",
              "      <th>clickbait_title</th>\n",
              "      <th>article_content</th>\n",
              "      <th>truthMean</th>\n",
              "    </tr>\n",
              "  </thead>\n",
              "  <tbody>\n",
              "    <tr>\n",
              "      <th>0</th>\n",
              "      <td>Johnny Manziel Says Top Pick in Draft Myles Ga...</td>\n",
              "      <td>Former Texas A and Sons \"super  bront guy\" ex...</td>\n",
              "      <td>[\"Johnny Manziel approves of the Cleveland Bro...</td>\n",
              "      <td>0.000000</td>\n",
              "    </tr>\n",
              "    <tr>\n",
              "      <th>1</th>\n",
              "      <td>Fabio: California Is a 'Mess' Because of Liber...</td>\n",
              "      <td>Fabio, the stars' famous love interest, share...</td>\n",
              "      <td>['Fabio, the Italian-born male model who has a...</td>\n",
              "      <td>0.066667</td>\n",
              "    </tr>\n",
              "    <tr>\n",
              "      <th>2</th>\n",
              "      <td>Jimmy Butler wants to return, hopes Bulls keep...</td>\n",
              "      <td>SandwichSandwich -..</td>\n",
              "      <td>[\"CHICAGO -- All-Star swingman Jimmy Butler kn...</td>\n",
              "      <td>1.000000</td>\n",
              "    </tr>\n",
              "    <tr>\n",
              "      <th>3</th>\n",
              "      <td>Mitchell Trubisky booed at United Center durin...</td>\n",
              "      <td>Watch the first 48 slides of all the 2017 NFL...</td>\n",
              "      <td>['CHICAGO -- New Bears quarterback Mitchell Tr...</td>\n",
              "      <td>0.266667</td>\n",
              "    </tr>\n",
              "    <tr>\n",
              "      <th>4</th>\n",
              "      <td>It's Not Enough to Give Employees Flexible Wor...</td>\n",
              "      <td>While many companies nowguarantee full-calori...</td>\n",
              "      <td>['Six months after her baby was born, Amanda S...</td>\n",
              "      <td>0.133333</td>\n",
              "    </tr>\n",
              "    <tr>\n",
              "      <th>...</th>\n",
              "      <td>...</td>\n",
              "      <td>...</td>\n",
              "      <td>...</td>\n",
              "      <td>...</td>\n",
              "    </tr>\n",
              "    <tr>\n",
              "      <th>295</th>\n",
              "      <td>MTV gets rid of gender-specific categories for...</td>\n",
              "      <td>MTV has scrapped gender-trepidated prizes suc...</td>\n",
              "      <td>['Viewers of the MTV Movie &amp; TV Awards next mo...</td>\n",
              "      <td>0.000000</td>\n",
              "    </tr>\n",
              "    <tr>\n",
              "      <th>296</th>\n",
              "      <td>Hair Loss, Warts, and Scars: Scientists ID the...</td>\n",
              "      <td>People's skin is surprisingly complex, but so...</td>\n",
              "      <td>['More', 'As a whole, movie villains have a ce...</td>\n",
              "      <td>0.400000</td>\n",
              "    </tr>\n",
              "    <tr>\n",
              "      <th>297</th>\n",
              "      <td>88-year-old man honors wife's legacy by making...</td>\n",
              "      <td>Click here to read the full story.6753167531....</td>\n",
              "      <td>['What started as a hobby his wife enjoyed has...</td>\n",
              "      <td>0.133333</td>\n",
              "    </tr>\n",
              "    <tr>\n",
              "      <th>298</th>\n",
              "      <td>29 Products To Help You Have The Organized Hom...</td>\n",
              "      <td>Check out the products featured on this week'...</td>\n",
              "      <td>['Log in or sign up to create your own posts.'...</td>\n",
              "      <td>0.733333</td>\n",
              "    </tr>\n",
              "    <tr>\n",
              "      <th>299</th>\n",
              "      <td>Watch these trans kids learn the value of self...</td>\n",
              "      <td>This video is an amazing tutorial on how to w...</td>\n",
              "      <td>[\"A boy in bright blue glasses sits on his mot...</td>\n",
              "      <td>0.200000</td>\n",
              "    </tr>\n",
              "  </tbody>\n",
              "</table>\n",
              "<p>300 rows × 4 columns</p>\n",
              "</div>\n",
              "      <button class=\"colab-df-convert\" onclick=\"convertToInteractive('df-e9f62923-0037-4010-a3bd-08b8d24985e5')\"\n",
              "              title=\"Convert this dataframe to an interactive table.\"\n",
              "              style=\"display:none;\">\n",
              "        \n",
              "  <svg xmlns=\"http://www.w3.org/2000/svg\" height=\"24px\"viewBox=\"0 0 24 24\"\n",
              "       width=\"24px\">\n",
              "    <path d=\"M0 0h24v24H0V0z\" fill=\"none\"/>\n",
              "    <path d=\"M18.56 5.44l.94 2.06.94-2.06 2.06-.94-2.06-.94-.94-2.06-.94 2.06-2.06.94zm-11 1L8.5 8.5l.94-2.06 2.06-.94-2.06-.94L8.5 2.5l-.94 2.06-2.06.94zm10 10l.94 2.06.94-2.06 2.06-.94-2.06-.94-.94-2.06-.94 2.06-2.06.94z\"/><path d=\"M17.41 7.96l-1.37-1.37c-.4-.4-.92-.59-1.43-.59-.52 0-1.04.2-1.43.59L10.3 9.45l-7.72 7.72c-.78.78-.78 2.05 0 2.83L4 21.41c.39.39.9.59 1.41.59.51 0 1.02-.2 1.41-.59l7.78-7.78 2.81-2.81c.8-.78.8-2.07 0-2.86zM5.41 20L4 18.59l7.72-7.72 1.47 1.35L5.41 20z\"/>\n",
              "  </svg>\n",
              "      </button>\n",
              "      \n",
              "  <style>\n",
              "    .colab-df-container {\n",
              "      display:flex;\n",
              "      flex-wrap:wrap;\n",
              "      gap: 12px;\n",
              "    }\n",
              "\n",
              "    .colab-df-convert {\n",
              "      background-color: #E8F0FE;\n",
              "      border: none;\n",
              "      border-radius: 50%;\n",
              "      cursor: pointer;\n",
              "      display: none;\n",
              "      fill: #1967D2;\n",
              "      height: 32px;\n",
              "      padding: 0 0 0 0;\n",
              "      width: 32px;\n",
              "    }\n",
              "\n",
              "    .colab-df-convert:hover {\n",
              "      background-color: #E2EBFA;\n",
              "      box-shadow: 0px 1px 2px rgba(60, 64, 67, 0.3), 0px 1px 3px 1px rgba(60, 64, 67, 0.15);\n",
              "      fill: #174EA6;\n",
              "    }\n",
              "\n",
              "    [theme=dark] .colab-df-convert {\n",
              "      background-color: #3B4455;\n",
              "      fill: #D2E3FC;\n",
              "    }\n",
              "\n",
              "    [theme=dark] .colab-df-convert:hover {\n",
              "      background-color: #434B5C;\n",
              "      box-shadow: 0px 1px 3px 1px rgba(0, 0, 0, 0.15);\n",
              "      filter: drop-shadow(0px 1px 2px rgba(0, 0, 0, 0.3));\n",
              "      fill: #FFFFFF;\n",
              "    }\n",
              "  </style>\n",
              "\n",
              "      <script>\n",
              "        const buttonEl =\n",
              "          document.querySelector('#df-e9f62923-0037-4010-a3bd-08b8d24985e5 button.colab-df-convert');\n",
              "        buttonEl.style.display =\n",
              "          google.colab.kernel.accessAllowed ? 'block' : 'none';\n",
              "\n",
              "        async function convertToInteractive(key) {\n",
              "          const element = document.querySelector('#df-e9f62923-0037-4010-a3bd-08b8d24985e5');\n",
              "          const dataTable =\n",
              "            await google.colab.kernel.invokeFunction('convertToInteractive',\n",
              "                                                     [key], {});\n",
              "          if (!dataTable) return;\n",
              "\n",
              "          const docLinkHtml = 'Like what you see? Visit the ' +\n",
              "            '<a target=\"_blank\" href=https://colab.research.google.com/notebooks/data_table.ipynb>data table notebook</a>'\n",
              "            + ' to learn more about interactive tables.';\n",
              "          element.innerHTML = '';\n",
              "          dataTable['output_type'] = 'display_data';\n",
              "          await google.colab.output.renderOutput(dataTable, element);\n",
              "          const docLink = document.createElement('div');\n",
              "          docLink.innerHTML = docLinkHtml;\n",
              "          element.appendChild(docLink);\n",
              "        }\n",
              "      </script>\n",
              "    </div>\n",
              "  </div>\n",
              "  "
            ],
            "text/plain": [
              "                                        original_title  \\\n",
              "0    Johnny Manziel Says Top Pick in Draft Myles Ga...   \n",
              "1    Fabio: California Is a 'Mess' Because of Liber...   \n",
              "2    Jimmy Butler wants to return, hopes Bulls keep...   \n",
              "3    Mitchell Trubisky booed at United Center durin...   \n",
              "4    It's Not Enough to Give Employees Flexible Wor...   \n",
              "..                                                 ...   \n",
              "295  MTV gets rid of gender-specific categories for...   \n",
              "296  Hair Loss, Warts, and Scars: Scientists ID the...   \n",
              "297  88-year-old man honors wife's legacy by making...   \n",
              "298  29 Products To Help You Have The Organized Hom...   \n",
              "299  Watch these trans kids learn the value of self...   \n",
              "\n",
              "                                       clickbait_title  \\\n",
              "0     Former Texas A and Sons \"super  bront guy\" ex...   \n",
              "1     Fabio, the stars' famous love interest, share...   \n",
              "2                                 SandwichSandwich -..   \n",
              "3     Watch the first 48 slides of all the 2017 NFL...   \n",
              "4     While many companies nowguarantee full-calori...   \n",
              "..                                                 ...   \n",
              "295   MTV has scrapped gender-trepidated prizes suc...   \n",
              "296   People's skin is surprisingly complex, but so...   \n",
              "297   Click here to read the full story.6753167531....   \n",
              "298   Check out the products featured on this week'...   \n",
              "299   This video is an amazing tutorial on how to w...   \n",
              "\n",
              "                                       article_content  truthMean  \n",
              "0    [\"Johnny Manziel approves of the Cleveland Bro...   0.000000  \n",
              "1    ['Fabio, the Italian-born male model who has a...   0.066667  \n",
              "2    [\"CHICAGO -- All-Star swingman Jimmy Butler kn...   1.000000  \n",
              "3    ['CHICAGO -- New Bears quarterback Mitchell Tr...   0.266667  \n",
              "4    ['Six months after her baby was born, Amanda S...   0.133333  \n",
              "..                                                 ...        ...  \n",
              "295  ['Viewers of the MTV Movie & TV Awards next mo...   0.000000  \n",
              "296  ['More', 'As a whole, movie villains have a ce...   0.400000  \n",
              "297  ['What started as a hobby his wife enjoyed has...   0.133333  \n",
              "298  ['Log in or sign up to create your own posts.'...   0.733333  \n",
              "299  [\"A boy in bright blue glasses sits on his mot...   0.200000  \n",
              "\n",
              "[300 rows x 4 columns]"
            ]
          },
          "execution_count": 32,
          "metadata": {},
          "output_type": "execute_result"
        }
      ],
      "source": [
        "condition_lambda = 25.0\n",
        "create_clickbait_samples(df_test, \n",
        "                            generation_model=generation_model, \n",
        "                            tokenizer=tokenizer, \n",
        "                            conditioning_model=conditioning_model, \n",
        "                            dataset_info=dataset_info, \n",
        "                            precondition_topk=precondition_topk, \n",
        "                            condition_lambda=condition_lambda, \n",
        "                            length_cutoff=length_cutoff, \n",
        "                            device=device,\n",
        "                            # save_file='../drive/MyDrive/nlp_lss_data/df_clickbait_test_condition_lambda_25.0_subset_300',\n",
        "                            # save_file='../drive/MyDrive/nlp_lss_data/df_clickbait_train')\n",
        "                            save_file='../drive/MyDrive/nlp_lss_data/df_clickbait_test_condition_lambda_25.0_subset_300_pegasus_webis_finetuned.csv'),\n",
        "                            subset = 300)"
      ]
    },
    {
      "cell_type": "code",
      "execution_count": null,
      "metadata": {
        "id": "DACuts3ZcosL"
      },
      "outputs": [],
      "source": []
    },
    {
      "cell_type": "markdown",
      "metadata": {
        "id": "iBCanGX8cp_Q"
      },
      "source": [
        "Checking the condition_lambda parameter influence on clickbaitiness of data "
      ]
    },
    {
      "cell_type": "code",
      "execution_count": null,
      "metadata": {
        "colab": {
          "base_uri": "https://localhost:8080/"
        },
        "id": "RoOftTZewv8g",
        "outputId": "019c4c89-3284-48ba-8af4-d0fd973c61e2"
      },
      "outputs": [
        {
          "name": "stdout",
          "output_type": "stream",
          "text": [
            "condition_lambda 10.0\n"
          ]
        },
        {
          "name": "stderr",
          "output_type": "stream",
          "text": [
            "\r0it [00:00, ?it/s]"
          ]
        },
        {
          "name": "stdout",
          "output_type": "stream",
          "text": [
            "________________________________________\n"
          ]
        },
        {
          "name": "stderr",
          "output_type": "stream",
          "text": [
            "/content/naacl-2021-fudge-controlled-generation/model.py:170: UserWarning: To copy construct from a tensor, it is recommended to use sourceTensor.clone().detach() or sourceTensor.clone().detach().requires_grad_(True), rather than torch.tensor(sourceTensor).\n",
            "  input_ids = torch.tensor(inputs)\n",
            "1it [00:10, 10.03s/it]"
          ]
        },
        {
          "name": "stdout",
          "output_type": "stream",
          "text": [
            "\n",
            "\n",
            "Original title: Johnny Manziel Says Top Pick in Draft Myles Garrett Will 'Do Wonders' for Browns\n",
            "\n",
            "\n",
            "Clickbait title:   Johnny Manziel Myles Garrett, Browns' Draft Pick   Johnny Manziel  Johnny Get Johnny...\n",
            "________________________________________\n"
          ]
        },
        {
          "name": "stderr",
          "output_type": "stream",
          "text": [
            "\r2it [00:19,  9.82s/it]"
          ]
        },
        {
          "name": "stdout",
          "output_type": "stream",
          "text": [
            "\n",
            "\n",
            "Original title: Fabio: California Is a 'Mess' Because of Liberal Policies  Insider\n",
            "\n",
            "\n",
            "Clickbait title:   Fabio Attacks California ‘A Mess’, Says Politics ‘Make ‘It Worse’ — and ‘They’re Murdering People!’\n",
            "________________________________________\n"
          ]
        },
        {
          "name": "stderr",
          "output_type": "stream",
          "text": [
            "\r3it [00:29, 10.01s/it]"
          ]
        },
        {
          "name": "stdout",
          "output_type": "stream",
          "text": [
            "\n",
            "\n",
            "Original title: Jimmy Butler wants to return, hopes Bulls keep Rajon Rondo\n",
            "\n",
            "\n",
            "Clickbait title:   Jimmy Butler to The Bulls: 'I Want To Stay' Coach Hoiberg, Rondo Future Team .:\n",
            "________________________________________\n"
          ]
        },
        {
          "name": "stderr",
          "output_type": "stream",
          "text": [
            "\r4it [00:39,  9.94s/it]"
          ]
        },
        {
          "name": "stdout",
          "output_type": "stream",
          "text": [
            "\n",
            "\n",
            "Original title: Mitchell Trubisky booed at United Center during Bulls-Celtics game\n",
            "\n",
            "\n",
            "Clickbait title:   Bears draft pick Mitchell Trubisky boos boos during Chicago Bulls playoff game     \n",
            "________________________________________\n"
          ]
        },
        {
          "name": "stderr",
          "output_type": "stream",
          "text": [
            "\r5it [00:49,  9.75s/it]"
          ]
        },
        {
          "name": "stdout",
          "output_type": "stream",
          "text": [
            "\n",
            "\n",
            "Original title: It's Not Enough to Give Employees Flexible Work Schedules\n",
            "\n",
            "\n",
            "Clickbait title:   Adobe Considers Your Future to Bend the Working Person. to the Working Person Under Your Chair You are Listening Watch\n",
            "________________________________________\n"
          ]
        },
        {
          "name": "stderr",
          "output_type": "stream",
          "text": [
            "\r6it [00:59,  9.80s/it]"
          ]
        },
        {
          "name": "stdout",
          "output_type": "stream",
          "text": [
            "\n",
            "\n",
            "Original title: Out Of 15 Lakh Registered Companies In India, 9 Lakh Don't File Returns! Money Laundering Suspected\n",
            "\n",
            "\n",
            "Clickbait title:   India Financier Says India Shell Companies 'Potentially Dwindling Money':.,... For more videos, follow us on Twitter \n",
            "________________________________________\n"
          ]
        },
        {
          "name": "stderr",
          "output_type": "stream",
          "text": [
            "\r7it [01:09,  9.86s/it]"
          ]
        },
        {
          "name": "stdout",
          "output_type": "stream",
          "text": [
            "\n",
            "\n",
            "Original title: Tense moment plane lands without wheel\n",
            "\n",
            "\n",
            "Clickbait title:   Plane forced to make emergency landing after losing a wheel in mid-flight co \n",
            "________________________________________\n"
          ]
        },
        {
          "name": "stderr",
          "output_type": "stream",
          "text": [
            "\r8it [01:18,  9.86s/it]"
          ]
        },
        {
          "name": "stdout",
          "output_type": "stream",
          "text": [
            "\n",
            "\n",
            "Original title: Stars Who Got Their Start on Soap Operas\n",
            "\n",
            "\n",
            "Clickbait title:   We’re Looking Back at the Biggest Stars Who Broke Their Teeth on Soaps 5 To Know 0.\n",
            "________________________________________\n"
          ]
        },
        {
          "name": "stderr",
          "output_type": "stream",
          "text": [
            "\r9it [01:28,  9.85s/it]"
          ]
        },
        {
          "name": "stdout",
          "output_type": "stream",
          "text": [
            "\n",
            "\n",
            "Original title: Trump: My first 100 days are 'just about the most successful' in US history \n",
            "\n",
            "\n",
            "Clickbait title:   Trump: 'I Truly Believe That the First 100 Days' of his Administration Has Been Just About the Most Successful in our Country's History']\n",
            "________________________________________\n"
          ]
        },
        {
          "name": "stderr",
          "output_type": "stream",
          "text": [
            "\r10it [01:38,  9.90s/it]"
          ]
        },
        {
          "name": "stdout",
          "output_type": "stream",
          "text": [
            "\n",
            "\n",
            "Original title: U.S. wants more U.N. sanctions over North Korea’s nuclear arms, warns time is short\n",
            "\n",
            "\n",
            "Clickbait title:   Tillerson says new sanctions must be imposed, warns US without budging. Trump says there’s a chance of conflict  <unk>  .\n",
            "________________________________________\n"
          ]
        },
        {
          "name": "stderr",
          "output_type": "stream",
          "text": [
            "\r11it [01:48,  9.81s/it]"
          ]
        },
        {
          "name": "stdout",
          "output_type": "stream",
          "text": [
            "\n",
            "\n",
            "Original title: Science Wants You To Dig Your Nose And Eat Those Boogers Because It's Healthy!\n",
            "\n",
            "\n",
            "Clickbait title:   Don’t Don’t Quit Those Nose Sensies, Eat The Dry-Out Snot! The Scientists You Those  ... [ \n",
            "________________________________________\n"
          ]
        },
        {
          "name": "stderr",
          "output_type": "stream",
          "text": [
            "\r12it [01:57,  9.61s/it]"
          ]
        },
        {
          "name": "stdout",
          "output_type": "stream",
          "text": [
            "\n",
            "\n",
            "Original title: A Star Goldman Trader Goes Cold\n",
            "\n",
            "\n",
            "Clickbait title:   Goldman's 'Black Book' Profits Give Flop to Profits of Rivals Undermine Earnings, Profit Don't Lose, at Best ]\n",
            "________________________________________\n"
          ]
        },
        {
          "name": "stderr",
          "output_type": "stream",
          "text": [
            "\r13it [02:07,  9.59s/it]"
          ]
        },
        {
          "name": "stdout",
          "output_type": "stream",
          "text": [
            "\n",
            "\n",
            "Original title: DMX Enters Rehab: Report\n",
            "\n",
            "\n",
            "Clickbait title:   Late DMX Admits to Rehab Cancels Show  : DMX Admits to Rehab\n",
            "________________________________________\n"
          ]
        },
        {
          "name": "stderr",
          "output_type": "stream",
          "text": [
            "\r14it [02:16,  9.62s/it]"
          ]
        },
        {
          "name": "stdout",
          "output_type": "stream",
          "text": [
            "\n",
            "\n",
            "Original title: Money is pouring into the world's hottest investment product at nearly a record-setting pace\n",
            "\n",
            "\n",
            "Clickbait title:   Chart: One of the most prolific funds ever had an unprecedented one-week surge -\n",
            "________________________________________\n"
          ]
        },
        {
          "name": "stderr",
          "output_type": "stream",
          "text": [
            "\r15it [02:26,  9.65s/it]"
          ]
        },
        {
          "name": "stdout",
          "output_type": "stream",
          "text": [
            "\n",
            "\n",
            "Original title: ‘Wonder Woman,’ ‘Spider-Man’ and How Trailers Push the Familiar \n",
            "\n",
            "\n",
            "Clickbait title:   'Wonder Woman' Offers Something More its Daughter Wonder Woman Meets New Spider-Man Fantastic and Powerful: Which Superhero Films They Are Targeted Towards\n",
            "________________________________________\n"
          ]
        },
        {
          "name": "stderr",
          "output_type": "stream",
          "text": [
            "\r16it [02:36,  9.88s/it]"
          ]
        },
        {
          "name": "stdout",
          "output_type": "stream",
          "text": [
            "\n",
            "\n",
            "Original title: Ariana Grande & Cashmere Cat Have Teamed Up for a Third Time: Listen to 'Quit'\n",
            "\n",
            "\n",
            "Clickbait title:   Ariana Grande And Cashmere Cat Team Up For 'Quit': Listen Streaming\n",
            "________________________________________\n"
          ]
        },
        {
          "name": "stderr",
          "output_type": "stream",
          "text": [
            "\r17it [02:46,  9.91s/it]"
          ]
        },
        {
          "name": "stdout",
          "output_type": "stream",
          "text": [
            "\n",
            "\n",
            "Original title: Macron’s rise shows that extremism – whether left or right – is not inevitable\n",
            "\n",
            "\n",
            "Clickbait title:   A new French party may save the day more than a decade after her last!: why the political centre can hold on the far-right\n",
            "________________________________________\n"
          ]
        },
        {
          "name": "stderr",
          "output_type": "stream",
          "text": [
            "\r18it [02:56,  9.86s/it]"
          ]
        },
        {
          "name": "stdout",
          "output_type": "stream",
          "text": [
            "\n",
            "\n",
            "Original title: NFL Draft 2017: Projected Salary For Mitchell Trubisky And Other First-Round Picks\n",
            "\n",
            "\n",
            "Clickbait title:   What To Expect From The 2017 NFL Draft P and []\n",
            "________________________________________\n"
          ]
        },
        {
          "name": "stderr",
          "output_type": "stream",
          "text": [
            "\r19it [03:06,  9.86s/it]"
          ]
        },
        {
          "name": "stdout",
          "output_type": "stream",
          "text": [
            "\n",
            "\n",
            "Original title: Pope Urges Egypt Imams to Teach And Preach Tolerance, Peace\n",
            "\n",
            "\n",
            "Clickbait title:   Pope Francis to preach a message of peace in Egypt  as he opens Cairo visit..\n",
            "________________________________________\n"
          ]
        },
        {
          "name": "stderr",
          "output_type": "stream",
          "text": [
            "\r20it [03:16,  9.92s/it]"
          ]
        },
        {
          "name": "stdout",
          "output_type": "stream",
          "text": [
            "\n",
            "\n",
            "Original title: Job-Stealing Robots? Meet Your Maker\n",
            "\n",
            "\n",
            "Clickbait title:   Robots and Michigan help they will replace us—-\n",
            "________________________________________\n"
          ]
        },
        {
          "name": "stderr",
          "output_type": "stream",
          "text": [
            "\r21it [03:26,  9.90s/it]"
          ]
        },
        {
          "name": "stdout",
          "output_type": "stream",
          "text": [
            "\n",
            "\n",
            "Original title: Barclays Net Profit Tumbles on Africa Write-Down \n",
            "\n",
            "\n",
            "Clickbait title:   Barclays Falls as Profit Nails  African Drop Declines In Investment Bank Returns  \n",
            "________________________________________\n"
          ]
        },
        {
          "name": "stderr",
          "output_type": "stream",
          "text": [
            "\r22it [03:36,  9.97s/it]"
          ]
        },
        {
          "name": "stdout",
          "output_type": "stream",
          "text": [
            "\n",
            "\n",
            "Original title: Chinese Smartphone Makers Are Catching Up With Apple\n",
            "\n",
            "\n",
            "Clickbait title:   In 2017, the top five smartphone makers by actively active users in the world by active - users    -. \n",
            "________________________________________\n"
          ]
        },
        {
          "name": "stderr",
          "output_type": "stream",
          "text": [
            "\r23it [03:45,  9.79s/it]"
          ]
        },
        {
          "name": "stdout",
          "output_type": "stream",
          "text": [
            "\n",
            "\n",
            "Original title: Trump's tax plan could cost an estimated $5.5 trillion\n",
            "\n",
            "\n",
            "Clickbait title:   Trump's tax plan Is May Be Just as Bad a Backbreaker  As A Fine Tune \n",
            "________________________________________\n"
          ]
        },
        {
          "name": "stderr",
          "output_type": "stream",
          "text": [
            "\r24it [03:55,  9.81s/it]"
          ]
        },
        {
          "name": "stdout",
          "output_type": "stream",
          "text": [
            "\n",
            "\n",
            "Original title: On Same Day Massive Layoffs Begin, ESPNW Celebrates Black Power Icon and Fugitive Cop Killer\n",
            "\n",
            "\n",
            "Clickbait title:   ESPN Women Issue Planned \"Look Back\" Website’s Pieces  Love a Race Baiter up!!\n",
            "________________________________________\n"
          ]
        },
        {
          "name": "stderr",
          "output_type": "stream",
          "text": [
            "\r25it [04:05,  9.79s/it]"
          ]
        },
        {
          "name": "stdout",
          "output_type": "stream",
          "text": [
            "\n",
            "\n",
            "Original title: Trump Says 'Major, Major' Conflict With North Korea Possible, But Seeks Diplomacy\n",
            "\n",
            "\n",
            "Clickbait title:   Trump: Major Conflict Possible With North Korea Briefings on Tension Move   Donald Trump   \n",
            "________________________________________\n"
          ]
        },
        {
          "name": "stderr",
          "output_type": "stream",
          "text": [
            "\r26it [04:15,  9.77s/it]"
          ]
        },
        {
          "name": "stdout",
          "output_type": "stream",
          "text": [
            "\n",
            "\n",
            "Original title: 4 Ways Entrepreneurs Can Use Technology To Stay Fit On The Road\n",
            "\n",
            "\n",
            "Clickbait title:   Why You Can't Run Slow And Seriously Undo Your Workout Routine For Business 3 Tech Startups That Brought You Your Health\n",
            "________________________________________\n"
          ]
        },
        {
          "name": "stderr",
          "output_type": "stream",
          "text": [
            "\r27it [04:25,  9.97s/it]"
          ]
        },
        {
          "name": "stdout",
          "output_type": "stream",
          "text": [
            "\n",
            "\n",
            "Original title: 'I know he is alive': wife of Taiwan activist seized by China pleads for release\n",
            "\n",
            "\n",
            "Clickbait title:   Wife of detained Chinese human rights activist demanding help from EU and US... not  <unk>\n",
            "________________________________________\n"
          ]
        },
        {
          "name": "stderr",
          "output_type": "stream",
          "text": [
            "\r28it [04:35,  9.91s/it]"
          ]
        },
        {
          "name": "stdout",
          "output_type": "stream",
          "text": [
            "\n",
            "\n",
            "Original title: Special Immigrant Visa Worth Billions Faces D-Day\n",
            "\n",
            "\n",
            "Clickbait title:   What Most People Think Of The Last-Minute Investor Visa for the U.S.. To Our Guests \n",
            "________________________________________\n"
          ]
        },
        {
          "name": "stderr",
          "output_type": "stream",
          "text": [
            "\r29it [04:45, 10.02s/it]"
          ]
        },
        {
          "name": "stdout",
          "output_type": "stream",
          "text": [
            "\n",
            "\n",
            "Original title: Ranking 2017 draft's top 100 players\n",
            "\n",
            "\n",
            "Clickbait title:   NFL draft: Here is one man's rankings of the best players in the 2017 class... and more on\n",
            "________________________________________\n"
          ]
        },
        {
          "name": "stderr",
          "output_type": "stream",
          "text": [
            "\r30it [04:57, 10.44s/it]"
          ]
        },
        {
          "name": "stdout",
          "output_type": "stream",
          "text": [
            "\n",
            "\n",
            "Original title: Udaipur Boy Kalpit Veerval Tops IIT Entrance Rankings, Scores 100% In JEE Mains\n",
            "\n",
            "\n",
            "Clickbait title:   CGCE IIT Joint Entrance Exam - Results 2017: Kalpit Veerval wins a 100% in the Exam /\n",
            "________________________________________\n"
          ]
        },
        {
          "name": "stderr",
          "output_type": "stream",
          "text": [
            "\r31it [05:06, 10.12s/it]"
          ]
        },
        {
          "name": "stdout",
          "output_type": "stream",
          "text": [
            "\n",
            "\n",
            "Original title: Airline Industry Experts Approve of United’s Policy Changes\n",
            "\n",
            "\n",
            "Clickbait title:   Insiders Say United's Ten-Point Plan Is Truly Credibility Building)\n",
            "________________________________________\n"
          ]
        },
        {
          "name": "stderr",
          "output_type": "stream",
          "text": [
            "\r32it [05:15,  9.88s/it]"
          ]
        },
        {
          "name": "stdout",
          "output_type": "stream",
          "text": [
            "\n",
            "\n",
            "Original title: Obama's $400G Wall Street speech leaves liberal base stunned \n",
            "\n",
            "\n",
            "Clickbait title:   Democrats And For Whom The Left Is Calling, Watch What End For Former Obama 's Wall Street Speech dash In the Meantime\n",
            "________________________________________\n"
          ]
        },
        {
          "name": "stderr",
          "output_type": "stream",
          "text": [
            "\r33it [05:26, 10.00s/it]"
          ]
        },
        {
          "name": "stdout",
          "output_type": "stream",
          "text": [
            "\n",
            "\n",
            "Original title: Jealous wife chops off her husband's PENIS with a pair of scissors after growing 'tired of his womanising'\n",
            "\n",
            "\n",
            "Clickbait title:   Man - with a pair of scissors, cuts off his wife's manhood just hours after falling asleep with friends  as his\n",
            "________________________________________\n"
          ]
        },
        {
          "name": "stderr",
          "output_type": "stream",
          "text": [
            "\r34it [05:34,  9.54s/it]"
          ]
        },
        {
          "name": "stdout",
          "output_type": "stream",
          "text": [
            "\n",
            "\n",
            "Original title: Circling Back to Voters, 100 Days Into Trump Era \n",
            "\n",
            "\n",
            "Clickbait title:   Voters Asked about President Trump 100 Days in Office   About      t ‘Yes’ Requests  ‘No’ ] \n",
            "________________________________________\n"
          ]
        },
        {
          "name": "stderr",
          "output_type": "stream",
          "text": [
            "\r35it [05:44,  9.61s/it]"
          ]
        },
        {
          "name": "stdout",
          "output_type": "stream",
          "text": [
            "\n",
            "\n",
            "Original title: Trump eyes bid to split up 9th Circuit court amid sanctuary city, travel ban disputes \n",
            "\n",
            "\n",
            "Clickbait title:   Trump says he ‘will do whatever’ is necessary to break up appeals court and ‘,’ and ‘,’’,’\n",
            "________________________________________\n"
          ]
        },
        {
          "name": "stderr",
          "output_type": "stream",
          "text": [
            "\r36it [05:53,  9.44s/it]"
          ]
        },
        {
          "name": "stdout",
          "output_type": "stream",
          "text": [
            "\n",
            "\n",
            "Original title: The Drumbeats Don’t Add Up to Imminent War With North Korea \n",
            "\n",
            "\n",
            "Clickbait title:   The US and the North Much Less Fragile Than You Think  the Latest Threat Looming .”  \n",
            "________________________________________\n"
          ]
        },
        {
          "name": "stderr",
          "output_type": "stream",
          "text": [
            "\r37it [06:04,  9.89s/it]"
          ]
        },
        {
          "name": "stdout",
          "output_type": "stream",
          "text": [
            "\n",
            "\n",
            "Original title: RNC Chair: GOP Base Will ‘Walk Away’ in Midterms If Border Wall Is Not Built\n",
            "\n",
            "\n",
            "Clickbait title:   RNC’s McDaniel: GOP Members Must Help Trump Build Border Wall If Voters Will Walk Away] \n",
            "________________________________________\n"
          ]
        },
        {
          "name": "stderr",
          "output_type": "stream",
          "text": [
            "\r38it [06:14,  9.85s/it]"
          ]
        },
        {
          "name": "stdout",
          "output_type": "stream",
          "text": [
            "\n",
            "\n",
            "Original title: United Takes Added Steps to Win Back Customers and Avoid More Ugly Events \n",
            "\n",
            "\n",
            "Clickbait title:   United Airlines Will Seek $10,000 in Compensation for Vital Passengers   Video Shows A Dr. Disturbing Detail    \n",
            "________________________________________\n"
          ]
        },
        {
          "name": "stderr",
          "output_type": "stream",
          "text": [
            "\r39it [06:23,  9.73s/it]"
          ]
        },
        {
          "name": "stdout",
          "output_type": "stream",
          "text": [
            "\n",
            "\n",
            "Original title: Top officials emphasize diplomatic, economic pressure on North Korea in briefing\n",
            "\n",
            "\n",
            "Clickbait title:   The Senate met in White House for North Korea briefing  more     ?      \n",
            "________________________________________\n"
          ]
        },
        {
          "name": "stderr",
          "output_type": "stream",
          "text": [
            "\r40it [06:32,  9.62s/it]"
          ]
        },
        {
          "name": "stdout",
          "output_type": "stream",
          "text": [
            "\n",
            "\n",
            "Original title: UK helps Australian gay couples marry\n",
            "\n",
            "\n",
            "Clickbait title:   Same-sex marriage 'happens in every state': UK has become first to let gay wedding ceremony using law \n",
            "________________________________________\n"
          ]
        },
        {
          "name": "stderr",
          "output_type": "stream",
          "text": [
            "\r41it [06:42,  9.60s/it]"
          ]
        },
        {
          "name": "stdout",
          "output_type": "stream",
          "text": [
            "\n",
            "\n",
            "Original title: Department Of Education Moves To Make Student Loan Process Easier While IRS Tool Is Down\n",
            "\n",
            "\n",
            "Clickbait title:   \"I'll Let You Do It\": Colleges Aren't Stuck With This Mistake And It's Taking Less Time than You Think...\n",
            "________________________________________\n"
          ]
        },
        {
          "name": "stderr",
          "output_type": "stream",
          "text": [
            "\r42it [06:52,  9.60s/it]"
          ]
        },
        {
          "name": "stdout",
          "output_type": "stream",
          "text": [
            "\n",
            "\n",
            "Original title: Undercover video of human organ traders\n",
            "\n",
            "\n",
            "Clickbait title:   WorldVibes:  Organ dealers in the Middle East -\n",
            "________________________________________\n"
          ]
        },
        {
          "name": "stderr",
          "output_type": "stream",
          "text": [
            "\r43it [07:02,  9.89s/it]"
          ]
        },
        {
          "name": "stdout",
          "output_type": "stream",
          "text": [
            "\n",
            "\n",
            "Original title: Turkey suspends more than 9,000 police officers over 'Gulen links'\n",
            "\n",
            "\n",
            "Clickbait title:   Turkish police suspend more than 8,300 officers over suspected links to leader Fethullah Gulen may\n",
            "________________________________________\n"
          ]
        },
        {
          "name": "stderr",
          "output_type": "stream",
          "text": [
            "\r44it [07:12,  9.85s/it]"
          ]
        },
        {
          "name": "stdout",
          "output_type": "stream",
          "text": [
            "\n",
            "\n",
            "Original title: Turkish terrorism watch list includes over 400 suspected Australian jihadists\n",
            "\n",
            "\n",
            "Clickbait title:   Isil: Potentially 420 IS fighters among countless Australian jihadists on list: list.\n",
            "________________________________________\n"
          ]
        },
        {
          "name": "stderr",
          "output_type": "stream",
          "text": [
            "\r45it [07:22, 10.08s/it]"
          ]
        },
        {
          "name": "stdout",
          "output_type": "stream",
          "text": [
            "\n",
            "\n",
            "Original title: HSU accuses Guardian Property Services of exploiting its aged care facility cleaners\n",
            "\n",
            "\n",
            "Clickbait title:   Guardian Cleaning Company underpaying staff by a factor of more than $2m - reports ...... about\n",
            "________________________________________\n"
          ]
        },
        {
          "name": "stderr",
          "output_type": "stream",
          "text": [
            "\r46it [07:32, 10.07s/it]"
          ]
        },
        {
          "name": "stdout",
          "output_type": "stream",
          "text": [
            "\n",
            "\n",
            "Original title: 32-year-old Browns lineman Joe Thomas on already experiencing memory loss: 'Every profession' has 'some lasting effects ... the damage has already been done'\n",
            "\n",
            "\n",
            "Clickbait title:   Seattle Seahawks free safety Earl Thomas says he regrets playing football too long and that his memory loss will 'put his wife through the ringer' Joe Wilcox.\n",
            "________________________________________\n"
          ]
        },
        {
          "name": "stderr",
          "output_type": "stream",
          "text": [
            "\r47it [07:42, 10.02s/it]"
          ]
        },
        {
          "name": "stdout",
          "output_type": "stream",
          "text": [
            "\n",
            "\n",
            "Original title: NBC NewsVerifizierter Account\n",
            "\n",
            "\n",
            "Clickbait title:   NBC NewsVerifizierter Account S7 : twitter.com Facebook social media\n",
            "________________________________________\n"
          ]
        },
        {
          "name": "stderr",
          "output_type": "stream",
          "text": [
            "\r48it [07:52,  9.81s/it]"
          ]
        },
        {
          "name": "stdout",
          "output_type": "stream",
          "text": [
            "\n",
            "\n",
            "Original title: Congresswomen meet to discuss missing women of color \n",
            "\n",
            "\n",
            "Clickbait title:   Washington Urged to Be a 'Representative Of Hope' For Missing Kids One Is Too Much  \n",
            "________________________________________\n"
          ]
        },
        {
          "name": "stderr",
          "output_type": "stream",
          "text": [
            "\r49it [08:01,  9.75s/it]"
          ]
        },
        {
          "name": "stdout",
          "output_type": "stream",
          "text": [
            "\n",
            "\n",
            "Original title: The best-selling vehicle in every US state\n",
            "\n",
            "\n",
            "Clickbait title:   Ranking every state and city by its top-selling car in 2018) by state\n",
            "________________________________________\n"
          ]
        },
        {
          "name": "stderr",
          "output_type": "stream",
          "text": [
            "\r50it [08:11,  9.73s/it]"
          ]
        },
        {
          "name": "stdout",
          "output_type": "stream",
          "text": [
            "\n",
            "\n",
            "Original title: Artistic Prom Dress That Student Painted on Her Own Will Make You ‘Scream’ [Video]\n",
            "\n",
            "\n",
            "Clickbait title:   'Painting this dress,' student turns out to be own- and. and. After 20 hours, this woman recreated her\n",
            "________________________________________\n"
          ]
        },
        {
          "name": "stderr",
          "output_type": "stream",
          "text": [
            "\r51it [08:20,  9.38s/it]"
          ]
        },
        {
          "name": "stdout",
          "output_type": "stream",
          "text": [
            "\n",
            "\n",
            "Original title: Fox On-Air Host Joins Racial-Bias Suit \n",
            "\n",
            "\n",
            "Clickbait title:   Fox News Stirs Racial Scare As Fox Takes Hit  Diversity Diversity    Fox News  Former Employee Gets Wrong Side of Race Discrimination\n",
            "________________________________________\n"
          ]
        },
        {
          "name": "stderr",
          "output_type": "stream",
          "text": [
            "\r52it [08:30,  9.64s/it]"
          ]
        },
        {
          "name": "stdout",
          "output_type": "stream",
          "text": [
            "\n",
            "\n",
            "Original title: Latest Uber controversy sheds light on how companies use your emails\n",
            "\n",
            "\n",
            "Clickbait title:   The Uber-Slasher email scandal is an extraordinary symptom of how a powerful marketing industry tracks users has us all started  \n",
            "________________________________________\n"
          ]
        },
        {
          "name": "stderr",
          "output_type": "stream",
          "text": [
            "\r53it [08:40,  9.73s/it]"
          ]
        },
        {
          "name": "stdout",
          "output_type": "stream",
          "text": [
            "\n",
            "\n",
            "Original title: Groups File Ethics Complaints Over State Department’s Mar-a-Lago Blog Post\n",
            "\n",
            "\n",
            "Clickbait title:   Ethics Advocacy Group Files Complaint State Department Has Comments About Trump Club /  ) \n",
            "________________________________________\n"
          ]
        },
        {
          "name": "stderr",
          "output_type": "stream",
          "text": [
            "\r54it [08:50, 10.01s/it]"
          ]
        },
        {
          "name": "stdout",
          "output_type": "stream",
          "text": [
            "\n",
            "\n",
            "Original title: Sara Evans Launches Born to Fly Records: No More 'Following the Rules of Anyone Else'\n",
            "\n",
            "\n",
            "Clickbait title:   Sara Evans to Release New Album, Single and Music Video This Summer — Exclusive \n",
            "________________________________________\n"
          ]
        },
        {
          "name": "stderr",
          "output_type": "stream",
          "text": [
            "\r55it [09:00,  9.91s/it]"
          ]
        },
        {
          "name": "stdout",
          "output_type": "stream",
          "text": [
            "\n",
            "\n",
            "Original title: Man Broadcasts Murder of Infant Daughter on Facebook, Then Kills Himself\n",
            "\n",
            "\n",
            "Clickbait title:   Thai Man Shows Off His Children’s Murder on Facebook  Later Killed—) \n",
            "________________________________________\n"
          ]
        },
        {
          "name": "stderr",
          "output_type": "stream",
          "text": [
            "\r56it [09:10,  9.98s/it]"
          ]
        },
        {
          "name": "stdout",
          "output_type": "stream",
          "text": [
            "\n",
            "\n",
            "Original title: Mizoram CM Lal Thanhawla Says That Not Just Commoners, Even Politicians Across India Are Racist\n",
            "\n",
            "\n",
            "Clickbait title:   Mizoram Chief Minister Wants Weren't Ours Waster To Speak Out Against Racism by IANS\n",
            "________________________________________\n"
          ]
        },
        {
          "name": "stderr",
          "output_type": "stream",
          "text": [
            "\r57it [09:20, 10.04s/it]"
          ]
        },
        {
          "name": "stdout",
          "output_type": "stream",
          "text": [
            "\n",
            "\n",
            "Original title: How coral of Great Barrier Reef could be saved by big, bright clouds\n",
            "\n",
            "\n",
            "Clickbait title:   Scientists investigating ways to halt the destruction of the Great Barrier Reef  brightening sky  ); and   \n",
            "________________________________________\n"
          ]
        },
        {
          "name": "stderr",
          "output_type": "stream",
          "text": [
            "\r58it [09:30, 10.00s/it]"
          ]
        },
        {
          "name": "stdout",
          "output_type": "stream",
          "text": [
            "\n",
            "\n",
            "Original title: Trump's Tariffs Bring Peso and Loonie Bears Back to Life\n",
            "\n",
            "\n",
            "Clickbait title:   The Canadian and Peso Soar as Fear of Trump Returns.: the list    \n",
            "________________________________________\n"
          ]
        },
        {
          "name": "stderr",
          "output_type": "stream",
          "text": [
            "\r59it [09:40, 10.03s/it]"
          ]
        },
        {
          "name": "stdout",
          "output_type": "stream",
          "text": [
            "\n",
            "\n",
            "Original title: Are you buying the Yankees' hot start?\n",
            "\n",
            "\n",
            "Clickbait title:   All-Star panel: Are the Yankees on the brink of greatness? Vote here all these things can you pull off this thing?  the right person, that person will get us to the end of the\n",
            "________________________________________\n"
          ]
        },
        {
          "name": "stderr",
          "output_type": "stream",
          "text": [
            "\r60it [09:50,  9.99s/it]"
          ]
        },
        {
          "name": "stdout",
          "output_type": "stream",
          "text": [
            "\n",
            "\n",
            "Original title: The 6 Biggest Credit Mistakes Millennials Are Making\n",
            "\n",
            "\n",
            "Clickbait title:   6 Credit Mistakes Millennials Should Be Avoiding Before You Get Any Bigger, Bigger Loans tor and then ah above and\n",
            "________________________________________\n"
          ]
        },
        {
          "name": "stderr",
          "output_type": "stream",
          "text": [
            "\r61it [10:00, 10.02s/it]"
          ]
        },
        {
          "name": "stdout",
          "output_type": "stream",
          "text": [
            "\n",
            "\n",
            "Original title: Partner of gay policeman murdered in latest Paris terror attack pays tribute as the victim is honoured at ceremony attended by Le Pen and Macron - still bitterly divided on how to deal with jihadist extremists\n",
            "\n",
            "\n",
            "Clickbait title:   French presidential hopefuls join Paris attack: Emmanuel Macron, Marine Le Pen attend ceremony to honour police officer killed\n",
            "________________________________________\n"
          ]
        },
        {
          "name": "stderr",
          "output_type": "stream",
          "text": [
            "\r62it [10:10,  9.86s/it]"
          ]
        },
        {
          "name": "stdout",
          "output_type": "stream",
          "text": [
            "\n",
            "\n",
            "Original title: Dale Earnhardt Jr. retiring from NASCAR after 2017 season\n",
            "\n",
            "\n",
            "Clickbait title:   Dale Jr. to RETIRE From NASCAR After 2017 Season video on NBC Sports app.\n",
            "________________________________________\n"
          ]
        },
        {
          "name": "stderr",
          "output_type": "stream",
          "text": [
            "\r63it [10:19,  9.68s/it]"
          ]
        },
        {
          "name": "stdout",
          "output_type": "stream",
          "text": [
            "\n",
            "\n",
            "Original title: EXCLUSIVE – Clinton Sex Accusers Slam ‘Hypocritical’ Media over Bill O’Reilly Coverage\n",
            "\n",
            "\n",
            "Clickbait title:   Victims of Bill Clinton Accusers Slam ‘Two for Ed’ Media for Their Dismissing Sexual Harassment Charges Bill O’Reilly Dismissed’\n",
            "________________________________________\n"
          ]
        },
        {
          "name": "stderr",
          "output_type": "stream",
          "text": [
            "\r64it [10:29,  9.62s/it]"
          ]
        },
        {
          "name": "stdout",
          "output_type": "stream",
          "text": [
            "\n",
            "\n",
            "Original title: 8 Habits That Make Millennials Stressed, Anxious And Unproductive\n",
            "\n",
            "\n",
            "Clickbait title:   When You Don't Have A Great Night Sleep And Don't Read An Email 8 Things Really Threaten Your Doughnut 1 3.\n",
            "________________________________________\n"
          ]
        },
        {
          "name": "stderr",
          "output_type": "stream",
          "text": [
            "\r65it [10:39,  9.81s/it]"
          ]
        },
        {
          "name": "stdout",
          "output_type": "stream",
          "text": [
            "\n",
            "\n",
            "Original title: Muslim Teen Can Finally Box In Her Hijab\n",
            "\n",
            "\n",
            "Clickbait title:   USA Boxing  grants 15-year-old Muslim girl the chance to contest in a hijab by the numbers not by the ring’s chair\n",
            "________________________________________\n"
          ]
        },
        {
          "name": "stderr",
          "output_type": "stream",
          "text": [
            "\r66it [10:48,  9.54s/it]"
          ]
        },
        {
          "name": "stdout",
          "output_type": "stream",
          "text": [
            "\n",
            "\n",
            "Original title: Check out Antarctica's growing ice shelf crack from space\n",
            "\n",
            "\n",
            "Clickbait title:   Satellite: Ice Crack Suggests Substantial Melting Is Barely Close to rupturing in Antarctica and Significant Change\n",
            "________________________________________\n"
          ]
        },
        {
          "name": "stderr",
          "output_type": "stream",
          "text": [
            "\r67it [10:58,  9.66s/it]"
          ]
        },
        {
          "name": "stdout",
          "output_type": "stream",
          "text": [
            "\n",
            "\n",
            "Original title: Literally Just 17 Dick Jokes That’ll Make You Laugh\n",
            "\n",
            "\n",
            "Clickbait title:   25 NSFW Movies & Video Clips That Will Make You Happy Only Once Never Again] No, This Is Not Like This That Comedy-Craze Movie The Only One\n",
            "________________________________________\n"
          ]
        },
        {
          "name": "stderr",
          "output_type": "stream",
          "text": [
            "\r68it [11:08,  9.90s/it]"
          ]
        },
        {
          "name": "stdout",
          "output_type": "stream",
          "text": [
            "\n",
            "\n",
            "Original title: China bans religious names for Muslim babies in Xinjiang\n",
            "\n",
            "\n",
            "Clickbait title:   Xinjiang names babies forbidden by ruling party below:. and no... we want that list yours.... and\n",
            "________________________________________\n"
          ]
        },
        {
          "name": "stderr",
          "output_type": "stream",
          "text": [
            "\r69it [11:18,  9.85s/it]"
          ]
        },
        {
          "name": "stdout",
          "output_type": "stream",
          "text": [
            "\n",
            "\n",
            "Original title: Shea Moisture Nixes Ad After Huge Backlash\n",
            "\n",
            "\n",
            "Clickbait title:   Shea Moisture Pulls New Ad After Rewinds Burned Online Why Americans Aren't Thinking About Black Women \n",
            "________________________________________\n"
          ]
        },
        {
          "name": "stderr",
          "output_type": "stream",
          "text": [
            "\r70it [11:28,  9.81s/it]"
          ]
        },
        {
          "name": "stdout",
          "output_type": "stream",
          "text": [
            "\n",
            "\n",
            "Original title: 23 Extremely Thirsty Tweets About Chris Pratt That Get More Graphic The More You Scroll\n",
            "\n",
            "\n",
            "Clickbait title:   15 Things I Didn't Know About Nick Jonas Photography by: Ryan Pizer and Alex G. Rodriguez Photography by: Nick Jonas [Video] production\n",
            "________________________________________\n"
          ]
        },
        {
          "name": "stderr",
          "output_type": "stream",
          "text": [
            "\r71it [11:38,  9.86s/it]"
          ]
        },
        {
          "name": "stdout",
          "output_type": "stream",
          "text": [
            "\n",
            "\n",
            "Original title: Democrats open to more border security money to avoid funding standoff\n",
            "\n",
            "\n",
            "Clickbait title:   Post season, the \"should-buy-a-max\" argument and a possible solution to border wall stalemate of the week:s.” not a wall but\n",
            "________________________________________\n"
          ]
        },
        {
          "name": "stderr",
          "output_type": "stream",
          "text": [
            "\r72it [11:48,  9.87s/it]"
          ]
        },
        {
          "name": "stdout",
          "output_type": "stream",
          "text": [
            "\n",
            "\n",
            "Original title: A painting stolen by Nazis is up for auction — despite a Jewish family’s demand for its return\n",
            "\n",
            "\n",
            "Clickbait title:   A Jewish family is determined to retrieve a stolen Nazi masterpiece from the owner. But there’s a hitch ..\n",
            "________________________________________\n"
          ]
        },
        {
          "name": "stderr",
          "output_type": "stream",
          "text": [
            "\r73it [11:58,  9.97s/it]"
          ]
        },
        {
          "name": "stdout",
          "output_type": "stream",
          "text": [
            "\n",
            "\n",
            "Original title: Taliban attacks U.S. base as Mattis flies into Afghanistan\n",
            "\n",
            "\n",
            "Clickbait title:   Taliban claim attack targeting military base in Afghanistan as Mattis visits. as the attackers go   s.\n",
            "________________________________________\n"
          ]
        },
        {
          "name": "stderr",
          "output_type": "stream",
          "text": [
            "\r74it [12:07,  9.87s/it]"
          ]
        },
        {
          "name": "stdout",
          "output_type": "stream",
          "text": [
            "\n",
            "\n",
            "Original title: Too Much Sugar Linked To Reduced Memory, Brain Volume\n",
            "\n",
            "\n",
            "Clickbait title:   Two New Brain-damaging Studies Urge You To Stop Drinking It No Better All But Sometimes, You Fucker Yourself\n",
            "________________________________________\n"
          ]
        },
        {
          "name": "stderr",
          "output_type": "stream",
          "text": [
            "\r75it [12:17,  9.88s/it]"
          ]
        },
        {
          "name": "stdout",
          "output_type": "stream",
          "text": [
            "\n",
            "\n",
            "Original title: New details on teacher's arrest, teen student's rescue at remote cabin\n",
            "\n",
            "\n",
            "Clickbait title:   Cops: Teacher spoke to them as he was arrested  one of them he’s out of there.... all of that that's all he said \n",
            "________________________________________\n"
          ]
        },
        {
          "name": "stderr",
          "output_type": "stream",
          "text": [
            "\r76it [12:27,  9.95s/it]"
          ]
        },
        {
          "name": "stdout",
          "output_type": "stream",
          "text": [
            "\n",
            "\n",
            "Original title: Oman to Follow Abu Dhabi With Sovereign Fund Merger Plans\n",
            "\n",
            "\n",
            "Clickbait title:   Bloomberg Omani Funds Talk, Other Costs Loom Hit by Oil Drop  a a\n",
            "________________________________________\n"
          ]
        },
        {
          "name": "stderr",
          "output_type": "stream",
          "text": [
            "\r77it [12:38, 10.02s/it]"
          ]
        },
        {
          "name": "stdout",
          "output_type": "stream",
          "text": [
            "\n",
            "\n",
            "Original title: Prince William gets squirted by marathon runner, has the time of his life\n",
            "\n",
            "\n",
            "Clickbait title:   Watch the hilarious moment someone squirted the world's FUTURE king with water — at the London Marathon\n",
            "________________________________________\n"
          ]
        },
        {
          "name": "stderr",
          "output_type": "stream",
          "text": [
            "\r78it [12:48, 10.07s/it]"
          ]
        },
        {
          "name": "stdout",
          "output_type": "stream",
          "text": [
            "\n",
            "\n",
            "Original title: LafargeHolcim CEO's Resignation on Syria Creates Power Vacuum\n",
            "\n",
            "\n",
            "Clickbait title:   In Retirement: Eric Olsen Leaves As Cement Giant IPO Looms ]\n",
            "________________________________________\n"
          ]
        },
        {
          "name": "stderr",
          "output_type": "stream",
          "text": [
            "\r79it [12:58, 10.20s/it]"
          ]
        },
        {
          "name": "stdout",
          "output_type": "stream",
          "text": [
            "\n",
            "\n",
            "Original title: Seven-year-olds have the most expensive birthday parties with parents shelling out £188\n",
            "\n",
            "\n",
            "Clickbait title:   $71: Parents spend an average of £188 on their children's birthday parties this year reveals research \n",
            "________________________________________\n"
          ]
        },
        {
          "name": "stderr",
          "output_type": "stream",
          "text": [
            "\r80it [13:09, 10.24s/it]"
          ]
        },
        {
          "name": "stdout",
          "output_type": "stream",
          "text": [
            "\n",
            "\n",
            "Original title: Surgeon General removed from post by Trump administration, replaced by deputy \n",
            "\n",
            "\n",
            "Clickbait title:   President Trump Has Sparksed U.S. Surgeon General Vivek Murthy From His Post  s as well  \n",
            "________________________________________\n"
          ]
        },
        {
          "name": "stderr",
          "output_type": "stream",
          "text": [
            "\r81it [13:19, 10.21s/it]"
          ]
        },
        {
          "name": "stdout",
          "output_type": "stream",
          "text": [
            "\n",
            "\n",
            "Original title: Hunt on for missing 5-year-old California boy, father arrested \n",
            "\n",
            "\n",
            "Clickbait title:   Police search for missing California boy whose father found unconscious in park for for....\n",
            "________________________________________\n"
          ]
        },
        {
          "name": "stderr",
          "output_type": "stream",
          "text": [
            "\r82it [13:28,  9.97s/it]"
          ]
        },
        {
          "name": "stdout",
          "output_type": "stream",
          "text": [
            "\n",
            "\n",
            "Original title: Y'all, The New \"Zelda\" Game Is So Freakin' Fun\n",
            "\n",
            "\n",
            "Clickbait title:   Oh My God, This Is Iffuse How I Play the Game No, It's Nothing That's Why I Hate 'Zelda' Anyway What Ever Happened\n",
            "________________________________________\n"
          ]
        },
        {
          "name": "stderr",
          "output_type": "stream",
          "text": [
            "\r83it [13:38,  9.84s/it]"
          ]
        },
        {
          "name": "stdout",
          "output_type": "stream",
          "text": [
            "\n",
            "\n",
            "Original title: S.E. Hinton’s \"The Outsiders,\" a teen classic, turns 50\n",
            "\n",
            "\n",
            "Clickbait title:   Inside Rob Lowe's reaction to being asked about 'The Outsiders' film   -   - \n",
            "________________________________________\n"
          ]
        },
        {
          "name": "stderr",
          "output_type": "stream",
          "text": [
            "\r84it [13:48, 10.06s/it]"
          ]
        },
        {
          "name": "stdout",
          "output_type": "stream",
          "text": [
            "\n",
            "\n",
            "Original title: DJ Khaled Confirms Nicki Minaj Is on 'Grateful'\n",
            "\n",
            "\n",
            "Clickbait title:   DJ Khaled and Nicki Minaj Announce 'Rake’ First Collaboration on New Album\n",
            "________________________________________\n"
          ]
        },
        {
          "name": "stderr",
          "output_type": "stream",
          "text": [
            "\r85it [13:58,  9.96s/it]"
          ]
        },
        {
          "name": "stdout",
          "output_type": "stream",
          "text": [
            "\n",
            "\n",
            "Original title: Pelosi: The Border Wall Is a ‘Sign of Weakness’ By Trump\n",
            "\n",
            "\n",
            "Clickbait title:   PREVIEW: Pelosi Adds Trump’s Border Wall to President’s Weakness This Means We Think ‘Shutting Down The State’ ‘I Can’t Control Our Borders’\n",
            "________________________________________\n"
          ]
        },
        {
          "name": "stderr",
          "output_type": "stream",
          "text": [
            "\r86it [14:09, 10.29s/it]"
          ]
        },
        {
          "name": "stdout",
          "output_type": "stream",
          "text": [
            "\n",
            "\n",
            "Original title: What the French elections mean for Brexit\n",
            "\n",
            "\n",
            "Clickbait title:   Brexit: How the French election will affect Brexit, to.\n",
            "________________________________________\n"
          ]
        },
        {
          "name": "stderr",
          "output_type": "stream",
          "text": [
            "\r87it [14:19, 10.18s/it]"
          ]
        },
        {
          "name": "stdout",
          "output_type": "stream",
          "text": [
            "\n",
            "\n",
            "Original title: Von Miller Rocks Fur Vest, Cowboy Hat and Bandana at Coachella Music Festival\n",
            "\n",
            "\n",
            "Clickbait title:   NFL Star Von Miller Keeps Cam Newton Inspired at Coachella Like Next Post Again ]\n",
            "________________________________________\n"
          ]
        },
        {
          "name": "stderr",
          "output_type": "stream",
          "text": [
            "\r88it [14:30, 10.37s/it]"
          ]
        },
        {
          "name": "stdout",
          "output_type": "stream",
          "text": [
            "\n",
            "\n",
            "Original title: Julian Assange: US set to 'seek arrest of Wikileaks founder'\n",
            "\n",
            "\n",
            "Clickbait title:   Here's how the Wikileaks founder should be arrested: The source says US authorities prepared charges against him ;  .;\n",
            "________________________________________\n"
          ]
        },
        {
          "name": "stderr",
          "output_type": "stream",
          "text": [
            "\r89it [14:40, 10.18s/it]"
          ]
        },
        {
          "name": "stdout",
          "output_type": "stream",
          "text": [
            "\n",
            "\n",
            "Original title: 'They Almost Won Something': Gutfeld Jabs Dems for Celebrating GA Election Loss  Insider\n",
            "\n",
            "\n",
            "Clickbait title:   Greg Gutfeld: New Factor Makes Life Scary for 'Slash' Obama!\n",
            "________________________________________\n"
          ]
        },
        {
          "name": "stderr",
          "output_type": "stream",
          "text": [
            "\r90it [14:49, 10.08s/it]"
          ]
        },
        {
          "name": "stdout",
          "output_type": "stream",
          "text": [
            "\n",
            "\n",
            "Original title: Here Are the Highlights From the March for Science\n",
            "\n",
            "\n",
            "Clickbait title:   Trump Makes A Smile Out Of His Face At The International 'Science March,' but Isn't This Kind Of Sad? \n",
            "________________________________________\n"
          ]
        },
        {
          "name": "stderr",
          "output_type": "stream",
          "text": [
            "\r91it [14:59, 10.02s/it]"
          ]
        },
        {
          "name": "stdout",
          "output_type": "stream",
          "text": [
            "\n",
            "\n",
            "Original title: 9 incredible ways we're using drones for social good\n",
            "\n",
            "\n",
            "Clickbait title:   9 times drones are helping make the world a better place just for fun with good intentions w. list best of for all —\n",
            "________________________________________\n"
          ]
        },
        {
          "name": "stderr",
          "output_type": "stream",
          "text": [
            "\r92it [15:09, 10.03s/it]"
          ]
        },
        {
          "name": "stdout",
          "output_type": "stream",
          "text": [
            "\n",
            "\n",
            "Original title: How The Shale Boom Turned The World Upside Down\n",
            "\n",
            "\n",
            "Clickbait title:   The Energy Landscape in Pictures That Will Change Your Life ! A Brief\n",
            "________________________________________\n"
          ]
        },
        {
          "name": "stderr",
          "output_type": "stream",
          "text": [
            "\r93it [15:19, 10.07s/it]"
          ]
        },
        {
          "name": "stdout",
          "output_type": "stream",
          "text": [
            "\n",
            "\n",
            "Original title: UN Gaza staffer out after allegations of Hamas ties \n",
            "\n",
            "\n",
            "Clickbait title:   UN agency says employee suspected of being elected to Hamas leadership no longer works for agency & for... and (t)\n",
            "________________________________________\n"
          ]
        },
        {
          "name": "stderr",
          "output_type": "stream",
          "text": [
            "\r94it [15:30, 10.20s/it]"
          ]
        },
        {
          "name": "stdout",
          "output_type": "stream",
          "text": [
            "\n",
            "\n",
            "Original title: Funeral services held for Ohio victim of Facebook killer \n",
            "\n",
            "\n",
            "Clickbait title:   Family of Robert Godwin Sr., killed by Facebook video gunman, say they forgive shooter\n",
            "________________________________________\n"
          ]
        },
        {
          "name": "stderr",
          "output_type": "stream",
          "text": [
            "\r95it [15:40, 10.07s/it]"
          ]
        },
        {
          "name": "stdout",
          "output_type": "stream",
          "text": [
            "\n",
            "\n",
            "Original title: North Korea warns Australia of possible nuclear strike if it 'blindly toes US line'\n",
            "\n",
            "\n",
            "Clickbait title:   North Korea has warned Australia of'suicidal act' if Canberra persists in 'harshest tongue-lashing':'. by the\n",
            "________________________________________\n"
          ]
        },
        {
          "name": "stderr",
          "output_type": "stream",
          "text": [
            "\r96it [15:50, 10.00s/it]"
          ]
        },
        {
          "name": "stdout",
          "output_type": "stream",
          "text": [
            "\n",
            "\n",
            "Original title: Nearing 100 days, Trump’s approval at record lows but his base is holding\n",
            "\n",
            "\n",
            "Clickbait title:   Record-breaking poll: With only one full month into his presidency, Trump nears his worst Oval Office ratings in history   By a wide margin\n",
            "________________________________________\n"
          ]
        },
        {
          "name": "stderr",
          "output_type": "stream",
          "text": [
            "\r97it [15:59,  9.93s/it]"
          ]
        },
        {
          "name": "stdout",
          "output_type": "stream",
          "text": [
            "\n",
            "\n",
            "Original title: Shawn Mendes Drops Feisty New Single 'There's Nothing Holdin' Me Back'\n",
            "\n",
            "\n",
            "Clickbait title:   Shawn Mendes Announces Full Tour in May, Releasing 'There's Nothing Holdin' Me Back'\n",
            "________________________________________\n"
          ]
        },
        {
          "name": "stderr",
          "output_type": "stream",
          "text": [
            "\r98it [16:10, 10.05s/it]"
          ]
        },
        {
          "name": "stdout",
          "output_type": "stream",
          "text": [
            "\n",
            "\n",
            "Original title: The First House Antoni Gaudí Ever Designed Is Now An Incredible Museum\n",
            "\n",
            "\n",
            "Clickbait title:   Spanish Architectural Legend Antoni Gaud<unk>’s First House Will Open to the World Later this Fall Photos Don’t Stress\n",
            "________________________________________\n"
          ]
        },
        {
          "name": "stderr",
          "output_type": "stream",
          "text": [
            "\r99it [16:18,  9.52s/it]"
          ]
        },
        {
          "name": "stdout",
          "output_type": "stream",
          "text": [
            "\n",
            "\n",
            "Original title: Vacation’s Over: Obama Returns to Public Life Next Week \n",
            "\n",
            "\n",
            "Clickbait title:   Barack Obama Will Barely Stand Tall on World Stage in His New Returns   ’   ’   ’     \n",
            "________________________________________\n"
          ]
        },
        {
          "name": "stderr",
          "output_type": "stream",
          "text": [
            "100it [16:28,  9.89s/it]"
          ]
        },
        {
          "name": "stdout",
          "output_type": "stream",
          "text": [
            "\n",
            "\n",
            "Original title: Hackers Tricking Japan's Mobile Gamers With Offers of Fake Fantasy Cash\n",
            "\n",
            "\n",
            "Clickbait title:   Cybercriminals in Japan Trend Targeted Messages For Game Success Again  And  to\n"
          ]
        },
        {
          "name": "stderr",
          "output_type": "stream",
          "text": [
            "\n"
          ]
        }
      ],
      "source": [
        "# condition_lambdas = [0.0, 1.0, 5.0, 50.0, 100.0, 200.0]\n",
        "# condition_lambdas = [10.0,20.0,30.0,40.0,60.0,70.0,80.0,90.0]\n",
        "# condition_lambdas = [0.0, \n",
        "# condition_lambdas = [1.0,\n",
        "# condition_lambdas = [2.0, 3.0, 4.0, 5.0, 6.0, 7.0, 8.0, 9.0, 10.0] # 50.0, 100.0, 200.0]\n",
        "condition_lambdas = [10.0]\n",
        "length_cutoff = 50\n",
        "subset = 100\n",
        "for condition_lambda in condition_lambdas:\n",
        "  print(f'condition_lambda {condition_lambda}')\n",
        "  create_clickbait_samples(df_test, \n",
        "                              generation_model=generation_model, \n",
        "                              tokenizer=tokenizer, \n",
        "                              conditioning_model=conditioning_model, \n",
        "                              dataset_info=dataset_info, \n",
        "                              precondition_topk=precondition_topk, \n",
        "                              condition_lambda=condition_lambda, \n",
        "                              length_cutoff=length_cutoff, \n",
        "                              device=device,\n",
        "                              save_file=f'../drive/MyDrive/nlp_lss_data/df_clickbait_test_pegasus_webis_lambda_{condition_lambda}_subset_{subset}.csv',\n",
        "                              # save_file=f'../drive/MyDrive/nlp_lss_data/df_clickbait_test_lambda_{condition_lambda}_subset_{subset}.csv',\n",
        "                              subset=subset)\n",
        "  \n",
        "condition_lambda = 4.0"
      ]
    },
    {
      "cell_type": "code",
      "execution_count": null,
      "metadata": {
        "colab": {
          "base_uri": "https://localhost:8080/"
        },
        "id": "azXIA04rcv2G",
        "outputId": "4873fd93-a805-4172-d611-35797b6e51fd"
      },
      "outputs": [
        {
          "name": "stderr",
          "output_type": "stream",
          "text": [
            "\r0it [00:00, ?it/s]Truncation was not explicitly activated but `max_length` is provided a specific value, please use `truncation=True` to explicitly truncate examples to max length. Defaulting to 'longest_first' truncation strategy. If you encode pairs of sequences (GLUE-style) with the tokenizer you can select this strategy more precisely by providing a specific strategy to `truncation`.\n",
            "/content/naacl-2021-fudge-controlled-generation/model.py:170: UserWarning: To copy construct from a tensor, it is recommended to use sourceTensor.clone().detach() or sourceTensor.clone().detach().requires_grad_(True), rather than torch.tensor(sourceTensor).\n",
            "  input_ids = torch.tensor(inputs)\n"
          ]
        },
        {
          "name": "stdout",
          "output_type": "stream",
          "text": [
            "________________________________________\n"
          ]
        },
        {
          "name": "stderr",
          "output_type": "stream",
          "text": [
            "\r1it [00:10, 10.32s/it]"
          ]
        },
        {
          "name": "stdout",
          "output_type": "stream",
          "text": [
            "\n",
            "\n",
            "Original title: Johnny Manziel Says Top Pick in Draft Myles Garrett Will 'Do Wonders' for Browns\n",
            "\n",
            "\n",
            "Clickbait title:   Johnny Manmizar has said the best thing about a recruit he once recruited for his hometown Texas A&M Basketball team this football season on a gossip website.\n",
            "________________________________________\n"
          ]
        },
        {
          "name": "stderr",
          "output_type": "stream",
          "text": [
            "\r2it [00:21, 10.65s/it]"
          ]
        },
        {
          "name": "stdout",
          "output_type": "stream",
          "text": [
            "\n",
            "\n",
            "Original title: Fabio: California Is a 'Mess' Because of Liberal Policies  Insider\n",
            "\n",
            "\n",
            "Clickbait title:   Popular book star and male model Fabrizio said, in case you didn<unk>'t already know, the whole state of... Florida depends pretty autobiographical<unk>=:\n",
            "________________________________________\n"
          ]
        },
        {
          "name": "stderr",
          "output_type": "stream",
          "text": [
            "\r3it [00:31, 10.45s/it]"
          ]
        },
        {
          "name": "stdout",
          "output_type": "stream",
          "text": [
            "\n",
            "\n",
            "Original title: Jimmy Butler wants to return, hopes Bulls keep Rajon Rondo\n",
            "\n",
            "\n",
            "Clickbait title:   In the hours before the start of the filming of the new, albeit somewhat unconnected, series of documentaries that chronicle the renovation and evolution of his former coaching and management career, as revealed to the BBC by sources close to him this past season and believed\n",
            "________________________________________\n"
          ]
        },
        {
          "name": "stderr",
          "output_type": "stream",
          "text": [
            "\r4it [00:42, 10.73s/it]"
          ]
        },
        {
          "name": "stdout",
          "output_type": "stream",
          "text": [
            "\n",
            "\n",
            "Original title: Mitchell Trubisky booed at United Center during Bulls-Celtics game\n",
            "\n",
            "\n",
            "Clickbait title:   Trubiky booed in appearance - but how did he look?' scrutinized\n",
            "________________________________________\n"
          ]
        },
        {
          "name": "stderr",
          "output_type": "stream",
          "text": [
            "\r5it [00:53, 10.71s/it]"
          ]
        },
        {
          "name": "stdout",
          "output_type": "stream",
          "text": [
            "\n",
            "\n",
            "Original title: It's Not Enough to Give Employees Flexible Work Schedules\n",
            "\n",
            "\n",
            "Clickbait title:   A new program by a leading US technology thought-leader lets employees<unk>\".\n",
            "________________________________________\n"
          ]
        },
        {
          "name": "stderr",
          "output_type": "stream",
          "text": [
            "\r6it [01:03, 10.65s/it]"
          ]
        },
        {
          "name": "stdout",
          "output_type": "stream",
          "text": [
            "\n",
            "\n",
            "Original title: Out Of 15 Lakh Registered Companies In India, 9 Lakh Don't File Returns! Money Laundering Suspected\n",
            "\n",
            "\n",
            "Clickbait title:   Thousands of shell companies in the world's third largest economic economy of India appear to be actively involved, a top finance professional has emphasised, illustrating a major impediment facing the government in its attempts to combat the menace of money-lamenting'\n",
            "________________________________________\n"
          ]
        },
        {
          "name": "stderr",
          "output_type": "stream",
          "text": [
            "\r7it [01:14, 10.62s/it]"
          ]
        },
        {
          "name": "stdout",
          "output_type": "stream",
          "text": [
            "\n",
            "\n",
            "Original title: Tense moment plane lands without wheel\n",
            "\n",
            "\n",
            "Clickbait title:   Watch the video above to see the aftermath and how the pilot protected the four on-board life saving devices she used.dz\n",
            "________________________________________\n"
          ]
        },
        {
          "name": "stderr",
          "output_type": "stream",
          "text": [
            "\r8it [01:24, 10.58s/it]"
          ]
        },
        {
          "name": "stdout",
          "output_type": "stream",
          "text": [
            "\n",
            "\n",
            "Original title: Stars Who Got Their Start on Soap Operas\n",
            "\n",
            "\n",
            "Clickbait title:   It’s that busy time of the season once considered, but which new celebrity recently hit the limelight was a soap opera star?\n",
            "________________________________________\n"
          ]
        },
        {
          "name": "stderr",
          "output_type": "stream",
          "text": [
            "\r9it [01:35, 10.53s/it]"
          ]
        },
        {
          "name": "stdout",
          "output_type": "stream",
          "text": [
            "\n",
            "\n",
            "Original title: Trump: My first 100 days are 'just about the most successful' in US history \n",
            "\n",
            "\n",
            "Clickbait title:   President Donald..\n",
            "________________________________________\n"
          ]
        },
        {
          "name": "stderr",
          "output_type": "stream",
          "text": [
            "\r10it [01:46, 10.60s/it]"
          ]
        },
        {
          "name": "stdout",
          "output_type": "stream",
          "text": [
            "\n",
            "\n",
            "Original title: U.S. wants more U.N. sanctions over North Korea’s nuclear arms, warns time is short\n",
            "\n",
            "\n",
            "Clickbait title:   The United Kingdom has added a proverb to the complaint list associated with the United States, including this one:\n",
            "________________________________________\n"
          ]
        },
        {
          "name": "stderr",
          "output_type": "stream",
          "text": [
            "\r11it [01:56, 10.66s/it]"
          ]
        },
        {
          "name": "stdout",
          "output_type": "stream",
          "text": [
            "\n",
            "\n",
            "Original title: Science Wants You To Dig Your Nose And Eat Those Boogers Because It's Healthy!\n",
            "\n",
            "\n",
            "Clickbait title:   The tabloids are all in a festive jolly good mood this festive season, and here is a little ditty that will get the most out of them.\n",
            "________________________________________\n"
          ]
        },
        {
          "name": "stderr",
          "output_type": "stream",
          "text": [
            "\r12it [02:07, 10.53s/it]"
          ]
        },
        {
          "name": "stdout",
          "output_type": "stream",
          "text": [
            "\n",
            "\n",
            "Original title: A Star Goldman Trader Goes Cold\n",
            "\n",
            "\n",
            "Clickbait title:   As Wall Street's biggest mortgage company makes record profits and is poised to get out of a punishing Bear market that’s seen the value of its debt cut dramatically at the expense of cash, consider why it has lost money on stock and bond\n",
            "________________________________________\n"
          ]
        },
        {
          "name": "stderr",
          "output_type": "stream",
          "text": [
            "\r13it [02:17, 10.65s/it]"
          ]
        },
        {
          "name": "stdout",
          "output_type": "stream",
          "text": [
            "\n",
            "\n",
            "Original title: DMX Enters Rehab: Report\n",
            "\n",
            "\n",
            "Clickbait title:   DMX has announced all these things over the phone!\n",
            "________________________________________\n"
          ]
        },
        {
          "name": "stderr",
          "output_type": "stream",
          "text": [
            "\r14it [02:29, 10.96s/it]"
          ]
        },
        {
          "name": "stdout",
          "output_type": "stream",
          "text": [
            "\n",
            "\n",
            "Original title: Money is pouring into the world's hottest investment product at nearly a record-setting pace\n",
            "\n",
            "\n",
            "Clickbait title:   US stock investors have pumped a net mind-wateringly helpful$ almostApologies to those callers and pundits.\n",
            "________________________________________\n"
          ]
        },
        {
          "name": "stderr",
          "output_type": "stream",
          "text": [
            "\r15it [02:39, 10.72s/it]"
          ]
        },
        {
          "name": "stdout",
          "output_type": "stream",
          "text": [
            "\n",
            "\n",
            "Original title: ‘Wonder Woman,’ ‘Spider-Man’ and How Trailers Push the Familiar \n",
            "\n",
            "\n",
            "Clickbait title:   With summer in view and superhero territory thick on the map, this is a good-spirited guide to what you might not have known about the upcoming blockbusters in your lifetime.\n",
            "________________________________________\n"
          ]
        },
        {
          "name": "stderr",
          "output_type": "stream",
          "text": [
            "\r16it [02:51, 10.99s/it]"
          ]
        },
        {
          "name": "stdout",
          "output_type": "stream",
          "text": [
            "\n",
            "\n",
            "Original title: Ariana Grande & Cashmere Cat Have Teamed Up for a Third Time: Listen to 'Quit'\n",
            "\n",
            "\n",
            "Clickbait title:   Ariana Permatines' latest latest banger is all swoonful, emotional love heartache.\n",
            "________________________________________\n"
          ]
        },
        {
          "name": "stderr",
          "output_type": "stream",
          "text": [
            "\r17it [03:01, 10.81s/it]"
          ]
        },
        {
          "name": "stdout",
          "output_type": "stream",
          "text": [
            "\n",
            "\n",
            "Original title: Macron’s rise shows that extremism – whether left or right – is not inevitable\n",
            "\n",
            "\n",
            "Clickbait title:   The Conservatives’ new vice spin doctors -masquerading-weep Ed Balls- can’t seem to come up with a coherent spin, and to noone’s surprise, all five of the Daily newspapers have scored points in a joint-emptive\n",
            "________________________________________\n"
          ]
        },
        {
          "name": "stderr",
          "output_type": "stream",
          "text": [
            "\r18it [03:11, 10.60s/it]"
          ]
        },
        {
          "name": "stdout",
          "output_type": "stream",
          "text": [
            "\n",
            "\n",
            "Original title: NFL Draft 2017: Projected Salary For Mitchell Trubisky And Other First-Round Picks\n",
            "\n",
            "\n",
            "Clickbait title:   The Carolina Post'.\n",
            "________________________________________\n"
          ]
        },
        {
          "name": "stderr",
          "output_type": "stream",
          "text": [
            "\r19it [03:17,  9.13s/it]"
          ]
        },
        {
          "name": "stdout",
          "output_type": "stream",
          "text": [
            "\n",
            "\n",
            "Original title: Pope Urges Egypt Imams to Teach And Preach Tolerance, Peace\n",
            "\n",
            "\n",
            "Clickbait title:   Pope Francis is telling top ultra                                           \n",
            "________________________________________\n"
          ]
        },
        {
          "name": "stderr",
          "output_type": "stream",
          "text": [
            "\r20it [03:28,  9.74s/it]"
          ]
        },
        {
          "name": "stdout",
          "output_type": "stream",
          "text": [
            "\n",
            "\n",
            "Original title: Job-Stealing Robots? Meet Your Maker\n",
            "\n",
            "\n",
            "Clickbait title:   A young young man from the state of \"death by infatuation\", doesn?t exactly know the point of this rant...\n",
            "________________________________________\n"
          ]
        },
        {
          "name": "stderr",
          "output_type": "stream",
          "text": [
            "\r21it [03:39, 10.10s/it]"
          ]
        },
        {
          "name": "stdout",
          "output_type": "stream",
          "text": [
            "\n",
            "\n",
            "Original title: Barclays Net Profit Tumbles on Africa Write-Down \n",
            "\n",
            "\n",
            "Clickbait title:   Barclays reports first-hand the effect that global.\n",
            "________________________________________\n"
          ]
        },
        {
          "name": "stderr",
          "output_type": "stream",
          "text": [
            "\r22it [03:50, 10.21s/it]"
          ]
        },
        {
          "name": "stdout",
          "output_type": "stream",
          "text": [
            "\n",
            "\n",
            "Original title: Chinese Smartphone Makers Are Catching Up With Apple\n",
            "\n",
            "\n",
            "Clickbait title:   New York Times: \"'Manufacturers with the 5 worst-selling products at the end of 2015.\n",
            "________________________________________\n"
          ]
        },
        {
          "name": "stderr",
          "output_type": "stream",
          "text": [
            "\r23it [04:00, 10.28s/it]"
          ]
        },
        {
          "name": "stdout",
          "output_type": "stream",
          "text": [
            "\n",
            "\n",
            "Original title: Trump's tax plan could cost an estimated $5.5 trillion\n",
            "\n",
            "\n",
            "Clickbait title:   President Trump') latest pitch is basically the wrong, according\n",
            "________________________________________\n"
          ]
        },
        {
          "name": "stderr",
          "output_type": "stream",
          "text": [
            "\r24it [04:13, 10.92s/it]"
          ]
        },
        {
          "name": "stdout",
          "output_type": "stream",
          "text": [
            "\n",
            "\n",
            "Original title: On Same Day Massive Layoffs Begin, ESPNW Celebrates Black Power Icon and Fugitive Cop Killer\n",
            "\n",
            "\n",
            "Clickbait title:   ESPN Women, the gender-refusdal-phobia-phobia-phobia-phobia-phobia-phobic web browser version, this message boards, apparently, is at it again.\n",
            "________________________________________\n"
          ]
        },
        {
          "name": "stderr",
          "output_type": "stream",
          "text": [
            "25it [04:23, 10.53s/it]\n"
          ]
        },
        {
          "name": "stdout",
          "output_type": "stream",
          "text": [
            "\n",
            "\n",
            "Original title: Trump Says 'Major, Major' Conflict With North Korea Possible, But Seeks Diplomacy\n",
            "\n",
            "\n",
            "Clickbait title:   With Tension Tied Between The U.SomethingAndAnd Them, On The Rocks.\n"
          ]
        },
        {
          "name": "stderr",
          "output_type": "stream",
          "text": [
            "\r0it [00:00, ?it/s]"
          ]
        },
        {
          "name": "stdout",
          "output_type": "stream",
          "text": [
            "________________________________________\n"
          ]
        },
        {
          "name": "stderr",
          "output_type": "stream",
          "text": [
            "\r1it [00:10, 10.25s/it]"
          ]
        },
        {
          "name": "stdout",
          "output_type": "stream",
          "text": [
            "\n",
            "\n",
            "Original title: Johnny Manziel Says Top Pick in Draft Myles Garrett Will 'Do Wonders' for Browns\n",
            "\n",
            "\n",
            "Clickbait title:   Former Texas A and then New Essen, 'Swallowing Yoked<unk>?' Man Johnny Man Manmory thinks his former teammate at local Texas A&M fame says a new recruit for the Kansas.............\n",
            "________________________________________\n"
          ]
        },
        {
          "name": "stderr",
          "output_type": "stream",
          "text": [
            "\r2it [00:21, 10.75s/it]"
          ]
        },
        {
          "name": "stdout",
          "output_type": "stream",
          "text": [
            "\n",
            "\n",
            "Original title: Fabio: California Is a 'Mess' Because of Liberal Policies  Insider\n",
            "\n",
            "\n",
            "Clickbait title:   The film \"Fifty expletive-studded words for naughty people\" is why he admits he feels like \"underrated\" in his home state of...LA..\n",
            "________________________________________\n"
          ]
        },
        {
          "name": "stderr",
          "output_type": "stream",
          "text": [
            "\r3it [00:32, 10.97s/it]"
          ]
        },
        {
          "name": "stdout",
          "output_type": "stream",
          "text": [
            "\n",
            "\n",
            "Original title: Jimmy Butler wants to return, hopes Bulls keep Rajon Rondo\n",
            "\n",
            "\n",
            "Clickbait title:   Jimmy Butler wants new deal, Rajon Rondo wants new deal - why those are some reasons the pundits may be wrong after the elimination of the top-seeded......\n",
            "________________________________________\n"
          ]
        },
        {
          "name": "stderr",
          "output_type": "stream",
          "text": [
            "\r4it [00:44, 11.37s/it]"
          ]
        },
        {
          "name": "stdout",
          "output_type": "stream",
          "text": [
            "\n",
            "\n",
            "Original title: Mitchell Trubisky booed at United Center during Bulls-Celtics game\n",
            "\n",
            "\n",
            "Clickbait title:   The second and final day...'N----. n-nt--uh-nor-h<unk>/simplistically...-- a-tumu - tumu-no\n",
            "________________________________________\n"
          ]
        },
        {
          "name": "stderr",
          "output_type": "stream",
          "text": [
            "\r5it [00:55, 11.24s/it]"
          ]
        },
        {
          "name": "stdout",
          "output_type": "stream",
          "text": [
            "\n",
            "\n",
            "Original title: It's Not Enough to Give Employees Flexible Work Schedules\n",
            "\n",
            "\n",
            "Clickbait title:   Adobe has introduced a major workplace innovation that addresses one of the most common anxieties of newly-wed women - answering questions intelligently no one else will.\n",
            "________________________________________\n"
          ]
        },
        {
          "name": "stderr",
          "output_type": "stream",
          "text": [
            "\r6it [01:06, 11.29s/it]"
          ]
        },
        {
          "name": "stdout",
          "output_type": "stream",
          "text": [
            "\n",
            "\n",
            "Original title: Out Of 15 Lakh Registered Companies In India, 9 Lakh Don't File Returns! Money Laundering Suspected\n",
            "\n",
            "\n",
            "Clickbait title:   The US Wikileaks revelations linked India-specified entities, often described alternatively, have put a spotlight on such shell firms.\n",
            "________________________________________\n"
          ]
        },
        {
          "name": "stderr",
          "output_type": "stream",
          "text": [
            "\r7it [01:17, 10.94s/it]"
          ]
        },
        {
          "name": "stdout",
          "output_type": "stream",
          "text": [
            "\n",
            "\n",
            "Original title: Tense moment plane lands without wheel\n",
            "\n",
            "\n",
            "Clickbait title:   A small, private plane trying hard to take off in mid-smoke and lose a wheel mid-air, made an emergency at an amusement-style spot just over a mile from an...well, let's just say it found itself on\n",
            "________________________________________\n"
          ]
        },
        {
          "name": "stderr",
          "output_type": "stream",
          "text": [
            "\r8it [01:22,  9.17s/it]"
          ]
        },
        {
          "name": "stdout",
          "output_type": "stream",
          "text": [
            "\n",
            "\n",
            "Original title: Stars Who Got Their Start on Soap Operas\n",
            "\n",
            "\n",
            "Clickbait title:   As Emmy Award time draws to­­­­­­­­­­­­­­­­­­­­­­­­­­­­­­­­­­­­­­­­­­­\n",
            "________________________________________\n"
          ]
        },
        {
          "name": "stderr",
          "output_type": "stream",
          "text": [
            "\r9it [01:33,  9.66s/it]"
          ]
        },
        {
          "name": "stdout",
          "output_type": "stream",
          "text": [
            "\n",
            "\n",
            "Original title: Trump: My first 100 days are 'just about the most successful' in US history \n",
            "\n",
            "\n",
            "Clickbait title:   President Trump is charting, apparently deliberately... a \"pathway to success\" in his first 100 days in office. found\n",
            "________________________________________\n"
          ]
        },
        {
          "name": "stderr",
          "output_type": "stream",
          "text": [
            "\r10it [01:44, 10.07s/it]"
          ]
        },
        {
          "name": "stdout",
          "output_type": "stream",
          "text": [
            "\n",
            "\n",
            "Original title: U.S. wants more U.N. sanctions over North Korea’s nuclear arms, warns time is short\n",
            "\n",
            "\n",
            "Clickbait title:   Diplomatic efforts have entered their seventh, possibly penultimate, lap this malarial New Jerky Street. rethink\n",
            "________________________________________\n"
          ]
        },
        {
          "name": "stderr",
          "output_type": "stream",
          "text": [
            "\r11it [01:54, 10.16s/it]"
          ]
        },
        {
          "name": "stdout",
          "output_type": "stream",
          "text": [
            "\n",
            "\n",
            "Original title: Science Wants You To Dig Your Nose And Eat Those Boogers Because It's Healthy!\n",
            "\n",
            "\n",
            "Clickbait title:   Women'sarticle.com, an e<unk> mail store that distributes free snot-eating advice to women across the world has written these short informative views on female consumption of unwanted goodies, on a subject that regularly appears in the publication:\n",
            "________________________________________\n"
          ]
        },
        {
          "name": "stderr",
          "output_type": "stream",
          "text": [
            "\r12it [02:05, 10.23s/it]"
          ]
        },
        {
          "name": "stdout",
          "output_type": "stream",
          "text": [
            "\n",
            "\n",
            "Original title: A Star Goldman Trader Goes Cold\n",
            "\n",
            "\n",
            "Clickbait title:   The Economist: 'GS-Madcap Pain, One Guy' for nearly three years\n",
            "________________________________________\n"
          ]
        },
        {
          "name": "stderr",
          "output_type": "stream",
          "text": [
            "\r13it [02:15, 10.42s/it]"
          ]
        },
        {
          "name": "stdout",
          "output_type": "stream",
          "text": [
            "\n",
            "\n",
            "Original title: DMX Enters Rehab: Report\n",
            "\n",
            "\n",
            "Clickbait title:   Rapper DMX in the middle, is trying to get the hang of things right footed after early morning car accidents got him into serious predicaments this this past few months, it emerges.\n",
            "________________________________________\n"
          ]
        },
        {
          "name": "stderr",
          "output_type": "stream",
          "text": [
            "\r14it [02:27, 10.73s/it]"
          ]
        },
        {
          "name": "stdout",
          "output_type": "stream",
          "text": [
            "\n",
            "\n",
            "Original title: Money is pouring into the world's hottest investment product at nearly a record-setting pace\n",
            "\n",
            "\n",
            "Clickbait title:   In what appears to be the new politics, a torrent<unk>........\n",
            "________________________________________\n"
          ]
        },
        {
          "name": "stderr",
          "output_type": "stream",
          "text": [
            "\r15it [02:37, 10.60s/it]"
          ]
        },
        {
          "name": "stdout",
          "output_type": "stream",
          "text": [
            "\n",
            "\n",
            "Original title: ‘Wonder Woman,’ ‘Spider-Man’ and How Trailers Push the Familiar \n",
            "\n",
            "\n",
            "Clickbait title:   From Wonder Woman to The Riddle in'Avengers: Endgame, the biggest lists of big-earning big-name US-driven fictional superheroes in the not-too-distant future. \n",
            "________________________________________\n"
          ]
        },
        {
          "name": "stderr",
          "output_type": "stream",
          "text": [
            "\r16it [02:48, 10.65s/it]"
          ]
        },
        {
          "name": "stdout",
          "output_type": "stream",
          "text": [
            "\n",
            "\n",
            "Original title: Ariana Grande & Cashmere Cat Have Teamed Up for a Third Time: Listen to 'Quit'\n",
            "\n",
            "\n",
            "Clickbait title:   Ariana, using her ample bank account, tries to rationalize a bad relationship between her and a love interest.\n",
            "________________________________________\n"
          ]
        },
        {
          "name": "stderr",
          "output_type": "stream",
          "text": [
            "\r17it [02:58, 10.45s/it]"
          ]
        },
        {
          "name": "stdout",
          "output_type": "stream",
          "text": [
            "\n",
            "\n",
            "Original title: Macron’s rise shows that extremism – whether left or right – is not inevitable\n",
            "\n",
            "\n",
            "Clickbait title:   In our series 'Parallel countries', the Following's Sam Allsred looks the similarities, argues the observation that the Conservative-dominated government of the time may not know what to do about the threat posed by the country’s dominant conservative\n",
            "________________________________________\n"
          ]
        },
        {
          "name": "stderr",
          "output_type": "stream",
          "text": [
            "\r18it [03:08, 10.46s/it]"
          ]
        },
        {
          "name": "stdout",
          "output_type": "stream",
          "text": [
            "\n",
            "\n",
            "Original title: NFL Draft 2017: Projected Salary For Mitchell Trubisky And Other First-Round Picks\n",
            "\n",
            "\n",
            "Clickbait title:   First-day picks in the 'experts' top three most recently \"best-ever Trainees in Fame' article..'\"\n",
            "________________________________________\n"
          ]
        },
        {
          "name": "stderr",
          "output_type": "stream",
          "text": [
            "\r19it [03:19, 10.50s/it]"
          ]
        },
        {
          "name": "stdout",
          "output_type": "stream",
          "text": [
            "\n",
            "\n",
            "Original title: Pope Urges Egypt Imams to Teach And Preach Tolerance, Peace\n",
            "\n",
            "\n",
            "Clickbait title:   Pope Francis' expletive, stream- <unk>expletive, me-too remarks to an elderly, seemingly-listening-to-something-else believer might appear, to some, arrogant, self-righteous and unusual.\n",
            "________________________________________\n"
          ]
        },
        {
          "name": "stderr",
          "output_type": "stream",
          "text": [
            "\r20it [03:30, 10.59s/it]"
          ]
        },
        {
          "name": "stdout",
          "output_type": "stream",
          "text": [
            "\n",
            "\n",
            "Original title: Job-Stealing Robots? Meet Your Maker\n",
            "\n",
            "\n",
            "Clickbait title:   The Michigan economy has one reason to worry about... more fenty.\n",
            "________________________________________\n"
          ]
        },
        {
          "name": "stderr",
          "output_type": "stream",
          "text": [
            "\r21it [03:41, 10.88s/it]"
          ]
        },
        {
          "name": "stdout",
          "output_type": "stream",
          "text": [
            "\n",
            "\n",
            "Original title: Barclays Net Profit Tumbles on Africa Write-Down \n",
            "\n",
            "\n",
            "Clickbait title:   Barclays shares havefallen.\n",
            "________________________________________\n"
          ]
        },
        {
          "name": "stderr",
          "output_type": "stream",
          "text": [
            "\r22it [03:52, 10.75s/it]"
          ]
        },
        {
          "name": "stdout",
          "output_type": "stream",
          "text": [
            "\n",
            "\n",
            "Original title: Chinese Smartphone Makers Are Catching Up With Apple\n",
            "\n",
            "\n",
            "Clickbait title:   The 'big three' smartphone suppliers - South America, Far flung Far East plus Device giant, Google Locations:.\n",
            "________________________________________\n"
          ]
        },
        {
          "name": "stderr",
          "output_type": "stream",
          "text": [
            "\r23it [04:02, 10.65s/it]"
          ]
        },
        {
          "name": "stdout",
          "output_type": "stream",
          "text": [
            "\n",
            "\n",
            "Original title: Trump's tax plan could cost an estimated $5.5 trillion\n",
            "\n",
            "\n",
            "Clickbait title:   Donald Trump has long  said the size, meaning the total cost being financed, came nowhere to their rival.- 4:43 in to'\n",
            "________________________________________\n"
          ]
        },
        {
          "name": "stderr",
          "output_type": "stream",
          "text": [
            "\r24it [04:14, 11.12s/it]"
          ]
        },
        {
          "name": "stdout",
          "output_type": "stream",
          "text": [
            "\n",
            "\n",
            "Original title: On Same Day Massive Layoffs Begin, ESPNW Celebrates Black Power Icon and Fugitive Cop Killer\n",
            "\n",
            "\n",
            "Clickbait title:   ESPN Women, the latest edition's parenting, food, and horoscope page (also onFacebook and Pinterest this is!).eb\n",
            "________________________________________\n"
          ]
        },
        {
          "name": "stderr",
          "output_type": "stream",
          "text": [
            "25it [04:25, 10.62s/it]\n"
          ]
        },
        {
          "name": "stdout",
          "output_type": "stream",
          "text": [
            "\n",
            "\n",
            "Original title: Trump Says 'Major, Major' Conflict With North Korea Possible, But Seeks Diplomacy\n",
            "\n",
            "\n",
            "Clickbait title:   A summary of key points from the interview.67531@idgeeks.com viewer-feedback-form-400255-8625 lang\n"
          ]
        },
        {
          "name": "stderr",
          "output_type": "stream",
          "text": [
            "\r0it [00:00, ?it/s]"
          ]
        },
        {
          "name": "stdout",
          "output_type": "stream",
          "text": [
            "________________________________________\n"
          ]
        },
        {
          "name": "stderr",
          "output_type": "stream",
          "text": [
            "\r1it [00:11, 11.04s/it]"
          ]
        },
        {
          "name": "stdout",
          "output_type": "stream",
          "text": [
            "\n",
            "\n",
            "Original title: Johnny Manziel Says Top Pick in Draft Myles Garrett Will 'Do Wonders' for Browns\n",
            "\n",
            "\n",
            "Clickbait title:   Former Cleveland (US..)ziel - yes - he was once said to have \"disrespect\" for one of the very same names...\n",
            "________________________________________\n"
          ]
        },
        {
          "name": "stderr",
          "output_type": "stream",
          "text": [
            "\r2it [00:21, 10.80s/it]"
          ]
        },
        {
          "name": "stdout",
          "output_type": "stream",
          "text": [
            "\n",
            "\n",
            "Original title: Fabio: California Is a 'Mess' Because of Liberal Policies  Insider\n",
            "\n",
            "\n",
            "Clickbait title:   He calls it \"The Gold Forgot Us\"?. allegra if you want to go <unk>...\n",
            "________________________________________\n"
          ]
        },
        {
          "name": "stderr",
          "output_type": "stream",
          "text": [
            "\r3it [00:32, 10.67s/it]"
          ]
        },
        {
          "name": "stdout",
          "output_type": "stream",
          "text": [
            "\n",
            "\n",
            "Original title: Jimmy Butler wants to return, hopes Bulls keep Rajon Rondo\n",
            "\n",
            "\n",
            "Clickbait title:   After the death and early evaporationSnatchers of emotions this series, there is some certainty about the future of The feud between the two biggest names among those involved in the process.\n",
            "________________________________________\n"
          ]
        },
        {
          "name": "stderr",
          "output_type": "stream",
          "text": [
            "\r4it [00:43, 10.99s/it]"
          ]
        },
        {
          "name": "stdout",
          "output_type": "stream",
          "text": [
            "\n",
            "\n",
            "Original title: Mitchell Trubisky booed at United Center during Bulls-Celtics game\n",
            "\n",
            "\n",
            "Clickbait title:   (Please understand - this storyAAA2 does not edit factual information from wire services)\n",
            "________________________________________\n"
          ]
        },
        {
          "name": "stderr",
          "output_type": "stream",
          "text": [
            "\r5it [00:53, 10.65s/it]"
          ]
        },
        {
          "name": "stdout",
          "output_type": "stream",
          "text": [
            "\n",
            "\n",
            "Original title: It's Not Enough to Give Employees Flexible Work Schedules\n",
            "\n",
            "\n",
            "Clickbait title:   Working from home when you're expecting helps<unk>\n",
            "________________________________________\n"
          ]
        },
        {
          "name": "stderr",
          "output_type": "stream",
          "text": [
            "\r6it [01:03, 10.47s/it]"
          ]
        },
        {
          "name": "stdout",
          "output_type": "stream",
          "text": [
            "\n",
            "\n",
            "Original title: Out Of 15 Lakh Registered Companies In India, 9 Lakh Don't File Returns! Money Laundering Suspected\n",
            "\n",
            "\n",
            "Clickbait title:   New Delhi, May to crack down on alleged money-launderers and evaded payment of due back or transaction and withholding of value of assets allegedly from the entities lying dormant in the net labyrinth to which Indian taxpayers\n",
            "________________________________________\n"
          ]
        },
        {
          "name": "stderr",
          "output_type": "stream",
          "text": [
            "\r7it [01:13, 10.35s/it]"
          ]
        },
        {
          "name": "stdout",
          "output_type": "stream",
          "text": [
            "\n",
            "\n",
            "Original title: Tense moment plane lands without wheel\n",
            "\n",
            "\n",
            "Clickbait title:   A plane has to \"grin and swelter briefly, eventually gaining\" an almighty hard-up in mid-fight.\n",
            "________________________________________\n"
          ]
        },
        {
          "name": "stderr",
          "output_type": "stream",
          "text": [
            "\r8it [01:24, 10.57s/it]"
          ]
        },
        {
          "name": "stdout",
          "output_type": "stream",
          "text": [
            "\n",
            "\n",
            "Original title: Stars Who Got Their Start on Soap Operas\n",
            "\n",
            "\n",
            "Clickbait title:   As the glitz and glitter the 2016<unk> midterms roll around, this was a photo shoot that followed the stars' footsteps.\n",
            "________________________________________\n"
          ]
        },
        {
          "name": "stderr",
          "output_type": "stream",
          "text": [
            "\r9it [01:35, 10.63s/it]"
          ]
        },
        {
          "name": "stdout",
          "output_type": "stream",
          "text": [
            "\n",
            "\n",
            "Original title: Trump: My first 100 days are 'just about the most successful' in US history \n",
            "\n",
            "\n",
            "Clickbait title:   President Donald and the world, you<unk>\n",
            "________________________________________\n"
          ]
        },
        {
          "name": "stderr",
          "output_type": "stream",
          "text": [
            "\r10it [01:46, 10.60s/it]"
          ]
        },
        {
          "name": "stdout",
          "output_type": "stream",
          "text": [
            "\n",
            "\n",
            "Original title: U.S. wants more U.N. sanctions over North Korea’s nuclear arms, warns time is short\n",
            "\n",
            "\n",
            "Clickbait title:   North Korea has said the aim this step, according.\n",
            "________________________________________\n"
          ]
        },
        {
          "name": "stderr",
          "output_type": "stream",
          "text": [
            "\r11it [01:56, 10.51s/it]"
          ]
        },
        {
          "name": "stdout",
          "output_type": "stream",
          "text": [
            "\n",
            "\n",
            "Original title: Science Wants You To Dig Your Nose And Eat Those Boogers Because It's Healthy!\n",
            "\n",
            "\n",
            "Clickbait title:   This week, in 'Hot10, the stuff you don <unk>ff, I saw a tip about eating the nose?,,,Photos courtesy www.hot10.com,\n",
            "________________________________________\n"
          ]
        },
        {
          "name": "stderr",
          "output_type": "stream",
          "text": [
            "\r12it [02:07, 10.49s/it]"
          ]
        },
        {
          "name": "stdout",
          "output_type": "stream",
          "text": [
            "\n",
            "\n",
            "Original title: A Star Goldman Trader Goes Cold\n",
            "\n",
            "\n",
            "Clickbait title:   Goldman Sachs's first-looking better this term, but it might need to work even faster to get things back to where you rank.\n",
            "________________________________________\n"
          ]
        },
        {
          "name": "stderr",
          "output_type": "stream",
          "text": [
            "\r13it [02:17, 10.55s/it]"
          ]
        },
        {
          "name": "stdout",
          "output_type": "stream",
          "text": [
            "\n",
            "\n",
            "Original title: DMX Enters Rehab: Report\n",
            "\n",
            "\n",
            "Clickbait title:   Rapper DMX, better-appointed either under or sans shoes, may need help digging out of some trouble.\n",
            "________________________________________\n"
          ]
        },
        {
          "name": "stderr",
          "output_type": "stream",
          "text": [
            "\r14it [02:28, 10.71s/it]"
          ]
        },
        {
          "name": "stdout",
          "output_type": "stream",
          "text": [
            "\n",
            "\n",
            "Original title: Money is pouring into the world's hottest investment product at nearly a record-setting pace\n",
            "\n",
            "\n",
            "Clickbait title:   After the roller-manding of 2016, it looks like all that might be driving the buying interest this Christmas.\n",
            "________________________________________\n"
          ]
        },
        {
          "name": "stderr",
          "output_type": "stream",
          "text": [
            "\r15it [02:39, 10.65s/it]"
          ]
        },
        {
          "name": "stdout",
          "output_type": "stream",
          "text": [
            "\n",
            "\n",
            "Original title: ‘Wonder Woman,’ ‘Spider-Man’ and How Trailers Push the Familiar \n",
            "\n",
            "\n",
            "Clickbait title:   With the summer film and more, you may have noticed a lotofFilter articles look deep within the superhero world to find out a little bit why certain superheroes are being hyped. she succeeds in establishing\n",
            "________________________________________\n"
          ]
        },
        {
          "name": "stderr",
          "output_type": "stream",
          "text": [
            "\r16it [02:50, 10.84s/it]"
          ]
        },
        {
          "name": "stdout",
          "output_type": "stream",
          "text": [
            "\n",
            "\n",
            "Original title: Ariana Grande & Cashmere Cat Have Teamed Up for a Third Time: Listen to 'Quit'\n",
            "\n",
            "\n",
            "Clickbait title:   Ariana the Dinosaur is, as you might have extrapolated from the name of the song?eid.\n",
            "________________________________________\n"
          ]
        },
        {
          "name": "stderr",
          "output_type": "stream",
          "text": [
            "\r17it [03:01, 10.82s/it]"
          ]
        },
        {
          "name": "stdout",
          "output_type": "stream",
          "text": [
            "\n",
            "\n",
            "Original title: Macron’s rise shows that extremism – whether left or right – is not inevitable\n",
            "\n",
            "\n",
            "Clickbait title:   We asked a few French political pundits what they feel would make the next 7 NHSgoverned with a yellow pin more desirable, and they gave their take on two very different sorts of Britons.\n",
            "________________________________________\n"
          ]
        },
        {
          "name": "stderr",
          "output_type": "stream",
          "text": [
            "\r18it [03:11, 10.74s/it]"
          ]
        },
        {
          "name": "stdout",
          "output_type": "stream",
          "text": [
            "\n",
            "\n",
            "Original title: NFL Draft 2017: Projected Salary For Mitchell Trubisky And Other First-Round Picks\n",
            "\n",
            "\n",
            "Clickbait title:   NFL Draft first, top, and lastrounders - how will they influence you here!\n",
            "________________________________________\n"
          ]
        },
        {
          "name": "stderr",
          "output_type": "stream",
          "text": [
            "\r19it [03:22, 10.73s/it]"
          ]
        },
        {
          "name": "stdout",
          "output_type": "stream",
          "text": [
            "\n",
            "\n",
            "Original title: Pope Urges Egypt Imams to Teach And Preach Tolerance, Peace\n",
            "\n",
            "\n",
            "Clickbait title:   Pope Francis is telling top experts, including a senior imam, that Muslim preachers must address the \"barbarity\" of extremists, whose views \"vanityously obscure\" the message of Islam.\n",
            "________________________________________\n"
          ]
        },
        {
          "name": "stderr",
          "output_type": "stream",
          "text": [
            "\r20it [03:33, 10.76s/it]"
          ]
        },
        {
          "name": "stdout",
          "output_type": "stream",
          "text": [
            "\n",
            "\n",
            "Original title: Job-Stealing Robots? Meet Your Maker\n",
            "\n",
            "\n",
            "Clickbait title:   Here we present the stories by:<unk>\n",
            "________________________________________\n"
          ]
        },
        {
          "name": "stderr",
          "output_type": "stream",
          "text": [
            "\r21it [03:44, 10.81s/it]"
          ]
        },
        {
          "name": "stdout",
          "output_type": "stream",
          "text": [
            "\n",
            "\n",
            "Original title: Barclays Net Profit Tumbles on Africa Write-Down \n",
            "\n",
            "\n",
            "Clickbait title:   Barclays shares were <unk>rides into the showers<unk>tiles with this painful and undiscriminating report.\n",
            "________________________________________\n"
          ]
        },
        {
          "name": "stderr",
          "output_type": "stream",
          "text": [
            "\r22it [03:54, 10.65s/it]"
          ]
        },
        {
          "name": "stdout",
          "output_type": "stream",
          "text": [
            "\n",
            "\n",
            "Original title: Chinese Smartphone Makers Are Catching Up With Apple\n",
            "\n",
            "\n",
            "Clickbait title:   Smartphone makers are moving lower t him in the space.\n",
            "________________________________________\n"
          ]
        },
        {
          "name": "stderr",
          "output_type": "stream",
          "text": [
            "\r23it [04:05, 10.66s/it]"
          ]
        },
        {
          "name": "stdout",
          "output_type": "stream",
          "text": [
            "\n",
            "\n",
            "Original title: Trump's tax plan could cost an estimated $5.5 trillion\n",
            "\n",
            "\n",
            "Clickbait title:   From the BBC: stuart\n",
            "________________________________________\n"
          ]
        },
        {
          "name": "stderr",
          "output_type": "stream",
          "text": [
            "\r24it [04:15, 10.50s/it]"
          ]
        },
        {
          "name": "stdout",
          "output_type": "stream",
          "text": [
            "\n",
            "\n",
            "Original title: On Same Day Massive Layoffs Begin, ESPNW Celebrates Black Power Icon and Fugitive Cop Killer\n",
            "\n",
            "\n",
            "Clickbait title:   Editors note: A recent blog post by the pro-Clinton think tank, <unk>.... the to all..\n",
            "________________________________________\n"
          ]
        },
        {
          "name": "stderr",
          "output_type": "stream",
          "text": [
            "25it [04:22, 10.49s/it]\n"
          ]
        },
        {
          "name": "stdout",
          "output_type": "stream",
          "text": [
            "\n",
            "\n",
            "Original title: Trump Says 'Major, Major' Conflict With North Korea Possible, But Seeks Diplomacy\n",
            "\n",
            "\n",
            "Clickbait title:   President Trump says, however, the goal this <unk>                                      \n"
          ]
        },
        {
          "name": "stderr",
          "output_type": "stream",
          "text": [
            "\r0it [00:00, ?it/s]"
          ]
        },
        {
          "name": "stdout",
          "output_type": "stream",
          "text": [
            "________________________________________\n"
          ]
        },
        {
          "name": "stderr",
          "output_type": "stream",
          "text": [
            "\r1it [00:09,  9.81s/it]"
          ]
        },
        {
          "name": "stdout",
          "output_type": "stream",
          "text": [
            "\n",
            "\n",
            "Original title: Johnny Manziel Says Top Pick in Draft Myles Garrett Will 'Do Wonders' for Browns\n",
            "\n",
            "\n",
            "Clickbait title:   Johnny Manzik, a star Mistake- <unk>-  said \"Things <unk>? Will Get Serious\", but actually said \"Things <unk>? Will Do Seriously!\"\n",
            "________________________________________\n"
          ]
        },
        {
          "name": "stderr",
          "output_type": "stream",
          "text": [
            "\r2it [00:21, 10.73s/it]"
          ]
        },
        {
          "name": "stdout",
          "output_type": "stream",
          "text": [
            "\n",
            "\n",
            "Original title: Fabio: California Is a 'Mess' Because of Liberal Policies  Insider\n",
            "\n",
            "\n",
            "Clickbait title:   One of America<unk>'s most flamboyant swimsuit models said that more must, necessity, be done to \"modern day America\" to better control serious bodily harm and increase lawful possession. and\n",
            "________________________________________\n"
          ]
        },
        {
          "name": "stderr",
          "output_type": "stream",
          "text": [
            "\r3it [00:31, 10.71s/it]"
          ]
        },
        {
          "name": "stdout",
          "output_type": "stream",
          "text": [
            "\n",
            "\n",
            "Original title: Jimmy Butler wants to return, hopes Bulls keep Rajon Rondo\n",
            "\n",
            "\n",
            "Clickbait title:   The NBA powers of a certain corner, the <unk> gigabyte \"paper <unk> TRAN QUEST!!!!!<unk> QUEST!!!<unk>\n",
            "________________________________________\n"
          ]
        },
        {
          "name": "stderr",
          "output_type": "stream",
          "text": [
            "\r4it [00:43, 10.95s/it]"
          ]
        },
        {
          "name": "stdout",
          "output_type": "stream",
          "text": [
            "\n",
            "\n",
            "Original title: Mitchell Trubisky booed at United Center during Bulls-Celtics game\n",
            "\n",
            "\n",
            "Clickbait title:   With the second day in tact in this three-day, pronouncing, seven spot previews of this finalprehensive set of draft basics and analysis, we break down everything that has been bubbling up all week.\n",
            "________________________________________\n"
          ]
        },
        {
          "name": "stderr",
          "output_type": "stream",
          "text": [
            "\r5it [00:53, 10.70s/it]"
          ]
        },
        {
          "name": "stdout",
          "output_type": "stream",
          "text": [
            "\n",
            "\n",
            "Original title: It's Not Enough to Give Employees Flexible Work Schedules\n",
            "\n",
            "\n",
            "Clickbait title:   They came in waves, leaving some soon-to-be<unk>£100<unk>£130 or more out<unk>£164.\n",
            "________________________________________\n"
          ]
        },
        {
          "name": "stderr",
          "output_type": "stream",
          "text": [
            "\r6it [01:03, 10.58s/it]"
          ]
        },
        {
          "name": "stdout",
          "output_type": "stream",
          "text": [
            "\n",
            "\n",
            "Original title: Out Of 15 Lakh Registered Companies In India, 9 Lakh Don't File Returns! Money Laundering Suspected\n",
            "\n",
            "\n",
            "Clickbait title:   Indian officials have warned of serious consequences for those companies found guilty unless they'regular source\" themoney not spent on normal activities, but spent to 'lick the grape'.......\n",
            "________________________________________\n"
          ]
        },
        {
          "name": "stderr",
          "output_type": "stream",
          "text": [
            "\r7it [01:14, 10.77s/it]"
          ]
        },
        {
          "name": "stdout",
          "output_type": "stream",
          "text": [
            "\n",
            "\n",
            "Original title: Tense moment plane lands without wheel\n",
            "\n",
            "\n",
            "Clickbait title:   Plane emergency in US, a sinkhole in the mud in the outback in the... () the Daily Nintendo\n",
            "________________________________________\n"
          ]
        },
        {
          "name": "stderr",
          "output_type": "stream",
          "text": [
            "\r8it [01:25, 10.79s/it]"
          ]
        },
        {
          "name": "stdout",
          "output_type": "stream",
          "text": [
            "\n",
            "\n",
            "Original title: Stars Who Got Their Start on Soap Operas\n",
            "\n",
            "\n",
            "Clickbait title:   From Bill and Aunt Viv to Scott and Jesse, there have certainly already got some names we know from the soap world already.\n",
            "________________________________________\n"
          ]
        },
        {
          "name": "stderr",
          "output_type": "stream",
          "text": [
            "\r9it [01:35, 10.48s/it]"
          ]
        },
        {
          "name": "stdout",
          "output_type": "stream",
          "text": [
            "\n",
            "\n",
            "Original title: Trump: My first 100 days are 'just about the most successful' in US history \n",
            "\n",
            "\n",
            "Clickbait title:   President Trump is, as legend misunderstanding goes -<unk>, an even t<unk>verballizer cumwriter<unk>!\n",
            "________________________________________\n"
          ]
        },
        {
          "name": "stderr",
          "output_type": "stream",
          "text": [
            "\r10it [01:45, 10.35s/it]"
          ]
        },
        {
          "name": "stdout",
          "output_type": "stream",
          "text": [
            "\n",
            "\n",
            "Original title: U.S. wants more U.N. sanctions over North Korea’s nuclear arms, warns time is short\n",
            "\n",
            "\n",
            "Clickbait title:   The United is increasing newMaximum Imposing Bankertional Ispressive Measures to Greatly Limited The People' Reported in a, <unk>!!!]! and and\n",
            "________________________________________\n"
          ]
        },
        {
          "name": "stderr",
          "output_type": "stream",
          "text": [
            "\r11it [01:56, 10.46s/it]"
          ]
        },
        {
          "name": "stdout",
          "output_type": "stream",
          "text": [
            "\n",
            "\n",
            "Original title: Science Wants You To Dig Your Nose And Eat Those Boogers Because It's Healthy!\n",
            "\n",
            "\n",
            "Clickbait title:   Womensarticle.com, a site that prides itself on the highest-quality female pictures, this very fortnight has brought you an unusual column, highlighting the advantages of eating your snot.\n",
            "________________________________________\n"
          ]
        },
        {
          "name": "stderr",
          "output_type": "stream",
          "text": [
            "\r12it [02:06, 10.28s/it]"
          ]
        },
        {
          "name": "stdout",
          "output_type": "stream",
          "text": [
            "\n",
            "\n",
            "Original title: A Star Goldman Trader Goes Cold\n",
            "\n",
            "\n",
            "Clickbait title:   Goldman Sachs is taking a glancing pill from one of Team Sachs - just somehow - after the investment-conscious bank's bond desk, particularly a few hedge funds, and one of its principal dealers - were the best-paid professionals in Wall\n",
            "________________________________________\n"
          ]
        },
        {
          "name": "stderr",
          "output_type": "stream",
          "text": [
            "\r13it [02:17, 10.48s/it]"
          ]
        },
        {
          "name": "stdout",
          "output_type": "stream",
          "text": [
            "\n",
            "\n",
            "Original title: DMX Enters Rehab: Report\n",
            "\n",
            "\n",
            "Clickbait title:   Rapper DMX, best-referred' this post to his Twitter followers as #DMXproblems, has checked out an adult treatment hall to be cured of his demons.\n",
            "________________________________________\n"
          ]
        },
        {
          "name": "stderr",
          "output_type": "stream",
          "text": [
            "\r14it [02:27, 10.47s/it]"
          ]
        },
        {
          "name": "stdout",
          "output_type": "stream",
          "text": [
            "\n",
            "\n",
            "Original title: Money is pouring into the world's hottest investment product at nearly a record-setting pace\n",
            "\n",
            "\n",
            "Clickbait title:   Investors poured US$23 in for each piece of their investment portfolio lasteek, the most for a single three-straight coming-outs-of-the- woodwork-period this whole investment regime.\n",
            "________________________________________\n"
          ]
        },
        {
          "name": "stderr",
          "output_type": "stream",
          "text": [
            "\r15it [02:38, 10.64s/it]"
          ]
        },
        {
          "name": "stdout",
          "output_type": "stream",
          "text": [
            "\n",
            "\n",
            "Original title: ‘Wonder Woman,’ ‘Spider-Man’ and How Trailers Push the Familiar \n",
            "\n",
            "\n",
            "Clickbait title:   As the sizzle and thud of superhero summer confections set off on the silver and gold, here are some of the more...\n",
            "________________________________________\n"
          ]
        },
        {
          "name": "stderr",
          "output_type": "stream",
          "text": [
            "\r16it [02:49, 10.65s/it]"
          ]
        },
        {
          "name": "stdout",
          "output_type": "stream",
          "text": [
            "\n",
            "\n",
            "Original title: Ariana Grande & Cashmere Cat Have Teamed Up for a Third Time: Listen to 'Quit'\n",
            "\n",
            "\n",
            "Clickbait title:   Arianaphrenia has made this happen before, an appearance on her partner's song often referred to as \"the best single of all time\": first on her sisteroctave Chandelier, later on her own bombastic single \"7 Rings\" and\n",
            "________________________________________\n"
          ]
        },
        {
          "name": "stderr",
          "output_type": "stream",
          "text": [
            "\r17it [02:59, 10.46s/it]"
          ]
        },
        {
          "name": "stdout",
          "output_type": "stream",
          "text": [
            "\n",
            "\n",
            "Original title: Macron’s rise shows that extremism – whether left or right – is not inevitable\n",
            "\n",
            "\n",
            "Clickbait title:   The French have just missed out on the chance to install an <unk>ber-right-of-whatever-time-ever, pro-businesselected, but who does that remind us of what difference of judgment maybe makes?\n",
            "________________________________________\n"
          ]
        },
        {
          "name": "stderr",
          "output_type": "stream",
          "text": [
            "\r18it [03:09, 10.32s/it]"
          ]
        },
        {
          "name": "stdout",
          "output_type": "stream",
          "text": [
            "\n",
            "\n",
            "Original title: NFL Draft 2017: Projected Salary For Mitchell Trubisky And Other First-Round Picks\n",
            "\n",
            "\n",
            "Clickbait title:   USA Today's sports page spent the week looking forward, warning, laughing and joking the world over, but also looking ahead to this week's fantasy impact, while also detailing some of the main stories that could shape the 2016 and 2017 drafts\n",
            "________________________________________\n"
          ]
        },
        {
          "name": "stderr",
          "output_type": "stream",
          "text": [
            "\r19it [03:21, 10.90s/it]"
          ]
        },
        {
          "name": "stdout",
          "output_type": "stream",
          "text": [
            "\n",
            "\n",
            "Original title: Pope Urges Egypt Imams to Teach And Preach Tolerance, Peace\n",
            "\n",
            "\n",
            "Clickbait title:   Pope Francis says all so-- gun, drug...;-like-umAnd --and yeah------\n",
            "________________________________________\n"
          ]
        },
        {
          "name": "stderr",
          "output_type": "stream",
          "text": [
            "\r20it [03:31, 10.64s/it]"
          ]
        },
        {
          "name": "stdout",
          "output_type": "stream",
          "text": [
            "\n",
            "\n",
            "Original title: Job-Stealing Robots? Meet Your Maker\n",
            "\n",
            "\n",
            "Clickbait title:   Five days a week, Jacobs 'brains the thing. the robots that will be building the world's cars, refrigerators, airplanes and guns.\"...\n",
            "________________________________________\n"
          ]
        },
        {
          "name": "stderr",
          "output_type": "stream",
          "text": [
            "\r21it [03:42, 10.80s/it]"
          ]
        },
        {
          "name": "stdout",
          "output_type": "stream",
          "text": [
            "\n",
            "\n",
            "Original title: Barclays Net Profit Tumbles on Africa Write-Down \n",
            "\n",
            "\n",
            "Clickbait title:   Barclays, one of thosebanks who need more money over this financial year out of parent funds than they do under US levies.\n",
            "________________________________________\n"
          ]
        },
        {
          "name": "stderr",
          "output_type": "stream",
          "text": [
            "\r22it [03:53, 10.62s/it]"
          ]
        },
        {
          "name": "stdout",
          "output_type": "stream",
          "text": [
            "\n",
            "\n",
            "Original title: Chinese Smartphone Makers Are Catching Up With Apple\n",
            "\n",
            "\n",
            "Clickbait title:   Apple shares have had an eventful few moments in the last couple of years, but if you've been keeping up with the latest tech buzz headlines, you might have caught that the company is catching up to its main rival, according to a recent\n",
            "________________________________________\n"
          ]
        },
        {
          "name": "stderr",
          "output_type": "stream",
          "text": [
            "\r23it [04:02, 10.37s/it]"
          ]
        },
        {
          "name": "stdout",
          "output_type": "stream",
          "text": [
            "\n",
            "\n",
            "Original title: Trump's tax plan could cost an estimated $5.5 trillion\n",
            "\n",
            "\n",
            "Clickbait title:   President Trump: 'The really, truly shocking thing about this thing, and we don<unk>“ <unk>£m gonna get it wrong<unk>“, last Superstititious Saturday night, <unk> 00:00, t<unk>£ 13:00:\n",
            "________________________________________\n"
          ]
        },
        {
          "name": "stderr",
          "output_type": "stream",
          "text": [
            "\r24it [04:13, 10.43s/it]"
          ]
        },
        {
          "name": "stdout",
          "output_type": "stream",
          "text": [
            "\n",
            "\n",
            "Original title: On Same Day Massive Layoffs Begin, ESPNW Celebrates Black Power Icon and Fugitive Cop Killer\n",
            "\n",
            "\n",
            "Clickbait title:   Before you start bashingESPN for the way the firm has covered left-over left-turns in the press, you might want to Google their supposed \"women’s\" content.\n",
            "________________________________________\n"
          ]
        },
        {
          "name": "stderr",
          "output_type": "stream",
          "text": [
            "25it [04:23, 10.54s/it]"
          ]
        },
        {
          "name": "stdout",
          "output_type": "stream",
          "text": [
            "\n",
            "\n",
            "Original title: Trump Says 'Major, Major' Conflict With North Korea Possible, But Seeks Diplomacy\n",
            "\n",
            "\n",
            "Clickbait title:   Trump on diplomacy: 'Definitely, we believe that there may indeed have\" lured resolve   latest\n"
          ]
        },
        {
          "name": "stderr",
          "output_type": "stream",
          "text": [
            "\n"
          ]
        }
      ],
      "source": [
        "# condition_lambdas = [0.0, 1.0, 5.0, 50.0, 100.0, 200.0]\n",
        "# condition_lambdas = [10.0,20.0,30.0,40.0,60.0,70.0,80.0,90.0]\n",
        "condition_lambdas = [120.0,130.0,140.0,150.0]\n",
        "length_cutoff = 50\n",
        "subset = 25\n",
        "for condition_lambda in condition_lambdas:\n",
        "  create_clickbait_samples(df_test, \n",
        "                              generation_model=generation_model, \n",
        "                              tokenizer=tokenizer, \n",
        "                              conditioning_model=conditioning_model, \n",
        "                              dataset_info=dataset_info, \n",
        "                              precondition_topk=precondition_topk, \n",
        "                              condition_lambda=condition_lambda, \n",
        "                              length_cutoff=length_cutoff, \n",
        "                              device=device,\n",
        "                              save_file=f'../drive/MyDrive/nlp_lss_data/df_clickbait_test_lambda_{condition_lambda}_subset_25',\n",
        "                              subset=subset)\n",
        "  \n",
        "condition_lambda = 4.0"
      ]
    },
    {
      "cell_type": "markdown",
      "metadata": {
        "id": "DqZNRwWKbEqk"
      },
      "source": [
        "## Sampling for named entities relevant articles"
      ]
    },
    {
      "cell_type": "code",
      "execution_count": null,
      "metadata": {
        "colab": {
          "base_uri": "https://localhost:8080/"
        },
        "id": "G70EuZhcnZcz",
        "outputId": "4b17f3ee-0826-465c-fcdc-c877369faaac"
      },
      "outputs": [
        {
          "name": "stderr",
          "output_type": "stream",
          "text": [
            "[nltk_data] Downloading package stopwords to /root/nltk_data...\n",
            "[nltk_data]   Unzipping corpora/stopwords.zip.\n",
            "100%|██████████| 18979/18979 [03:30<00:00, 90.08it/s]\n"
          ]
        },
        {
          "name": "stdout",
          "output_type": "stream",
          "text": [
            "kim_jong_un\n",
            "82\n"
          ]
        },
        {
          "name": "stderr",
          "output_type": "stream",
          "text": [
            "\r0it [00:00, ?it/s]/content/naacl-2021-fudge-controlled-generation/model.py:170: UserWarning: To copy construct from a tensor, it is recommended to use sourceTensor.clone().detach() or sourceTensor.clone().detach().requires_grad_(True), rather than torch.tensor(sourceTensor).\n",
            "  input_ids = torch.tensor(inputs)\n",
            "82it [14:49, 10.85s/it]\n"
          ]
        },
        {
          "name": "stdout",
          "output_type": "stream",
          "text": [
            "donald_trump\n",
            "3922\n"
          ]
        },
        {
          "name": "stderr",
          "output_type": "stream",
          "text": [
            "100it [18:13, 10.94s/it]\n"
          ]
        },
        {
          "name": "stdout",
          "output_type": "stream",
          "text": [
            "elon_musk\n",
            "94\n"
          ]
        },
        {
          "name": "stderr",
          "output_type": "stream",
          "text": [
            "94it [17:10, 10.97s/it]\n"
          ]
        },
        {
          "name": "stdout",
          "output_type": "stream",
          "text": [
            "marin_le_pen\n",
            "126\n"
          ]
        },
        {
          "name": "stderr",
          "output_type": "stream",
          "text": [
            "100it [18:11, 10.92s/it]\n"
          ]
        },
        {
          "name": "stdout",
          "output_type": "stream",
          "text": [
            "kany_west\n",
            "181\n"
          ]
        },
        {
          "name": "stderr",
          "output_type": "stream",
          "text": [
            "100it [18:10, 10.91s/it]\n"
          ]
        },
        {
          "name": "stdout",
          "output_type": "stream",
          "text": [
            "hillari_clinton\n",
            "766\n"
          ]
        },
        {
          "name": "stderr",
          "output_type": "stream",
          "text": [
            "100it [17:59, 10.80s/it]\n"
          ]
        },
        {
          "name": "stdout",
          "output_type": "stream",
          "text": [
            "obama\n",
            "2161\n"
          ]
        },
        {
          "name": "stderr",
          "output_type": "stream",
          "text": [
            "100it [17:51, 10.71s/it]\n"
          ]
        },
        {
          "name": "stdout",
          "output_type": "stream",
          "text": [
            "democrat\n",
            "1921\n"
          ]
        },
        {
          "name": "stderr",
          "output_type": "stream",
          "text": [
            "100it [18:07, 10.87s/it]\n"
          ]
        },
        {
          "name": "stdout",
          "output_type": "stream",
          "text": [
            "gop\n",
            "478\n"
          ]
        },
        {
          "name": "stderr",
          "output_type": "stream",
          "text": [
            "100it [18:14, 10.94s/it]\n"
          ]
        },
        {
          "name": "stdout",
          "output_type": "stream",
          "text": [
            "zuckerberg\n",
            "85\n"
          ]
        },
        {
          "name": "stderr",
          "output_type": "stream",
          "text": [
            "85it [15:46, 11.14s/it]\n"
          ]
        }
      ],
      "source": [
        "from tqdm import tqdm\n",
        "tqdm.pandas()\n",
        "\n",
        "import nltk\n",
        "nltk.download('stopwords')\n",
        "  \n",
        "from string import punctuation\n",
        "translator = str.maketrans('','',punctuation) \n",
        "from nltk.corpus import stopwords\n",
        "stoplist = set(stopwords.words('english'))\n",
        "from nltk.stem import SnowballStemmer\n",
        "stemmer = SnowballStemmer('english')\n",
        "\n",
        "def normalize_article_content_no_stop(doc, remove_stopwords=False):\n",
        "    \"Input doc and return clean list of tokens\"\n",
        "    # print(len(doc))\n",
        "    doc = doc.replace('\\r', ' ').replace('\\n', ' ').replace(\"Subscribe now for full access or register to continue reading Subscribe now for full access or register to continue\", \"\")\n",
        "    # print(len(doc))\n",
        "    lower = doc.lower() # all lower case\n",
        "    nopunc = lower.translate(translator) # remove punctuation\n",
        "    words = nopunc.split() # split into tokens\n",
        "    nostop = [w for w in words if w not in stoplist] # remove stopwords\n",
        "    stemmed = [stemmer.stem(w) for w in nostop] # stem each word\n",
        "    # no_numbers = [w if not w.isdigit() else '#' for w in nostop] # normalize numbers\n",
        "    no_numbers = [w if not w.isdigit() else '#' for w in nostop] # normalize numbers\n",
        "    stemmed = [stemmer.stem(w) for w in no_numbers] # stem each word\n",
        "    # stemmed = [stemmer.stem(w) for w in words] # stem each word\n",
        "\n",
        "\n",
        "    # no_trump = [w for w in stemmed if w not in donald_list]\n",
        "    return stemmed\n",
        "    # return no_trump\n",
        "\n",
        "def is_named_entity_there(named_entity_list, input_text_list):\n",
        "  # all(x in ['b', 'a', 'foo', 'bar'] for x in ['a', 'b'])\n",
        "  return all(x in input_text_list for x in named_entity_list)\n",
        "\n",
        "df_test['caption_text'] = df_test['targetParagraphs'].progress_apply(lambda x: normalize_article_content_no_stop(\" \".join(eval(x))))\n",
        "\n",
        "chosen_named_entities = [\n",
        "  ['kim', 'jong', 'un'],\n",
        "  ['donald', 'trump'],\n",
        "  ['elon', 'musk'],\n",
        "  ['marin', 'le', 'pen'],\n",
        "  ['kany', 'west'], #, 'west'],\n",
        "  ['hillari', 'clinton'],\n",
        "  ['obama'],\n",
        "  ['democrat'],\n",
        "  ['gop'],\n",
        "  ['zuckerberg']\n",
        "]\n",
        "\n",
        "condition_lambda = 5.0\n",
        "subset = 100\n",
        "for chosen_named_entity in chosen_named_entities:\n",
        "  name = \"_\".join(chosen_named_entity)\n",
        "  print(name)\n",
        "  print(df_test['caption_text'].apply(lambda x : is_named_entity_there(chosen_named_entity, x)).sum())\n",
        "\n",
        "  chosen_index = df_test['caption_text'].apply(lambda x : is_named_entity_there(chosen_named_entity, x))\n",
        "  chosen_df = df_test[chosen_index][0:100] \n",
        "  # print(df_test[chosen_index][0:100]['truthClass'].value_counts())\n",
        "\n",
        "  create_clickbait_samples(chosen_df, \n",
        "                              generation_model=generation_model, \n",
        "                              tokenizer=tokenizer, \n",
        "                              conditioning_model=conditioning_model, \n",
        "                              dataset_info=dataset_info, \n",
        "                              precondition_topk=precondition_topk, \n",
        "                              condition_lambda=5.0, \n",
        "                              length_cutoff=length_cutoff, \n",
        "                              device=device,\n",
        "                              save_file=f'../drive/MyDrive/nlp_lss_data/df_clickbait_test_pegasus_webis_lambda_{condition_lambda}_subset_{subset}_name_{name}.csv',\n",
        "                              # save_file=f'../drive/MyDrive/nlp_lss_data/df_clickbait_test_lambda_{condition_lambda}_subset_{subset}.csv',\n",
        "                              subset=subset,\n",
        "                              verbose=False)"
      ]
    },
    {
      "cell_type": "markdown",
      "metadata": {},
      "source": [
        "## Full test dataset inference"
      ]
    },
    {
      "cell_type": "code",
      "execution_count": null,
      "metadata": {
        "colab": {
          "base_uri": "https://localhost:8080/"
        },
        "id": "uMneqr64bKl3",
        "outputId": "9dc0839b-5d44-4662-fc79-c07b74dd663d"
      },
      "outputs": [
        {
          "data": {
            "text/plain": [
              "18979"
            ]
          },
          "execution_count": 30,
          "metadata": {},
          "output_type": "execute_result"
        }
      ],
      "source": [
        "df_test.shape[0]"
      ]
    },
    {
      "cell_type": "code",
      "execution_count": null,
      "metadata": {
        "colab": {
          "base_uri": "https://localhost:8080/"
        },
        "id": "vRvBBJVzKCFV",
        "outputId": "cb13f5a8-f978-46ea-eac9-b9c8514cec02"
      },
      "outputs": [
        {
          "name": "stderr",
          "output_type": "stream",
          "text": [
            "\r0it [00:00, ?it/s]/content/naacl-2021-fudge-controlled-generation/model.py:170: UserWarning: To copy construct from a tensor, it is recommended to use sourceTensor.clone().detach() or sourceTensor.clone().detach().requires_grad_(True), rather than torch.tensor(sourceTensor).\n",
            "  input_ids = torch.tensor(inputs)\n",
            "3268it [9:56:10, 10.51s/it]"
          ]
        }
      ],
      "source": [
        "subset = df_test.shape[0]\n",
        "# condition_lambda = 5.0\n",
        "create_clickbait_samples(df_test, \n",
        "                              generation_model=generation_model, \n",
        "                              tokenizer=tokenizer, \n",
        "                              conditioning_model=conditioning_model, \n",
        "                              dataset_info=dataset_info, \n",
        "                              precondition_topk=precondition_topk, \n",
        "                              condition_lambda=5.0, \n",
        "                              length_cutoff=length_cutoff, \n",
        "                              device=device,\n",
        "                              save_file=f'../drive/MyDrive/nlp_lss_data/df_clickbait_test_pegasus_webis_lambda_{condition_lambda}_subset_{subset}.csv',\n",
        "                              # save_file=f'../drive/MyDrive/nlp_lss_data/df_clickbait_test_lambda_{condition_lambda}_subset_{subset}.csv',\n",
        "                              # subset=subset,\n",
        "                              subset = slice(3268,subset),\n",
        "                              verbose=False)"
      ]
    },
    {
      "cell_type": "code",
      "execution_count": null,
      "metadata": {
        "colab": {
          "base_uri": "https://localhost:8080/"
        },
        "id": "NdROX-8fbnXI",
        "outputId": "f8899b85-601f-4d67-9a2d-7a7c3c71992f"
      },
      "outputs": [
        {
          "name": "stderr",
          "output_type": "stream",
          "text": [
            "\r0it [00:00, ?it/s]/content/naacl-2021-fudge-controlled-generation/model.py:170: UserWarning: To copy construct from a tensor, it is recommended to use sourceTensor.clone().detach() or sourceTensor.clone().detach().requires_grad_(True), rather than torch.tensor(sourceTensor).\n",
            "  input_ids = torch.tensor(inputs)\n",
            "1153it [5:55:08, 18.39s/it]"
          ]
        }
      ],
      "source": [
        "subset = df_test.shape[0]\n",
        "condition_lambda = 20.0\n",
        "create_clickbait_samples(df_test, \n",
        "                              generation_model=generation_model, \n",
        "                              tokenizer=tokenizer, \n",
        "                              conditioning_model=conditioning_model, \n",
        "                              dataset_info=dataset_info, \n",
        "                              precondition_topk=precondition_topk, \n",
        "                              condition_lambda=5.0, \n",
        "                              length_cutoff=length_cutoff, \n",
        "                              device=device,\n",
        "                              save_file=f'../drive/MyDrive/nlp_lss_data/df_clickbait_test_pegasus_webis_lambda_{condition_lambda}_subset_{subset}.csv',\n",
        "                              # save_file=f'../drive/MyDrive/nlp_lss_data/df_clickbait_test_lambda_{condition_lambda}_subset_{subset}.csv',\n",
        "                              # subset=subset,\n",
        "                              subset = slice(3268,subset),\n",
        "                              verbose=False)"
      ]
    },
    {
      "cell_type": "markdown",
      "metadata": {
        "id": "wjeruKqYnX2B"
      },
      "source": [
        "# Try Gradio now "
      ]
    },
    {
      "cell_type": "code",
      "execution_count": null,
      "metadata": {
        "colab": {
          "base_uri": "https://localhost:8080/"
        },
        "id": "e9V3fj8Ksi1y",
        "outputId": "b2858f49-9b76-47a6-ec41-ba6a7708fbde"
      },
      "outputs": [
        {
          "name": "stdout",
          "output_type": "stream",
          "text": [
            "\u001b[K     |████████████████████████████████| 5.1 MB 7.4 MB/s \n",
            "\u001b[K     |████████████████████████████████| 272 kB 92.3 MB/s \n",
            "\u001b[K     |████████████████████████████████| 84 kB 4.2 MB/s \n",
            "\u001b[K     |████████████████████████████████| 57 kB 5.7 MB/s \n",
            "\u001b[K     |████████████████████████████████| 212 kB 91.7 MB/s \n",
            "\u001b[K     |████████████████████████████████| 2.3 MB 49.4 MB/s \n",
            "\u001b[K     |████████████████████████████████| 54 kB 3.8 MB/s \n",
            "\u001b[K     |████████████████████████████████| 84 kB 4.5 MB/s \n",
            "\u001b[K     |████████████████████████████████| 63 kB 2.3 MB/s \n",
            "\u001b[K     |████████████████████████████████| 80 kB 11.6 MB/s \n",
            "\u001b[K     |████████████████████████████████| 68 kB 8.3 MB/s \n",
            "\u001b[K     |████████████████████████████████| 54 kB 3.9 MB/s \n",
            "\u001b[K     |████████████████████████████████| 43 kB 2.0 MB/s \n",
            "\u001b[K     |████████████████████████████████| 62 kB 1.2 MB/s \n",
            "\u001b[K     |████████████████████████████████| 856 kB 73.3 MB/s \n",
            "\u001b[K     |████████████████████████████████| 4.1 MB 57.7 MB/s \n",
            "\u001b[?25h  Building wheel for ffmpy (setup.py) ... \u001b[?25l\u001b[?25hdone\n",
            "  Building wheel for python-multipart (setup.py) ... \u001b[?25l\u001b[?25hdone\n"
          ]
        }
      ],
      "source": [
        "!pip install -q gradio"
      ]
    },
    {
      "cell_type": "code",
      "execution_count": null,
      "metadata": {
        "colab": {
          "base_uri": "https://localhost:8080/",
          "height": 643
        },
        "id": "wjGOlijDngRD",
        "outputId": "eb407350-1e0f-4ffe-e61d-9ab5db3d07ad"
      },
      "outputs": [
        {
          "name": "stdout",
          "output_type": "stream",
          "text": [
            "Colab notebook detected. To show errors in colab notebook, set `debug=True` in `launch()`\n",
            "Running on public URL: https://29566.gradio.app\n",
            "\n",
            "This share link expires in 72 hours. For free permanent hosting, check out Spaces (https://huggingface.co/spaces)\n"
          ]
        },
        {
          "data": {
            "text/html": [
              "<div><iframe src=\"https://29566.gradio.app\" width=\"900\" height=\"500\" allow=\"autoplay; camera; microphone;\" frameborder=\"0\" allowfullscreen></iframe></div>"
            ],
            "text/plain": [
              "<IPython.core.display.HTML object>"
            ]
          },
          "metadata": {},
          "output_type": "display_data"
        },
        {
          "data": {
            "text/plain": [
              "(<gradio.routes.App at 0x7f418291e450>,\n",
              " 'http://127.0.0.1:7860/',\n",
              " 'https://29566.gradio.app')"
            ]
          },
          "execution_count": 42,
          "metadata": {},
          "output_type": "execute_result"
        }
      ],
      "source": [
        "import gradio as gr\n",
        "\n",
        "def return_multiple(name, number):\n",
        "    result = \"Hi {}! 😎. The Mulitple of {} is {}\".format(name, number, round(number**2, 2))\n",
        "    return result\n",
        "\n",
        "app = gr.Interface(fn = return_multiple, inputs=[\"text\", gr.Slider(0, 50)], outputs=\"text\")\n",
        "app.launch()"
      ]
    },
    {
      "cell_type": "code",
      "execution_count": null,
      "metadata": {
        "id": "vy3BbSC_pEmi"
      },
      "outputs": [],
      "source": [
        "# from transformers import AutoModelForSeq2SeqLM, AutoTokenizer\n",
        "\n",
        "\n",
        "# article_content = \"\"\"Australian actor Guy Pearce will return for the iconic soap Neighbours finale on August 1 to reprise his role as Mike Young.\n",
        "#                 Guy, 54, played the troubled Mike from 1986 to 1989, and is now set to make a comeback on the show after 33 years, Metro.co.uk reports.\n",
        "#                 The star's character arcs explored the implications of domestic abuse, student-teacher relationships and dealing with loss of loved ones.\n",
        "#                 Speaking to Metro.co.uk, Guy said: 'It is very exciting and surreal at the same time being back on set again, however it feels like coming home.\n",
        "#                 'It's where it all started for me professionally. I've been asked to come back on occasions over the years and wondered if it was the right thing \n",
        "#                 to do, but once I knew the show was finishing, I knew I had to do it.'He added that there is 'nothing like being here all together again'\n",
        "#                 , even though he's had a chance to catch-up with other cast members.\"\"\"\n",
        "\n",
        "# # model_string = \"google/pegasus-xsum\"\n",
        "# model_string = \"../drive/MyDrive/nlp_lss_data/non_clickbait_and_clickbait_summarization_steps_pegasus_xsum/checkpoint-150/\"\n",
        "\n",
        "# device = 'cuda'\n",
        "# model = AutoModelForSeq2SeqLM.from_pretrained(model_string, return_dict=True).to(device)\n",
        "# tokenizer = AutoTokenizer.from_pretrained(model_string)\n",
        "\n",
        "# input = tokenizer(article_content, return_tensors='pt', add_special_tokens=False).to(device)\n",
        "# result = tokenizer.decode(model.generate(**input)[0], skip_special_tokens=True)\n",
        "# print(result)\n"
      ]
    },
    {
      "cell_type": "code",
      "execution_count": null,
      "metadata": {
        "colab": {
          "base_uri": "https://localhost:8080/"
        },
        "id": "cyytAr8nott4",
        "outputId": "8f39aaa0-f5b1-4867-e03e-9e842f29f59f"
      },
      "outputs": [
        {
          "name": "stderr",
          "output_type": "stream",
          "text": [
            "/content/naacl-2021-fudge-controlled-generation/model.py:170: UserWarning: To copy construct from a tensor, it is recommended to use sourceTensor.clone().detach() or sourceTensor.clone().detach().requires_grad_(True), rather than torch.tensor(sourceTensor).\n",
            "  input_ids = torch.tensor(inputs)\n"
          ]
        }
      ],
      "source": [
        "\n",
        "# article_content = df_train.iloc[0]['targetParagraphs']\n",
        "article_content = \"\"\"Australian actor Guy Pearce will return for the iconic soap Neighbours finale on August 1 to reprise his role as Mike Young.\n",
        "                Guy, 54, played the troubled Mike from 1986 to 1989, and is now set to make a comeback on the show after 33 years, Metro.co.uk reports.\n",
        "                The star's character arcs explored the implications of domestic abuse, student-teacher relationships and dealing with loss of loved ones.\n",
        "                Speaking to Metro.co.uk, Guy said: 'It is very exciting and surreal at the same time being back on set again, however it feels like coming home.\n",
        "                'It's where it all started for me professionally. I've been asked to come back on occasions over the years and wondered if it was the right thing \n",
        "                to do, but once I knew the show was finishing, I knew I had to do it.'He added that there is 'nothing like being here all together again'\n",
        "                , even though he's had a chance to catch-up with other cast members.\"\"\"\n",
        "\n",
        "results = generate_clickbait(model=generation_model, \n",
        "                        tokenizer=tokenizer, \n",
        "                        conditioning_model=conditioning_model, \n",
        "                        input_text=[None], \n",
        "                        dataset_info=dataset_info, \n",
        "                        precondition_topk=precondition_topk,\n",
        "                        length_cutoff=length_cutoff,\n",
        "                        condition_lambda=condition_lambda,\n",
        "                        article_content=article_content,\n",
        "                        device=device)"
      ]
    },
    {
      "cell_type": "code",
      "execution_count": null,
      "metadata": {
        "colab": {
          "base_uri": "https://localhost:8080/"
        },
        "id": "EkyA6kdBpRg7",
        "outputId": "ef5b1ddc-87d8-4e44-dcd9-7d5c9abae993"
      },
      "outputs": [
        {
          "name": "stdout",
          "output_type": "stream",
          "text": [
            " Guy Pearce to star in Neighbour End of series live show? Revealed...... when will he come back to Neighbours??s\n"
          ]
        }
      ],
      "source": [
        "print(results[0].replace('</s>', '').replace('<pad>', ''))"
      ]
    },
    {
      "cell_type": "code",
      "execution_count": null,
      "metadata": {
        "colab": {
          "base_uri": "https://localhost:8080/",
          "height": 698
        },
        "id": "wsdCRTLJpVlB",
        "outputId": "a54571bc-62e6-49bb-c0ce-6ab73b5853c5"
      },
      "outputs": [
        {
          "name": "stderr",
          "output_type": "stream",
          "text": [
            "/usr/local/lib/python3.7/dist-packages/gradio/deprecation.py:44: UserWarning: You have unused kwarg parameters in Interface, please remove them: {'label': 'Article content or paragraph'}\n",
            "  f\"You have unused kwarg parameters in {cls}, please remove them: {kwargs}\"\n"
          ]
        },
        {
          "name": "stdout",
          "output_type": "stream",
          "text": [
            "Colab notebook detected. To show errors in colab notebook, set `debug=True` in `launch()`\n",
            "Running on public URL: https://24691.gradio.app\n",
            "\n",
            "This share link expires in 72 hours. For free permanent hosting, check out Spaces (https://huggingface.co/spaces)\n"
          ]
        },
        {
          "data": {
            "text/html": [
              "<div><iframe src=\"https://24691.gradio.app\" width=\"900\" height=\"500\" allow=\"autoplay; camera; microphone;\" frameborder=\"0\" allowfullscreen></iframe></div>"
            ],
            "text/plain": [
              "<IPython.core.display.HTML object>"
            ]
          },
          "metadata": {},
          "output_type": "display_data"
        },
        {
          "data": {
            "text/plain": [
              "(<gradio.routes.App at 0x7f4178c87110>,\n",
              " 'http://127.0.0.1:7865/',\n",
              " 'https://24691.gradio.app')"
            ]
          },
          "execution_count": 50,
          "metadata": {},
          "output_type": "execute_result"
        }
      ],
      "source": [
        "import gradio as gr\n",
        "\n",
        "def clickbait_generator(article_content, condition_lambda=5.0):\n",
        "    # result = \"Hi {}! 😎. The Mulitple of {} is {}\".format(name, number, round(number**2, 2))\n",
        "    results = generate_clickbait(model=generation_model, \n",
        "                        tokenizer=tokenizer, \n",
        "                        conditioning_model=conditioning_model, \n",
        "                        input_text=[None], \n",
        "                        dataset_info=dataset_info, \n",
        "                        precondition_topk=precondition_topk,\n",
        "                        length_cutoff=length_cutoff,\n",
        "                        condition_lambda=condition_lambda,\n",
        "                        article_content=article_content,\n",
        "                        device=device)\n",
        "    \n",
        "    return results[0].replace('</s>', '').replace('<pad>', '')\n",
        "\n",
        "title = \"Clickbait generator\"\n",
        "description = \"\"\"\n",
        "\"Use the [Fudge](https://github.com/yangkevin2/naacl-2021-fudge-controlled-generation) implementation fine tuned for our purposes to try and create news headline you are looking for!\"\n",
        "\"\"\"\n",
        "\n",
        "article = \"Check out [the codebase for our model](https://github.com/dsvilarkovic/clickbaitinator) that this demo is based off of.\"\n",
        "\n",
        "\n",
        "app = gr.Interface(\n",
        "    title = title,\n",
        "    description = description,\n",
        "    label = 'Article content or paragraph', \n",
        "    fn = clickbait_generator, \n",
        "    inputs=[\"text\", gr.Slider(0, 100, step=0.1, value=5.0)], outputs=\"text\")\n",
        "app.launch()"
      ]
    }
  ],
  "metadata": {
    "accelerator": "GPU",
    "colab": {
      "collapsed_sections": [],
      "machine_shape": "hm",
      "name": "Fudge_running.ipynb",
      "provenance": [],
      "toc_visible": true
    },
    "gpuClass": "standard",
    "kernelspec": {
      "display_name": "Python 3",
      "name": "python3"
    },
    "language_info": {
      "name": "python"
    },
    "widgets": {
      "application/vnd.jupyter.widget-state+json": {
        "018ee2c936fa4c4991f461e64bbd5543": {
          "model_module": "@jupyter-widgets/controls",
          "model_module_version": "1.5.0",
          "model_name": "DescriptionStyleModel",
          "state": {
            "_model_module": "@jupyter-widgets/controls",
            "_model_module_version": "1.5.0",
            "_model_name": "DescriptionStyleModel",
            "_view_count": null,
            "_view_module": "@jupyter-widgets/base",
            "_view_module_version": "1.2.0",
            "_view_name": "StyleView",
            "description_width": ""
          }
        },
        "02f9e9edfe4e42c585fb80813bcf7fbf": {
          "model_module": "@jupyter-widgets/controls",
          "model_module_version": "1.5.0",
          "model_name": "HTMLModel",
          "state": {
            "_dom_classes": [],
            "_model_module": "@jupyter-widgets/controls",
            "_model_module_version": "1.5.0",
            "_model_name": "HTMLModel",
            "_view_count": null,
            "_view_module": "@jupyter-widgets/controls",
            "_view_module_version": "1.5.0",
            "_view_name": "HTMLView",
            "description": "",
            "description_tooltip": null,
            "layout": "IPY_MODEL_8b687394c1ad48948e66c082c9eae110",
            "placeholder": "​",
            "style": "IPY_MODEL_0ec428eada484f6ab93f7cbecb7feda5",
            "value": " 3.36M/3.36M [00:00&lt;00:00, 5.99MB/s]"
          }
        },
        "03a4328241ee4fabbb60f1bb8d05455c": {
          "model_module": "@jupyter-widgets/controls",
          "model_module_version": "1.5.0",
          "model_name": "ProgressStyleModel",
          "state": {
            "_model_module": "@jupyter-widgets/controls",
            "_model_module_version": "1.5.0",
            "_model_name": "ProgressStyleModel",
            "_view_count": null,
            "_view_module": "@jupyter-widgets/base",
            "_view_module_version": "1.2.0",
            "_view_name": "StyleView",
            "bar_color": null,
            "description_width": ""
          }
        },
        "0e1d6946643549639079912df037a994": {
          "model_module": "@jupyter-widgets/controls",
          "model_module_version": "1.5.0",
          "model_name": "ProgressStyleModel",
          "state": {
            "_model_module": "@jupyter-widgets/controls",
            "_model_module_version": "1.5.0",
            "_model_name": "ProgressStyleModel",
            "_view_count": null,
            "_view_module": "@jupyter-widgets/base",
            "_view_module_version": "1.2.0",
            "_view_name": "StyleView",
            "bar_color": null,
            "description_width": ""
          }
        },
        "0ec428eada484f6ab93f7cbecb7feda5": {
          "model_module": "@jupyter-widgets/controls",
          "model_module_version": "1.5.0",
          "model_name": "DescriptionStyleModel",
          "state": {
            "_model_module": "@jupyter-widgets/controls",
            "_model_module_version": "1.5.0",
            "_model_name": "DescriptionStyleModel",
            "_view_count": null,
            "_view_module": "@jupyter-widgets/base",
            "_view_module_version": "1.2.0",
            "_view_name": "StyleView",
            "description_width": ""
          }
        },
        "0eec5f8a280d481cbbe6183f17ef8728": {
          "model_module": "@jupyter-widgets/controls",
          "model_module_version": "1.5.0",
          "model_name": "HTMLModel",
          "state": {
            "_dom_classes": [],
            "_model_module": "@jupyter-widgets/controls",
            "_model_module_version": "1.5.0",
            "_model_name": "HTMLModel",
            "_view_count": null,
            "_view_module": "@jupyter-widgets/controls",
            "_view_module_version": "1.5.0",
            "_view_name": "HTMLView",
            "description": "",
            "description_tooltip": null,
            "layout": "IPY_MODEL_997c8b9448b647b69e9fc10e897d8768",
            "placeholder": "​",
            "style": "IPY_MODEL_11231e50406f4fa9b548d983e55397fd",
            "value": " 239/239 [00:00&lt;00:00, 7.21kB/s]"
          }
        },
        "10d025b5c3ed4f7fa9310f2a67372bf8": {
          "model_module": "@jupyter-widgets/base",
          "model_module_version": "1.2.0",
          "model_name": "LayoutModel",
          "state": {
            "_model_module": "@jupyter-widgets/base",
            "_model_module_version": "1.2.0",
            "_model_name": "LayoutModel",
            "_view_count": null,
            "_view_module": "@jupyter-widgets/base",
            "_view_module_version": "1.2.0",
            "_view_name": "LayoutView",
            "align_content": null,
            "align_items": null,
            "align_self": null,
            "border": null,
            "bottom": null,
            "display": null,
            "flex": null,
            "flex_flow": null,
            "grid_area": null,
            "grid_auto_columns": null,
            "grid_auto_flow": null,
            "grid_auto_rows": null,
            "grid_column": null,
            "grid_gap": null,
            "grid_row": null,
            "grid_template_areas": null,
            "grid_template_columns": null,
            "grid_template_rows": null,
            "height": null,
            "justify_content": null,
            "justify_items": null,
            "left": null,
            "margin": null,
            "max_height": null,
            "max_width": null,
            "min_height": null,
            "min_width": null,
            "object_fit": null,
            "object_position": null,
            "order": null,
            "overflow": null,
            "overflow_x": null,
            "overflow_y": null,
            "padding": null,
            "right": null,
            "top": null,
            "visibility": null,
            "width": null
          }
        },
        "110511ef3d134cb993ded03500d0b331": {
          "model_module": "@jupyter-widgets/controls",
          "model_module_version": "1.5.0",
          "model_name": "FloatProgressModel",
          "state": {
            "_dom_classes": [],
            "_model_module": "@jupyter-widgets/controls",
            "_model_module_version": "1.5.0",
            "_model_name": "FloatProgressModel",
            "_view_count": null,
            "_view_module": "@jupyter-widgets/controls",
            "_view_module_version": "1.5.0",
            "_view_name": "ProgressView",
            "bar_style": "success",
            "description": "",
            "description_tooltip": null,
            "layout": "IPY_MODEL_ec81b39687cf49a8acba2526b54a0ef6",
            "max": 438011953,
            "min": 0,
            "orientation": "horizontal",
            "style": "IPY_MODEL_afc07140d07c4c74b9d52449aa8c6fb1",
            "value": 438011953
          }
        },
        "11231e50406f4fa9b548d983e55397fd": {
          "model_module": "@jupyter-widgets/controls",
          "model_module_version": "1.5.0",
          "model_name": "DescriptionStyleModel",
          "state": {
            "_model_module": "@jupyter-widgets/controls",
            "_model_module_version": "1.5.0",
            "_model_name": "DescriptionStyleModel",
            "_view_count": null,
            "_view_module": "@jupyter-widgets/base",
            "_view_module_version": "1.2.0",
            "_view_name": "StyleView",
            "description_width": ""
          }
        },
        "11a97cc5c95842c995cafde746792801": {
          "model_module": "@jupyter-widgets/controls",
          "model_module_version": "1.5.0",
          "model_name": "DescriptionStyleModel",
          "state": {
            "_model_module": "@jupyter-widgets/controls",
            "_model_module_version": "1.5.0",
            "_model_name": "DescriptionStyleModel",
            "_view_count": null,
            "_view_module": "@jupyter-widgets/base",
            "_view_module_version": "1.2.0",
            "_view_name": "StyleView",
            "description_width": ""
          }
        },
        "14b5c3f2ca6d4aecbd3515d97f171fb9": {
          "model_module": "@jupyter-widgets/controls",
          "model_module_version": "1.5.0",
          "model_name": "HBoxModel",
          "state": {
            "_dom_classes": [],
            "_model_module": "@jupyter-widgets/controls",
            "_model_module_version": "1.5.0",
            "_model_name": "HBoxModel",
            "_view_count": null,
            "_view_module": "@jupyter-widgets/controls",
            "_view_module_version": "1.5.0",
            "_view_name": "HBoxView",
            "box_style": "",
            "children": [
              "IPY_MODEL_72ba537ec5f24397a313825110540647",
              "IPY_MODEL_45be78eb56ed434e96c5b78057e6acea",
              "IPY_MODEL_5ee16a653d52424aa97b1b4c2ec83b96"
            ],
            "layout": "IPY_MODEL_31b6f77d4b044d53a4ae9271ef12bb56"
          }
        },
        "18f329ab449f469aafd5bf08dd0fe2ab": {
          "model_module": "@jupyter-widgets/base",
          "model_module_version": "1.2.0",
          "model_name": "LayoutModel",
          "state": {
            "_model_module": "@jupyter-widgets/base",
            "_model_module_version": "1.2.0",
            "_model_name": "LayoutModel",
            "_view_count": null,
            "_view_module": "@jupyter-widgets/base",
            "_view_module_version": "1.2.0",
            "_view_name": "LayoutView",
            "align_content": null,
            "align_items": null,
            "align_self": null,
            "border": null,
            "bottom": null,
            "display": null,
            "flex": null,
            "flex_flow": null,
            "grid_area": null,
            "grid_auto_columns": null,
            "grid_auto_flow": null,
            "grid_auto_rows": null,
            "grid_column": null,
            "grid_gap": null,
            "grid_row": null,
            "grid_template_areas": null,
            "grid_template_columns": null,
            "grid_template_rows": null,
            "height": null,
            "justify_content": null,
            "justify_items": null,
            "left": null,
            "margin": null,
            "max_height": null,
            "max_width": null,
            "min_height": null,
            "min_width": null,
            "object_fit": null,
            "object_position": null,
            "order": null,
            "overflow": null,
            "overflow_x": null,
            "overflow_y": null,
            "padding": null,
            "right": null,
            "top": null,
            "visibility": null,
            "width": null
          }
        },
        "19109768aa2545a4bc4d9ce2352bbda3": {
          "model_module": "@jupyter-widgets/controls",
          "model_module_version": "1.5.0",
          "model_name": "DescriptionStyleModel",
          "state": {
            "_model_module": "@jupyter-widgets/controls",
            "_model_module_version": "1.5.0",
            "_model_name": "DescriptionStyleModel",
            "_view_count": null,
            "_view_module": "@jupyter-widgets/base",
            "_view_module_version": "1.2.0",
            "_view_name": "StyleView",
            "description_width": ""
          }
        },
        "19ac1c8f78ac43d8b196b16d36d345d6": {
          "model_module": "@jupyter-widgets/base",
          "model_module_version": "1.2.0",
          "model_name": "LayoutModel",
          "state": {
            "_model_module": "@jupyter-widgets/base",
            "_model_module_version": "1.2.0",
            "_model_name": "LayoutModel",
            "_view_count": null,
            "_view_module": "@jupyter-widgets/base",
            "_view_module_version": "1.2.0",
            "_view_name": "LayoutView",
            "align_content": null,
            "align_items": null,
            "align_self": null,
            "border": null,
            "bottom": null,
            "display": null,
            "flex": null,
            "flex_flow": null,
            "grid_area": null,
            "grid_auto_columns": null,
            "grid_auto_flow": null,
            "grid_auto_rows": null,
            "grid_column": null,
            "grid_gap": null,
            "grid_row": null,
            "grid_template_areas": null,
            "grid_template_columns": null,
            "grid_template_rows": null,
            "height": null,
            "justify_content": null,
            "justify_items": null,
            "left": null,
            "margin": null,
            "max_height": null,
            "max_width": null,
            "min_height": null,
            "min_width": null,
            "object_fit": null,
            "object_position": null,
            "order": null,
            "overflow": null,
            "overflow_x": null,
            "overflow_y": null,
            "padding": null,
            "right": null,
            "top": null,
            "visibility": null,
            "width": null
          }
        },
        "1b6828142e3340cb899995946ec9cee2": {
          "model_module": "@jupyter-widgets/base",
          "model_module_version": "1.2.0",
          "model_name": "LayoutModel",
          "state": {
            "_model_module": "@jupyter-widgets/base",
            "_model_module_version": "1.2.0",
            "_model_name": "LayoutModel",
            "_view_count": null,
            "_view_module": "@jupyter-widgets/base",
            "_view_module_version": "1.2.0",
            "_view_name": "LayoutView",
            "align_content": null,
            "align_items": null,
            "align_self": null,
            "border": null,
            "bottom": null,
            "display": null,
            "flex": null,
            "flex_flow": null,
            "grid_area": null,
            "grid_auto_columns": null,
            "grid_auto_flow": null,
            "grid_auto_rows": null,
            "grid_column": null,
            "grid_gap": null,
            "grid_row": null,
            "grid_template_areas": null,
            "grid_template_columns": null,
            "grid_template_rows": null,
            "height": null,
            "justify_content": null,
            "justify_items": null,
            "left": null,
            "margin": null,
            "max_height": null,
            "max_width": null,
            "min_height": null,
            "min_width": null,
            "object_fit": null,
            "object_position": null,
            "order": null,
            "overflow": null,
            "overflow_x": null,
            "overflow_y": null,
            "padding": null,
            "right": null,
            "top": null,
            "visibility": null,
            "width": null
          }
        },
        "1c7597390d8f436c8f3835b2e8b23452": {
          "model_module": "@jupyter-widgets/controls",
          "model_module_version": "1.5.0",
          "model_name": "DescriptionStyleModel",
          "state": {
            "_model_module": "@jupyter-widgets/controls",
            "_model_module_version": "1.5.0",
            "_model_name": "DescriptionStyleModel",
            "_view_count": null,
            "_view_module": "@jupyter-widgets/base",
            "_view_module_version": "1.2.0",
            "_view_name": "StyleView",
            "description_width": ""
          }
        },
        "1e14af77253a43efb613e25a4fb64e80": {
          "model_module": "@jupyter-widgets/base",
          "model_module_version": "1.2.0",
          "model_name": "LayoutModel",
          "state": {
            "_model_module": "@jupyter-widgets/base",
            "_model_module_version": "1.2.0",
            "_model_name": "LayoutModel",
            "_view_count": null,
            "_view_module": "@jupyter-widgets/base",
            "_view_module_version": "1.2.0",
            "_view_name": "LayoutView",
            "align_content": null,
            "align_items": null,
            "align_self": null,
            "border": null,
            "bottom": null,
            "display": null,
            "flex": null,
            "flex_flow": null,
            "grid_area": null,
            "grid_auto_columns": null,
            "grid_auto_flow": null,
            "grid_auto_rows": null,
            "grid_column": null,
            "grid_gap": null,
            "grid_row": null,
            "grid_template_areas": null,
            "grid_template_columns": null,
            "grid_template_rows": null,
            "height": null,
            "justify_content": null,
            "justify_items": null,
            "left": null,
            "margin": null,
            "max_height": null,
            "max_width": null,
            "min_height": null,
            "min_width": null,
            "object_fit": null,
            "object_position": null,
            "order": null,
            "overflow": null,
            "overflow_x": null,
            "overflow_y": null,
            "padding": null,
            "right": null,
            "top": null,
            "visibility": null,
            "width": null
          }
        },
        "1ea6895272874ec98c769999e3b8f899": {
          "model_module": "@jupyter-widgets/base",
          "model_module_version": "1.2.0",
          "model_name": "LayoutModel",
          "state": {
            "_model_module": "@jupyter-widgets/base",
            "_model_module_version": "1.2.0",
            "_model_name": "LayoutModel",
            "_view_count": null,
            "_view_module": "@jupyter-widgets/base",
            "_view_module_version": "1.2.0",
            "_view_name": "LayoutView",
            "align_content": null,
            "align_items": null,
            "align_self": null,
            "border": null,
            "bottom": null,
            "display": null,
            "flex": null,
            "flex_flow": null,
            "grid_area": null,
            "grid_auto_columns": null,
            "grid_auto_flow": null,
            "grid_auto_rows": null,
            "grid_column": null,
            "grid_gap": null,
            "grid_row": null,
            "grid_template_areas": null,
            "grid_template_columns": null,
            "grid_template_rows": null,
            "height": null,
            "justify_content": null,
            "justify_items": null,
            "left": null,
            "margin": null,
            "max_height": null,
            "max_width": null,
            "min_height": null,
            "min_width": null,
            "object_fit": null,
            "object_position": null,
            "order": null,
            "overflow": null,
            "overflow_x": null,
            "overflow_y": null,
            "padding": null,
            "right": null,
            "top": null,
            "visibility": null,
            "width": null
          }
        },
        "2485ae784fb4495ba89bab90009dacb2": {
          "model_module": "@jupyter-widgets/controls",
          "model_module_version": "1.5.0",
          "model_name": "FloatProgressModel",
          "state": {
            "_dom_classes": [],
            "_model_module": "@jupyter-widgets/controls",
            "_model_module_version": "1.5.0",
            "_model_name": "FloatProgressModel",
            "_view_count": null,
            "_view_module": "@jupyter-widgets/controls",
            "_view_module_version": "1.5.0",
            "_view_name": "ProgressView",
            "bar_style": "success",
            "description": "",
            "description_tooltip": null,
            "layout": "IPY_MODEL_3cc3081aac044839be81b0ae4d094fa2",
            "max": 65,
            "min": 0,
            "orientation": "horizontal",
            "style": "IPY_MODEL_8743a65afc474e9fa8010b87ef61d4b7",
            "value": 65
          }
        },
        "26b8e174603f4c2380704c0c146a29ad": {
          "model_module": "@jupyter-widgets/controls",
          "model_module_version": "1.5.0",
          "model_name": "DescriptionStyleModel",
          "state": {
            "_model_module": "@jupyter-widgets/controls",
            "_model_module_version": "1.5.0",
            "_model_name": "DescriptionStyleModel",
            "_view_count": null,
            "_view_module": "@jupyter-widgets/base",
            "_view_module_version": "1.2.0",
            "_view_name": "StyleView",
            "description_width": ""
          }
        },
        "272ef800095842ecaf9a9c3871e3b9c7": {
          "model_module": "@jupyter-widgets/controls",
          "model_module_version": "1.5.0",
          "model_name": "HBoxModel",
          "state": {
            "_dom_classes": [],
            "_model_module": "@jupyter-widgets/controls",
            "_model_module_version": "1.5.0",
            "_model_name": "HBoxModel",
            "_view_count": null,
            "_view_module": "@jupyter-widgets/controls",
            "_view_module_version": "1.5.0",
            "_view_name": "HBoxView",
            "box_style": "",
            "children": [
              "IPY_MODEL_2d6c47a5fee04dd380e67d71fb249bef",
              "IPY_MODEL_f1077fa39cba4c5cb418a4fa5604ed9b",
              "IPY_MODEL_02f9e9edfe4e42c585fb80813bcf7fbf"
            ],
            "layout": "IPY_MODEL_95288b0bb73641939badbc9cff32ae4a"
          }
        },
        "27fbf54dd2dd4753a446af09b8ff6c7e": {
          "model_module": "@jupyter-widgets/controls",
          "model_module_version": "1.5.0",
          "model_name": "DescriptionStyleModel",
          "state": {
            "_model_module": "@jupyter-widgets/controls",
            "_model_module_version": "1.5.0",
            "_model_name": "DescriptionStyleModel",
            "_view_count": null,
            "_view_module": "@jupyter-widgets/base",
            "_view_module_version": "1.2.0",
            "_view_name": "StyleView",
            "description_width": ""
          }
        },
        "28aa14085a7142a2ad29f0b872e8fe55": {
          "model_module": "@jupyter-widgets/controls",
          "model_module_version": "1.5.0",
          "model_name": "HTMLModel",
          "state": {
            "_dom_classes": [],
            "_model_module": "@jupyter-widgets/controls",
            "_model_module_version": "1.5.0",
            "_model_name": "HTMLModel",
            "_view_count": null,
            "_view_module": "@jupyter-widgets/controls",
            "_view_module_version": "1.5.0",
            "_view_name": "HTMLView",
            "description": "",
            "description_tooltip": null,
            "layout": "IPY_MODEL_5e01ed5b3c734da2af5f4ba639b94477",
            "placeholder": "​",
            "style": "IPY_MODEL_9ec1a061585e49d08e922db9d5b2d820",
            "value": "Downloading: 100%"
          }
        },
        "2bbe2b526c48411b94049860929ec132": {
          "model_module": "@jupyter-widgets/base",
          "model_module_version": "1.2.0",
          "model_name": "LayoutModel",
          "state": {
            "_model_module": "@jupyter-widgets/base",
            "_model_module_version": "1.2.0",
            "_model_name": "LayoutModel",
            "_view_count": null,
            "_view_module": "@jupyter-widgets/base",
            "_view_module_version": "1.2.0",
            "_view_name": "LayoutView",
            "align_content": null,
            "align_items": null,
            "align_self": null,
            "border": null,
            "bottom": null,
            "display": null,
            "flex": null,
            "flex_flow": null,
            "grid_area": null,
            "grid_auto_columns": null,
            "grid_auto_flow": null,
            "grid_auto_rows": null,
            "grid_column": null,
            "grid_gap": null,
            "grid_row": null,
            "grid_template_areas": null,
            "grid_template_columns": null,
            "grid_template_rows": null,
            "height": null,
            "justify_content": null,
            "justify_items": null,
            "left": null,
            "margin": null,
            "max_height": null,
            "max_width": null,
            "min_height": null,
            "min_width": null,
            "object_fit": null,
            "object_position": null,
            "order": null,
            "overflow": null,
            "overflow_x": null,
            "overflow_y": null,
            "padding": null,
            "right": null,
            "top": null,
            "visibility": null,
            "width": null
          }
        },
        "2bf7659471b34c8290982c8bb28ca339": {
          "model_module": "@jupyter-widgets/controls",
          "model_module_version": "1.5.0",
          "model_name": "ProgressStyleModel",
          "state": {
            "_model_module": "@jupyter-widgets/controls",
            "_model_module_version": "1.5.0",
            "_model_name": "ProgressStyleModel",
            "_view_count": null,
            "_view_module": "@jupyter-widgets/base",
            "_view_module_version": "1.2.0",
            "_view_name": "StyleView",
            "bar_color": null,
            "description_width": ""
          }
        },
        "2cca694818554bb7be4c3b8f4255352a": {
          "model_module": "@jupyter-widgets/controls",
          "model_module_version": "1.5.0",
          "model_name": "HTMLModel",
          "state": {
            "_dom_classes": [],
            "_model_module": "@jupyter-widgets/controls",
            "_model_module_version": "1.5.0",
            "_model_name": "HTMLModel",
            "_view_count": null,
            "_view_module": "@jupyter-widgets/controls",
            "_view_module_version": "1.5.0",
            "_view_name": "HTMLView",
            "description": "",
            "description_tooltip": null,
            "layout": "IPY_MODEL_18f329ab449f469aafd5bf08dd0fe2ab",
            "placeholder": "​",
            "style": "IPY_MODEL_38740cefa6b44f90a8270bb6d7863a13",
            "value": " 1.82M/1.82M [00:00&lt;00:00, 2.21MB/s]"
          }
        },
        "2d5df15e3100479b95fb4242e8ca7546": {
          "model_module": "@jupyter-widgets/base",
          "model_module_version": "1.2.0",
          "model_name": "LayoutModel",
          "state": {
            "_model_module": "@jupyter-widgets/base",
            "_model_module_version": "1.2.0",
            "_model_name": "LayoutModel",
            "_view_count": null,
            "_view_module": "@jupyter-widgets/base",
            "_view_module_version": "1.2.0",
            "_view_name": "LayoutView",
            "align_content": null,
            "align_items": null,
            "align_self": null,
            "border": null,
            "bottom": null,
            "display": null,
            "flex": null,
            "flex_flow": null,
            "grid_area": null,
            "grid_auto_columns": null,
            "grid_auto_flow": null,
            "grid_auto_rows": null,
            "grid_column": null,
            "grid_gap": null,
            "grid_row": null,
            "grid_template_areas": null,
            "grid_template_columns": null,
            "grid_template_rows": null,
            "height": null,
            "justify_content": null,
            "justify_items": null,
            "left": null,
            "margin": null,
            "max_height": null,
            "max_width": null,
            "min_height": null,
            "min_width": null,
            "object_fit": null,
            "object_position": null,
            "order": null,
            "overflow": null,
            "overflow_x": null,
            "overflow_y": null,
            "padding": null,
            "right": null,
            "top": null,
            "visibility": null,
            "width": null
          }
        },
        "2d6c47a5fee04dd380e67d71fb249bef": {
          "model_module": "@jupyter-widgets/controls",
          "model_module_version": "1.5.0",
          "model_name": "HTMLModel",
          "state": {
            "_dom_classes": [],
            "_model_module": "@jupyter-widgets/controls",
            "_model_module_version": "1.5.0",
            "_model_name": "HTMLModel",
            "_view_count": null,
            "_view_module": "@jupyter-widgets/controls",
            "_view_module_version": "1.5.0",
            "_view_name": "HTMLView",
            "description": "",
            "description_tooltip": null,
            "layout": "IPY_MODEL_96f4c3fbfd024b189143ff7f2ae05cdd",
            "placeholder": "​",
            "style": "IPY_MODEL_690d4695d73a4b3ca0732f49fde9e73b",
            "value": "Downloading: 100%"
          }
        },
        "31b6f77d4b044d53a4ae9271ef12bb56": {
          "model_module": "@jupyter-widgets/base",
          "model_module_version": "1.2.0",
          "model_name": "LayoutModel",
          "state": {
            "_model_module": "@jupyter-widgets/base",
            "_model_module_version": "1.2.0",
            "_model_name": "LayoutModel",
            "_view_count": null,
            "_view_module": "@jupyter-widgets/base",
            "_view_module_version": "1.2.0",
            "_view_name": "LayoutView",
            "align_content": null,
            "align_items": null,
            "align_self": null,
            "border": null,
            "bottom": null,
            "display": null,
            "flex": null,
            "flex_flow": null,
            "grid_area": null,
            "grid_auto_columns": null,
            "grid_auto_flow": null,
            "grid_auto_rows": null,
            "grid_column": null,
            "grid_gap": null,
            "grid_row": null,
            "grid_template_areas": null,
            "grid_template_columns": null,
            "grid_template_rows": null,
            "height": null,
            "justify_content": null,
            "justify_items": null,
            "left": null,
            "margin": null,
            "max_height": null,
            "max_width": null,
            "min_height": null,
            "min_width": null,
            "object_fit": null,
            "object_position": null,
            "order": null,
            "overflow": null,
            "overflow_x": null,
            "overflow_y": null,
            "padding": null,
            "right": null,
            "top": null,
            "visibility": null,
            "width": null
          }
        },
        "33da976f8f90450583a813750e2ba877": {
          "model_module": "@jupyter-widgets/controls",
          "model_module_version": "1.5.0",
          "model_name": "DescriptionStyleModel",
          "state": {
            "_model_module": "@jupyter-widgets/controls",
            "_model_module_version": "1.5.0",
            "_model_name": "DescriptionStyleModel",
            "_view_count": null,
            "_view_module": "@jupyter-widgets/base",
            "_view_module_version": "1.2.0",
            "_view_name": "StyleView",
            "description_width": ""
          }
        },
        "35a39a41da7d4889986d8be7faccd101": {
          "model_module": "@jupyter-widgets/base",
          "model_module_version": "1.2.0",
          "model_name": "LayoutModel",
          "state": {
            "_model_module": "@jupyter-widgets/base",
            "_model_module_version": "1.2.0",
            "_model_name": "LayoutModel",
            "_view_count": null,
            "_view_module": "@jupyter-widgets/base",
            "_view_module_version": "1.2.0",
            "_view_name": "LayoutView",
            "align_content": null,
            "align_items": null,
            "align_self": null,
            "border": null,
            "bottom": null,
            "display": null,
            "flex": null,
            "flex_flow": null,
            "grid_area": null,
            "grid_auto_columns": null,
            "grid_auto_flow": null,
            "grid_auto_rows": null,
            "grid_column": null,
            "grid_gap": null,
            "grid_row": null,
            "grid_template_areas": null,
            "grid_template_columns": null,
            "grid_template_rows": null,
            "height": null,
            "justify_content": null,
            "justify_items": null,
            "left": null,
            "margin": null,
            "max_height": null,
            "max_width": null,
            "min_height": null,
            "min_width": null,
            "object_fit": null,
            "object_position": null,
            "order": null,
            "overflow": null,
            "overflow_x": null,
            "overflow_y": null,
            "padding": null,
            "right": null,
            "top": null,
            "visibility": null,
            "width": null
          }
        },
        "3731c74fea30448a9ded9ccd30639d11": {
          "model_module": "@jupyter-widgets/controls",
          "model_module_version": "1.5.0",
          "model_name": "DescriptionStyleModel",
          "state": {
            "_model_module": "@jupyter-widgets/controls",
            "_model_module_version": "1.5.0",
            "_model_name": "DescriptionStyleModel",
            "_view_count": null,
            "_view_module": "@jupyter-widgets/base",
            "_view_module_version": "1.2.0",
            "_view_name": "StyleView",
            "description_width": ""
          }
        },
        "37d64ea1ea5044f9b32acfe8792bd491": {
          "model_module": "@jupyter-widgets/controls",
          "model_module_version": "1.5.0",
          "model_name": "HTMLModel",
          "state": {
            "_dom_classes": [],
            "_model_module": "@jupyter-widgets/controls",
            "_model_module_version": "1.5.0",
            "_model_name": "HTMLModel",
            "_view_count": null,
            "_view_module": "@jupyter-widgets/controls",
            "_view_module_version": "1.5.0",
            "_view_name": "HTMLView",
            "description": "",
            "description_tooltip": null,
            "layout": "IPY_MODEL_ff2258270b964223b20994ed400fd666",
            "placeholder": "​",
            "style": "IPY_MODEL_fffe17ee47464cbca82cf231c302ab95",
            "value": " 19/19 [01:10&lt;00:00,  4.12s/ba]"
          }
        },
        "38740cefa6b44f90a8270bb6d7863a13": {
          "model_module": "@jupyter-widgets/controls",
          "model_module_version": "1.5.0",
          "model_name": "DescriptionStyleModel",
          "state": {
            "_model_module": "@jupyter-widgets/controls",
            "_model_module_version": "1.5.0",
            "_model_name": "DescriptionStyleModel",
            "_view_count": null,
            "_view_module": "@jupyter-widgets/base",
            "_view_module_version": "1.2.0",
            "_view_name": "StyleView",
            "description_width": ""
          }
        },
        "38889761fadb4b6e8bb949647f82e720": {
          "model_module": "@jupyter-widgets/controls",
          "model_module_version": "1.5.0",
          "model_name": "ProgressStyleModel",
          "state": {
            "_model_module": "@jupyter-widgets/controls",
            "_model_module_version": "1.5.0",
            "_model_name": "ProgressStyleModel",
            "_view_count": null,
            "_view_module": "@jupyter-widgets/base",
            "_view_module_version": "1.2.0",
            "_view_name": "StyleView",
            "bar_color": null,
            "description_width": ""
          }
        },
        "3936de7020574cc3871e92ad6c84933c": {
          "model_module": "@jupyter-widgets/controls",
          "model_module_version": "1.5.0",
          "model_name": "ProgressStyleModel",
          "state": {
            "_model_module": "@jupyter-widgets/controls",
            "_model_module_version": "1.5.0",
            "_model_name": "ProgressStyleModel",
            "_view_count": null,
            "_view_module": "@jupyter-widgets/base",
            "_view_module_version": "1.2.0",
            "_view_name": "StyleView",
            "bar_color": null,
            "description_width": ""
          }
        },
        "3cc3081aac044839be81b0ae4d094fa2": {
          "model_module": "@jupyter-widgets/base",
          "model_module_version": "1.2.0",
          "model_name": "LayoutModel",
          "state": {
            "_model_module": "@jupyter-widgets/base",
            "_model_module_version": "1.2.0",
            "_model_name": "LayoutModel",
            "_view_count": null,
            "_view_module": "@jupyter-widgets/base",
            "_view_module_version": "1.2.0",
            "_view_name": "LayoutView",
            "align_content": null,
            "align_items": null,
            "align_self": null,
            "border": null,
            "bottom": null,
            "display": null,
            "flex": null,
            "flex_flow": null,
            "grid_area": null,
            "grid_auto_columns": null,
            "grid_auto_flow": null,
            "grid_auto_rows": null,
            "grid_column": null,
            "grid_gap": null,
            "grid_row": null,
            "grid_template_areas": null,
            "grid_template_columns": null,
            "grid_template_rows": null,
            "height": null,
            "justify_content": null,
            "justify_items": null,
            "left": null,
            "margin": null,
            "max_height": null,
            "max_width": null,
            "min_height": null,
            "min_width": null,
            "object_fit": null,
            "object_position": null,
            "order": null,
            "overflow": null,
            "overflow_x": null,
            "overflow_y": null,
            "padding": null,
            "right": null,
            "top": null,
            "visibility": null,
            "width": null
          }
        },
        "41edff13d6384a9897173ae69295727b": {
          "model_module": "@jupyter-widgets/controls",
          "model_module_version": "1.5.0",
          "model_name": "DescriptionStyleModel",
          "state": {
            "_model_module": "@jupyter-widgets/controls",
            "_model_module_version": "1.5.0",
            "_model_name": "DescriptionStyleModel",
            "_view_count": null,
            "_view_module": "@jupyter-widgets/base",
            "_view_module_version": "1.2.0",
            "_view_name": "StyleView",
            "description_width": ""
          }
        },
        "4579b71f548148dfa588158a9de61906": {
          "model_module": "@jupyter-widgets/controls",
          "model_module_version": "1.5.0",
          "model_name": "ProgressStyleModel",
          "state": {
            "_model_module": "@jupyter-widgets/controls",
            "_model_module_version": "1.5.0",
            "_model_name": "ProgressStyleModel",
            "_view_count": null,
            "_view_module": "@jupyter-widgets/base",
            "_view_module_version": "1.2.0",
            "_view_name": "StyleView",
            "bar_color": null,
            "description_width": ""
          }
        },
        "45be78eb56ed434e96c5b78057e6acea": {
          "model_module": "@jupyter-widgets/controls",
          "model_module_version": "1.5.0",
          "model_name": "FloatProgressModel",
          "state": {
            "_dom_classes": [],
            "_model_module": "@jupyter-widgets/controls",
            "_model_module_version": "1.5.0",
            "_model_name": "FloatProgressModel",
            "_view_count": null,
            "_view_module": "@jupyter-widgets/controls",
            "_view_module_version": "1.5.0",
            "_view_name": "ProgressView",
            "bar_style": "success",
            "description": "",
            "description_tooltip": null,
            "layout": "IPY_MODEL_8a39d9eb84864a03b8d966756ad752d3",
            "max": 1392,
            "min": 0,
            "orientation": "horizontal",
            "style": "IPY_MODEL_dd8ec5004aef4b448f3962634f155a95",
            "value": 1392
          }
        },
        "4720fe7610a74e9697ae3103abb39f75": {
          "model_module": "@jupyter-widgets/base",
          "model_module_version": "1.2.0",
          "model_name": "LayoutModel",
          "state": {
            "_model_module": "@jupyter-widgets/base",
            "_model_module_version": "1.2.0",
            "_model_name": "LayoutModel",
            "_view_count": null,
            "_view_module": "@jupyter-widgets/base",
            "_view_module_version": "1.2.0",
            "_view_name": "LayoutView",
            "align_content": null,
            "align_items": null,
            "align_self": null,
            "border": null,
            "bottom": null,
            "display": null,
            "flex": null,
            "flex_flow": null,
            "grid_area": null,
            "grid_auto_columns": null,
            "grid_auto_flow": null,
            "grid_auto_rows": null,
            "grid_column": null,
            "grid_gap": null,
            "grid_row": null,
            "grid_template_areas": null,
            "grid_template_columns": null,
            "grid_template_rows": null,
            "height": null,
            "justify_content": null,
            "justify_items": null,
            "left": null,
            "margin": null,
            "max_height": null,
            "max_width": null,
            "min_height": null,
            "min_width": null,
            "object_fit": null,
            "object_position": null,
            "order": null,
            "overflow": null,
            "overflow_x": null,
            "overflow_y": null,
            "padding": null,
            "right": null,
            "top": null,
            "visibility": null,
            "width": null
          }
        },
        "475f1f312c4240de8f6008b6eb557781": {
          "model_module": "@jupyter-widgets/controls",
          "model_module_version": "1.5.0",
          "model_name": "HTMLModel",
          "state": {
            "_dom_classes": [],
            "_model_module": "@jupyter-widgets/controls",
            "_model_module_version": "1.5.0",
            "_model_name": "HTMLModel",
            "_view_count": null,
            "_view_module": "@jupyter-widgets/controls",
            "_view_module_version": "1.5.0",
            "_view_name": "HTMLView",
            "description": "",
            "description_tooltip": null,
            "layout": "IPY_MODEL_c8181b75d5344227ba225f2ba368587e",
            "placeholder": "​",
            "style": "IPY_MODEL_ed352446f59347f18578afbce2a3445b",
            "value": "100%"
          }
        },
        "49a030b7b09441cf82f071506d40eb03": {
          "model_module": "@jupyter-widgets/base",
          "model_module_version": "1.2.0",
          "model_name": "LayoutModel",
          "state": {
            "_model_module": "@jupyter-widgets/base",
            "_model_module_version": "1.2.0",
            "_model_name": "LayoutModel",
            "_view_count": null,
            "_view_module": "@jupyter-widgets/base",
            "_view_module_version": "1.2.0",
            "_view_name": "LayoutView",
            "align_content": null,
            "align_items": null,
            "align_self": null,
            "border": null,
            "bottom": null,
            "display": null,
            "flex": null,
            "flex_flow": null,
            "grid_area": null,
            "grid_auto_columns": null,
            "grid_auto_flow": null,
            "grid_auto_rows": null,
            "grid_column": null,
            "grid_gap": null,
            "grid_row": null,
            "grid_template_areas": null,
            "grid_template_columns": null,
            "grid_template_rows": null,
            "height": null,
            "justify_content": null,
            "justify_items": null,
            "left": null,
            "margin": null,
            "max_height": null,
            "max_width": null,
            "min_height": null,
            "min_width": null,
            "object_fit": null,
            "object_position": null,
            "order": null,
            "overflow": null,
            "overflow_x": null,
            "overflow_y": null,
            "padding": null,
            "right": null,
            "top": null,
            "visibility": null,
            "width": null
          }
        },
        "49a7134f67b1407c9aaa57b36301faee": {
          "model_module": "@jupyter-widgets/controls",
          "model_module_version": "1.5.0",
          "model_name": "DescriptionStyleModel",
          "state": {
            "_model_module": "@jupyter-widgets/controls",
            "_model_module_version": "1.5.0",
            "_model_name": "DescriptionStyleModel",
            "_view_count": null,
            "_view_module": "@jupyter-widgets/base",
            "_view_module_version": "1.2.0",
            "_view_name": "StyleView",
            "description_width": ""
          }
        },
        "51831dad046e4ee89eed89901c6d6b6a": {
          "model_module": "@jupyter-widgets/controls",
          "model_module_version": "1.5.0",
          "model_name": "HTMLModel",
          "state": {
            "_dom_classes": [],
            "_model_module": "@jupyter-widgets/controls",
            "_model_module_version": "1.5.0",
            "_model_name": "HTMLModel",
            "_view_count": null,
            "_view_module": "@jupyter-widgets/controls",
            "_view_module_version": "1.5.0",
            "_view_name": "HTMLView",
            "description": "",
            "description_tooltip": null,
            "layout": "IPY_MODEL_5695e415fb244aaf8264bc9cb3b61392",
            "placeholder": "​",
            "style": "IPY_MODEL_26b8e174603f4c2380704c0c146a29ad",
            "value": " 65.0/65.0 [00:00&lt;00:00, 784B/s]"
          }
        },
        "5695e415fb244aaf8264bc9cb3b61392": {
          "model_module": "@jupyter-widgets/base",
          "model_module_version": "1.2.0",
          "model_name": "LayoutModel",
          "state": {
            "_model_module": "@jupyter-widgets/base",
            "_model_module_version": "1.2.0",
            "_model_name": "LayoutModel",
            "_view_count": null,
            "_view_module": "@jupyter-widgets/base",
            "_view_module_version": "1.2.0",
            "_view_name": "LayoutView",
            "align_content": null,
            "align_items": null,
            "align_self": null,
            "border": null,
            "bottom": null,
            "display": null,
            "flex": null,
            "flex_flow": null,
            "grid_area": null,
            "grid_auto_columns": null,
            "grid_auto_flow": null,
            "grid_auto_rows": null,
            "grid_column": null,
            "grid_gap": null,
            "grid_row": null,
            "grid_template_areas": null,
            "grid_template_columns": null,
            "grid_template_rows": null,
            "height": null,
            "justify_content": null,
            "justify_items": null,
            "left": null,
            "margin": null,
            "max_height": null,
            "max_width": null,
            "min_height": null,
            "min_width": null,
            "object_fit": null,
            "object_position": null,
            "order": null,
            "overflow": null,
            "overflow_x": null,
            "overflow_y": null,
            "padding": null,
            "right": null,
            "top": null,
            "visibility": null,
            "width": null
          }
        },
        "57feb62920424dc38a330effeabadbd2": {
          "model_module": "@jupyter-widgets/controls",
          "model_module_version": "1.5.0",
          "model_name": "HTMLModel",
          "state": {
            "_dom_classes": [],
            "_model_module": "@jupyter-widgets/controls",
            "_model_module_version": "1.5.0",
            "_model_name": "HTMLModel",
            "_view_count": null,
            "_view_module": "@jupyter-widgets/controls",
            "_view_module_version": "1.5.0",
            "_view_name": "HTMLView",
            "description": "",
            "description_tooltip": null,
            "layout": "IPY_MODEL_7146b447a18e42a39446047f8f7c39d2",
            "placeholder": "​",
            "style": "IPY_MODEL_33da976f8f90450583a813750e2ba877",
            "value": "Downloading: 100%"
          }
        },
        "58d0f58fe7d0400a827a2b1473df1c40": {
          "model_module": "@jupyter-widgets/base",
          "model_module_version": "1.2.0",
          "model_name": "LayoutModel",
          "state": {
            "_model_module": "@jupyter-widgets/base",
            "_model_module_version": "1.2.0",
            "_model_name": "LayoutModel",
            "_view_count": null,
            "_view_module": "@jupyter-widgets/base",
            "_view_module_version": "1.2.0",
            "_view_name": "LayoutView",
            "align_content": null,
            "align_items": null,
            "align_self": null,
            "border": null,
            "bottom": null,
            "display": null,
            "flex": null,
            "flex_flow": null,
            "grid_area": null,
            "grid_auto_columns": null,
            "grid_auto_flow": null,
            "grid_auto_rows": null,
            "grid_column": null,
            "grid_gap": null,
            "grid_row": null,
            "grid_template_areas": null,
            "grid_template_columns": null,
            "grid_template_rows": null,
            "height": null,
            "justify_content": null,
            "justify_items": null,
            "left": null,
            "margin": null,
            "max_height": null,
            "max_width": null,
            "min_height": null,
            "min_width": null,
            "object_fit": null,
            "object_position": null,
            "order": null,
            "overflow": null,
            "overflow_x": null,
            "overflow_y": null,
            "padding": null,
            "right": null,
            "top": null,
            "visibility": null,
            "width": null
          }
        },
        "5a90e0d19f4b442a87db67cdd237ba94": {
          "model_module": "@jupyter-widgets/controls",
          "model_module_version": "1.5.0",
          "model_name": "DescriptionStyleModel",
          "state": {
            "_model_module": "@jupyter-widgets/controls",
            "_model_module_version": "1.5.0",
            "_model_name": "DescriptionStyleModel",
            "_view_count": null,
            "_view_module": "@jupyter-widgets/base",
            "_view_module_version": "1.2.0",
            "_view_name": "StyleView",
            "description_width": ""
          }
        },
        "5c73af0a1d574efdbede332311261910": {
          "model_module": "@jupyter-widgets/controls",
          "model_module_version": "1.5.0",
          "model_name": "HBoxModel",
          "state": {
            "_dom_classes": [],
            "_model_module": "@jupyter-widgets/controls",
            "_model_module_version": "1.5.0",
            "_model_name": "HBoxModel",
            "_view_count": null,
            "_view_module": "@jupyter-widgets/controls",
            "_view_module_version": "1.5.0",
            "_view_name": "HBoxView",
            "box_style": "",
            "children": [
              "IPY_MODEL_cdee34f1c87e4b56979ef42569233a38",
              "IPY_MODEL_5cf6159cc4904829a2fdd5ef068755a6",
              "IPY_MODEL_6e63ff1c04904f489c9498b5f08d759e"
            ],
            "layout": "IPY_MODEL_862cf40541e94fd386c4a6619fb12fa5"
          }
        },
        "5cf6159cc4904829a2fdd5ef068755a6": {
          "model_module": "@jupyter-widgets/controls",
          "model_module_version": "1.5.0",
          "model_name": "FloatProgressModel",
          "state": {
            "_dom_classes": [],
            "_model_module": "@jupyter-widgets/controls",
            "_model_module_version": "1.5.0",
            "_model_name": "FloatProgressModel",
            "_view_count": null,
            "_view_module": "@jupyter-widgets/controls",
            "_view_module_version": "1.5.0",
            "_view_name": "ProgressView",
            "bar_style": "success",
            "description": "",
            "description_tooltip": null,
            "layout": "IPY_MODEL_1ea6895272874ec98c769999e3b8f899",
            "max": 4,
            "min": 0,
            "orientation": "horizontal",
            "style": "IPY_MODEL_8e64636d3d6c4a458b5192eb1eb4f014",
            "value": 4
          }
        },
        "5e01ed5b3c734da2af5f4ba639b94477": {
          "model_module": "@jupyter-widgets/base",
          "model_module_version": "1.2.0",
          "model_name": "LayoutModel",
          "state": {
            "_model_module": "@jupyter-widgets/base",
            "_model_module_version": "1.2.0",
            "_model_name": "LayoutModel",
            "_view_count": null,
            "_view_module": "@jupyter-widgets/base",
            "_view_module_version": "1.2.0",
            "_view_name": "LayoutView",
            "align_content": null,
            "align_items": null,
            "align_self": null,
            "border": null,
            "bottom": null,
            "display": null,
            "flex": null,
            "flex_flow": null,
            "grid_area": null,
            "grid_auto_columns": null,
            "grid_auto_flow": null,
            "grid_auto_rows": null,
            "grid_column": null,
            "grid_gap": null,
            "grid_row": null,
            "grid_template_areas": null,
            "grid_template_columns": null,
            "grid_template_rows": null,
            "height": null,
            "justify_content": null,
            "justify_items": null,
            "left": null,
            "margin": null,
            "max_height": null,
            "max_width": null,
            "min_height": null,
            "min_width": null,
            "object_fit": null,
            "object_position": null,
            "order": null,
            "overflow": null,
            "overflow_x": null,
            "overflow_y": null,
            "padding": null,
            "right": null,
            "top": null,
            "visibility": null,
            "width": null
          }
        },
        "5ee16a653d52424aa97b1b4c2ec83b96": {
          "model_module": "@jupyter-widgets/controls",
          "model_module_version": "1.5.0",
          "model_name": "HTMLModel",
          "state": {
            "_dom_classes": [],
            "_model_module": "@jupyter-widgets/controls",
            "_model_module_version": "1.5.0",
            "_model_name": "HTMLModel",
            "_view_count": null,
            "_view_module": "@jupyter-widgets/controls",
            "_view_module_version": "1.5.0",
            "_view_name": "HTMLView",
            "description": "",
            "description_tooltip": null,
            "layout": "IPY_MODEL_1e14af77253a43efb613e25a4fb64e80",
            "placeholder": "​",
            "style": "IPY_MODEL_018ee2c936fa4c4991f461e64bbd5543",
            "value": " 1.36k/1.36k [00:00&lt;00:00, 41.7kB/s]"
          }
        },
        "6205e68d3e594a788694631b081c2045": {
          "model_module": "@jupyter-widgets/controls",
          "model_module_version": "1.5.0",
          "model_name": "HTMLModel",
          "state": {
            "_dom_classes": [],
            "_model_module": "@jupyter-widgets/controls",
            "_model_module_version": "1.5.0",
            "_model_name": "HTMLModel",
            "_view_count": null,
            "_view_module": "@jupyter-widgets/controls",
            "_view_module_version": "1.5.0",
            "_view_name": "HTMLView",
            "description": "",
            "description_tooltip": null,
            "layout": "IPY_MODEL_74d99b97f8744fc9b56a6081344ae537",
            "placeholder": "​",
            "style": "IPY_MODEL_11a97cc5c95842c995cafde746792801",
            "value": "Downloading: 100%"
          }
        },
        "66834c7a8ec54a90b5ecaaf89fa96712": {
          "model_module": "@jupyter-widgets/controls",
          "model_module_version": "1.5.0",
          "model_name": "ProgressStyleModel",
          "state": {
            "_model_module": "@jupyter-widgets/controls",
            "_model_module_version": "1.5.0",
            "_model_name": "ProgressStyleModel",
            "_view_count": null,
            "_view_module": "@jupyter-widgets/base",
            "_view_module_version": "1.2.0",
            "_view_name": "StyleView",
            "bar_color": null,
            "description_width": ""
          }
        },
        "66cd28c3884d4c02832f2761ade3a736": {
          "model_module": "@jupyter-widgets/controls",
          "model_module_version": "1.5.0",
          "model_name": "ProgressStyleModel",
          "state": {
            "_model_module": "@jupyter-widgets/controls",
            "_model_module_version": "1.5.0",
            "_model_name": "ProgressStyleModel",
            "_view_count": null,
            "_view_module": "@jupyter-widgets/base",
            "_view_module_version": "1.2.0",
            "_view_name": "StyleView",
            "bar_color": null,
            "description_width": ""
          }
        },
        "6863abfe7d6c4cf8a3ae78fea6b00cb0": {
          "model_module": "@jupyter-widgets/controls",
          "model_module_version": "1.5.0",
          "model_name": "HTMLModel",
          "state": {
            "_dom_classes": [],
            "_model_module": "@jupyter-widgets/controls",
            "_model_module_version": "1.5.0",
            "_model_name": "HTMLModel",
            "_view_count": null,
            "_view_module": "@jupyter-widgets/controls",
            "_view_module_version": "1.5.0",
            "_view_name": "HTMLView",
            "description": "",
            "description_tooltip": null,
            "layout": "IPY_MODEL_86433934865f4117b7412619c6109858",
            "placeholder": "​",
            "style": "IPY_MODEL_27fbf54dd2dd4753a446af09b8ff6c7e",
            "value": " 455k/455k [00:00&lt;00:00, 947kB/s]"
          }
        },
        "690d4695d73a4b3ca0732f49fde9e73b": {
          "model_module": "@jupyter-widgets/controls",
          "model_module_version": "1.5.0",
          "model_name": "DescriptionStyleModel",
          "state": {
            "_model_module": "@jupyter-widgets/controls",
            "_model_module_version": "1.5.0",
            "_model_name": "DescriptionStyleModel",
            "_view_count": null,
            "_view_module": "@jupyter-widgets/base",
            "_view_module_version": "1.2.0",
            "_view_name": "StyleView",
            "description_width": ""
          }
        },
        "6da96a724ec449ed8dacd3bfcfa14c15": {
          "model_module": "@jupyter-widgets/base",
          "model_module_version": "1.2.0",
          "model_name": "LayoutModel",
          "state": {
            "_model_module": "@jupyter-widgets/base",
            "_model_module_version": "1.2.0",
            "_model_name": "LayoutModel",
            "_view_count": null,
            "_view_module": "@jupyter-widgets/base",
            "_view_module_version": "1.2.0",
            "_view_name": "LayoutView",
            "align_content": null,
            "align_items": null,
            "align_self": null,
            "border": null,
            "bottom": null,
            "display": null,
            "flex": null,
            "flex_flow": null,
            "grid_area": null,
            "grid_auto_columns": null,
            "grid_auto_flow": null,
            "grid_auto_rows": null,
            "grid_column": null,
            "grid_gap": null,
            "grid_row": null,
            "grid_template_areas": null,
            "grid_template_columns": null,
            "grid_template_rows": null,
            "height": null,
            "justify_content": null,
            "justify_items": null,
            "left": null,
            "margin": null,
            "max_height": null,
            "max_width": null,
            "min_height": null,
            "min_width": null,
            "object_fit": null,
            "object_position": null,
            "order": null,
            "overflow": null,
            "overflow_x": null,
            "overflow_y": null,
            "padding": null,
            "right": null,
            "top": null,
            "visibility": null,
            "width": null
          }
        },
        "6df06463cedb4128a3925669ddbd8255": {
          "model_module": "@jupyter-widgets/controls",
          "model_module_version": "1.5.0",
          "model_name": "ProgressStyleModel",
          "state": {
            "_model_module": "@jupyter-widgets/controls",
            "_model_module_version": "1.5.0",
            "_model_name": "ProgressStyleModel",
            "_view_count": null,
            "_view_module": "@jupyter-widgets/base",
            "_view_module_version": "1.2.0",
            "_view_name": "StyleView",
            "bar_color": null,
            "description_width": ""
          }
        },
        "6e63ff1c04904f489c9498b5f08d759e": {
          "model_module": "@jupyter-widgets/controls",
          "model_module_version": "1.5.0",
          "model_name": "HTMLModel",
          "state": {
            "_dom_classes": [],
            "_model_module": "@jupyter-widgets/controls",
            "_model_module_version": "1.5.0",
            "_model_name": "HTMLModel",
            "_view_count": null,
            "_view_module": "@jupyter-widgets/controls",
            "_view_module_version": "1.5.0",
            "_view_name": "HTMLView",
            "description": "",
            "description_tooltip": null,
            "layout": "IPY_MODEL_35a39a41da7d4889986d8be7faccd101",
            "placeholder": "​",
            "style": "IPY_MODEL_5a90e0d19f4b442a87db67cdd237ba94",
            "value": " 4/4 [00:14&lt;00:00,  3.64s/ba]"
          }
        },
        "70be7135838f45378d15721df23007d9": {
          "model_module": "@jupyter-widgets/controls",
          "model_module_version": "1.5.0",
          "model_name": "HBoxModel",
          "state": {
            "_dom_classes": [],
            "_model_module": "@jupyter-widgets/controls",
            "_model_module_version": "1.5.0",
            "_model_name": "HBoxModel",
            "_view_count": null,
            "_view_module": "@jupyter-widgets/controls",
            "_view_module_version": "1.5.0",
            "_view_name": "HBoxView",
            "box_style": "",
            "children": [
              "IPY_MODEL_a48c1bfbde394457afb781f5235faeb1",
              "IPY_MODEL_2485ae784fb4495ba89bab90009dacb2",
              "IPY_MODEL_51831dad046e4ee89eed89901c6d6b6a"
            ],
            "layout": "IPY_MODEL_e1f10ddc0b0740fba1bf65fe019abc53"
          }
        },
        "7146b447a18e42a39446047f8f7c39d2": {
          "model_module": "@jupyter-widgets/base",
          "model_module_version": "1.2.0",
          "model_name": "LayoutModel",
          "state": {
            "_model_module": "@jupyter-widgets/base",
            "_model_module_version": "1.2.0",
            "_model_name": "LayoutModel",
            "_view_count": null,
            "_view_module": "@jupyter-widgets/base",
            "_view_module_version": "1.2.0",
            "_view_name": "LayoutView",
            "align_content": null,
            "align_items": null,
            "align_self": null,
            "border": null,
            "bottom": null,
            "display": null,
            "flex": null,
            "flex_flow": null,
            "grid_area": null,
            "grid_auto_columns": null,
            "grid_auto_flow": null,
            "grid_auto_rows": null,
            "grid_column": null,
            "grid_gap": null,
            "grid_row": null,
            "grid_template_areas": null,
            "grid_template_columns": null,
            "grid_template_rows": null,
            "height": null,
            "justify_content": null,
            "justify_items": null,
            "left": null,
            "margin": null,
            "max_height": null,
            "max_width": null,
            "min_height": null,
            "min_width": null,
            "object_fit": null,
            "object_position": null,
            "order": null,
            "overflow": null,
            "overflow_x": null,
            "overflow_y": null,
            "padding": null,
            "right": null,
            "top": null,
            "visibility": null,
            "width": null
          }
        },
        "72ba537ec5f24397a313825110540647": {
          "model_module": "@jupyter-widgets/controls",
          "model_module_version": "1.5.0",
          "model_name": "HTMLModel",
          "state": {
            "_dom_classes": [],
            "_model_module": "@jupyter-widgets/controls",
            "_model_module_version": "1.5.0",
            "_model_name": "HTMLModel",
            "_view_count": null,
            "_view_module": "@jupyter-widgets/controls",
            "_view_module_version": "1.5.0",
            "_view_name": "HTMLView",
            "description": "",
            "description_tooltip": null,
            "layout": "IPY_MODEL_861548bb2379485f8fc67eb76cf7cb56",
            "placeholder": "​",
            "style": "IPY_MODEL_3731c74fea30448a9ded9ccd30639d11",
            "value": "Downloading: 100%"
          }
        },
        "73dda054674744b386c45ab5fd3aa52c": {
          "model_module": "@jupyter-widgets/controls",
          "model_module_version": "1.5.0",
          "model_name": "DescriptionStyleModel",
          "state": {
            "_model_module": "@jupyter-widgets/controls",
            "_model_module_version": "1.5.0",
            "_model_name": "DescriptionStyleModel",
            "_view_count": null,
            "_view_module": "@jupyter-widgets/base",
            "_view_module_version": "1.2.0",
            "_view_name": "StyleView",
            "description_width": ""
          }
        },
        "74d99b97f8744fc9b56a6081344ae537": {
          "model_module": "@jupyter-widgets/base",
          "model_module_version": "1.2.0",
          "model_name": "LayoutModel",
          "state": {
            "_model_module": "@jupyter-widgets/base",
            "_model_module_version": "1.2.0",
            "_model_name": "LayoutModel",
            "_view_count": null,
            "_view_module": "@jupyter-widgets/base",
            "_view_module_version": "1.2.0",
            "_view_name": "LayoutView",
            "align_content": null,
            "align_items": null,
            "align_self": null,
            "border": null,
            "bottom": null,
            "display": null,
            "flex": null,
            "flex_flow": null,
            "grid_area": null,
            "grid_auto_columns": null,
            "grid_auto_flow": null,
            "grid_auto_rows": null,
            "grid_column": null,
            "grid_gap": null,
            "grid_row": null,
            "grid_template_areas": null,
            "grid_template_columns": null,
            "grid_template_rows": null,
            "height": null,
            "justify_content": null,
            "justify_items": null,
            "left": null,
            "margin": null,
            "max_height": null,
            "max_width": null,
            "min_height": null,
            "min_width": null,
            "object_fit": null,
            "object_position": null,
            "order": null,
            "overflow": null,
            "overflow_x": null,
            "overflow_y": null,
            "padding": null,
            "right": null,
            "top": null,
            "visibility": null,
            "width": null
          }
        },
        "770be83a610641ed944c20b60011e673": {
          "model_module": "@jupyter-widgets/controls",
          "model_module_version": "1.5.0",
          "model_name": "HTMLModel",
          "state": {
            "_dom_classes": [],
            "_model_module": "@jupyter-widgets/controls",
            "_model_module_version": "1.5.0",
            "_model_name": "HTMLModel",
            "_view_count": null,
            "_view_module": "@jupyter-widgets/controls",
            "_view_module_version": "1.5.0",
            "_view_name": "HTMLView",
            "description": "",
            "description_tooltip": null,
            "layout": "IPY_MODEL_58d0f58fe7d0400a827a2b1473df1c40",
            "placeholder": "​",
            "style": "IPY_MODEL_41edff13d6384a9897173ae69295727b",
            "value": "Downloading: 100%"
          }
        },
        "7938eef2b13c49e38686934a41ea11a2": {
          "model_module": "@jupyter-widgets/controls",
          "model_module_version": "1.5.0",
          "model_name": "DescriptionStyleModel",
          "state": {
            "_model_module": "@jupyter-widgets/controls",
            "_model_module_version": "1.5.0",
            "_model_name": "DescriptionStyleModel",
            "_view_count": null,
            "_view_module": "@jupyter-widgets/base",
            "_view_module_version": "1.2.0",
            "_view_name": "StyleView",
            "description_width": ""
          }
        },
        "7ca6954bbf724f9f9c1f2726a24968bf": {
          "model_module": "@jupyter-widgets/controls",
          "model_module_version": "1.5.0",
          "model_name": "HBoxModel",
          "state": {
            "_dom_classes": [],
            "_model_module": "@jupyter-widgets/controls",
            "_model_module_version": "1.5.0",
            "_model_name": "HBoxModel",
            "_view_count": null,
            "_view_module": "@jupyter-widgets/controls",
            "_view_module_version": "1.5.0",
            "_view_name": "HBoxView",
            "box_style": "",
            "children": [
              "IPY_MODEL_a65f0f5f775f441fb115998c7452e305",
              "IPY_MODEL_acc0b5c2dd9145109283fb04a74be897",
              "IPY_MODEL_6863abfe7d6c4cf8a3ae78fea6b00cb0"
            ],
            "layout": "IPY_MODEL_eb89c5c8f1f942feb8b684ea45e3e321"
          }
        },
        "7f32fcd1605a453185f7efb30ea47235": {
          "model_module": "@jupyter-widgets/base",
          "model_module_version": "1.2.0",
          "model_name": "LayoutModel",
          "state": {
            "_model_module": "@jupyter-widgets/base",
            "_model_module_version": "1.2.0",
            "_model_name": "LayoutModel",
            "_view_count": null,
            "_view_module": "@jupyter-widgets/base",
            "_view_module_version": "1.2.0",
            "_view_name": "LayoutView",
            "align_content": null,
            "align_items": null,
            "align_self": null,
            "border": null,
            "bottom": null,
            "display": null,
            "flex": null,
            "flex_flow": null,
            "grid_area": null,
            "grid_auto_columns": null,
            "grid_auto_flow": null,
            "grid_auto_rows": null,
            "grid_column": null,
            "grid_gap": null,
            "grid_row": null,
            "grid_template_areas": null,
            "grid_template_columns": null,
            "grid_template_rows": null,
            "height": null,
            "justify_content": null,
            "justify_items": null,
            "left": null,
            "margin": null,
            "max_height": null,
            "max_width": null,
            "min_height": null,
            "min_width": null,
            "object_fit": null,
            "object_position": null,
            "order": null,
            "overflow": null,
            "overflow_x": null,
            "overflow_y": null,
            "padding": null,
            "right": null,
            "top": null,
            "visibility": null,
            "width": null
          }
        },
        "8108dcc43627436d8cacf1667ebaa12d": {
          "model_module": "@jupyter-widgets/controls",
          "model_module_version": "1.5.0",
          "model_name": "DescriptionStyleModel",
          "state": {
            "_model_module": "@jupyter-widgets/controls",
            "_model_module_version": "1.5.0",
            "_model_name": "DescriptionStyleModel",
            "_view_count": null,
            "_view_module": "@jupyter-widgets/base",
            "_view_module_version": "1.2.0",
            "_view_name": "StyleView",
            "description_width": ""
          }
        },
        "81d0484d369148bbb68dc5bd216e17c8": {
          "model_module": "@jupyter-widgets/base",
          "model_module_version": "1.2.0",
          "model_name": "LayoutModel",
          "state": {
            "_model_module": "@jupyter-widgets/base",
            "_model_module_version": "1.2.0",
            "_model_name": "LayoutModel",
            "_view_count": null,
            "_view_module": "@jupyter-widgets/base",
            "_view_module_version": "1.2.0",
            "_view_name": "LayoutView",
            "align_content": null,
            "align_items": null,
            "align_self": null,
            "border": null,
            "bottom": null,
            "display": null,
            "flex": null,
            "flex_flow": null,
            "grid_area": null,
            "grid_auto_columns": null,
            "grid_auto_flow": null,
            "grid_auto_rows": null,
            "grid_column": null,
            "grid_gap": null,
            "grid_row": null,
            "grid_template_areas": null,
            "grid_template_columns": null,
            "grid_template_rows": null,
            "height": null,
            "justify_content": null,
            "justify_items": null,
            "left": null,
            "margin": null,
            "max_height": null,
            "max_width": null,
            "min_height": null,
            "min_width": null,
            "object_fit": null,
            "object_position": null,
            "order": null,
            "overflow": null,
            "overflow_x": null,
            "overflow_y": null,
            "padding": null,
            "right": null,
            "top": null,
            "visibility": null,
            "width": null
          }
        },
        "831866709c784ccf9b9bbd535dfe68d0": {
          "model_module": "@jupyter-widgets/controls",
          "model_module_version": "1.5.0",
          "model_name": "DescriptionStyleModel",
          "state": {
            "_model_module": "@jupyter-widgets/controls",
            "_model_module_version": "1.5.0",
            "_model_name": "DescriptionStyleModel",
            "_view_count": null,
            "_view_module": "@jupyter-widgets/base",
            "_view_module_version": "1.2.0",
            "_view_name": "StyleView",
            "description_width": ""
          }
        },
        "8611b5e35096466598dc54b65d892709": {
          "model_module": "@jupyter-widgets/controls",
          "model_module_version": "1.5.0",
          "model_name": "HTMLModel",
          "state": {
            "_dom_classes": [],
            "_model_module": "@jupyter-widgets/controls",
            "_model_module_version": "1.5.0",
            "_model_name": "HTMLModel",
            "_view_count": null,
            "_view_module": "@jupyter-widgets/controls",
            "_view_module_version": "1.5.0",
            "_view_name": "HTMLView",
            "description": "",
            "description_tooltip": null,
            "layout": "IPY_MODEL_8d90c334b47e461ca6f18ea3c0dd2e36",
            "placeholder": "​",
            "style": "IPY_MODEL_73dda054674744b386c45ab5fd3aa52c",
            "value": " 87.0/87.0 [00:00&lt;00:00, 2.75kB/s]"
          }
        },
        "861548bb2379485f8fc67eb76cf7cb56": {
          "model_module": "@jupyter-widgets/base",
          "model_module_version": "1.2.0",
          "model_name": "LayoutModel",
          "state": {
            "_model_module": "@jupyter-widgets/base",
            "_model_module_version": "1.2.0",
            "_model_name": "LayoutModel",
            "_view_count": null,
            "_view_module": "@jupyter-widgets/base",
            "_view_module_version": "1.2.0",
            "_view_name": "LayoutView",
            "align_content": null,
            "align_items": null,
            "align_self": null,
            "border": null,
            "bottom": null,
            "display": null,
            "flex": null,
            "flex_flow": null,
            "grid_area": null,
            "grid_auto_columns": null,
            "grid_auto_flow": null,
            "grid_auto_rows": null,
            "grid_column": null,
            "grid_gap": null,
            "grid_row": null,
            "grid_template_areas": null,
            "grid_template_columns": null,
            "grid_template_rows": null,
            "height": null,
            "justify_content": null,
            "justify_items": null,
            "left": null,
            "margin": null,
            "max_height": null,
            "max_width": null,
            "min_height": null,
            "min_width": null,
            "object_fit": null,
            "object_position": null,
            "order": null,
            "overflow": null,
            "overflow_x": null,
            "overflow_y": null,
            "padding": null,
            "right": null,
            "top": null,
            "visibility": null,
            "width": null
          }
        },
        "862cf40541e94fd386c4a6619fb12fa5": {
          "model_module": "@jupyter-widgets/base",
          "model_module_version": "1.2.0",
          "model_name": "LayoutModel",
          "state": {
            "_model_module": "@jupyter-widgets/base",
            "_model_module_version": "1.2.0",
            "_model_name": "LayoutModel",
            "_view_count": null,
            "_view_module": "@jupyter-widgets/base",
            "_view_module_version": "1.2.0",
            "_view_name": "LayoutView",
            "align_content": null,
            "align_items": null,
            "align_self": null,
            "border": null,
            "bottom": null,
            "display": null,
            "flex": null,
            "flex_flow": null,
            "grid_area": null,
            "grid_auto_columns": null,
            "grid_auto_flow": null,
            "grid_auto_rows": null,
            "grid_column": null,
            "grid_gap": null,
            "grid_row": null,
            "grid_template_areas": null,
            "grid_template_columns": null,
            "grid_template_rows": null,
            "height": null,
            "justify_content": null,
            "justify_items": null,
            "left": null,
            "margin": null,
            "max_height": null,
            "max_width": null,
            "min_height": null,
            "min_width": null,
            "object_fit": null,
            "object_position": null,
            "order": null,
            "overflow": null,
            "overflow_x": null,
            "overflow_y": null,
            "padding": null,
            "right": null,
            "top": null,
            "visibility": null,
            "width": null
          }
        },
        "86433934865f4117b7412619c6109858": {
          "model_module": "@jupyter-widgets/base",
          "model_module_version": "1.2.0",
          "model_name": "LayoutModel",
          "state": {
            "_model_module": "@jupyter-widgets/base",
            "_model_module_version": "1.2.0",
            "_model_name": "LayoutModel",
            "_view_count": null,
            "_view_module": "@jupyter-widgets/base",
            "_view_module_version": "1.2.0",
            "_view_name": "LayoutView",
            "align_content": null,
            "align_items": null,
            "align_self": null,
            "border": null,
            "bottom": null,
            "display": null,
            "flex": null,
            "flex_flow": null,
            "grid_area": null,
            "grid_auto_columns": null,
            "grid_auto_flow": null,
            "grid_auto_rows": null,
            "grid_column": null,
            "grid_gap": null,
            "grid_row": null,
            "grid_template_areas": null,
            "grid_template_columns": null,
            "grid_template_rows": null,
            "height": null,
            "justify_content": null,
            "justify_items": null,
            "left": null,
            "margin": null,
            "max_height": null,
            "max_width": null,
            "min_height": null,
            "min_width": null,
            "object_fit": null,
            "object_position": null,
            "order": null,
            "overflow": null,
            "overflow_x": null,
            "overflow_y": null,
            "padding": null,
            "right": null,
            "top": null,
            "visibility": null,
            "width": null
          }
        },
        "867a376546ae4279a51503dcbde31e16": {
          "model_module": "@jupyter-widgets/controls",
          "model_module_version": "1.5.0",
          "model_name": "ProgressStyleModel",
          "state": {
            "_model_module": "@jupyter-widgets/controls",
            "_model_module_version": "1.5.0",
            "_model_name": "ProgressStyleModel",
            "_view_count": null,
            "_view_module": "@jupyter-widgets/base",
            "_view_module_version": "1.2.0",
            "_view_name": "StyleView",
            "bar_color": null,
            "description_width": ""
          }
        },
        "86c88b28719e4132b103f81af3ed9a94": {
          "model_module": "@jupyter-widgets/controls",
          "model_module_version": "1.5.0",
          "model_name": "DescriptionStyleModel",
          "state": {
            "_model_module": "@jupyter-widgets/controls",
            "_model_module_version": "1.5.0",
            "_model_name": "DescriptionStyleModel",
            "_view_count": null,
            "_view_module": "@jupyter-widgets/base",
            "_view_module_version": "1.2.0",
            "_view_name": "StyleView",
            "description_width": ""
          }
        },
        "8743a65afc474e9fa8010b87ef61d4b7": {
          "model_module": "@jupyter-widgets/controls",
          "model_module_version": "1.5.0",
          "model_name": "ProgressStyleModel",
          "state": {
            "_model_module": "@jupyter-widgets/controls",
            "_model_module_version": "1.5.0",
            "_model_name": "ProgressStyleModel",
            "_view_count": null,
            "_view_module": "@jupyter-widgets/base",
            "_view_module_version": "1.2.0",
            "_view_name": "StyleView",
            "bar_color": null,
            "description_width": ""
          }
        },
        "8a39d9eb84864a03b8d966756ad752d3": {
          "model_module": "@jupyter-widgets/base",
          "model_module_version": "1.2.0",
          "model_name": "LayoutModel",
          "state": {
            "_model_module": "@jupyter-widgets/base",
            "_model_module_version": "1.2.0",
            "_model_name": "LayoutModel",
            "_view_count": null,
            "_view_module": "@jupyter-widgets/base",
            "_view_module_version": "1.2.0",
            "_view_name": "LayoutView",
            "align_content": null,
            "align_items": null,
            "align_self": null,
            "border": null,
            "bottom": null,
            "display": null,
            "flex": null,
            "flex_flow": null,
            "grid_area": null,
            "grid_auto_columns": null,
            "grid_auto_flow": null,
            "grid_auto_rows": null,
            "grid_column": null,
            "grid_gap": null,
            "grid_row": null,
            "grid_template_areas": null,
            "grid_template_columns": null,
            "grid_template_rows": null,
            "height": null,
            "justify_content": null,
            "justify_items": null,
            "left": null,
            "margin": null,
            "max_height": null,
            "max_width": null,
            "min_height": null,
            "min_width": null,
            "object_fit": null,
            "object_position": null,
            "order": null,
            "overflow": null,
            "overflow_x": null,
            "overflow_y": null,
            "padding": null,
            "right": null,
            "top": null,
            "visibility": null,
            "width": null
          }
        },
        "8b687394c1ad48948e66c082c9eae110": {
          "model_module": "@jupyter-widgets/base",
          "model_module_version": "1.2.0",
          "model_name": "LayoutModel",
          "state": {
            "_model_module": "@jupyter-widgets/base",
            "_model_module_version": "1.2.0",
            "_model_name": "LayoutModel",
            "_view_count": null,
            "_view_module": "@jupyter-widgets/base",
            "_view_module_version": "1.2.0",
            "_view_name": "LayoutView",
            "align_content": null,
            "align_items": null,
            "align_self": null,
            "border": null,
            "bottom": null,
            "display": null,
            "flex": null,
            "flex_flow": null,
            "grid_area": null,
            "grid_auto_columns": null,
            "grid_auto_flow": null,
            "grid_auto_rows": null,
            "grid_column": null,
            "grid_gap": null,
            "grid_row": null,
            "grid_template_areas": null,
            "grid_template_columns": null,
            "grid_template_rows": null,
            "height": null,
            "justify_content": null,
            "justify_items": null,
            "left": null,
            "margin": null,
            "max_height": null,
            "max_width": null,
            "min_height": null,
            "min_width": null,
            "object_fit": null,
            "object_position": null,
            "order": null,
            "overflow": null,
            "overflow_x": null,
            "overflow_y": null,
            "padding": null,
            "right": null,
            "top": null,
            "visibility": null,
            "width": null
          }
        },
        "8bfbe8e0210848acb9f6a2bd0752278f": {
          "model_module": "@jupyter-widgets/controls",
          "model_module_version": "1.5.0",
          "model_name": "FloatProgressModel",
          "state": {
            "_dom_classes": [],
            "_model_module": "@jupyter-widgets/controls",
            "_model_module_version": "1.5.0",
            "_model_name": "FloatProgressModel",
            "_view_count": null,
            "_view_module": "@jupyter-widgets/controls",
            "_view_module_version": "1.5.0",
            "_view_name": "ProgressView",
            "bar_style": "success",
            "description": "",
            "description_tooltip": null,
            "layout": "IPY_MODEL_4720fe7610a74e9697ae3103abb39f75",
            "max": 19,
            "min": 0,
            "orientation": "horizontal",
            "style": "IPY_MODEL_38889761fadb4b6e8bb949647f82e720",
            "value": 19
          }
        },
        "8d90c334b47e461ca6f18ea3c0dd2e36": {
          "model_module": "@jupyter-widgets/base",
          "model_module_version": "1.2.0",
          "model_name": "LayoutModel",
          "state": {
            "_model_module": "@jupyter-widgets/base",
            "_model_module_version": "1.2.0",
            "_model_name": "LayoutModel",
            "_view_count": null,
            "_view_module": "@jupyter-widgets/base",
            "_view_module_version": "1.2.0",
            "_view_name": "LayoutView",
            "align_content": null,
            "align_items": null,
            "align_self": null,
            "border": null,
            "bottom": null,
            "display": null,
            "flex": null,
            "flex_flow": null,
            "grid_area": null,
            "grid_auto_columns": null,
            "grid_auto_flow": null,
            "grid_auto_rows": null,
            "grid_column": null,
            "grid_gap": null,
            "grid_row": null,
            "grid_template_areas": null,
            "grid_template_columns": null,
            "grid_template_rows": null,
            "height": null,
            "justify_content": null,
            "justify_items": null,
            "left": null,
            "margin": null,
            "max_height": null,
            "max_width": null,
            "min_height": null,
            "min_width": null,
            "object_fit": null,
            "object_position": null,
            "order": null,
            "overflow": null,
            "overflow_x": null,
            "overflow_y": null,
            "padding": null,
            "right": null,
            "top": null,
            "visibility": null,
            "width": null
          }
        },
        "8e64636d3d6c4a458b5192eb1eb4f014": {
          "model_module": "@jupyter-widgets/controls",
          "model_module_version": "1.5.0",
          "model_name": "ProgressStyleModel",
          "state": {
            "_model_module": "@jupyter-widgets/controls",
            "_model_module_version": "1.5.0",
            "_model_name": "ProgressStyleModel",
            "_view_count": null,
            "_view_module": "@jupyter-widgets/base",
            "_view_module_version": "1.2.0",
            "_view_name": "StyleView",
            "bar_color": null,
            "description_width": ""
          }
        },
        "944edfc9f019497fba6ca64d6191c9b7": {
          "model_module": "@jupyter-widgets/controls",
          "model_module_version": "1.5.0",
          "model_name": "FloatProgressModel",
          "state": {
            "_dom_classes": [],
            "_model_module": "@jupyter-widgets/controls",
            "_model_module_version": "1.5.0",
            "_model_name": "FloatProgressModel",
            "_view_count": null,
            "_view_module": "@jupyter-widgets/controls",
            "_view_module_version": "1.5.0",
            "_view_name": "ProgressView",
            "bar_style": "success",
            "description": "",
            "description_tooltip": null,
            "layout": "IPY_MODEL_c0f0a79027e84c86867c0978142e8974",
            "max": 1912529,
            "min": 0,
            "orientation": "horizontal",
            "style": "IPY_MODEL_6df06463cedb4128a3925669ddbd8255",
            "value": 1912529
          }
        },
        "95288b0bb73641939badbc9cff32ae4a": {
          "model_module": "@jupyter-widgets/base",
          "model_module_version": "1.2.0",
          "model_name": "LayoutModel",
          "state": {
            "_model_module": "@jupyter-widgets/base",
            "_model_module_version": "1.2.0",
            "_model_name": "LayoutModel",
            "_view_count": null,
            "_view_module": "@jupyter-widgets/base",
            "_view_module_version": "1.2.0",
            "_view_name": "LayoutView",
            "align_content": null,
            "align_items": null,
            "align_self": null,
            "border": null,
            "bottom": null,
            "display": null,
            "flex": null,
            "flex_flow": null,
            "grid_area": null,
            "grid_auto_columns": null,
            "grid_auto_flow": null,
            "grid_auto_rows": null,
            "grid_column": null,
            "grid_gap": null,
            "grid_row": null,
            "grid_template_areas": null,
            "grid_template_columns": null,
            "grid_template_rows": null,
            "height": null,
            "justify_content": null,
            "justify_items": null,
            "left": null,
            "margin": null,
            "max_height": null,
            "max_width": null,
            "min_height": null,
            "min_width": null,
            "object_fit": null,
            "object_position": null,
            "order": null,
            "overflow": null,
            "overflow_x": null,
            "overflow_y": null,
            "padding": null,
            "right": null,
            "top": null,
            "visibility": null,
            "width": null
          }
        },
        "9562485461444bc6954b6a036daf78e5": {
          "model_module": "@jupyter-widgets/controls",
          "model_module_version": "1.5.0",
          "model_name": "DescriptionStyleModel",
          "state": {
            "_model_module": "@jupyter-widgets/controls",
            "_model_module_version": "1.5.0",
            "_model_name": "DescriptionStyleModel",
            "_view_count": null,
            "_view_module": "@jupyter-widgets/base",
            "_view_module_version": "1.2.0",
            "_view_name": "StyleView",
            "description_width": ""
          }
        },
        "96f4c3fbfd024b189143ff7f2ae05cdd": {
          "model_module": "@jupyter-widgets/base",
          "model_module_version": "1.2.0",
          "model_name": "LayoutModel",
          "state": {
            "_model_module": "@jupyter-widgets/base",
            "_model_module_version": "1.2.0",
            "_model_name": "LayoutModel",
            "_view_count": null,
            "_view_module": "@jupyter-widgets/base",
            "_view_module_version": "1.2.0",
            "_view_name": "LayoutView",
            "align_content": null,
            "align_items": null,
            "align_self": null,
            "border": null,
            "bottom": null,
            "display": null,
            "flex": null,
            "flex_flow": null,
            "grid_area": null,
            "grid_auto_columns": null,
            "grid_auto_flow": null,
            "grid_auto_rows": null,
            "grid_column": null,
            "grid_gap": null,
            "grid_row": null,
            "grid_template_areas": null,
            "grid_template_columns": null,
            "grid_template_rows": null,
            "height": null,
            "justify_content": null,
            "justify_items": null,
            "left": null,
            "margin": null,
            "max_height": null,
            "max_width": null,
            "min_height": null,
            "min_width": null,
            "object_fit": null,
            "object_position": null,
            "order": null,
            "overflow": null,
            "overflow_x": null,
            "overflow_y": null,
            "padding": null,
            "right": null,
            "top": null,
            "visibility": null,
            "width": null
          }
        },
        "997c8b9448b647b69e9fc10e897d8768": {
          "model_module": "@jupyter-widgets/base",
          "model_module_version": "1.2.0",
          "model_name": "LayoutModel",
          "state": {
            "_model_module": "@jupyter-widgets/base",
            "_model_module_version": "1.2.0",
            "_model_name": "LayoutModel",
            "_view_count": null,
            "_view_module": "@jupyter-widgets/base",
            "_view_module_version": "1.2.0",
            "_view_name": "LayoutView",
            "align_content": null,
            "align_items": null,
            "align_self": null,
            "border": null,
            "bottom": null,
            "display": null,
            "flex": null,
            "flex_flow": null,
            "grid_area": null,
            "grid_auto_columns": null,
            "grid_auto_flow": null,
            "grid_auto_rows": null,
            "grid_column": null,
            "grid_gap": null,
            "grid_row": null,
            "grid_template_areas": null,
            "grid_template_columns": null,
            "grid_template_rows": null,
            "height": null,
            "justify_content": null,
            "justify_items": null,
            "left": null,
            "margin": null,
            "max_height": null,
            "max_width": null,
            "min_height": null,
            "min_width": null,
            "object_fit": null,
            "object_position": null,
            "order": null,
            "overflow": null,
            "overflow_x": null,
            "overflow_y": null,
            "padding": null,
            "right": null,
            "top": null,
            "visibility": null,
            "width": null
          }
        },
        "99e200d38f10448793c5d4c3ed2e7439": {
          "model_module": "@jupyter-widgets/controls",
          "model_module_version": "1.5.0",
          "model_name": "HTMLModel",
          "state": {
            "_dom_classes": [],
            "_model_module": "@jupyter-widgets/controls",
            "_model_module_version": "1.5.0",
            "_model_name": "HTMLModel",
            "_view_count": null,
            "_view_module": "@jupyter-widgets/controls",
            "_view_module_version": "1.5.0",
            "_view_name": "HTMLView",
            "description": "",
            "description_tooltip": null,
            "layout": "IPY_MODEL_6da96a724ec449ed8dacd3bfcfa14c15",
            "placeholder": "​",
            "style": "IPY_MODEL_86c88b28719e4132b103f81af3ed9a94",
            "value": "Downloading: 100%"
          }
        },
        "99fe730c0bee4cd58619170a2d5ebb40": {
          "model_module": "@jupyter-widgets/base",
          "model_module_version": "1.2.0",
          "model_name": "LayoutModel",
          "state": {
            "_model_module": "@jupyter-widgets/base",
            "_model_module_version": "1.2.0",
            "_model_name": "LayoutModel",
            "_view_count": null,
            "_view_module": "@jupyter-widgets/base",
            "_view_module_version": "1.2.0",
            "_view_name": "LayoutView",
            "align_content": null,
            "align_items": null,
            "align_self": null,
            "border": null,
            "bottom": null,
            "display": null,
            "flex": null,
            "flex_flow": null,
            "grid_area": null,
            "grid_auto_columns": null,
            "grid_auto_flow": null,
            "grid_auto_rows": null,
            "grid_column": null,
            "grid_gap": null,
            "grid_row": null,
            "grid_template_areas": null,
            "grid_template_columns": null,
            "grid_template_rows": null,
            "height": null,
            "justify_content": null,
            "justify_items": null,
            "left": null,
            "margin": null,
            "max_height": null,
            "max_width": null,
            "min_height": null,
            "min_width": null,
            "object_fit": null,
            "object_position": null,
            "order": null,
            "overflow": null,
            "overflow_x": null,
            "overflow_y": null,
            "padding": null,
            "right": null,
            "top": null,
            "visibility": null,
            "width": null
          }
        },
        "9b0e5750739b44e1abab298d9a45b7d9": {
          "model_module": "@jupyter-widgets/base",
          "model_module_version": "1.2.0",
          "model_name": "LayoutModel",
          "state": {
            "_model_module": "@jupyter-widgets/base",
            "_model_module_version": "1.2.0",
            "_model_name": "LayoutModel",
            "_view_count": null,
            "_view_module": "@jupyter-widgets/base",
            "_view_module_version": "1.2.0",
            "_view_name": "LayoutView",
            "align_content": null,
            "align_items": null,
            "align_self": null,
            "border": null,
            "bottom": null,
            "display": null,
            "flex": null,
            "flex_flow": null,
            "grid_area": null,
            "grid_auto_columns": null,
            "grid_auto_flow": null,
            "grid_auto_rows": null,
            "grid_column": null,
            "grid_gap": null,
            "grid_row": null,
            "grid_template_areas": null,
            "grid_template_columns": null,
            "grid_template_rows": null,
            "height": null,
            "justify_content": null,
            "justify_items": null,
            "left": null,
            "margin": null,
            "max_height": null,
            "max_width": null,
            "min_height": null,
            "min_width": null,
            "object_fit": null,
            "object_position": null,
            "order": null,
            "overflow": null,
            "overflow_x": null,
            "overflow_y": null,
            "padding": null,
            "right": null,
            "top": null,
            "visibility": null,
            "width": null
          }
        },
        "9c48c34d56cc4ffbbfa6e557d127f0f0": {
          "model_module": "@jupyter-widgets/controls",
          "model_module_version": "1.5.0",
          "model_name": "FloatProgressModel",
          "state": {
            "_dom_classes": [],
            "_model_module": "@jupyter-widgets/controls",
            "_model_module_version": "1.5.0",
            "_model_name": "FloatProgressModel",
            "_view_count": null,
            "_view_module": "@jupyter-widgets/controls",
            "_view_module_version": "1.5.0",
            "_view_name": "ProgressView",
            "bar_style": "success",
            "description": "",
            "description_tooltip": null,
            "layout": "IPY_MODEL_fba633dc037c45c2a2743ab7cba9a51b",
            "max": 16,
            "min": 0,
            "orientation": "horizontal",
            "style": "IPY_MODEL_0e1d6946643549639079912df037a994",
            "value": 16
          }
        },
        "9cc8929def304560ba42a9fb79c51ffe": {
          "model_module": "@jupyter-widgets/base",
          "model_module_version": "1.2.0",
          "model_name": "LayoutModel",
          "state": {
            "_model_module": "@jupyter-widgets/base",
            "_model_module_version": "1.2.0",
            "_model_name": "LayoutModel",
            "_view_count": null,
            "_view_module": "@jupyter-widgets/base",
            "_view_module_version": "1.2.0",
            "_view_name": "LayoutView",
            "align_content": null,
            "align_items": null,
            "align_self": null,
            "border": null,
            "bottom": null,
            "display": null,
            "flex": null,
            "flex_flow": null,
            "grid_area": null,
            "grid_auto_columns": null,
            "grid_auto_flow": null,
            "grid_auto_rows": null,
            "grid_column": null,
            "grid_gap": null,
            "grid_row": null,
            "grid_template_areas": null,
            "grid_template_columns": null,
            "grid_template_rows": null,
            "height": null,
            "justify_content": null,
            "justify_items": null,
            "left": null,
            "margin": null,
            "max_height": null,
            "max_width": null,
            "min_height": null,
            "min_width": null,
            "object_fit": null,
            "object_position": null,
            "order": null,
            "overflow": null,
            "overflow_x": null,
            "overflow_y": null,
            "padding": null,
            "right": null,
            "top": null,
            "visibility": null,
            "width": null
          }
        },
        "9d8fb1959532409d9f19bf0378055df8": {
          "model_module": "@jupyter-widgets/controls",
          "model_module_version": "1.5.0",
          "model_name": "HBoxModel",
          "state": {
            "_dom_classes": [],
            "_model_module": "@jupyter-widgets/controls",
            "_model_module_version": "1.5.0",
            "_model_name": "HBoxModel",
            "_view_count": null,
            "_view_module": "@jupyter-widgets/controls",
            "_view_module_version": "1.5.0",
            "_view_name": "HBoxView",
            "box_style": "",
            "children": [
              "IPY_MODEL_dad146115d6b47b4bb8ea953a1cff0b4",
              "IPY_MODEL_9c48c34d56cc4ffbbfa6e557d127f0f0",
              "IPY_MODEL_f4b4e47320374d41997164286ffe142a"
            ],
            "layout": "IPY_MODEL_dff721d13e584f2387b6542f370ed55d"
          }
        },
        "9ec1a061585e49d08e922db9d5b2d820": {
          "model_module": "@jupyter-widgets/controls",
          "model_module_version": "1.5.0",
          "model_name": "DescriptionStyleModel",
          "state": {
            "_model_module": "@jupyter-widgets/controls",
            "_model_module_version": "1.5.0",
            "_model_name": "DescriptionStyleModel",
            "_view_count": null,
            "_view_module": "@jupyter-widgets/base",
            "_view_module_version": "1.2.0",
            "_view_name": "StyleView",
            "description_width": ""
          }
        },
        "9f056ab64d6e4aac92d100a67562e062": {
          "model_module": "@jupyter-widgets/base",
          "model_module_version": "1.2.0",
          "model_name": "LayoutModel",
          "state": {
            "_model_module": "@jupyter-widgets/base",
            "_model_module_version": "1.2.0",
            "_model_name": "LayoutModel",
            "_view_count": null,
            "_view_module": "@jupyter-widgets/base",
            "_view_module_version": "1.2.0",
            "_view_name": "LayoutView",
            "align_content": null,
            "align_items": null,
            "align_self": null,
            "border": null,
            "bottom": null,
            "display": null,
            "flex": null,
            "flex_flow": null,
            "grid_area": null,
            "grid_auto_columns": null,
            "grid_auto_flow": null,
            "grid_auto_rows": null,
            "grid_column": null,
            "grid_gap": null,
            "grid_row": null,
            "grid_template_areas": null,
            "grid_template_columns": null,
            "grid_template_rows": null,
            "height": null,
            "justify_content": null,
            "justify_items": null,
            "left": null,
            "margin": null,
            "max_height": null,
            "max_width": null,
            "min_height": null,
            "min_width": null,
            "object_fit": null,
            "object_position": null,
            "order": null,
            "overflow": null,
            "overflow_x": null,
            "overflow_y": null,
            "padding": null,
            "right": null,
            "top": null,
            "visibility": null,
            "width": null
          }
        },
        "a41ab3e3d8a9408784d4d5c319b4b5e1": {
          "model_module": "@jupyter-widgets/base",
          "model_module_version": "1.2.0",
          "model_name": "LayoutModel",
          "state": {
            "_model_module": "@jupyter-widgets/base",
            "_model_module_version": "1.2.0",
            "_model_name": "LayoutModel",
            "_view_count": null,
            "_view_module": "@jupyter-widgets/base",
            "_view_module_version": "1.2.0",
            "_view_name": "LayoutView",
            "align_content": null,
            "align_items": null,
            "align_self": null,
            "border": null,
            "bottom": null,
            "display": null,
            "flex": null,
            "flex_flow": null,
            "grid_area": null,
            "grid_auto_columns": null,
            "grid_auto_flow": null,
            "grid_auto_rows": null,
            "grid_column": null,
            "grid_gap": null,
            "grid_row": null,
            "grid_template_areas": null,
            "grid_template_columns": null,
            "grid_template_rows": null,
            "height": null,
            "justify_content": null,
            "justify_items": null,
            "left": null,
            "margin": null,
            "max_height": null,
            "max_width": null,
            "min_height": null,
            "min_width": null,
            "object_fit": null,
            "object_position": null,
            "order": null,
            "overflow": null,
            "overflow_x": null,
            "overflow_y": null,
            "padding": null,
            "right": null,
            "top": null,
            "visibility": null,
            "width": null
          }
        },
        "a44254dac24c4342a0ea597c1997acd9": {
          "model_module": "@jupyter-widgets/base",
          "model_module_version": "1.2.0",
          "model_name": "LayoutModel",
          "state": {
            "_model_module": "@jupyter-widgets/base",
            "_model_module_version": "1.2.0",
            "_model_name": "LayoutModel",
            "_view_count": null,
            "_view_module": "@jupyter-widgets/base",
            "_view_module_version": "1.2.0",
            "_view_name": "LayoutView",
            "align_content": null,
            "align_items": null,
            "align_self": null,
            "border": null,
            "bottom": null,
            "display": null,
            "flex": null,
            "flex_flow": null,
            "grid_area": null,
            "grid_auto_columns": null,
            "grid_auto_flow": null,
            "grid_auto_rows": null,
            "grid_column": null,
            "grid_gap": null,
            "grid_row": null,
            "grid_template_areas": null,
            "grid_template_columns": null,
            "grid_template_rows": null,
            "height": null,
            "justify_content": null,
            "justify_items": null,
            "left": null,
            "margin": null,
            "max_height": null,
            "max_width": null,
            "min_height": null,
            "min_width": null,
            "object_fit": null,
            "object_position": null,
            "order": null,
            "overflow": null,
            "overflow_x": null,
            "overflow_y": null,
            "padding": null,
            "right": null,
            "top": null,
            "visibility": null,
            "width": null
          }
        },
        "a48c1bfbde394457afb781f5235faeb1": {
          "model_module": "@jupyter-widgets/controls",
          "model_module_version": "1.5.0",
          "model_name": "HTMLModel",
          "state": {
            "_dom_classes": [],
            "_model_module": "@jupyter-widgets/controls",
            "_model_module_version": "1.5.0",
            "_model_name": "HTMLModel",
            "_view_count": null,
            "_view_module": "@jupyter-widgets/controls",
            "_view_module_version": "1.5.0",
            "_view_name": "HTMLView",
            "description": "",
            "description_tooltip": null,
            "layout": "IPY_MODEL_9b0e5750739b44e1abab298d9a45b7d9",
            "placeholder": "​",
            "style": "IPY_MODEL_19109768aa2545a4bc4d9ce2352bbda3",
            "value": "Downloading: 100%"
          }
        },
        "a54ea04ded554dfe943ac009bd3d1bf1": {
          "model_module": "@jupyter-widgets/controls",
          "model_module_version": "1.5.0",
          "model_name": "HTMLModel",
          "state": {
            "_dom_classes": [],
            "_model_module": "@jupyter-widgets/controls",
            "_model_module_version": "1.5.0",
            "_model_name": "HTMLModel",
            "_view_count": null,
            "_view_module": "@jupyter-widgets/controls",
            "_view_module_version": "1.5.0",
            "_view_name": "HTMLView",
            "description": "",
            "description_tooltip": null,
            "layout": "IPY_MODEL_2bbe2b526c48411b94049860929ec132",
            "placeholder": "​",
            "style": "IPY_MODEL_7938eef2b13c49e38686934a41ea11a2",
            "value": " 363/363 [00:00&lt;00:00, 8.11kB/s]"
          }
        },
        "a65f0f5f775f441fb115998c7452e305": {
          "model_module": "@jupyter-widgets/controls",
          "model_module_version": "1.5.0",
          "model_name": "HTMLModel",
          "state": {
            "_dom_classes": [],
            "_model_module": "@jupyter-widgets/controls",
            "_model_module_version": "1.5.0",
            "_model_name": "HTMLModel",
            "_view_count": null,
            "_view_module": "@jupyter-widgets/controls",
            "_view_module_version": "1.5.0",
            "_view_name": "HTMLView",
            "description": "",
            "description_tooltip": null,
            "layout": "IPY_MODEL_a8c0217d76b64380ace9ed00b172744f",
            "placeholder": "​",
            "style": "IPY_MODEL_ceaa6a24724a4c5bb1c8e1fad206d6c7",
            "value": "Downloading: 100%"
          }
        },
        "a8c0217d76b64380ace9ed00b172744f": {
          "model_module": "@jupyter-widgets/base",
          "model_module_version": "1.2.0",
          "model_name": "LayoutModel",
          "state": {
            "_model_module": "@jupyter-widgets/base",
            "_model_module_version": "1.2.0",
            "_model_name": "LayoutModel",
            "_view_count": null,
            "_view_module": "@jupyter-widgets/base",
            "_view_module_version": "1.2.0",
            "_view_name": "LayoutView",
            "align_content": null,
            "align_items": null,
            "align_self": null,
            "border": null,
            "bottom": null,
            "display": null,
            "flex": null,
            "flex_flow": null,
            "grid_area": null,
            "grid_auto_columns": null,
            "grid_auto_flow": null,
            "grid_auto_rows": null,
            "grid_column": null,
            "grid_gap": null,
            "grid_row": null,
            "grid_template_areas": null,
            "grid_template_columns": null,
            "grid_template_rows": null,
            "height": null,
            "justify_content": null,
            "justify_items": null,
            "left": null,
            "margin": null,
            "max_height": null,
            "max_width": null,
            "min_height": null,
            "min_width": null,
            "object_fit": null,
            "object_position": null,
            "order": null,
            "overflow": null,
            "overflow_x": null,
            "overflow_y": null,
            "padding": null,
            "right": null,
            "top": null,
            "visibility": null,
            "width": null
          }
        },
        "acc0b5c2dd9145109283fb04a74be897": {
          "model_module": "@jupyter-widgets/controls",
          "model_module_version": "1.5.0",
          "model_name": "FloatProgressModel",
          "state": {
            "_dom_classes": [],
            "_model_module": "@jupyter-widgets/controls",
            "_model_module_version": "1.5.0",
            "_model_name": "FloatProgressModel",
            "_view_count": null,
            "_view_module": "@jupyter-widgets/controls",
            "_view_module_version": "1.5.0",
            "_view_name": "ProgressView",
            "bar_style": "success",
            "description": "",
            "description_tooltip": null,
            "layout": "IPY_MODEL_e757fe6bdf4945f69d598a4803a9e50c",
            "max": 466021,
            "min": 0,
            "orientation": "horizontal",
            "style": "IPY_MODEL_66834c7a8ec54a90b5ecaaf89fa96712",
            "value": 466021
          }
        },
        "addb5a219dcb459fa5efad18918aa0bf": {
          "model_module": "@jupyter-widgets/controls",
          "model_module_version": "1.5.0",
          "model_name": "HBoxModel",
          "state": {
            "_dom_classes": [],
            "_model_module": "@jupyter-widgets/controls",
            "_model_module_version": "1.5.0",
            "_model_name": "HBoxModel",
            "_view_count": null,
            "_view_module": "@jupyter-widgets/controls",
            "_view_module_version": "1.5.0",
            "_view_name": "HBoxView",
            "box_style": "",
            "children": [
              "IPY_MODEL_28aa14085a7142a2ad29f0b872e8fe55",
              "IPY_MODEL_c6ca63e888a94576b600a7fe7c2023b9",
              "IPY_MODEL_c0d4e39c755540b1b6e6f96250396051"
            ],
            "layout": "IPY_MODEL_1b6828142e3340cb899995946ec9cee2"
          }
        },
        "ae63dd2529804dda8a4e4460c784d4d4": {
          "model_module": "@jupyter-widgets/controls",
          "model_module_version": "1.5.0",
          "model_name": "HBoxModel",
          "state": {
            "_dom_classes": [],
            "_model_module": "@jupyter-widgets/controls",
            "_model_module_version": "1.5.0",
            "_model_name": "HBoxModel",
            "_view_count": null,
            "_view_module": "@jupyter-widgets/controls",
            "_view_module_version": "1.5.0",
            "_view_name": "HBoxView",
            "box_style": "",
            "children": [
              "IPY_MODEL_57feb62920424dc38a330effeabadbd2",
              "IPY_MODEL_d4d8e063239d48ab9ca643cb16de1c28",
              "IPY_MODEL_8611b5e35096466598dc54b65d892709"
            ],
            "layout": "IPY_MODEL_c7bf4c6182ae4a27959716851226b30a"
          }
        },
        "afc07140d07c4c74b9d52449aa8c6fb1": {
          "model_module": "@jupyter-widgets/controls",
          "model_module_version": "1.5.0",
          "model_name": "ProgressStyleModel",
          "state": {
            "_model_module": "@jupyter-widgets/controls",
            "_model_module_version": "1.5.0",
            "_model_name": "ProgressStyleModel",
            "_view_count": null,
            "_view_module": "@jupyter-widgets/base",
            "_view_module_version": "1.2.0",
            "_view_name": "StyleView",
            "bar_color": null,
            "description_width": ""
          }
        },
        "b02612d2e8f148d0b004896d3b1f3fe0": {
          "model_module": "@jupyter-widgets/controls",
          "model_module_version": "1.5.0",
          "model_name": "HTMLModel",
          "state": {
            "_dom_classes": [],
            "_model_module": "@jupyter-widgets/controls",
            "_model_module_version": "1.5.0",
            "_model_name": "HTMLModel",
            "_view_count": null,
            "_view_module": "@jupyter-widgets/controls",
            "_view_module_version": "1.5.0",
            "_view_name": "HTMLView",
            "description": "",
            "description_tooltip": null,
            "layout": "IPY_MODEL_99fe730c0bee4cd58619170a2d5ebb40",
            "placeholder": "​",
            "style": "IPY_MODEL_49a7134f67b1407c9aaa57b36301faee",
            "value": " 418M/418M [00:14&lt;00:00, 68.8MB/s]"
          }
        },
        "b203b42777bd4bbbb58954f7114b8426": {
          "model_module": "@jupyter-widgets/base",
          "model_module_version": "1.2.0",
          "model_name": "LayoutModel",
          "state": {
            "_model_module": "@jupyter-widgets/base",
            "_model_module_version": "1.2.0",
            "_model_name": "LayoutModel",
            "_view_count": null,
            "_view_module": "@jupyter-widgets/base",
            "_view_module_version": "1.2.0",
            "_view_name": "LayoutView",
            "align_content": null,
            "align_items": null,
            "align_self": null,
            "border": null,
            "bottom": null,
            "display": null,
            "flex": null,
            "flex_flow": null,
            "grid_area": null,
            "grid_auto_columns": null,
            "grid_auto_flow": null,
            "grid_auto_rows": null,
            "grid_column": null,
            "grid_gap": null,
            "grid_row": null,
            "grid_template_areas": null,
            "grid_template_columns": null,
            "grid_template_rows": null,
            "height": null,
            "justify_content": null,
            "justify_items": null,
            "left": null,
            "margin": null,
            "max_height": null,
            "max_width": null,
            "min_height": null,
            "min_width": null,
            "object_fit": null,
            "object_position": null,
            "order": null,
            "overflow": null,
            "overflow_x": null,
            "overflow_y": null,
            "padding": null,
            "right": null,
            "top": null,
            "visibility": null,
            "width": null
          }
        },
        "b6d46af0a02545ec813fd2132651fbee": {
          "model_module": "@jupyter-widgets/controls",
          "model_module_version": "1.5.0",
          "model_name": "FloatProgressModel",
          "state": {
            "_dom_classes": [],
            "_model_module": "@jupyter-widgets/controls",
            "_model_module_version": "1.5.0",
            "_model_name": "FloatProgressModel",
            "_view_count": null,
            "_view_module": "@jupyter-widgets/controls",
            "_view_module_version": "1.5.0",
            "_view_name": "ProgressView",
            "bar_style": "success",
            "description": "",
            "description_tooltip": null,
            "layout": "IPY_MODEL_a41ab3e3d8a9408784d4d5c319b4b5e1",
            "max": 363,
            "min": 0,
            "orientation": "horizontal",
            "style": "IPY_MODEL_3936de7020574cc3871e92ad6c84933c",
            "value": 363
          }
        },
        "b87a064d9cc94fe495fb8c55eeaa9939": {
          "model_module": "@jupyter-widgets/controls",
          "model_module_version": "1.5.0",
          "model_name": "HBoxModel",
          "state": {
            "_dom_classes": [],
            "_model_module": "@jupyter-widgets/controls",
            "_model_module_version": "1.5.0",
            "_model_name": "HBoxModel",
            "_view_count": null,
            "_view_module": "@jupyter-widgets/controls",
            "_view_module_version": "1.5.0",
            "_view_name": "HBoxView",
            "box_style": "",
            "children": [
              "IPY_MODEL_770be83a610641ed944c20b60011e673",
              "IPY_MODEL_bedc646c1109470da970dd7956581ef1",
              "IPY_MODEL_ea2c32736bae4fc18f8c4731b734b121"
            ],
            "layout": "IPY_MODEL_e31c9dfb49294b5a82ffc72387a0318e"
          }
        },
        "ba70134a22a24cb098893db5da2ca7ea": {
          "model_module": "@jupyter-widgets/controls",
          "model_module_version": "1.5.0",
          "model_name": "DescriptionStyleModel",
          "state": {
            "_model_module": "@jupyter-widgets/controls",
            "_model_module_version": "1.5.0",
            "_model_name": "DescriptionStyleModel",
            "_view_count": null,
            "_view_module": "@jupyter-widgets/base",
            "_view_module_version": "1.2.0",
            "_view_name": "StyleView",
            "description_width": ""
          }
        },
        "bd6602b54cae4dc885765d74d4525c00": {
          "model_module": "@jupyter-widgets/controls",
          "model_module_version": "1.5.0",
          "model_name": "HBoxModel",
          "state": {
            "_dom_classes": [],
            "_model_module": "@jupyter-widgets/controls",
            "_model_module_version": "1.5.0",
            "_model_name": "HBoxModel",
            "_view_count": null,
            "_view_module": "@jupyter-widgets/controls",
            "_view_module_version": "1.5.0",
            "_view_name": "HBoxView",
            "box_style": "",
            "children": [
              "IPY_MODEL_ffb9368d7cbe48e7983bd12adae03c79",
              "IPY_MODEL_110511ef3d134cb993ded03500d0b331",
              "IPY_MODEL_b02612d2e8f148d0b004896d3b1f3fe0"
            ],
            "layout": "IPY_MODEL_81d0484d369148bbb68dc5bd216e17c8"
          }
        },
        "bedc646c1109470da970dd7956581ef1": {
          "model_module": "@jupyter-widgets/controls",
          "model_module_version": "1.5.0",
          "model_name": "FloatProgressModel",
          "state": {
            "_dom_classes": [],
            "_model_module": "@jupyter-widgets/controls",
            "_model_module_version": "1.5.0",
            "_model_name": "FloatProgressModel",
            "_view_count": null,
            "_view_module": "@jupyter-widgets/controls",
            "_view_module_version": "1.5.0",
            "_view_name": "ProgressView",
            "bar_style": "success",
            "description": "",
            "description_tooltip": null,
            "layout": "IPY_MODEL_49a030b7b09441cf82f071506d40eb03",
            "max": 571,
            "min": 0,
            "orientation": "horizontal",
            "style": "IPY_MODEL_66cd28c3884d4c02832f2761ade3a736",
            "value": 571
          }
        },
        "c0d4e39c755540b1b6e6f96250396051": {
          "model_module": "@jupyter-widgets/controls",
          "model_module_version": "1.5.0",
          "model_name": "HTMLModel",
          "state": {
            "_dom_classes": [],
            "_model_module": "@jupyter-widgets/controls",
            "_model_module_version": "1.5.0",
            "_model_name": "HTMLModel",
            "_view_count": null,
            "_view_module": "@jupyter-widgets/controls",
            "_view_module_version": "1.5.0",
            "_view_name": "HTMLView",
            "description": "",
            "description_tooltip": null,
            "layout": "IPY_MODEL_b203b42777bd4bbbb58954f7114b8426",
            "placeholder": "​",
            "style": "IPY_MODEL_1c7597390d8f436c8f3835b2e8b23452",
            "value": " 226k/226k [00:00&lt;00:00, 972kB/s]"
          }
        },
        "c0f0a79027e84c86867c0978142e8974": {
          "model_module": "@jupyter-widgets/base",
          "model_module_version": "1.2.0",
          "model_name": "LayoutModel",
          "state": {
            "_model_module": "@jupyter-widgets/base",
            "_model_module_version": "1.2.0",
            "_model_name": "LayoutModel",
            "_view_count": null,
            "_view_module": "@jupyter-widgets/base",
            "_view_module_version": "1.2.0",
            "_view_name": "LayoutView",
            "align_content": null,
            "align_items": null,
            "align_self": null,
            "border": null,
            "bottom": null,
            "display": null,
            "flex": null,
            "flex_flow": null,
            "grid_area": null,
            "grid_auto_columns": null,
            "grid_auto_flow": null,
            "grid_auto_rows": null,
            "grid_column": null,
            "grid_gap": null,
            "grid_row": null,
            "grid_template_areas": null,
            "grid_template_columns": null,
            "grid_template_rows": null,
            "height": null,
            "justify_content": null,
            "justify_items": null,
            "left": null,
            "margin": null,
            "max_height": null,
            "max_width": null,
            "min_height": null,
            "min_width": null,
            "object_fit": null,
            "object_position": null,
            "order": null,
            "overflow": null,
            "overflow_x": null,
            "overflow_y": null,
            "padding": null,
            "right": null,
            "top": null,
            "visibility": null,
            "width": null
          }
        },
        "c2cb0e5fd8de4b669a04434463acf92b": {
          "model_module": "@jupyter-widgets/controls",
          "model_module_version": "1.5.0",
          "model_name": "DescriptionStyleModel",
          "state": {
            "_model_module": "@jupyter-widgets/controls",
            "_model_module_version": "1.5.0",
            "_model_name": "DescriptionStyleModel",
            "_view_count": null,
            "_view_module": "@jupyter-widgets/base",
            "_view_module_version": "1.2.0",
            "_view_name": "StyleView",
            "description_width": ""
          }
        },
        "c6ca63e888a94576b600a7fe7c2023b9": {
          "model_module": "@jupyter-widgets/controls",
          "model_module_version": "1.5.0",
          "model_name": "FloatProgressModel",
          "state": {
            "_dom_classes": [],
            "_model_module": "@jupyter-widgets/controls",
            "_model_module_version": "1.5.0",
            "_model_name": "FloatProgressModel",
            "_view_count": null,
            "_view_module": "@jupyter-widgets/controls",
            "_view_module_version": "1.5.0",
            "_view_name": "ProgressView",
            "bar_style": "success",
            "description": "",
            "description_tooltip": null,
            "layout": "IPY_MODEL_9f056ab64d6e4aac92d100a67562e062",
            "max": 231536,
            "min": 0,
            "orientation": "horizontal",
            "style": "IPY_MODEL_4579b71f548148dfa588158a9de61906",
            "value": 231536
          }
        },
        "c7bf4c6182ae4a27959716851226b30a": {
          "model_module": "@jupyter-widgets/base",
          "model_module_version": "1.2.0",
          "model_name": "LayoutModel",
          "state": {
            "_model_module": "@jupyter-widgets/base",
            "_model_module_version": "1.2.0",
            "_model_name": "LayoutModel",
            "_view_count": null,
            "_view_module": "@jupyter-widgets/base",
            "_view_module_version": "1.2.0",
            "_view_name": "LayoutView",
            "align_content": null,
            "align_items": null,
            "align_self": null,
            "border": null,
            "bottom": null,
            "display": null,
            "flex": null,
            "flex_flow": null,
            "grid_area": null,
            "grid_auto_columns": null,
            "grid_auto_flow": null,
            "grid_auto_rows": null,
            "grid_column": null,
            "grid_gap": null,
            "grid_row": null,
            "grid_template_areas": null,
            "grid_template_columns": null,
            "grid_template_rows": null,
            "height": null,
            "justify_content": null,
            "justify_items": null,
            "left": null,
            "margin": null,
            "max_height": null,
            "max_width": null,
            "min_height": null,
            "min_width": null,
            "object_fit": null,
            "object_position": null,
            "order": null,
            "overflow": null,
            "overflow_x": null,
            "overflow_y": null,
            "padding": null,
            "right": null,
            "top": null,
            "visibility": null,
            "width": null
          }
        },
        "c8181b75d5344227ba225f2ba368587e": {
          "model_module": "@jupyter-widgets/base",
          "model_module_version": "1.2.0",
          "model_name": "LayoutModel",
          "state": {
            "_model_module": "@jupyter-widgets/base",
            "_model_module_version": "1.2.0",
            "_model_name": "LayoutModel",
            "_view_count": null,
            "_view_module": "@jupyter-widgets/base",
            "_view_module_version": "1.2.0",
            "_view_name": "LayoutView",
            "align_content": null,
            "align_items": null,
            "align_self": null,
            "border": null,
            "bottom": null,
            "display": null,
            "flex": null,
            "flex_flow": null,
            "grid_area": null,
            "grid_auto_columns": null,
            "grid_auto_flow": null,
            "grid_auto_rows": null,
            "grid_column": null,
            "grid_gap": null,
            "grid_row": null,
            "grid_template_areas": null,
            "grid_template_columns": null,
            "grid_template_rows": null,
            "height": null,
            "justify_content": null,
            "justify_items": null,
            "left": null,
            "margin": null,
            "max_height": null,
            "max_width": null,
            "min_height": null,
            "min_width": null,
            "object_fit": null,
            "object_position": null,
            "order": null,
            "overflow": null,
            "overflow_x": null,
            "overflow_y": null,
            "padding": null,
            "right": null,
            "top": null,
            "visibility": null,
            "width": null
          }
        },
        "cdee34f1c87e4b56979ef42569233a38": {
          "model_module": "@jupyter-widgets/controls",
          "model_module_version": "1.5.0",
          "model_name": "HTMLModel",
          "state": {
            "_dom_classes": [],
            "_model_module": "@jupyter-widgets/controls",
            "_model_module_version": "1.5.0",
            "_model_name": "HTMLModel",
            "_view_count": null,
            "_view_module": "@jupyter-widgets/controls",
            "_view_module_version": "1.5.0",
            "_view_name": "HTMLView",
            "description": "",
            "description_tooltip": null,
            "layout": "IPY_MODEL_e79e2ffa0c324f4db7f7f0758cb69345",
            "placeholder": "​",
            "style": "IPY_MODEL_da9023bb85c846ce9e7852dc8ded7c00",
            "value": "100%"
          }
        },
        "ceaa6a24724a4c5bb1c8e1fad206d6c7": {
          "model_module": "@jupyter-widgets/controls",
          "model_module_version": "1.5.0",
          "model_name": "DescriptionStyleModel",
          "state": {
            "_model_module": "@jupyter-widgets/controls",
            "_model_module_version": "1.5.0",
            "_model_name": "DescriptionStyleModel",
            "_view_count": null,
            "_view_module": "@jupyter-widgets/base",
            "_view_module_version": "1.2.0",
            "_view_name": "StyleView",
            "description_width": ""
          }
        },
        "d0577606fa534787abe1eeeffd622c81": {
          "model_module": "@jupyter-widgets/controls",
          "model_module_version": "1.5.0",
          "model_name": "HBoxModel",
          "state": {
            "_dom_classes": [],
            "_model_module": "@jupyter-widgets/controls",
            "_model_module_version": "1.5.0",
            "_model_name": "HBoxModel",
            "_view_count": null,
            "_view_module": "@jupyter-widgets/controls",
            "_view_module_version": "1.5.0",
            "_view_name": "HBoxView",
            "box_style": "",
            "children": [
              "IPY_MODEL_99e200d38f10448793c5d4c3ed2e7439",
              "IPY_MODEL_d0b558de9ad049c88f638285ec4f9881",
              "IPY_MODEL_0eec5f8a280d481cbbe6183f17ef8728"
            ],
            "layout": "IPY_MODEL_faf20984199a46609a3b0a68e515ecad"
          }
        },
        "d0b558de9ad049c88f638285ec4f9881": {
          "model_module": "@jupyter-widgets/controls",
          "model_module_version": "1.5.0",
          "model_name": "FloatProgressModel",
          "state": {
            "_dom_classes": [],
            "_model_module": "@jupyter-widgets/controls",
            "_model_module_version": "1.5.0",
            "_model_name": "FloatProgressModel",
            "_view_count": null,
            "_view_module": "@jupyter-widgets/controls",
            "_view_module_version": "1.5.0",
            "_view_name": "ProgressView",
            "bar_style": "success",
            "description": "",
            "description_tooltip": null,
            "layout": "IPY_MODEL_d1d854a7deda443b86424cfe469c0e94",
            "max": 239,
            "min": 0,
            "orientation": "horizontal",
            "style": "IPY_MODEL_2bf7659471b34c8290982c8bb28ca339",
            "value": 239
          }
        },
        "d1d854a7deda443b86424cfe469c0e94": {
          "model_module": "@jupyter-widgets/base",
          "model_module_version": "1.2.0",
          "model_name": "LayoutModel",
          "state": {
            "_model_module": "@jupyter-widgets/base",
            "_model_module_version": "1.2.0",
            "_model_name": "LayoutModel",
            "_view_count": null,
            "_view_module": "@jupyter-widgets/base",
            "_view_module_version": "1.2.0",
            "_view_name": "LayoutView",
            "align_content": null,
            "align_items": null,
            "align_self": null,
            "border": null,
            "bottom": null,
            "display": null,
            "flex": null,
            "flex_flow": null,
            "grid_area": null,
            "grid_auto_columns": null,
            "grid_auto_flow": null,
            "grid_auto_rows": null,
            "grid_column": null,
            "grid_gap": null,
            "grid_row": null,
            "grid_template_areas": null,
            "grid_template_columns": null,
            "grid_template_rows": null,
            "height": null,
            "justify_content": null,
            "justify_items": null,
            "left": null,
            "margin": null,
            "max_height": null,
            "max_width": null,
            "min_height": null,
            "min_width": null,
            "object_fit": null,
            "object_position": null,
            "order": null,
            "overflow": null,
            "overflow_x": null,
            "overflow_y": null,
            "padding": null,
            "right": null,
            "top": null,
            "visibility": null,
            "width": null
          }
        },
        "d4d8e063239d48ab9ca643cb16de1c28": {
          "model_module": "@jupyter-widgets/controls",
          "model_module_version": "1.5.0",
          "model_name": "FloatProgressModel",
          "state": {
            "_dom_classes": [],
            "_model_module": "@jupyter-widgets/controls",
            "_model_module_version": "1.5.0",
            "_model_name": "FloatProgressModel",
            "_view_count": null,
            "_view_module": "@jupyter-widgets/controls",
            "_view_module_version": "1.5.0",
            "_view_name": "ProgressView",
            "bar_style": "success",
            "description": "",
            "description_tooltip": null,
            "layout": "IPY_MODEL_e5133634f4d04157a7ccf5af4e90fc08",
            "max": 87,
            "min": 0,
            "orientation": "horizontal",
            "style": "IPY_MODEL_03a4328241ee4fabbb60f1bb8d05455c",
            "value": 87
          }
        },
        "d8b1ddc024a84a85a54aaed8cec7059f": {
          "model_module": "@jupyter-widgets/base",
          "model_module_version": "1.2.0",
          "model_name": "LayoutModel",
          "state": {
            "_model_module": "@jupyter-widgets/base",
            "_model_module_version": "1.2.0",
            "_model_name": "LayoutModel",
            "_view_count": null,
            "_view_module": "@jupyter-widgets/base",
            "_view_module_version": "1.2.0",
            "_view_name": "LayoutView",
            "align_content": null,
            "align_items": null,
            "align_self": null,
            "border": null,
            "bottom": null,
            "display": null,
            "flex": null,
            "flex_flow": null,
            "grid_area": null,
            "grid_auto_columns": null,
            "grid_auto_flow": null,
            "grid_auto_rows": null,
            "grid_column": null,
            "grid_gap": null,
            "grid_row": null,
            "grid_template_areas": null,
            "grid_template_columns": null,
            "grid_template_rows": null,
            "height": null,
            "justify_content": null,
            "justify_items": null,
            "left": null,
            "margin": null,
            "max_height": null,
            "max_width": null,
            "min_height": null,
            "min_width": null,
            "object_fit": null,
            "object_position": null,
            "order": null,
            "overflow": null,
            "overflow_x": null,
            "overflow_y": null,
            "padding": null,
            "right": null,
            "top": null,
            "visibility": null,
            "width": null
          }
        },
        "da9023bb85c846ce9e7852dc8ded7c00": {
          "model_module": "@jupyter-widgets/controls",
          "model_module_version": "1.5.0",
          "model_name": "DescriptionStyleModel",
          "state": {
            "_model_module": "@jupyter-widgets/controls",
            "_model_module_version": "1.5.0",
            "_model_name": "DescriptionStyleModel",
            "_view_count": null,
            "_view_module": "@jupyter-widgets/base",
            "_view_module_version": "1.2.0",
            "_view_name": "StyleView",
            "description_width": ""
          }
        },
        "dad146115d6b47b4bb8ea953a1cff0b4": {
          "model_module": "@jupyter-widgets/controls",
          "model_module_version": "1.5.0",
          "model_name": "HTMLModel",
          "state": {
            "_dom_classes": [],
            "_model_module": "@jupyter-widgets/controls",
            "_model_module_version": "1.5.0",
            "_model_name": "HTMLModel",
            "_view_count": null,
            "_view_module": "@jupyter-widgets/controls",
            "_view_module_version": "1.5.0",
            "_view_name": "HTMLView",
            "description": "",
            "description_tooltip": null,
            "layout": "IPY_MODEL_e0069a16abb04b90a34f11b9cad3bbff",
            "placeholder": "​",
            "style": "IPY_MODEL_8108dcc43627436d8cacf1667ebaa12d",
            "value": "100%"
          }
        },
        "dd8ec5004aef4b448f3962634f155a95": {
          "model_module": "@jupyter-widgets/controls",
          "model_module_version": "1.5.0",
          "model_name": "ProgressStyleModel",
          "state": {
            "_model_module": "@jupyter-widgets/controls",
            "_model_module_version": "1.5.0",
            "_model_name": "ProgressStyleModel",
            "_view_count": null,
            "_view_module": "@jupyter-widgets/base",
            "_view_module_version": "1.2.0",
            "_view_name": "StyleView",
            "bar_color": null,
            "description_width": ""
          }
        },
        "dff721d13e584f2387b6542f370ed55d": {
          "model_module": "@jupyter-widgets/base",
          "model_module_version": "1.2.0",
          "model_name": "LayoutModel",
          "state": {
            "_model_module": "@jupyter-widgets/base",
            "_model_module_version": "1.2.0",
            "_model_name": "LayoutModel",
            "_view_count": null,
            "_view_module": "@jupyter-widgets/base",
            "_view_module_version": "1.2.0",
            "_view_name": "LayoutView",
            "align_content": null,
            "align_items": null,
            "align_self": null,
            "border": null,
            "bottom": null,
            "display": null,
            "flex": null,
            "flex_flow": null,
            "grid_area": null,
            "grid_auto_columns": null,
            "grid_auto_flow": null,
            "grid_auto_rows": null,
            "grid_column": null,
            "grid_gap": null,
            "grid_row": null,
            "grid_template_areas": null,
            "grid_template_columns": null,
            "grid_template_rows": null,
            "height": null,
            "justify_content": null,
            "justify_items": null,
            "left": null,
            "margin": null,
            "max_height": null,
            "max_width": null,
            "min_height": null,
            "min_width": null,
            "object_fit": null,
            "object_position": null,
            "order": null,
            "overflow": null,
            "overflow_x": null,
            "overflow_y": null,
            "padding": null,
            "right": null,
            "top": null,
            "visibility": null,
            "width": null
          }
        },
        "e0069a16abb04b90a34f11b9cad3bbff": {
          "model_module": "@jupyter-widgets/base",
          "model_module_version": "1.2.0",
          "model_name": "LayoutModel",
          "state": {
            "_model_module": "@jupyter-widgets/base",
            "_model_module_version": "1.2.0",
            "_model_name": "LayoutModel",
            "_view_count": null,
            "_view_module": "@jupyter-widgets/base",
            "_view_module_version": "1.2.0",
            "_view_name": "LayoutView",
            "align_content": null,
            "align_items": null,
            "align_self": null,
            "border": null,
            "bottom": null,
            "display": null,
            "flex": null,
            "flex_flow": null,
            "grid_area": null,
            "grid_auto_columns": null,
            "grid_auto_flow": null,
            "grid_auto_rows": null,
            "grid_column": null,
            "grid_gap": null,
            "grid_row": null,
            "grid_template_areas": null,
            "grid_template_columns": null,
            "grid_template_rows": null,
            "height": null,
            "justify_content": null,
            "justify_items": null,
            "left": null,
            "margin": null,
            "max_height": null,
            "max_width": null,
            "min_height": null,
            "min_width": null,
            "object_fit": null,
            "object_position": null,
            "order": null,
            "overflow": null,
            "overflow_x": null,
            "overflow_y": null,
            "padding": null,
            "right": null,
            "top": null,
            "visibility": null,
            "width": null
          }
        },
        "e1f10ddc0b0740fba1bf65fe019abc53": {
          "model_module": "@jupyter-widgets/base",
          "model_module_version": "1.2.0",
          "model_name": "LayoutModel",
          "state": {
            "_model_module": "@jupyter-widgets/base",
            "_model_module_version": "1.2.0",
            "_model_name": "LayoutModel",
            "_view_count": null,
            "_view_module": "@jupyter-widgets/base",
            "_view_module_version": "1.2.0",
            "_view_name": "LayoutView",
            "align_content": null,
            "align_items": null,
            "align_self": null,
            "border": null,
            "bottom": null,
            "display": null,
            "flex": null,
            "flex_flow": null,
            "grid_area": null,
            "grid_auto_columns": null,
            "grid_auto_flow": null,
            "grid_auto_rows": null,
            "grid_column": null,
            "grid_gap": null,
            "grid_row": null,
            "grid_template_areas": null,
            "grid_template_columns": null,
            "grid_template_rows": null,
            "height": null,
            "justify_content": null,
            "justify_items": null,
            "left": null,
            "margin": null,
            "max_height": null,
            "max_width": null,
            "min_height": null,
            "min_width": null,
            "object_fit": null,
            "object_position": null,
            "order": null,
            "overflow": null,
            "overflow_x": null,
            "overflow_y": null,
            "padding": null,
            "right": null,
            "top": null,
            "visibility": null,
            "width": null
          }
        },
        "e31c9dfb49294b5a82ffc72387a0318e": {
          "model_module": "@jupyter-widgets/base",
          "model_module_version": "1.2.0",
          "model_name": "LayoutModel",
          "state": {
            "_model_module": "@jupyter-widgets/base",
            "_model_module_version": "1.2.0",
            "_model_name": "LayoutModel",
            "_view_count": null,
            "_view_module": "@jupyter-widgets/base",
            "_view_module_version": "1.2.0",
            "_view_name": "LayoutView",
            "align_content": null,
            "align_items": null,
            "align_self": null,
            "border": null,
            "bottom": null,
            "display": null,
            "flex": null,
            "flex_flow": null,
            "grid_area": null,
            "grid_auto_columns": null,
            "grid_auto_flow": null,
            "grid_auto_rows": null,
            "grid_column": null,
            "grid_gap": null,
            "grid_row": null,
            "grid_template_areas": null,
            "grid_template_columns": null,
            "grid_template_rows": null,
            "height": null,
            "justify_content": null,
            "justify_items": null,
            "left": null,
            "margin": null,
            "max_height": null,
            "max_width": null,
            "min_height": null,
            "min_width": null,
            "object_fit": null,
            "object_position": null,
            "order": null,
            "overflow": null,
            "overflow_x": null,
            "overflow_y": null,
            "padding": null,
            "right": null,
            "top": null,
            "visibility": null,
            "width": null
          }
        },
        "e3dc032309da4788b6f4e37e65c049a2": {
          "model_module": "@jupyter-widgets/base",
          "model_module_version": "1.2.0",
          "model_name": "LayoutModel",
          "state": {
            "_model_module": "@jupyter-widgets/base",
            "_model_module_version": "1.2.0",
            "_model_name": "LayoutModel",
            "_view_count": null,
            "_view_module": "@jupyter-widgets/base",
            "_view_module_version": "1.2.0",
            "_view_name": "LayoutView",
            "align_content": null,
            "align_items": null,
            "align_self": null,
            "border": null,
            "bottom": null,
            "display": null,
            "flex": null,
            "flex_flow": null,
            "grid_area": null,
            "grid_auto_columns": null,
            "grid_auto_flow": null,
            "grid_auto_rows": null,
            "grid_column": null,
            "grid_gap": null,
            "grid_row": null,
            "grid_template_areas": null,
            "grid_template_columns": null,
            "grid_template_rows": null,
            "height": null,
            "justify_content": null,
            "justify_items": null,
            "left": null,
            "margin": null,
            "max_height": null,
            "max_width": null,
            "min_height": null,
            "min_width": null,
            "object_fit": null,
            "object_position": null,
            "order": null,
            "overflow": null,
            "overflow_x": null,
            "overflow_y": null,
            "padding": null,
            "right": null,
            "top": null,
            "visibility": null,
            "width": null
          }
        },
        "e4ec32964aeb4de8abbad06c862b3e7e": {
          "model_module": "@jupyter-widgets/controls",
          "model_module_version": "1.5.0",
          "model_name": "HBoxModel",
          "state": {
            "_dom_classes": [],
            "_model_module": "@jupyter-widgets/controls",
            "_model_module_version": "1.5.0",
            "_model_name": "HBoxModel",
            "_view_count": null,
            "_view_module": "@jupyter-widgets/controls",
            "_view_module_version": "1.5.0",
            "_view_name": "HBoxView",
            "box_style": "",
            "children": [
              "IPY_MODEL_6205e68d3e594a788694631b081c2045",
              "IPY_MODEL_944edfc9f019497fba6ca64d6191c9b7",
              "IPY_MODEL_2cca694818554bb7be4c3b8f4255352a"
            ],
            "layout": "IPY_MODEL_2d5df15e3100479b95fb4242e8ca7546"
          }
        },
        "e5133634f4d04157a7ccf5af4e90fc08": {
          "model_module": "@jupyter-widgets/base",
          "model_module_version": "1.2.0",
          "model_name": "LayoutModel",
          "state": {
            "_model_module": "@jupyter-widgets/base",
            "_model_module_version": "1.2.0",
            "_model_name": "LayoutModel",
            "_view_count": null,
            "_view_module": "@jupyter-widgets/base",
            "_view_module_version": "1.2.0",
            "_view_name": "LayoutView",
            "align_content": null,
            "align_items": null,
            "align_self": null,
            "border": null,
            "bottom": null,
            "display": null,
            "flex": null,
            "flex_flow": null,
            "grid_area": null,
            "grid_auto_columns": null,
            "grid_auto_flow": null,
            "grid_auto_rows": null,
            "grid_column": null,
            "grid_gap": null,
            "grid_row": null,
            "grid_template_areas": null,
            "grid_template_columns": null,
            "grid_template_rows": null,
            "height": null,
            "justify_content": null,
            "justify_items": null,
            "left": null,
            "margin": null,
            "max_height": null,
            "max_width": null,
            "min_height": null,
            "min_width": null,
            "object_fit": null,
            "object_position": null,
            "order": null,
            "overflow": null,
            "overflow_x": null,
            "overflow_y": null,
            "padding": null,
            "right": null,
            "top": null,
            "visibility": null,
            "width": null
          }
        },
        "e757fe6bdf4945f69d598a4803a9e50c": {
          "model_module": "@jupyter-widgets/base",
          "model_module_version": "1.2.0",
          "model_name": "LayoutModel",
          "state": {
            "_model_module": "@jupyter-widgets/base",
            "_model_module_version": "1.2.0",
            "_model_name": "LayoutModel",
            "_view_count": null,
            "_view_module": "@jupyter-widgets/base",
            "_view_module_version": "1.2.0",
            "_view_name": "LayoutView",
            "align_content": null,
            "align_items": null,
            "align_self": null,
            "border": null,
            "bottom": null,
            "display": null,
            "flex": null,
            "flex_flow": null,
            "grid_area": null,
            "grid_auto_columns": null,
            "grid_auto_flow": null,
            "grid_auto_rows": null,
            "grid_column": null,
            "grid_gap": null,
            "grid_row": null,
            "grid_template_areas": null,
            "grid_template_columns": null,
            "grid_template_rows": null,
            "height": null,
            "justify_content": null,
            "justify_items": null,
            "left": null,
            "margin": null,
            "max_height": null,
            "max_width": null,
            "min_height": null,
            "min_width": null,
            "object_fit": null,
            "object_position": null,
            "order": null,
            "overflow": null,
            "overflow_x": null,
            "overflow_y": null,
            "padding": null,
            "right": null,
            "top": null,
            "visibility": null,
            "width": null
          }
        },
        "e79e2ffa0c324f4db7f7f0758cb69345": {
          "model_module": "@jupyter-widgets/base",
          "model_module_version": "1.2.0",
          "model_name": "LayoutModel",
          "state": {
            "_model_module": "@jupyter-widgets/base",
            "_model_module_version": "1.2.0",
            "_model_name": "LayoutModel",
            "_view_count": null,
            "_view_module": "@jupyter-widgets/base",
            "_view_module_version": "1.2.0",
            "_view_name": "LayoutView",
            "align_content": null,
            "align_items": null,
            "align_self": null,
            "border": null,
            "bottom": null,
            "display": null,
            "flex": null,
            "flex_flow": null,
            "grid_area": null,
            "grid_auto_columns": null,
            "grid_auto_flow": null,
            "grid_auto_rows": null,
            "grid_column": null,
            "grid_gap": null,
            "grid_row": null,
            "grid_template_areas": null,
            "grid_template_columns": null,
            "grid_template_rows": null,
            "height": null,
            "justify_content": null,
            "justify_items": null,
            "left": null,
            "margin": null,
            "max_height": null,
            "max_width": null,
            "min_height": null,
            "min_width": null,
            "object_fit": null,
            "object_position": null,
            "order": null,
            "overflow": null,
            "overflow_x": null,
            "overflow_y": null,
            "padding": null,
            "right": null,
            "top": null,
            "visibility": null,
            "width": null
          }
        },
        "ea2c32736bae4fc18f8c4731b734b121": {
          "model_module": "@jupyter-widgets/controls",
          "model_module_version": "1.5.0",
          "model_name": "HTMLModel",
          "state": {
            "_dom_classes": [],
            "_model_module": "@jupyter-widgets/controls",
            "_model_module_version": "1.5.0",
            "_model_name": "HTMLModel",
            "_view_count": null,
            "_view_module": "@jupyter-widgets/controls",
            "_view_module_version": "1.5.0",
            "_view_name": "HTMLView",
            "description": "",
            "description_tooltip": null,
            "layout": "IPY_MODEL_7f32fcd1605a453185f7efb30ea47235",
            "placeholder": "​",
            "style": "IPY_MODEL_831866709c784ccf9b9bbd535dfe68d0",
            "value": " 571/571 [00:00&lt;00:00, 20.2kB/s]"
          }
        },
        "eb89c5c8f1f942feb8b684ea45e3e321": {
          "model_module": "@jupyter-widgets/base",
          "model_module_version": "1.2.0",
          "model_name": "LayoutModel",
          "state": {
            "_model_module": "@jupyter-widgets/base",
            "_model_module_version": "1.2.0",
            "_model_name": "LayoutModel",
            "_view_count": null,
            "_view_module": "@jupyter-widgets/base",
            "_view_module_version": "1.2.0",
            "_view_name": "LayoutView",
            "align_content": null,
            "align_items": null,
            "align_self": null,
            "border": null,
            "bottom": null,
            "display": null,
            "flex": null,
            "flex_flow": null,
            "grid_area": null,
            "grid_auto_columns": null,
            "grid_auto_flow": null,
            "grid_auto_rows": null,
            "grid_column": null,
            "grid_gap": null,
            "grid_row": null,
            "grid_template_areas": null,
            "grid_template_columns": null,
            "grid_template_rows": null,
            "height": null,
            "justify_content": null,
            "justify_items": null,
            "left": null,
            "margin": null,
            "max_height": null,
            "max_width": null,
            "min_height": null,
            "min_width": null,
            "object_fit": null,
            "object_position": null,
            "order": null,
            "overflow": null,
            "overflow_x": null,
            "overflow_y": null,
            "padding": null,
            "right": null,
            "top": null,
            "visibility": null,
            "width": null
          }
        },
        "ebd8c30248844be38b2f8dfb88c31d07": {
          "model_module": "@jupyter-widgets/controls",
          "model_module_version": "1.5.0",
          "model_name": "HBoxModel",
          "state": {
            "_dom_classes": [],
            "_model_module": "@jupyter-widgets/controls",
            "_model_module_version": "1.5.0",
            "_model_name": "HBoxModel",
            "_view_count": null,
            "_view_module": "@jupyter-widgets/controls",
            "_view_module_version": "1.5.0",
            "_view_name": "HBoxView",
            "box_style": "",
            "children": [
              "IPY_MODEL_475f1f312c4240de8f6008b6eb557781",
              "IPY_MODEL_8bfbe8e0210848acb9f6a2bd0752278f",
              "IPY_MODEL_37d64ea1ea5044f9b32acfe8792bd491"
            ],
            "layout": "IPY_MODEL_10d025b5c3ed4f7fa9310f2a67372bf8"
          }
        },
        "ec81b39687cf49a8acba2526b54a0ef6": {
          "model_module": "@jupyter-widgets/base",
          "model_module_version": "1.2.0",
          "model_name": "LayoutModel",
          "state": {
            "_model_module": "@jupyter-widgets/base",
            "_model_module_version": "1.2.0",
            "_model_name": "LayoutModel",
            "_view_count": null,
            "_view_module": "@jupyter-widgets/base",
            "_view_module_version": "1.2.0",
            "_view_name": "LayoutView",
            "align_content": null,
            "align_items": null,
            "align_self": null,
            "border": null,
            "bottom": null,
            "display": null,
            "flex": null,
            "flex_flow": null,
            "grid_area": null,
            "grid_auto_columns": null,
            "grid_auto_flow": null,
            "grid_auto_rows": null,
            "grid_column": null,
            "grid_gap": null,
            "grid_row": null,
            "grid_template_areas": null,
            "grid_template_columns": null,
            "grid_template_rows": null,
            "height": null,
            "justify_content": null,
            "justify_items": null,
            "left": null,
            "margin": null,
            "max_height": null,
            "max_width": null,
            "min_height": null,
            "min_width": null,
            "object_fit": null,
            "object_position": null,
            "order": null,
            "overflow": null,
            "overflow_x": null,
            "overflow_y": null,
            "padding": null,
            "right": null,
            "top": null,
            "visibility": null,
            "width": null
          }
        },
        "ed352446f59347f18578afbce2a3445b": {
          "model_module": "@jupyter-widgets/controls",
          "model_module_version": "1.5.0",
          "model_name": "DescriptionStyleModel",
          "state": {
            "_model_module": "@jupyter-widgets/controls",
            "_model_module_version": "1.5.0",
            "_model_name": "DescriptionStyleModel",
            "_view_count": null,
            "_view_module": "@jupyter-widgets/base",
            "_view_module_version": "1.2.0",
            "_view_name": "StyleView",
            "description_width": ""
          }
        },
        "f1077fa39cba4c5cb418a4fa5604ed9b": {
          "model_module": "@jupyter-widgets/controls",
          "model_module_version": "1.5.0",
          "model_name": "FloatProgressModel",
          "state": {
            "_dom_classes": [],
            "_model_module": "@jupyter-widgets/controls",
            "_model_module_version": "1.5.0",
            "_model_name": "FloatProgressModel",
            "_view_count": null,
            "_view_module": "@jupyter-widgets/controls",
            "_view_module_version": "1.5.0",
            "_view_name": "ProgressView",
            "bar_style": "success",
            "description": "",
            "description_tooltip": null,
            "layout": "IPY_MODEL_9cc8929def304560ba42a9fb79c51ffe",
            "max": 3520083,
            "min": 0,
            "orientation": "horizontal",
            "style": "IPY_MODEL_867a376546ae4279a51503dcbde31e16",
            "value": 3520083
          }
        },
        "f4953f46d0884c24af2648831174d072": {
          "model_module": "@jupyter-widgets/controls",
          "model_module_version": "1.5.0",
          "model_name": "HTMLModel",
          "state": {
            "_dom_classes": [],
            "_model_module": "@jupyter-widgets/controls",
            "_model_module_version": "1.5.0",
            "_model_name": "HTMLModel",
            "_view_count": null,
            "_view_module": "@jupyter-widgets/controls",
            "_view_module_version": "1.5.0",
            "_view_name": "HTMLView",
            "description": "",
            "description_tooltip": null,
            "layout": "IPY_MODEL_d8b1ddc024a84a85a54aaed8cec7059f",
            "placeholder": "​",
            "style": "IPY_MODEL_c2cb0e5fd8de4b669a04434463acf92b",
            "value": "Downloading: 100%"
          }
        },
        "f4b4e47320374d41997164286ffe142a": {
          "model_module": "@jupyter-widgets/controls",
          "model_module_version": "1.5.0",
          "model_name": "HTMLModel",
          "state": {
            "_dom_classes": [],
            "_model_module": "@jupyter-widgets/controls",
            "_model_module_version": "1.5.0",
            "_model_name": "HTMLModel",
            "_view_count": null,
            "_view_module": "@jupyter-widgets/controls",
            "_view_module_version": "1.5.0",
            "_view_name": "HTMLView",
            "description": "",
            "description_tooltip": null,
            "layout": "IPY_MODEL_19ac1c8f78ac43d8b196b16d36d345d6",
            "placeholder": "​",
            "style": "IPY_MODEL_9562485461444bc6954b6a036daf78e5",
            "value": " 16/16 [00:56&lt;00:00,  3.20s/ba]"
          }
        },
        "f7a1729099654eaa81bdcbcc113584f3": {
          "model_module": "@jupyter-widgets/controls",
          "model_module_version": "1.5.0",
          "model_name": "HBoxModel",
          "state": {
            "_dom_classes": [],
            "_model_module": "@jupyter-widgets/controls",
            "_model_module_version": "1.5.0",
            "_model_name": "HBoxModel",
            "_view_count": null,
            "_view_module": "@jupyter-widgets/controls",
            "_view_module_version": "1.5.0",
            "_view_name": "HBoxView",
            "box_style": "",
            "children": [
              "IPY_MODEL_f4953f46d0884c24af2648831174d072",
              "IPY_MODEL_b6d46af0a02545ec813fd2132651fbee",
              "IPY_MODEL_a54ea04ded554dfe943ac009bd3d1bf1"
            ],
            "layout": "IPY_MODEL_e3dc032309da4788b6f4e37e65c049a2"
          }
        },
        "faf20984199a46609a3b0a68e515ecad": {
          "model_module": "@jupyter-widgets/base",
          "model_module_version": "1.2.0",
          "model_name": "LayoutModel",
          "state": {
            "_model_module": "@jupyter-widgets/base",
            "_model_module_version": "1.2.0",
            "_model_name": "LayoutModel",
            "_view_count": null,
            "_view_module": "@jupyter-widgets/base",
            "_view_module_version": "1.2.0",
            "_view_name": "LayoutView",
            "align_content": null,
            "align_items": null,
            "align_self": null,
            "border": null,
            "bottom": null,
            "display": null,
            "flex": null,
            "flex_flow": null,
            "grid_area": null,
            "grid_auto_columns": null,
            "grid_auto_flow": null,
            "grid_auto_rows": null,
            "grid_column": null,
            "grid_gap": null,
            "grid_row": null,
            "grid_template_areas": null,
            "grid_template_columns": null,
            "grid_template_rows": null,
            "height": null,
            "justify_content": null,
            "justify_items": null,
            "left": null,
            "margin": null,
            "max_height": null,
            "max_width": null,
            "min_height": null,
            "min_width": null,
            "object_fit": null,
            "object_position": null,
            "order": null,
            "overflow": null,
            "overflow_x": null,
            "overflow_y": null,
            "padding": null,
            "right": null,
            "top": null,
            "visibility": null,
            "width": null
          }
        },
        "fba633dc037c45c2a2743ab7cba9a51b": {
          "model_module": "@jupyter-widgets/base",
          "model_module_version": "1.2.0",
          "model_name": "LayoutModel",
          "state": {
            "_model_module": "@jupyter-widgets/base",
            "_model_module_version": "1.2.0",
            "_model_name": "LayoutModel",
            "_view_count": null,
            "_view_module": "@jupyter-widgets/base",
            "_view_module_version": "1.2.0",
            "_view_name": "LayoutView",
            "align_content": null,
            "align_items": null,
            "align_self": null,
            "border": null,
            "bottom": null,
            "display": null,
            "flex": null,
            "flex_flow": null,
            "grid_area": null,
            "grid_auto_columns": null,
            "grid_auto_flow": null,
            "grid_auto_rows": null,
            "grid_column": null,
            "grid_gap": null,
            "grid_row": null,
            "grid_template_areas": null,
            "grid_template_columns": null,
            "grid_template_rows": null,
            "height": null,
            "justify_content": null,
            "justify_items": null,
            "left": null,
            "margin": null,
            "max_height": null,
            "max_width": null,
            "min_height": null,
            "min_width": null,
            "object_fit": null,
            "object_position": null,
            "order": null,
            "overflow": null,
            "overflow_x": null,
            "overflow_y": null,
            "padding": null,
            "right": null,
            "top": null,
            "visibility": null,
            "width": null
          }
        },
        "ff2258270b964223b20994ed400fd666": {
          "model_module": "@jupyter-widgets/base",
          "model_module_version": "1.2.0",
          "model_name": "LayoutModel",
          "state": {
            "_model_module": "@jupyter-widgets/base",
            "_model_module_version": "1.2.0",
            "_model_name": "LayoutModel",
            "_view_count": null,
            "_view_module": "@jupyter-widgets/base",
            "_view_module_version": "1.2.0",
            "_view_name": "LayoutView",
            "align_content": null,
            "align_items": null,
            "align_self": null,
            "border": null,
            "bottom": null,
            "display": null,
            "flex": null,
            "flex_flow": null,
            "grid_area": null,
            "grid_auto_columns": null,
            "grid_auto_flow": null,
            "grid_auto_rows": null,
            "grid_column": null,
            "grid_gap": null,
            "grid_row": null,
            "grid_template_areas": null,
            "grid_template_columns": null,
            "grid_template_rows": null,
            "height": null,
            "justify_content": null,
            "justify_items": null,
            "left": null,
            "margin": null,
            "max_height": null,
            "max_width": null,
            "min_height": null,
            "min_width": null,
            "object_fit": null,
            "object_position": null,
            "order": null,
            "overflow": null,
            "overflow_x": null,
            "overflow_y": null,
            "padding": null,
            "right": null,
            "top": null,
            "visibility": null,
            "width": null
          }
        },
        "ffb9368d7cbe48e7983bd12adae03c79": {
          "model_module": "@jupyter-widgets/controls",
          "model_module_version": "1.5.0",
          "model_name": "HTMLModel",
          "state": {
            "_dom_classes": [],
            "_model_module": "@jupyter-widgets/controls",
            "_model_module_version": "1.5.0",
            "_model_name": "HTMLModel",
            "_view_count": null,
            "_view_module": "@jupyter-widgets/controls",
            "_view_module_version": "1.5.0",
            "_view_name": "HTMLView",
            "description": "",
            "description_tooltip": null,
            "layout": "IPY_MODEL_a44254dac24c4342a0ea597c1997acd9",
            "placeholder": "​",
            "style": "IPY_MODEL_ba70134a22a24cb098893db5da2ca7ea",
            "value": "Downloading: 100%"
          }
        },
        "fffe17ee47464cbca82cf231c302ab95": {
          "model_module": "@jupyter-widgets/controls",
          "model_module_version": "1.5.0",
          "model_name": "DescriptionStyleModel",
          "state": {
            "_model_module": "@jupyter-widgets/controls",
            "_model_module_version": "1.5.0",
            "_model_name": "DescriptionStyleModel",
            "_view_count": null,
            "_view_module": "@jupyter-widgets/base",
            "_view_module_version": "1.2.0",
            "_view_name": "StyleView",
            "description_width": ""
          }
        }
      }
    }
  },
  "nbformat": 4,
  "nbformat_minor": 0
}
